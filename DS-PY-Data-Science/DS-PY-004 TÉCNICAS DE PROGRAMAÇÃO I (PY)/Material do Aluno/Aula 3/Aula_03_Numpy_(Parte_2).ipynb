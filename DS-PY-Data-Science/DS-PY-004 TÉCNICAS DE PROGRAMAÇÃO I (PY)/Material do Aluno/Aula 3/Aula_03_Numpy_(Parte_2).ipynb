{
  "nbformat": 4,
  "nbformat_minor": 0,
  "metadata": {
    "colab": {
      "provenance": []
    },
    "kernelspec": {
      "name": "python3",
      "display_name": "Python 3"
    },
    "language_info": {
      "name": "python"
    }
  },
  "cells": [
    {
      "cell_type": "markdown",
      "source": [
        "# Aula 03 - NumPy (Parte II)"
      ],
      "metadata": {
        "id": "BynXHfDzVwbT"
      }
    },
    {
      "cell_type": "markdown",
      "source": [
        "<img src=\"https://upload.wikimedia.org/wikipedia/commons/thumb/3/31/NumPy_logo_2020.svg/2560px-NumPy_logo_2020.svg.png\" alt=\"Alternative text\" />"
      ],
      "metadata": {
        "id": "euPaPWKvVyV_"
      }
    },
    {
      "cell_type": "markdown",
      "source": [
        "____\n",
        "[Guia rápido de uso da biblioteca](https://numpy.org/devdocs/user/quickstart.html)\n",
        "\n",
        "[Guia para iniciantes](https://numpy.org/devdocs/user/absolute_beginners.html)"
      ],
      "metadata": {
        "id": "QvXLUicLXBrY"
      }
    },
    {
      "cell_type": "markdown",
      "source": [
        "____\n",
        "\n",
        "Na aula passada, vimos que:\n",
        "\n",
        "- um **array** é o elemento básico por meio do qual a biblioteca *numpy* opera;\n",
        "- este elemento **difere de uma lista**, por ser homogêneo e possibilitar cálculos de uma maneira altamente eficiente;\n",
        "- a **indexação** de arrays é muito similar àquela de listas;\n",
        "- a biblioteca *numpy* fornece ferramentas para gerar arrays baseados em distribuições estatísticas (como uniforme e normal) de maneira aleatória;\n",
        "- existem diversos métodos que sumarizam alguamas propriedades dos vetores, como *.mean()*, *.std()*, entre outros.\n",
        "\n",
        "Hoje, nós vamos explorar os conceitos de **filtros** e de **matrizes** com o numpy."
      ],
      "metadata": {
        "id": "xYb4ALqnXDHk"
      }
    },
    {
      "cell_type": "markdown",
      "source": [
        "____\n",
        "\n",
        "## 1. Filtros (máscaras)\n",
        "\n",
        "Uma das funções mais importantes do numpy é a possibilidade de construção de **filtros**, que também são chamados de **máscaras**.\n",
        "\n",
        "O objetivo dos filtros é **selecionar apenas os elementos de um array que satisfaçam determinada condição**:"
      ],
      "metadata": {
        "id": "5I4C3C3IXHOP"
      }
    },
    {
      "cell_type": "markdown",
      "source": [
        "Primeiro, vamos importar o numpy:"
      ],
      "metadata": {
        "id": "cmvTiS_RXb29"
      }
    },
    {
      "cell_type": "code",
      "execution_count": null,
      "metadata": {
        "id": "YDnQLeJHSsMb"
      },
      "outputs": [],
      "source": [
        "import numpy as np"
      ]
    },
    {
      "cell_type": "code",
      "source": [
        "#Definindo um array aleatório com a semente pseudoaleatória\n"
      ],
      "metadata": {
        "id": "qCDhZ1maXfVl"
      },
      "execution_count": null,
      "outputs": []
    },
    {
      "cell_type": "markdown",
      "source": [
        "Vimos anteriormente que, se usarmos um **operador lógico** juntamente com um array, o numpy **aplica a operação lógica a cada um dos elementos do array**, retornando um **array de bools** com o resultado de cada uma das operações lógicas:"
      ],
      "metadata": {
        "id": "lk1LUVezYWzw"
      }
    },
    {
      "cell_type": "code",
      "source": [
        "# pergunta: quais os elementos são menores que 0.5?\n"
      ],
      "metadata": {
        "id": "fVkWlLIKYU_k"
      },
      "execution_count": null,
      "outputs": []
    },
    {
      "cell_type": "code",
      "source": [
        "# QUANTOS elementos satisfazem a condição? (são menores que 0.5)\n"
      ],
      "metadata": {
        "id": "-M6EaL-TYvbU"
      },
      "execution_count": null,
      "outputs": []
    },
    {
      "cell_type": "markdown",
      "source": [
        "Uma vez criado o filtro, é possível **utilizá-lo como indexador do array**, para selecionar **apenas os elementos com indice correspondente a True no filtro**:"
      ],
      "metadata": {
        "id": "xh4dQoxGY2F9"
      }
    },
    {
      "cell_type": "code",
      "source": [
        "# quero elementos do \"arr\" tais que os elementos do array são menos que 0.5\n"
      ],
      "metadata": {
        "id": "v5HTkD3HYzk8"
      },
      "execution_count": null,
      "outputs": []
    },
    {
      "cell_type": "code",
      "source": [
        "# a operação abaixo FILTRA apenas os números do array \"aleat\" que sejam MAIORES do que 0.5\n"
      ],
      "metadata": {
        "id": "eGpTPNB6Y5DM"
      },
      "execution_count": null,
      "outputs": []
    },
    {
      "cell_type": "code",
      "source": [
        "# a operação abaixo FILTRA apenas os números do array \"aleat\" que sejam IGUAIS a 0.5\n"
      ],
      "metadata": {
        "id": "C52_-k4tY9Cs"
      },
      "execution_count": null,
      "outputs": []
    },
    {
      "cell_type": "markdown",
      "source": [
        "Mais um exemplo..."
      ],
      "metadata": {
        "id": "T634nf-1Y__Z"
      }
    },
    {
      "cell_type": "code",
      "source": [
        "# definindo um array aleatório com np.random.randint(0, 100, 20), com seed 42\n"
      ],
      "metadata": {
        "id": "MBw4NFORY-g8"
      },
      "execution_count": null,
      "outputs": []
    },
    {
      "cell_type": "code",
      "source": [
        "# filtrando apenas os pares\n"
      ],
      "metadata": {
        "id": "3JezQoIrZD78"
      },
      "execution_count": null,
      "outputs": []
    },
    {
      "cell_type": "code",
      "source": [
        "# filtrando apenas os ímpares\n"
      ],
      "metadata": {
        "id": "aGfoMmgBZFkl"
      },
      "execution_count": null,
      "outputs": []
    },
    {
      "cell_type": "code",
      "source": [
        "#Outra forma de filtrar os ímpares\n"
      ],
      "metadata": {
        "id": "-04L3ee5ZHEM"
      },
      "execution_count": null,
      "outputs": []
    },
    {
      "cell_type": "markdown",
      "source": [
        "Podemos filtrar também com o método **np.where():**"
      ],
      "metadata": {
        "id": "STScPrnYZPKG"
      }
    },
    {
      "cell_type": "code",
      "source": [
        "#Onde tem os ímpares, ele coloca nan\n"
      ],
      "metadata": {
        "id": "kHw9AIHnZMT7"
      },
      "execution_count": null,
      "outputs": []
    },
    {
      "cell_type": "markdown",
      "source": [
        "Também é possível aplicar **filtros compostos**!\n",
        "\n",
        "Pra fazer isso, nós fazems uma **composição lógica** entre os filtros (análogo ao \"and\" e ao \"or\")\n",
        "\n",
        "No caso de arrays, usamos:\n",
        "\n",
        "- \"&\" para \"and\"\n",
        "- \"|\" para \"or\"\n",
        "- \"~\" para \"not\""
      ],
      "metadata": {
        "id": "9ychgc4GZbBV"
      }
    },
    {
      "cell_type": "code",
      "source": [
        "# condição correspondente a números pares E maiores que 50\n"
      ],
      "metadata": {
        "id": "Ch4aCQf_ZZHL"
      },
      "execution_count": null,
      "outputs": []
    },
    {
      "cell_type": "code",
      "source": [
        "# numeros que são pares OU maiores que 50\n"
      ],
      "metadata": {
        "id": "JnHit8IlZfcc"
      },
      "execution_count": null,
      "outputs": []
    },
    {
      "cell_type": "code",
      "source": [
        "# filtrando numeros impares (não pares) E maiores que 50\n"
      ],
      "metadata": {
        "id": "DTCDtJEFZll1"
      },
      "execution_count": null,
      "outputs": []
    },
    {
      "cell_type": "markdown",
      "source": [
        "___\n",
        "\n",
        "## 2. Matrizes\n",
        "\n",
        "Como **matrizes** vamos nos referir aos arrays multidimensionais (i.e., mais de uma dimensão)."
      ],
      "metadata": {
        "id": "KFxFwNBGZi76"
      }
    },
    {
      "cell_type": "markdown",
      "source": [
        "<img src = \"https://numpy.org/devdocs/_images/np_create_matrix.png\" />"
      ],
      "metadata": {
        "id": "OcNuK9PEZxZ7"
      }
    },
    {
      "cell_type": "code",
      "source": [
        "#Criando uma matriz 3x2\n"
      ],
      "metadata": {
        "id": "8nFwwzqwZhHU"
      },
      "execution_count": null,
      "outputs": []
    },
    {
      "cell_type": "markdown",
      "source": [
        "**Método shape:**\n",
        "\n",
        "É utilizado para retornar a forma ou as dimensões de um array.\n",
        "\n",
        "Ele retorna uma tupla que indica o tamanho do array em cada dimensão."
      ],
      "metadata": {
        "id": "Mdu9R3rocwPN"
      }
    },
    {
      "cell_type": "code",
      "source": [],
      "metadata": {
        "id": "bGXYt99_cuWl"
      },
      "execution_count": null,
      "outputs": []
    },
    {
      "cell_type": "markdown",
      "source": [
        "**Notação:** (numero_de_linhas, numero_de_colunas)"
      ],
      "metadata": {
        "id": "V0Lb6ilvc8o-"
      }
    },
    {
      "cell_type": "markdown",
      "source": [
        "### Agregações\n",
        "\n",
        "Similarmente a como fizemos com **arrays**, também podemos aplicar **funções de agregação** às matrizes:"
      ],
      "metadata": {
        "id": "gH6z0gNydIdk"
      }
    },
    {
      "cell_type": "code",
      "source": [],
      "metadata": {
        "id": "bsdgV259c8D0"
      },
      "execution_count": null,
      "outputs": []
    },
    {
      "cell_type": "code",
      "source": [],
      "metadata": {
        "id": "aN_H3pJddOE9"
      },
      "execution_count": null,
      "outputs": []
    },
    {
      "cell_type": "code",
      "source": [],
      "metadata": {
        "id": "4z3gDjF-dPEF"
      },
      "execution_count": null,
      "outputs": []
    },
    {
      "cell_type": "markdown",
      "source": [
        "<img src = \"https://numpy.org/devdocs/_images/np_matrix_aggregation.png\" />"
      ],
      "metadata": {
        "id": "-1onOq4XdR2c"
      }
    },
    {
      "cell_type": "markdown",
      "source": [
        "E se eu quiser por linhas ou colunas?"
      ],
      "metadata": {
        "id": "vbmzEGo3dVJ3"
      }
    },
    {
      "cell_type": "code",
      "source": [
        "# \"axis = 0\" opera na direção das colunas, retornando um vetor-linha\n",
        "# com os máximos de cada coluna\n"
      ],
      "metadata": {
        "id": "gGRxbGJDdQB1"
      },
      "execution_count": null,
      "outputs": []
    },
    {
      "cell_type": "code",
      "source": [
        "# \"axis = 1\" opera na direção daslinhas, retornando um vetor-coluna\n",
        "# com os máximos de cada linha\n"
      ],
      "metadata": {
        "id": "wgGbo2R2dX5t"
      },
      "execution_count": null,
      "outputs": []
    },
    {
      "cell_type": "markdown",
      "source": [
        "<img src = \"https://numpy.org/devdocs/_images/np_matrix_aggregation_row.png\" />"
      ],
      "metadata": {
        "id": "KOeJI2Bmdq72"
      }
    },
    {
      "cell_type": "markdown",
      "source": [
        "### **np. reshape():**\n",
        "\n",
        "Em algumas situações, pode ser útil **reformatar** nosso conjunto de dados. Para isso, utilizamos a função *.reshape()*."
      ],
      "metadata": {
        "id": "7pZ7G0vzdreG"
      }
    },
    {
      "cell_type": "code",
      "source": [
        "# Vamos supor um vetor originalmente de 10 elementos\n"
      ],
      "metadata": {
        "id": "fy94y_Y5doft"
      },
      "execution_count": null,
      "outputs": []
    },
    {
      "cell_type": "code",
      "source": [
        "# Vamos transformá-lo em uma matriz de duas linhas e cinco colunas\n"
      ],
      "metadata": {
        "id": "2_bd1WWYdyP9"
      },
      "execution_count": null,
      "outputs": []
    },
    {
      "cell_type": "code",
      "source": [],
      "metadata": {
        "id": "xvv2opBydz3l"
      },
      "execution_count": null,
      "outputs": []
    },
    {
      "cell_type": "code",
      "source": [
        "# Alternativamente, também poderíamos ter optado por cinco linhas e duas colunas\n"
      ],
      "metadata": {
        "id": "wHki1sNmd1Ps"
      },
      "execution_count": null,
      "outputs": []
    },
    {
      "cell_type": "code",
      "source": [],
      "metadata": {
        "id": "BkklLv6Yd28V"
      },
      "execution_count": null,
      "outputs": []
    },
    {
      "cell_type": "markdown",
      "source": [
        "**Atenção:** ao utilizar o reshape, o número de elementos total nunca pode ser alterado!"
      ],
      "metadata": {
        "id": "2OzCavo_d8Nm"
      }
    },
    {
      "cell_type": "code",
      "source": [],
      "metadata": {
        "id": "KampD2Vcd7LN"
      },
      "execution_count": null,
      "outputs": []
    },
    {
      "cell_type": "markdown",
      "source": [
        "<img src = \"https://numpy.org/devdocs/_images/np_reshape.png\" />"
      ],
      "metadata": {
        "id": "BgD6Mgi8eAee"
      }
    },
    {
      "cell_type": "markdown",
      "source": [
        "### **Operações com matrizes:**"
      ],
      "metadata": {
        "id": "cMrcSln2eEJ_"
      }
    },
    {
      "cell_type": "code",
      "source": [],
      "metadata": {
        "id": "-arOHXOQd9s9"
      },
      "execution_count": null,
      "outputs": []
    },
    {
      "cell_type": "code",
      "source": [],
      "metadata": {
        "id": "gGuaDMVPeKjN"
      },
      "execution_count": null,
      "outputs": []
    },
    {
      "cell_type": "markdown",
      "source": [
        "<img src=\"https://numpy.org/devdocs/_images/np_matrix_arithmetic.png\" />"
      ],
      "metadata": {
        "id": "_XGKSHgqeQky"
      }
    },
    {
      "cell_type": "code",
      "source": [],
      "metadata": {
        "id": "MT9zlYeaePSt"
      },
      "execution_count": null,
      "outputs": []
    },
    {
      "cell_type": "markdown",
      "source": [
        "Diferentemente com arrays unidimensionais, conseguimos operar com matriz de tamanhos diferentes, **desde que sejam essencialmente um vetor-linha ou um vetor-coluna**."
      ],
      "metadata": {
        "id": "_loNe8kselem"
      }
    },
    {
      "cell_type": "code",
      "source": [],
      "metadata": {
        "id": "OlXksbWzeTWs"
      },
      "execution_count": null,
      "outputs": []
    },
    {
      "cell_type": "markdown",
      "source": [
        "<img src = \"https://numpy.org/devdocs/_images/np_matrix_broadcasting.png\" />"
      ],
      "metadata": {
        "id": "uqFt7PfIexNw"
      }
    },
    {
      "cell_type": "markdown",
      "source": [
        "### Transpondo arrays\n",
        "\n",
        "Transpor a matriz equivale a \"trocar\" as linhas pelas colunas."
      ],
      "metadata": {
        "id": "ia-Vq0wGezzo"
      }
    },
    {
      "cell_type": "code",
      "source": [],
      "metadata": {
        "id": "PxiH3Hqweom1"
      },
      "execution_count": null,
      "outputs": []
    },
    {
      "cell_type": "code",
      "source": [],
      "metadata": {
        "id": "_G2dRYzBe4wl"
      },
      "execution_count": null,
      "outputs": []
    },
    {
      "cell_type": "markdown",
      "source": [
        "<img src = \"https://numpy.org/devdocs/_images/np_transposing_reshaping.png\" />"
      ],
      "metadata": {
        "id": "PsPi_fn_e81z"
      }
    },
    {
      "cell_type": "markdown",
      "source": [
        "### Filtrando matrizes\n",
        "\n",
        "Seguimos a mesma lógica de filtros em arrays unidimensionais, com a particularidade de que estamos lidando, agora, com mais de uma dimensão - e podemos levar isso em consideração."
      ],
      "metadata": {
        "id": "bRoetUOje-wQ"
      }
    },
    {
      "cell_type": "code",
      "source": [],
      "metadata": {
        "id": "0ZJjpKugfE5n"
      },
      "execution_count": null,
      "outputs": []
    },
    {
      "cell_type": "code",
      "source": [
        "# filtrando a matriz como um todo\n"
      ],
      "metadata": {
        "id": "4t7Ho_Dfe61V"
      },
      "execution_count": null,
      "outputs": []
    },
    {
      "cell_type": "code",
      "source": [
        "# Filtrando o primeiro elemento de cada coluna da matriz\n"
      ],
      "metadata": {
        "id": "KL8ddlcofI8J"
      },
      "execution_count": null,
      "outputs": []
    },
    {
      "cell_type": "code",
      "source": [
        "# Filtrando o segundo elemento de cada linha da matriz\n"
      ],
      "metadata": {
        "id": "YQ4mPAZLfJTd"
      },
      "execution_count": null,
      "outputs": []
    },
    {
      "cell_type": "markdown",
      "source": [
        "Assim como fizemos anteriromente, podemos utilizar esse array booleano para indexar a matriz original."
      ],
      "metadata": {
        "id": "bhkNQNYlfQiX"
      }
    },
    {
      "cell_type": "code",
      "source": [],
      "metadata": {
        "id": "5WbzTcZ8fLze"
      },
      "execution_count": null,
      "outputs": []
    },
    {
      "cell_type": "markdown",
      "source": [
        "Um outro exemplo"
      ],
      "metadata": {
        "id": "I_kPR9ajfT9P"
      }
    },
    {
      "cell_type": "code",
      "source": [
        "# Vamos gerar uma matriz 4x4 aleatoriamente\n"
      ],
      "metadata": {
        "id": "MtK1iM4hfSHN"
      },
      "execution_count": null,
      "outputs": []
    },
    {
      "cell_type": "code",
      "source": [
        "# Filtremos todas as linhas cuja segunda coluna seja positiva\n"
      ],
      "metadata": {
        "id": "6bSIxkjjfWsx"
      },
      "execution_count": null,
      "outputs": []
    },
    {
      "cell_type": "code",
      "source": [
        "# Agora, indexemos a matriz\n"
      ],
      "metadata": {
        "id": "p7J0V4kSfXkd"
      },
      "execution_count": null,
      "outputs": []
    },
    {
      "cell_type": "markdown",
      "source": [
        "___\n",
        "___\n",
        "___"
      ],
      "metadata": {
        "id": "wcbYaszYfaWF"
      }
    },
    {
      "cell_type": "markdown",
      "source": [
        "## 3. **Exercícios:**\n",
        "\n",
        "___"
      ],
      "metadata": {
        "id": "guerv684fdDw"
      }
    },
    {
      "cell_type": "markdown",
      "source": [
        "**1.** Em uma **análise de regressão**, usualmente estamos interessados em descrever o comportamento em um conjunto de dados por meio de uma **função** que descreva, o tanto quanto possível, nosson conjunto de dados.\n",
        "\n",
        "Por exemplo, no gráfico abaixo, os pontos vermelhos relacionam as medidas das duas variáveis sendo avaliadas (nos eixos x e y); e a linha azul aproxima a relação entre elas por uma função linear."
      ],
      "metadata": {
        "id": "8303Y2uFf5Fu"
      }
    },
    {
      "cell_type": "markdown",
      "source": [
        "![Normdist_regression.png](https://miro.medium.com/v2/resize:fit:1280/1*eeIvlwkMNG1wSmj3FR6M2g.gif)"
      ],
      "metadata": {
        "id": "eBWHRDA8f7DV"
      }
    },
    {
      "cell_type": "markdown",
      "source": [
        "É possível ver que nem todos os pontos obedecem exatamente à relação ditada pela reta (isto é, há pontos que não estão exatamente \"sobre a reta\"; mas, sim, ligeraimente acima, ou abaixo, dela).\n",
        "\n",
        "Isto, contudo, é esperado em um modelo de regressão, por inúmeras fontes de incerteza associadas às medições."
      ],
      "metadata": {
        "id": "_mLT4S_8gfDv"
      }
    },
    {
      "cell_type": "markdown",
      "source": [
        "Uma das métricas que utilizamos para avaliar a qualidade de uma regressão é o **root mean squared error (RMSE)**, que mensura a diferença total entre cada predição da regressão ($y_{prediction}$) com o valor real de cada i-ésima medida ($y_{i}$). O RMSE pode ser definido como:"
      ],
      "metadata": {
        "id": "r-5DhMyegihF"
      }
    },
    {
      "cell_type": "markdown",
      "source": [
        "$RMSE = \\sqrt{\\frac{1}{n}\\sum_{i=1}^{n}(y_{prediction} - y_{i})^2} $."
      ],
      "metadata": {
        "id": "AXPGj7SSgkiG"
      }
    },
    {
      "cell_type": "markdown",
      "source": [
        "Escreva uma função que calcule o RMSE recebendo, como entrada, os vetores $y_{prediction}$ e $y_{i}$. Por exemplo, digamos que sua função se chame *calculate_rmse*, ela deve operar da seguinte forma:"
      ],
      "metadata": {
        "id": "V3apcCiYhMyH"
      }
    },
    {
      "cell_type": "code",
      "source": [
        "# dados dois arrays quaisquer de mesmo tamanho, a função deve retornar o RMSE\n",
        "y_prediction = np.array([1,2,3])\n",
        "y_i = np.array([0,0,3])\n",
        "calculate_rmse(y_prediction,y_i)"
      ],
      "metadata": {
        "id": "Xfdaw4ILfaKG"
      },
      "execution_count": null,
      "outputs": []
    },
    {
      "cell_type": "markdown",
      "source": [
        "**2.** Em estatística, um **outlier** é um valor que destoa consideravelmente da distribuição à qual está associado. Um dos critérios para idenficar outliers consiste em encontrar a **distância interquantil** (IQR), ou seja, a diferença entre o terceiro e o primeiro quantil da distribuição, e tomar como outliers todos os pontos abaixo, ou acima, de 1.5*IQR."
      ],
      "metadata": {
        "id": "CK6Fzs5WhZcP"
      }
    },
    {
      "cell_type": "markdown",
      "source": [
        "<img src = \"https://blog.curso-r.com/images/posts/banner/outlier.webp\" />"
      ],
      "metadata": {
        "id": "sIXKVXQXhb_O"
      }
    },
    {
      "cell_type": "markdown",
      "source": [
        "Escreva uma função que, dada uma matriz de dados de entrada de dimensões $N_{observações} \\times N_{features}$ retorne três requisitos:\n",
        "- uma matriz booleana indicando a existência de outliers nos dados de entrada;\n",
        "- a quantidade de outliers\n",
        "- quem são os outliers (os valores)."
      ],
      "metadata": {
        "id": "EIbYf2Vthdp-"
      }
    },
    {
      "cell_type": "markdown",
      "source": [
        "**Algumas definições:**\n",
        "- um *quantil* divide a distribuição, após ordenados os pontos, segundo algum ponto de corte;\n",
        "- o **primeiro quantil** é o ponto para o qual 25 % dos valores da distribuição estão abaixo dele;\n",
        "- o **terceiro quantil** é o ponto para o qual 75 % dos valores da distribuição estão abaixo dele.\n",
        "\n",
        "Pode ser útil consultar a função **numpy.quantile**."
      ],
      "metadata": {
        "id": "bLNP3ENlhdi4"
      }
    },
    {
      "cell_type": "code",
      "source": [],
      "metadata": {
        "id": "aF8-a-jyfYXF"
      },
      "execution_count": null,
      "outputs": []
    }
  ]
}