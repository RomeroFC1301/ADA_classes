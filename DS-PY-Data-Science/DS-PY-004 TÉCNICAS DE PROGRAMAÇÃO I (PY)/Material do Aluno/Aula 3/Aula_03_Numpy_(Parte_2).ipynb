{
  "cells": [
    {
      "cell_type": "markdown",
      "metadata": {
        "id": "BynXHfDzVwbT"
      },
      "source": [
        "# Aula 03 - NumPy (Parte II)"
      ]
    },
    {
      "cell_type": "markdown",
      "metadata": {
        "id": "euPaPWKvVyV_"
      },
      "source": [
        "<img src=\"https://upload.wikimedia.org/wikipedia/commons/thumb/3/31/NumPy_logo_2020.svg/2560px-NumPy_logo_2020.svg.png\" alt=\"Alternative text\" />"
      ]
    },
    {
      "cell_type": "markdown",
      "metadata": {
        "id": "QvXLUicLXBrY"
      },
      "source": [
        "____\n",
        "[Guia rápido de uso da biblioteca](https://numpy.org/devdocs/user/quickstart.html)\n",
        "\n",
        "[Guia para iniciantes](https://numpy.org/devdocs/user/absolute_beginners.html)"
      ]
    },
    {
      "cell_type": "markdown",
      "metadata": {
        "id": "xYb4ALqnXDHk"
      },
      "source": [
        "____\n",
        "\n",
        "Na aula passada, vimos que:\n",
        "\n",
        "- um **array** é o elemento básico por meio do qual a biblioteca *numpy* opera;\n",
        "- este elemento **difere de uma lista**, por ser homogêneo e possibilitar cálculos de uma maneira altamente eficiente;\n",
        "- a **indexação** de arrays é muito similar àquela de listas;\n",
        "- a biblioteca *numpy* fornece ferramentas para gerar arrays baseados em distribuições estatísticas (como uniforme e normal) de maneira aleatória;\n",
        "- existem diversos métodos que sumarizam alguamas propriedades dos vetores, como *.mean()*, *.std()*, entre outros.\n",
        "\n",
        "Hoje, nós vamos explorar os conceitos de **filtros** e de **matrizes** com o numpy."
      ]
    },
    {
      "cell_type": "markdown",
      "metadata": {
        "id": "5I4C3C3IXHOP"
      },
      "source": [
        "____\n",
        "\n",
        "## 1. Filtros (máscaras)\n",
        "\n",
        "Uma das funções mais importantes do numpy é a possibilidade de construção de **filtros**, que também são chamados de **máscaras**.\n",
        "\n",
        "O objetivo dos filtros é **selecionar apenas os elementos de um array que satisfaçam determinada condição**:"
      ]
    },
    {
      "cell_type": "markdown",
      "metadata": {
        "id": "cmvTiS_RXb29"
      },
      "source": [
        "Primeiro, vamos importar o numpy:"
      ]
    },
    {
      "cell_type": "code",
      "execution_count": null,
      "metadata": {
        "id": "YDnQLeJHSsMb"
      },
      "outputs": [],
      "source": [
        "import numpy as np"
      ]
    },
    {
      "cell_type": "code",
      "execution_count": null,
      "metadata": {
        "colab": {
          "base_uri": "https://localhost:8080/"
        },
        "id": "qCDhZ1maXfVl",
        "outputId": "77ad69db-9ab5-443a-8566-64daeca60e94"
      },
      "outputs": [
        {
          "data": {
            "text/plain": [
              "array([0.37454012, 0.95071431, 0.73199394, 0.59865848, 0.15601864,\n",
              "       0.15599452, 0.05808361, 0.86617615, 0.60111501, 0.70807258,\n",
              "       0.02058449, 0.96990985, 0.83244264, 0.21233911, 0.18182497,\n",
              "       0.18340451, 0.30424224, 0.52475643, 0.43194502, 0.29122914])"
            ]
          },
          "execution_count": 2,
          "metadata": {},
          "output_type": "execute_result"
        }
      ],
      "source": [
        "#Definindo um array aleatório com a semente pseudoaleatória\n",
        "np.random.seed(42)\n",
        "\n",
        "arr = np.random.rand(20)\n",
        "\n",
        "arr"
      ]
    },
    {
      "cell_type": "markdown",
      "metadata": {
        "id": "lk1LUVezYWzw"
      },
      "source": [
        "Vimos anteriormente que, se usarmos um **operador lógico** juntamente com um array, o numpy **aplica a operação lógica a cada um dos elementos do array**, retornando um **array de bools** com o resultado de cada uma das operações lógicas:"
      ]
    },
    {
      "cell_type": "code",
      "execution_count": null,
      "metadata": {
        "colab": {
          "base_uri": "https://localhost:8080/"
        },
        "id": "fVkWlLIKYU_k",
        "outputId": "429c01bb-4504-4794-bf24-7577b476523e"
      },
      "outputs": [
        {
          "data": {
            "text/plain": [
              "array([ True, False, False, False,  True,  True,  True, False, False,\n",
              "       False,  True, False, False,  True,  True,  True,  True, False,\n",
              "        True,  True])"
            ]
          },
          "execution_count": 3,
          "metadata": {},
          "output_type": "execute_result"
        }
      ],
      "source": [
        "# pergunta: quais os elementos são menores que 0.5?\n",
        "arr < 0.5"
      ]
    },
    {
      "cell_type": "code",
      "execution_count": null,
      "metadata": {
        "colab": {
          "base_uri": "https://localhost:8080/"
        },
        "id": "-M6EaL-TYvbU",
        "outputId": "c98d6064-fb97-48fc-b5de-92a4e6f04ec8"
      },
      "outputs": [
        {
          "data": {
            "text/plain": [
              "11"
            ]
          },
          "execution_count": 4,
          "metadata": {},
          "output_type": "execute_result"
        }
      ],
      "source": [
        "# QUANTOS elementos satisfazem a condição? (são menores que 0.5)\n",
        "(arr < 0.5).sum()"
      ]
    },
    {
      "cell_type": "markdown",
      "metadata": {
        "id": "xh4dQoxGY2F9"
      },
      "source": [
        "Uma vez criado o filtro, é possível **utilizá-lo como indexador do array**, para selecionar **apenas os elementos com indice correspondente a True no filtro**:"
      ]
    },
    {
      "cell_type": "code",
      "execution_count": null,
      "metadata": {
        "colab": {
          "base_uri": "https://localhost:8080/"
        },
        "id": "v5HTkD3HYzk8",
        "outputId": "ea81be51-ad73-4cbf-bb48-8f52535f780a"
      },
      "outputs": [
        {
          "data": {
            "text/plain": [
              "array([0.37454012, 0.15601864, 0.15599452, 0.05808361, 0.02058449,\n",
              "       0.21233911, 0.18182497, 0.18340451, 0.30424224, 0.43194502,\n",
              "       0.29122914])"
            ]
          },
          "execution_count": 5,
          "metadata": {},
          "output_type": "execute_result"
        }
      ],
      "source": [
        "# quero elementos do \"arr\" tais que os elementos do array são menos que 0.5\n",
        "arr[arr < 0.5]"
      ]
    },
    {
      "cell_type": "code",
      "execution_count": null,
      "metadata": {
        "colab": {
          "base_uri": "https://localhost:8080/"
        },
        "id": "eGpTPNB6Y5DM",
        "outputId": "bf9ad3d5-5fcc-4c31-b987-7c03692dedfa"
      },
      "outputs": [
        {
          "data": {
            "text/plain": [
              "array([0.95071431, 0.73199394, 0.59865848, 0.86617615, 0.60111501,\n",
              "       0.70807258, 0.96990985, 0.83244264, 0.52475643])"
            ]
          },
          "execution_count": 6,
          "metadata": {},
          "output_type": "execute_result"
        }
      ],
      "source": [
        "# a operação abaixo FILTRA apenas os números do array \"aleat\" que sejam MAIORES do que 0.5\n",
        "arr[arr > 0.5]"
      ]
    },
    {
      "cell_type": "code",
      "execution_count": null,
      "metadata": {
        "colab": {
          "base_uri": "https://localhost:8080/"
        },
        "id": "C52_-k4tY9Cs",
        "outputId": "de1ea2dd-ea46-438c-fb4d-ea8173806983"
      },
      "outputs": [
        {
          "data": {
            "text/plain": [
              "array([], dtype=float64)"
            ]
          },
          "execution_count": 7,
          "metadata": {},
          "output_type": "execute_result"
        }
      ],
      "source": [
        "# a operação abaixo FILTRA apenas os números do array \"aleat\" que sejam IGUAIS a 0.5\n",
        "arr[arr == 0.5]"
      ]
    },
    {
      "cell_type": "markdown",
      "metadata": {
        "id": "T634nf-1Y__Z"
      },
      "source": [
        "Mais um exemplo..."
      ]
    },
    {
      "cell_type": "code",
      "execution_count": null,
      "metadata": {
        "colab": {
          "base_uri": "https://localhost:8080/"
        },
        "id": "MBw4NFORY-g8",
        "outputId": "75feaf25-17a9-4c6c-f454-3336c71a711a"
      },
      "outputs": [
        {
          "data": {
            "text/plain": [
              "array([51, 92, 14, 71, 60, 20, 82, 86, 74, 74, 87, 99, 23,  2, 21, 52,  1,\n",
              "       87, 29, 37])"
            ]
          },
          "execution_count": 8,
          "metadata": {},
          "output_type": "execute_result"
        }
      ],
      "source": [
        "# definindo um array aleatório com np.random.randint(0, 100, 20), com seed 42\n",
        "np.random.seed(42)\n",
        "ints = np.random.randint(0, 100, 20)\n",
        "ints"
      ]
    },
    {
      "cell_type": "code",
      "execution_count": null,
      "metadata": {
        "colab": {
          "base_uri": "https://localhost:8080/"
        },
        "id": "3JezQoIrZD78",
        "outputId": "8cad09fd-29d4-4a20-b149-23b31cd5c8bd"
      },
      "outputs": [
        {
          "data": {
            "text/plain": [
              "array([92, 14, 60, 20, 82, 86, 74, 74,  2, 52])"
            ]
          },
          "execution_count": 9,
          "metadata": {},
          "output_type": "execute_result"
        }
      ],
      "source": [
        "# filtrando apenas os pares\n",
        "ints[ints % 2 == 0]"
      ]
    },
    {
      "cell_type": "code",
      "execution_count": null,
      "metadata": {
        "colab": {
          "base_uri": "https://localhost:8080/"
        },
        "id": "aGfoMmgBZFkl",
        "outputId": "640e0f03-29f7-45c5-8915-bece2250c75b"
      },
      "outputs": [
        {
          "data": {
            "text/plain": [
              "array([51, 71, 87, 99, 23, 21,  1, 87, 29, 37])"
            ]
          },
          "execution_count": 10,
          "metadata": {},
          "output_type": "execute_result"
        }
      ],
      "source": [
        "# filtrando apenas os ímpares\n",
        "ints[ints % 2 != 0]"
      ]
    },
    {
      "cell_type": "code",
      "execution_count": null,
      "metadata": {
        "colab": {
          "base_uri": "https://localhost:8080/"
        },
        "id": "-04L3ee5ZHEM",
        "outputId": "b492591a-42ab-4acd-bc30-98cf04ece4bf"
      },
      "outputs": [
        {
          "data": {
            "text/plain": [
              "array([51, 71, 87, 99, 23, 21,  1, 87, 29, 37])"
            ]
          },
          "execution_count": 11,
          "metadata": {},
          "output_type": "execute_result"
        }
      ],
      "source": [
        "#Outra forma de filtrar os ímpares\n",
        "ints[~(ints % 2 == 0)]"
      ]
    },
    {
      "cell_type": "markdown",
      "metadata": {
        "id": "STScPrnYZPKG"
      },
      "source": [
        "Podemos filtrar também com o método **np.where():**"
      ]
    },
    {
      "cell_type": "code",
      "execution_count": null,
      "metadata": {
        "colab": {
          "base_uri": "https://localhost:8080/"
        },
        "id": "kHw9AIHnZMT7",
        "outputId": "19619ccf-3f7b-4273-92ae-cfdfd83ea331"
      },
      "outputs": [
        {
          "data": {
            "text/plain": [
              "array([nan, 92., 14., nan, 60., 20., 82., 86., 74., 74., nan, nan, nan,\n",
              "        2., nan, 52., nan, nan, nan, nan])"
            ]
          },
          "execution_count": 12,
          "metadata": {},
          "output_type": "execute_result"
        }
      ],
      "source": [
        "np.where(ints % 2 == 0, ints, np.nan) #Onde tem os ímpares, ele coloca nan"
      ]
    },
    {
      "cell_type": "markdown",
      "metadata": {
        "id": "9ychgc4GZbBV"
      },
      "source": [
        "Também é possível aplicar **filtros compostos**!\n",
        "\n",
        "Pra fazer isso, nós fazems uma **composição lógica** entre os filtros (análogo ao \"and\" e ao \"or\")\n",
        "\n",
        "No caso de arrays, usamos:\n",
        "\n",
        "- \"&\" para \"and\"\n",
        "- \"|\" para \"or\"\n",
        "- \"~\" para \"not\""
      ]
    },
    {
      "cell_type": "code",
      "execution_count": null,
      "metadata": {
        "colab": {
          "base_uri": "https://localhost:8080/"
        },
        "id": "Ch4aCQf_ZZHL",
        "outputId": "820bb308-9427-48d0-a0b6-73c80ffa6ba2"
      },
      "outputs": [
        {
          "data": {
            "text/plain": [
              "array([False,  True, False, False,  True, False,  True,  True,  True,\n",
              "        True, False, False, False, False, False,  True, False, False,\n",
              "       False, False])"
            ]
          },
          "execution_count": 13,
          "metadata": {},
          "output_type": "execute_result"
        }
      ],
      "source": [
        "# condição correspondente a números pares E maiores que 50\n",
        "(ints % 2 == 0) & (ints > 50)"
      ]
    },
    {
      "cell_type": "code",
      "execution_count": null,
      "metadata": {
        "colab": {
          "base_uri": "https://localhost:8080/"
        },
        "id": "JnHit8IlZfcc",
        "outputId": "26eaec6e-f3a0-40ec-f295-7c24a9829ecc"
      },
      "outputs": [
        {
          "data": {
            "text/plain": [
              "array([51, 92, 14, 71, 60, 20, 82, 86, 74, 74, 87, 99,  2, 52, 87])"
            ]
          },
          "execution_count": 14,
          "metadata": {},
          "output_type": "execute_result"
        }
      ],
      "source": [
        "# numeros que são pares OU maiores que 50\n",
        "ints[(ints % 2 == 0) | (ints > 50)]"
      ]
    },
    {
      "cell_type": "code",
      "execution_count": null,
      "metadata": {
        "colab": {
          "base_uri": "https://localhost:8080/"
        },
        "id": "DTCDtJEFZll1",
        "outputId": "e815a80d-4132-4b53-870d-c544ff2663a1"
      },
      "outputs": [
        {
          "data": {
            "text/plain": [
              "array([51, 71, 87, 99, 87])"
            ]
          },
          "execution_count": 15,
          "metadata": {},
          "output_type": "execute_result"
        }
      ],
      "source": [
        "# filtrando numeros impares (não pares) E maiores que 50\n",
        "ints[~(ints % 2 == 0) & (ints > 50)]"
      ]
    },
    {
      "cell_type": "markdown",
      "metadata": {
        "id": "KFxFwNBGZi76"
      },
      "source": [
        "___\n",
        "\n",
        "## 2. Matrizes\n",
        "\n",
        "Como **matrizes** vamos nos referir aos arrays multidimensionais (i.e., mais de uma dimensão)."
      ]
    },
    {
      "cell_type": "markdown",
      "metadata": {
        "id": "OcNuK9PEZxZ7"
      },
      "source": [
        "<img src = \"https://numpy.org/devdocs/_images/np_create_matrix.png\" />"
      ]
    },
    {
      "cell_type": "code",
      "execution_count": null,
      "metadata": {
        "colab": {
          "base_uri": "https://localhost:8080/"
        },
        "id": "8nFwwzqwZhHU",
        "outputId": "a633a09f-ccd3-4756-bc15-44f40b99ce21"
      },
      "outputs": [
        {
          "data": {
            "text/plain": [
              "array([[1, 2],\n",
              "       [3, 4],\n",
              "       [5, 6]])"
            ]
          },
          "execution_count": 16,
          "metadata": {},
          "output_type": "execute_result"
        }
      ],
      "source": [
        "#Criando uma matriz 3x2\n",
        "data = np.array([[1, 2], [3, 4], [5, 6]])\n",
        "data"
      ]
    },
    {
      "cell_type": "markdown",
      "metadata": {
        "id": "Mdu9R3rocwPN"
      },
      "source": [
        "**Método shape:**\n",
        "\n",
        "É utilizado para retornar a forma ou as dimensões de um array.\n",
        "\n",
        "Ele retorna uma tupla que indica o tamanho do array em cada dimensão."
      ]
    },
    {
      "cell_type": "code",
      "execution_count": null,
      "metadata": {
        "colab": {
          "base_uri": "https://localhost:8080/"
        },
        "id": "bGXYt99_cuWl",
        "outputId": "77f5e8dd-7af6-4690-b227-bfa84ec00de4"
      },
      "outputs": [
        {
          "data": {
            "text/plain": [
              "(3, 2)"
            ]
          },
          "execution_count": 17,
          "metadata": {},
          "output_type": "execute_result"
        }
      ],
      "source": [
        "data.shape"
      ]
    },
    {
      "cell_type": "markdown",
      "metadata": {
        "id": "V0Lb6ilvc8o-"
      },
      "source": [
        "**Notação:** (numero_de_linhas, numero_de_colunas)"
      ]
    },
    {
      "cell_type": "markdown",
      "metadata": {
        "id": "gH6z0gNydIdk"
      },
      "source": [
        "### Agregações\n",
        "\n",
        "Similarmente a como fizemos com **arrays**, também podemos aplicar **funções de agregação** às matrizes:"
      ]
    },
    {
      "cell_type": "code",
      "execution_count": null,
      "metadata": {
        "colab": {
          "base_uri": "https://localhost:8080/"
        },
        "id": "bsdgV259c8D0",
        "outputId": "82b84d3b-cfd7-4fff-949d-f65b30277c2f"
      },
      "outputs": [
        {
          "data": {
            "text/plain": [
              "6"
            ]
          },
          "execution_count": 18,
          "metadata": {},
          "output_type": "execute_result"
        }
      ],
      "source": [
        "data.max()"
      ]
    },
    {
      "cell_type": "code",
      "execution_count": null,
      "metadata": {
        "colab": {
          "base_uri": "https://localhost:8080/"
        },
        "id": "aN_H3pJddOE9",
        "outputId": "41410596-ee0b-403a-d824-34ffddc7eb32"
      },
      "outputs": [
        {
          "data": {
            "text/plain": [
              "1"
            ]
          },
          "execution_count": 19,
          "metadata": {},
          "output_type": "execute_result"
        }
      ],
      "source": [
        "data.min()"
      ]
    },
    {
      "cell_type": "code",
      "execution_count": null,
      "metadata": {
        "colab": {
          "base_uri": "https://localhost:8080/"
        },
        "id": "4z3gDjF-dPEF",
        "outputId": "51ef1eba-bcd7-4420-a9b7-55894fb8333c"
      },
      "outputs": [
        {
          "data": {
            "text/plain": [
              "21"
            ]
          },
          "execution_count": 20,
          "metadata": {},
          "output_type": "execute_result"
        }
      ],
      "source": [
        "data.sum()"
      ]
    },
    {
      "cell_type": "markdown",
      "metadata": {
        "id": "-1onOq4XdR2c"
      },
      "source": [
        "<img src = \"https://numpy.org/devdocs/_images/np_matrix_aggregation.png\" />"
      ]
    },
    {
      "cell_type": "markdown",
      "metadata": {
        "id": "vbmzEGo3dVJ3"
      },
      "source": [
        "E se eu quiser por linhas ou colunas?"
      ]
    },
    {
      "cell_type": "code",
      "execution_count": null,
      "metadata": {
        "colab": {
          "base_uri": "https://localhost:8080/"
        },
        "id": "gGRxbGJDdQB1",
        "outputId": "429230ef-f8ac-4ca8-fe41-dd7b4d4f06c9"
      },
      "outputs": [
        {
          "data": {
            "text/plain": [
              "array([5, 6])"
            ]
          },
          "execution_count": 23,
          "metadata": {},
          "output_type": "execute_result"
        }
      ],
      "source": [
        "# \"axis = 0\" opera na direção das colunas, retornando um vetor-linha\n",
        "# com os máximos de cada coluna\n",
        "data.max(axis = 0)"
      ]
    },
    {
      "cell_type": "code",
      "execution_count": null,
      "metadata": {
        "colab": {
          "base_uri": "https://localhost:8080/"
        },
        "id": "wgGbo2R2dX5t",
        "outputId": "30cf798d-3f85-47c6-9b5d-12f22cf7d04c"
      },
      "outputs": [
        {
          "data": {
            "text/plain": [
              "array([2, 4, 6])"
            ]
          },
          "execution_count": 24,
          "metadata": {},
          "output_type": "execute_result"
        }
      ],
      "source": [
        "# \"axis = 1\" opera na direção daslinhas, retornando um vetor-coluna\n",
        "# com os máximos de cada linha\n",
        "data.max(axis = 1)"
      ]
    },
    {
      "cell_type": "markdown",
      "metadata": {
        "id": "KOeJI2Bmdq72"
      },
      "source": [
        "<img src = \"https://numpy.org/devdocs/_images/np_matrix_aggregation_row.png\" />"
      ]
    },
    {
      "cell_type": "markdown",
      "metadata": {
        "id": "7pZ7G0vzdreG"
      },
      "source": [
        "### **np. reshape():**\n",
        "\n",
        "Em algumas situações, pode ser útil **reformatar** nosso conjunto de dados. Para isso, utilizamos a função *.reshape()*."
      ]
    },
    {
      "cell_type": "code",
      "execution_count": null,
      "metadata": {
        "colab": {
          "base_uri": "https://localhost:8080/"
        },
        "id": "fy94y_Y5doft",
        "outputId": "aa23d121-8495-467e-ee88-9d4ece2c7ab0"
      },
      "outputs": [
        {
          "data": {
            "text/plain": [
              "array([0, 1, 2, 3, 4, 5, 6, 7, 8, 9])"
            ]
          },
          "execution_count": 25,
          "metadata": {},
          "output_type": "execute_result"
        }
      ],
      "source": [
        "# Vamos supor um vetor originalmente de 10 elementos\n",
        "dados_originais = np.arange(0,10)\n",
        "dados_originais"
      ]
    },
    {
      "cell_type": "code",
      "execution_count": null,
      "metadata": {
        "colab": {
          "base_uri": "https://localhost:8080/"
        },
        "id": "2_bd1WWYdyP9",
        "outputId": "a7aef399-2672-4818-d45e-3f298f1819a8"
      },
      "outputs": [
        {
          "data": {
            "text/plain": [
              "array([[0, 1, 2, 3, 4],\n",
              "       [5, 6, 7, 8, 9]])"
            ]
          },
          "execution_count": 26,
          "metadata": {},
          "output_type": "execute_result"
        }
      ],
      "source": [
        "# Vamos transformá-lo em uma matriz de duas linhas e cinco colunas\n",
        "dados_reformatados = np.reshape(dados_originais, [2,5])\n",
        "dados_reformatados"
      ]
    },
    {
      "cell_type": "code",
      "execution_count": null,
      "metadata": {
        "colab": {
          "base_uri": "https://localhost:8080/"
        },
        "id": "xvv2opBydz3l",
        "outputId": "2cf956fe-e6da-4630-c3c6-0283cc1a92cf"
      },
      "outputs": [
        {
          "data": {
            "text/plain": [
              "(2, 5)"
            ]
          },
          "execution_count": 27,
          "metadata": {},
          "output_type": "execute_result"
        }
      ],
      "source": [
        "dados_reformatados.shape"
      ]
    },
    {
      "cell_type": "code",
      "execution_count": null,
      "metadata": {
        "colab": {
          "base_uri": "https://localhost:8080/"
        },
        "id": "wHki1sNmd1Ps",
        "outputId": "170c8d24-9663-40e4-837e-be836ec3a7ed"
      },
      "outputs": [
        {
          "data": {
            "text/plain": [
              "array([[0, 1],\n",
              "       [2, 3],\n",
              "       [4, 5],\n",
              "       [6, 7],\n",
              "       [8, 9]])"
            ]
          },
          "execution_count": 28,
          "metadata": {},
          "output_type": "execute_result"
        }
      ],
      "source": [
        "# Alternativamente, também poderíamos ter optado por cinco linhas e duas colunas\n",
        "dados_reformatados = np.reshape(dados_originais, [5, 2])\n",
        "dados_reformatados"
      ]
    },
    {
      "cell_type": "code",
      "execution_count": null,
      "metadata": {
        "colab": {
          "base_uri": "https://localhost:8080/"
        },
        "id": "BkklLv6Yd28V",
        "outputId": "0f2fcb04-2b01-4e1c-e399-fff21d8183d1"
      },
      "outputs": [
        {
          "data": {
            "text/plain": [
              "array([[0, 1],\n",
              "       [2, 3],\n",
              "       [4, 5],\n",
              "       [6, 7],\n",
              "       [8, 9]])"
            ]
          },
          "execution_count": 29,
          "metadata": {},
          "output_type": "execute_result"
        }
      ],
      "source": [
        "dados_reformatados"
      ]
    },
    {
      "cell_type": "markdown",
      "metadata": {
        "id": "2OzCavo_d8Nm"
      },
      "source": [
        "**Atenção:** ao utilizar o reshape, o número de elementos total nunca pode ser alterado!"
      ]
    },
    {
      "cell_type": "code",
      "execution_count": null,
      "metadata": {
        "colab": {
          "base_uri": "https://localhost:8080/",
          "height": 333
        },
        "id": "KampD2Vcd7LN",
        "outputId": "5bddc7ca-4a02-48fc-c978-cfe532b9a417"
      },
      "outputs": [
        {
          "ename": "ValueError",
          "evalue": "ignored",
          "output_type": "error",
          "traceback": [
            "\u001b[0;31m---------------------------------------------------------------------------\u001b[0m",
            "\u001b[0;31mValueError\u001b[0m                                Traceback (most recent call last)",
            "\u001b[0;32m<ipython-input-30-30f21ae41519>\u001b[0m in \u001b[0;36m<cell line: 1>\u001b[0;34m()\u001b[0m\n\u001b[0;32m----> 1\u001b[0;31m \u001b[0mnp\u001b[0m\u001b[0;34m.\u001b[0m\u001b[0mreshape\u001b[0m\u001b[0;34m(\u001b[0m\u001b[0mdados_originais\u001b[0m\u001b[0;34m,\u001b[0m \u001b[0;34m[\u001b[0m\u001b[0;36m3\u001b[0m\u001b[0;34m,\u001b[0m\u001b[0;36m3\u001b[0m\u001b[0;34m]\u001b[0m\u001b[0;34m)\u001b[0m\u001b[0;34m\u001b[0m\u001b[0;34m\u001b[0m\u001b[0m\n\u001b[0m",
            "\u001b[0;32m/usr/local/lib/python3.10/dist-packages/numpy/core/overrides.py\u001b[0m in \u001b[0;36mreshape\u001b[0;34m(*args, **kwargs)\u001b[0m\n",
            "\u001b[0;32m/usr/local/lib/python3.10/dist-packages/numpy/core/fromnumeric.py\u001b[0m in \u001b[0;36mreshape\u001b[0;34m(a, newshape, order)\u001b[0m\n\u001b[1;32m    296\u001b[0m            [5, 6]])\n\u001b[1;32m    297\u001b[0m     \"\"\"\n\u001b[0;32m--> 298\u001b[0;31m     \u001b[0;32mreturn\u001b[0m \u001b[0m_wrapfunc\u001b[0m\u001b[0;34m(\u001b[0m\u001b[0ma\u001b[0m\u001b[0;34m,\u001b[0m \u001b[0;34m'reshape'\u001b[0m\u001b[0;34m,\u001b[0m \u001b[0mnewshape\u001b[0m\u001b[0;34m,\u001b[0m \u001b[0morder\u001b[0m\u001b[0;34m=\u001b[0m\u001b[0morder\u001b[0m\u001b[0;34m)\u001b[0m\u001b[0;34m\u001b[0m\u001b[0;34m\u001b[0m\u001b[0m\n\u001b[0m\u001b[1;32m    299\u001b[0m \u001b[0;34m\u001b[0m\u001b[0m\n\u001b[1;32m    300\u001b[0m \u001b[0;34m\u001b[0m\u001b[0m\n",
            "\u001b[0;32m/usr/local/lib/python3.10/dist-packages/numpy/core/fromnumeric.py\u001b[0m in \u001b[0;36m_wrapfunc\u001b[0;34m(obj, method, *args, **kwds)\u001b[0m\n\u001b[1;32m     55\u001b[0m \u001b[0;34m\u001b[0m\u001b[0m\n\u001b[1;32m     56\u001b[0m     \u001b[0;32mtry\u001b[0m\u001b[0;34m:\u001b[0m\u001b[0;34m\u001b[0m\u001b[0;34m\u001b[0m\u001b[0m\n\u001b[0;32m---> 57\u001b[0;31m         \u001b[0;32mreturn\u001b[0m \u001b[0mbound\u001b[0m\u001b[0;34m(\u001b[0m\u001b[0;34m*\u001b[0m\u001b[0margs\u001b[0m\u001b[0;34m,\u001b[0m \u001b[0;34m**\u001b[0m\u001b[0mkwds\u001b[0m\u001b[0;34m)\u001b[0m\u001b[0;34m\u001b[0m\u001b[0;34m\u001b[0m\u001b[0m\n\u001b[0m\u001b[1;32m     58\u001b[0m     \u001b[0;32mexcept\u001b[0m \u001b[0mTypeError\u001b[0m\u001b[0;34m:\u001b[0m\u001b[0;34m\u001b[0m\u001b[0;34m\u001b[0m\u001b[0m\n\u001b[1;32m     59\u001b[0m         \u001b[0;31m# A TypeError occurs if the object does have such a method in its\u001b[0m\u001b[0;34m\u001b[0m\u001b[0;34m\u001b[0m\u001b[0m\n",
            "\u001b[0;31mValueError\u001b[0m: cannot reshape array of size 10 into shape (3,3)"
          ]
        }
      ],
      "source": [
        "np.reshape(dados_originais, [3,3])"
      ]
    },
    {
      "cell_type": "markdown",
      "metadata": {
        "id": "BgD6Mgi8eAee"
      },
      "source": [
        "<img src = \"https://numpy.org/devdocs/_images/np_reshape.png\" />"
      ]
    },
    {
      "cell_type": "markdown",
      "metadata": {
        "id": "cMrcSln2eEJ_"
      },
      "source": [
        "### **Operações com matrizes:**"
      ]
    },
    {
      "cell_type": "code",
      "execution_count": null,
      "metadata": {
        "id": "-arOHXOQd9s9"
      },
      "outputs": [],
      "source": [
        "data = np.arange(1,5).reshape(2,2)"
      ]
    },
    {
      "cell_type": "code",
      "execution_count": null,
      "metadata": {
        "id": "gGuaDMVPeKjN"
      },
      "outputs": [],
      "source": [
        "ones = np.ones(4).reshape(2,2)"
      ]
    },
    {
      "cell_type": "markdown",
      "metadata": {
        "id": "_XGKSHgqeQky"
      },
      "source": [
        "<img src=\"https://numpy.org/devdocs/_images/np_matrix_arithmetic.png\" />"
      ]
    },
    {
      "cell_type": "code",
      "execution_count": null,
      "metadata": {
        "colab": {
          "base_uri": "https://localhost:8080/"
        },
        "id": "MT9zlYeaePSt",
        "outputId": "28c1e7b6-b5bd-4325-c683-93ddc33cccc2"
      },
      "outputs": [
        {
          "data": {
            "text/plain": [
              "array([[2., 3.],\n",
              "       [4., 5.]])"
            ]
          },
          "execution_count": 36,
          "metadata": {},
          "output_type": "execute_result"
        }
      ],
      "source": [
        "data+ones"
      ]
    },
    {
      "cell_type": "markdown",
      "metadata": {
        "id": "_loNe8kselem"
      },
      "source": [
        "Diferentemente com arrays unidimensionais, conseguimos operar com matriz de tamanhos diferentes, **desde que sejam essencialmente um vetor-linha ou um vetor-coluna**."
      ]
    },
    {
      "cell_type": "code",
      "execution_count": null,
      "metadata": {
        "colab": {
          "base_uri": "https://localhost:8080/"
        },
        "id": "OlXksbWzeTWs",
        "outputId": "bc700391-10f9-4186-e43c-c2eb7c8b728a"
      },
      "outputs": [
        {
          "data": {
            "text/plain": [
              "array([[2, 3],\n",
              "       [4, 5],\n",
              "       [6, 7]])"
            ]
          },
          "execution_count": 38,
          "metadata": {},
          "output_type": "execute_result"
        }
      ],
      "source": [
        "matriz1 = np.array([[1, 2], [3, 4], [5,6]])\n",
        "array = [1,1]\n",
        "matriz1 + array"
      ]
    },
    {
      "cell_type": "markdown",
      "metadata": {
        "id": "uqFt7PfIexNw"
      },
      "source": [
        "<img src = \"https://numpy.org/devdocs/_images/np_matrix_broadcasting.png\" />"
      ]
    },
    {
      "cell_type": "markdown",
      "metadata": {
        "id": "ia-Vq0wGezzo"
      },
      "source": [
        "### Transpondo arrays\n",
        "\n",
        "Transpor a matriz equivale a \"trocar\" as linhas pelas colunas."
      ]
    },
    {
      "cell_type": "code",
      "execution_count": null,
      "metadata": {
        "colab": {
          "base_uri": "https://localhost:8080/"
        },
        "id": "PxiH3Hqweom1",
        "outputId": "e6af9a68-4370-447c-b104-c0b8bc0ee03b"
      },
      "outputs": [
        {
          "data": {
            "text/plain": [
              "array([[1, 2],\n",
              "       [3, 4],\n",
              "       [5, 6]])"
            ]
          },
          "execution_count": 39,
          "metadata": {},
          "output_type": "execute_result"
        }
      ],
      "source": [
        "matriz1"
      ]
    },
    {
      "cell_type": "code",
      "execution_count": null,
      "metadata": {
        "colab": {
          "base_uri": "https://localhost:8080/"
        },
        "id": "_G2dRYzBe4wl",
        "outputId": "12905b0f-b50b-4962-80a5-7f842d8e5b09"
      },
      "outputs": [
        {
          "data": {
            "text/plain": [
              "array([[1, 3, 5],\n",
              "       [2, 4, 6]])"
            ]
          },
          "execution_count": 40,
          "metadata": {},
          "output_type": "execute_result"
        }
      ],
      "source": [
        "matriz1.transpose()"
      ]
    },
    {
      "cell_type": "markdown",
      "metadata": {
        "id": "PsPi_fn_e81z"
      },
      "source": [
        "<img src = \"https://numpy.org/devdocs/_images/np_transposing_reshaping.png\" />"
      ]
    },
    {
      "cell_type": "markdown",
      "metadata": {
        "id": "bRoetUOje-wQ"
      },
      "source": [
        "### Filtrando matrizes\n",
        "\n",
        "Seguimos a mesma lógica de filtros em arrays unidimensionais, com a particularidade de que estamos lidando, agora, com mais de uma dimensão - e podemos levar isso em consideração."
      ]
    },
    {
      "cell_type": "code",
      "execution_count": null,
      "metadata": {
        "id": "0ZJjpKugfE5n"
      },
      "outputs": [],
      "source": [
        "data = np.array([[1, 2], [3, 4], [5,6]])"
      ]
    },
    {
      "cell_type": "code",
      "execution_count": null,
      "metadata": {
        "colab": {
          "base_uri": "https://localhost:8080/"
        },
        "id": "4t7Ho_Dfe61V",
        "outputId": "f5f41d25-ae2f-4488-ce26-2d3b50a9364c"
      },
      "outputs": [
        {
          "data": {
            "text/plain": [
              "array([[False, False],\n",
              "       [ True,  True],\n",
              "       [ True,  True]])"
            ]
          },
          "execution_count": 42,
          "metadata": {},
          "output_type": "execute_result"
        }
      ],
      "source": [
        "# filtrando a matriz como um todo\n",
        "data > 2"
      ]
    },
    {
      "cell_type": "code",
      "execution_count": null,
      "metadata": {
        "colab": {
          "base_uri": "https://localhost:8080/"
        },
        "id": "KL8ddlcofI8J",
        "outputId": "a546eeb5-cbae-4efe-d1e5-855c17456e00"
      },
      "outputs": [
        {
          "data": {
            "text/plain": [
              "array([False,  True])"
            ]
          },
          "execution_count": 43,
          "metadata": {},
          "output_type": "execute_result"
        }
      ],
      "source": [
        "# Filtrando o primeiro elemento de cada coluna da matriz\n",
        "data[0,:] > 1"
      ]
    },
    {
      "cell_type": "code",
      "execution_count": null,
      "metadata": {
        "colab": {
          "base_uri": "https://localhost:8080/"
        },
        "id": "YQ4mPAZLfJTd",
        "outputId": "5710277e-aa97-4e67-e58d-db79cfff384c"
      },
      "outputs": [
        {
          "data": {
            "text/plain": [
              "array([False, False,  True])"
            ]
          },
          "execution_count": 44,
          "metadata": {},
          "output_type": "execute_result"
        }
      ],
      "source": [
        "# Filtrando o segundo elemento de cada linha da matriz\n",
        "data[:,1] > 4"
      ]
    },
    {
      "cell_type": "markdown",
      "metadata": {
        "id": "bhkNQNYlfQiX"
      },
      "source": [
        "Assim como fizemos anteriromente, podemos utilizar esse array booleano para indexar a matriz original."
      ]
    },
    {
      "cell_type": "code",
      "execution_count": null,
      "metadata": {
        "colab": {
          "base_uri": "https://localhost:8080/"
        },
        "id": "5WbzTcZ8fLze",
        "outputId": "ec7d928b-f2d3-4247-fd01-cc94186a9d02"
      },
      "outputs": [
        {
          "data": {
            "text/plain": [
              "array([[5, 6]])"
            ]
          },
          "execution_count": 45,
          "metadata": {},
          "output_type": "execute_result"
        }
      ],
      "source": [
        "data[data[:,1] > 4, :]"
      ]
    },
    {
      "cell_type": "markdown",
      "metadata": {
        "id": "I_kPR9ajfT9P"
      },
      "source": [
        "Um outro exemplo"
      ]
    },
    {
      "cell_type": "code",
      "execution_count": null,
      "metadata": {
        "colab": {
          "base_uri": "https://localhost:8080/"
        },
        "id": "MtK1iM4hfSHN",
        "outputId": "0f2d0089-5969-47c7-afb2-913cc3c439f8"
      },
      "outputs": [
        {
          "data": {
            "text/plain": [
              "array([[ 1.46237812,  1.53871497, -2.43910582,  0.60344123],\n",
              "       [-0.25104397, -0.16386712, -1.47632969,  1.48698096],\n",
              "       [-0.02445518,  0.35555132,  0.41701111,  0.83246186],\n",
              "       [-0.29339915, -0.02983857,  0.09512578,  0.66465434]])"
            ]
          },
          "execution_count": 46,
          "metadata": {},
          "output_type": "execute_result"
        }
      ],
      "source": [
        "# Vamos gerar uma matriz 4x4 aleatoriamente\n",
        "d=np.random.randn(4,4)\n",
        "d"
      ]
    },
    {
      "cell_type": "code",
      "execution_count": null,
      "metadata": {
        "colab": {
          "base_uri": "https://localhost:8080/"
        },
        "id": "6bSIxkjjfWsx",
        "outputId": "81f83946-4ca8-4196-980c-ee949db70642"
      },
      "outputs": [
        {
          "data": {
            "text/plain": [
              "array([ True, False,  True, False])"
            ]
          },
          "execution_count": 47,
          "metadata": {},
          "output_type": "execute_result"
        }
      ],
      "source": [
        "# Filtremos todas as linhas cuja segunda coluna seja positiva\n",
        "d[:,1] > 0"
      ]
    },
    {
      "cell_type": "code",
      "execution_count": null,
      "metadata": {
        "colab": {
          "base_uri": "https://localhost:8080/"
        },
        "id": "p7J0V4kSfXkd",
        "outputId": "76eca57d-b333-47c2-e51e-86c0b19c73a0"
      },
      "outputs": [
        {
          "data": {
            "text/plain": [
              "array([[ 1.46237812,  1.53871497, -2.43910582,  0.60344123],\n",
              "       [-0.02445518,  0.35555132,  0.41701111,  0.83246186]])"
            ]
          },
          "execution_count": 48,
          "metadata": {},
          "output_type": "execute_result"
        }
      ],
      "source": [
        "# Agora, indexemos a matriz\n",
        "d[d[:,1] > 0, :]"
      ]
    },
    {
      "cell_type": "markdown",
      "metadata": {
        "id": "wcbYaszYfaWF"
      },
      "source": [
        "___\n",
        "___\n",
        "___"
      ]
    },
    {
      "cell_type": "markdown",
      "metadata": {
        "id": "guerv684fdDw"
      },
      "source": [
        "## 3. **Exercícios:**\n",
        "\n",
        "___"
      ]
    },
    {
      "cell_type": "markdown",
      "metadata": {
        "id": "8303Y2uFf5Fu"
      },
      "source": [
        "**1.** Em uma **análise de regressão**, usualmente estamos interessados em descrever o comportamento em um conjunto de dados por meio de uma **função** que descreva, o tanto quanto possível, nosson conjunto de dados.\n",
        "\n",
        "Por exemplo, no gráfico abaixo, os pontos vermelhos relacionam as medidas das duas variáveis sendo avaliadas (nos eixos x e y); e a linha azul aproxima a relação entre elas por uma função linear."
      ]
    },
    {
      "cell_type": "markdown",
      "metadata": {
        "id": "eBWHRDA8f7DV"
      },
      "source": [
        "![Normdist_regression.png](https://miro.medium.com/v2/resize:fit:1280/1*eeIvlwkMNG1wSmj3FR6M2g.gif)"
      ]
    },
    {
      "cell_type": "markdown",
      "metadata": {
        "id": "_mLT4S_8gfDv"
      },
      "source": [
        "É possível ver que nem todos os pontos obedecem exatamente à relação ditada pela reta (isto é, há pontos que não estão exatamente \"sobre a reta\"; mas, sim, ligeraimente acima, ou abaixo, dela).\n",
        "\n",
        "Isto, contudo, é esperado em um modelo de regressão, por inúmeras fontes de incerteza associadas às medições."
      ]
    },
    {
      "cell_type": "markdown",
      "metadata": {
        "id": "r-5DhMyegihF"
      },
      "source": [
        "Uma das métricas que utilizamos para avaliar a qualidade de uma regressão é o **root mean squared error (RMSE)**, que mensura a diferença total entre cada predição da regressão ($y_{prediction}$) com o valor real de cada i-ésima medida ($y_{i}$). O RMSE pode ser definido como:"
      ]
    },
    {
      "cell_type": "markdown",
      "metadata": {
        "id": "AXPGj7SSgkiG"
      },
      "source": [
        "$RMSE = \\sqrt{\\frac{1}{n}\\sum_{i=1}^{n}(y_{prediction} - y_{i})^2} $."
      ]
    },
    {
      "cell_type": "markdown",
      "metadata": {
        "id": "V3apcCiYhMyH"
      },
      "source": [
        "Escreva uma função que calcule o RMSE recebendo, como entrada, os vetores $y_{prediction}$ e $y_{i}$. Por exemplo, digamos que sua função se chame *calculate_rmse*, ela deve operar da seguinte forma:"
      ]
    },
    {
      "cell_type": "code",
      "execution_count": null,
      "metadata": {
        "id": "Xfdaw4ILfaKG"
      },
      "outputs": [],
      "source": [
        "# dados dois arrays quaisquer de mesmo tamanho, a função deve retornar o RMSE\n",
        "y_prediction = np.array([1,2,3])\n",
        "y_i = np.array([0,0,3])\n",
        "calculate_rmse(y_prediction,y_i)"
      ]
    },
    {
      "cell_type": "code",
      "execution_count": null,
      "metadata": {},
      "outputs": [],
      "source": [
        "def calculate_rmse(y_prediction,y_i):\n",
        "    return np.sqrt(np.square(y_prediction - y_i).mean())"
      ]
    },
    {
      "cell_type": "markdown",
      "metadata": {
        "id": "CK6Fzs5WhZcP"
      },
      "source": [
        "**2.** Em estatística, um **outlier** é um valor que destoa consideravelmente da distribuição à qual está associado. Um dos critérios para idenficar outliers consiste em encontrar a **distância interquantil** (IQR), ou seja, a diferença entre o terceiro e o primeiro quantil da distribuição, e tomar como outliers todos os pontos abaixo, ou acima, de 1.5*IQR."
      ]
    },
    {
      "cell_type": "markdown",
      "metadata": {
        "id": "sIXKVXQXhb_O"
      },
      "source": [
        "<img src = \"https://blog.curso-r.com/images/posts/banner/outlier.webp\" />"
      ]
    },
    {
      "cell_type": "markdown",
      "metadata": {
        "id": "EIbYf2Vthdp-"
      },
      "source": [
        "Escreva uma função que, dada uma matriz de dados de entrada de dimensões $N_{observações} \\times N_{features}$ retorne três requisitos:\n",
        "- uma matriz booleana indicando a existência de outliers nos dados de entrada;\n",
        "- a quantidade de outliers\n",
        "- quem são os outliers (os valores)."
      ]
    },
    {
      "cell_type": "markdown",
      "metadata": {
        "id": "bLNP3ENlhdi4"
      },
      "source": [
        "**Algumas definições:**\n",
        "- um *quantil* divide a distribuição, após ordenados os pontos, segundo algum ponto de corte;\n",
        "- o **primeiro quantil** é o ponto para o qual 25 % dos valores da distribuição estão abaixo dele;\n",
        "- o **terceiro quantil** é o ponto para o qual 75 % dos valores da distribuição estão abaixo dele.\n",
        "\n",
        "Pode ser útil consultar a função **numpy.quantile**."
      ]
    },
    {
      "cell_type": "code",
      "execution_count": null,
      "metadata": {
        "id": "aF8-a-jyfYXF"
      },
      "outputs": [],
      "source": [
        "# Geremos um conjunto de dados qualquer\n",
        "X = np.random.randn(300,15)\n",
        "X"
      ]
    },
    {
      "cell_type": "code",
      "execution_count": null,
      "metadata": {},
      "outputs": [],
      "source": [
        "#Criando a função\n",
        "def locate_outliers(X):\n",
        "    q1 = np.quantile(X, 0.25, axis=0)\n",
        "    q3 = np.quantile(X, 0.75, axis=0)\n",
        "    iqr = q3 - q1\n",
        "\n",
        "    outliers_location = (X > q3 + 1.5*iqr) | (X < q1 - 1.5*iqr)\n",
        "    outliers = X[outliers_location]\n",
        "    outliers_count = outliers.size\n",
        "\n",
        "    return outliers_location, outliers_count, outliers"
      ]
    }
  ],
  "metadata": {
    "colab": {
      "provenance": []
    },
    "kernelspec": {
      "display_name": "Python 3",
      "name": "python3"
    },
    "language_info": {
      "name": "python"
    }
   },
   "outputs": [],
   "source": [
    "np.array([1,2,3])+np.array([1,2])"
   ]
  },
  {
   "cell_type": "markdown",
   "metadata": {
    "application/vnd.databricks.v1+cell": {
     "cellMetadata": {},
     "inputWidgets": {},
     "nuid": "a56c537c-720c-4406-94b3-8aa2a423847d",
     "showTitle": false,
     "title": ""
    },
    "id": "_loNe8kselem"
   },
   "source": [
    "Diferentemente com arrays unidimensionais, conseguimos operar com matriz de tamanhos diferentes, **desde que sejam essencialmente um vetor-linha ou um vetor-coluna**."
   ]
  },
  {
   "cell_type": "code",
   "execution_count": 0,
   "metadata": {
    "application/vnd.databricks.v1+cell": {
     "cellMetadata": {
      "byteLimit": 2048000,
      "rowLimit": 10000
     },
     "inputWidgets": {},
     "nuid": "e7e2f994-c186-47e7-b900-5345962e202b",
     "showTitle": false,
     "title": ""
    },
    "id": "OlXksbWzeTWs"
   },
   "outputs": [],
   "source": [
    "matriz_1 = np.arange(1,7).reshape(3,2)\n",
    "ones = np.ones(2)\n",
    "matriz_1+ones"
   ]
  },
  {
   "cell_type": "markdown",
   "metadata": {
    "application/vnd.databricks.v1+cell": {
     "cellMetadata": {},
     "inputWidgets": {},
     "nuid": "1d6f4848-f09c-4f55-b704-2759c4f3073e",
     "showTitle": false,
     "title": ""
    },
    "id": "uqFt7PfIexNw"
   },
   "source": [
    "<img src = \"https://numpy.org/devdocs/_images/np_matrix_broadcasting.png\" />"
   ]
  },
  {
   "cell_type": "markdown",
   "metadata": {
    "application/vnd.databricks.v1+cell": {
     "cellMetadata": {},
     "inputWidgets": {},
     "nuid": "ecde6daf-6266-4ffd-9d8f-09e69c4ec307",
     "showTitle": false,
     "title": ""
    },
    "id": "ia-Vq0wGezzo"
   },
   "source": [
    "### Transpondo arrays\n",
    "\n",
    "Transpor a matriz equivale a \"trocar\" as linhas pelas colunas."
   ]
  },
  {
   "cell_type": "code",
   "execution_count": 0,
   "metadata": {
    "application/vnd.databricks.v1+cell": {
     "cellMetadata": {
      "byteLimit": 2048000,
      "rowLimit": 10000
     },
     "inputWidgets": {},
     "nuid": "4dd6eee5-fe34-4c0c-8afb-f4ec90711b9b",
     "showTitle": false,
     "title": ""
    },
    "id": "PxiH3Hqweom1"
   },
   "outputs": [],
   "source": [
    "matriz_1"
   ]
  },
  {
   "cell_type": "code",
   "execution_count": 0,
   "metadata": {
    "application/vnd.databricks.v1+cell": {
     "cellMetadata": {
      "byteLimit": 2048000,
      "rowLimit": 10000
     },
     "inputWidgets": {},
     "nuid": "d3494433-ed16-4278-b8c2-7db7ace650bb",
     "showTitle": false,
     "title": ""
    },
    "id": "_G2dRYzBe4wl"
   },
   "outputs": [],
   "source": [
    "matriz_1.transpose()"
   ]
  },
  {
   "cell_type": "markdown",
   "metadata": {
    "application/vnd.databricks.v1+cell": {
     "cellMetadata": {},
     "inputWidgets": {},
     "nuid": "182c9a76-d2ba-407b-bcb0-49cefaf335b9",
     "showTitle": false,
     "title": ""
    },
    "id": "PsPi_fn_e81z"
   },
   "source": [
    "<img src = \"https://numpy.org/devdocs/_images/np_transposing_reshaping.png\" />"
   ]
  },
  {
   "cell_type": "markdown",
   "metadata": {
    "application/vnd.databricks.v1+cell": {
     "cellMetadata": {},
     "inputWidgets": {},
     "nuid": "c64f7d5e-b37b-4154-a652-294ae9a2f99f",
     "showTitle": false,
     "title": ""
    },
    "id": "bRoetUOje-wQ"
   },
   "source": [
    "### Filtrando matrizes\n",
    "\n",
    "Seguimos a mesma lógica de filtros em arrays unidimensionais, com a particularidade de que estamos lidando, agora, com mais de uma dimensão - e podemos levar isso em consideração."
   ]
  },
  {
   "cell_type": "code",
   "execution_count": 0,
   "metadata": {
    "application/vnd.databricks.v1+cell": {
     "cellMetadata": {},
     "inputWidgets": {},
     "nuid": "53f3454d-1218-4ef2-8a55-fc570e7f9677",
     "showTitle": false,
     "title": ""
    },
    "id": "0ZJjpKugfE5n"
   },
   "outputs": [],
   "source": []
  },
  {
   "cell_type": "code",
   "execution_count": 0,
   "metadata": {
    "application/vnd.databricks.v1+cell": {
     "cellMetadata": {},
     "inputWidgets": {},
     "nuid": "0b9f3014-0433-4631-899f-817e80aa4567",
     "showTitle": false,
     "title": ""
    },
    "id": "4t7Ho_Dfe61V"
   },
   "outputs": [],
   "source": [
    "# filtrando a matriz como um todo\n"
   ]
  },
  {
   "cell_type": "code",
   "execution_count": 0,
   "metadata": {
    "application/vnd.databricks.v1+cell": {
     "cellMetadata": {},
     "inputWidgets": {},
     "nuid": "aa9b642b-074a-4c58-b691-554c007857bb",
     "showTitle": false,
     "title": ""
    },
    "id": "KL8ddlcofI8J"
   },
   "outputs": [],
   "source": [
    "# Filtrando o primeiro elemento de cada coluna da matriz\n"
   ]
  },
  {
   "cell_type": "code",
   "execution_count": 0,
   "metadata": {
    "application/vnd.databricks.v1+cell": {
     "cellMetadata": {},
     "inputWidgets": {},
     "nuid": "e46b15b8-396f-4ac4-b09d-37203e7115c8",
     "showTitle": false,
     "title": ""
    },
    "id": "YQ4mPAZLfJTd"
   },
   "outputs": [],
   "source": [
    "# Filtrando o segundo elemento de cada linha da matriz\n"
   ]
  },
  {
   "cell_type": "markdown",
   "metadata": {
    "application/vnd.databricks.v1+cell": {
     "cellMetadata": {},
     "inputWidgets": {},
     "nuid": "9848b1f2-5d3c-4a63-af46-98e26cf9c795",
     "showTitle": false,
     "title": ""
    },
    "id": "bhkNQNYlfQiX"
   },
   "source": [
    "Assim como fizemos anteriromente, podemos utilizar esse array booleano para indexar a matriz original."
   ]
  },
  {
   "cell_type": "code",
   "execution_count": 0,
   "metadata": {
    "application/vnd.databricks.v1+cell": {
     "cellMetadata": {},
     "inputWidgets": {},
     "nuid": "0d12c39a-0b37-40f9-8528-81de86a27ea1",
     "showTitle": false,
     "title": ""
    },
    "id": "5WbzTcZ8fLze"
   },
   "outputs": [],
   "source": []
  },
  {
   "cell_type": "markdown",
   "metadata": {
    "application/vnd.databricks.v1+cell": {
     "cellMetadata": {},
     "inputWidgets": {},
     "nuid": "d0459aa6-b879-468d-af69-ab788c3d343f",
     "showTitle": false,
     "title": ""
    },
    "id": "I_kPR9ajfT9P"
   },
   "source": [
    "Um outro exemplo"
   ]
  },
  {
   "cell_type": "code",
   "execution_count": 0,
   "metadata": {
    "application/vnd.databricks.v1+cell": {
     "cellMetadata": {},
     "inputWidgets": {},
     "nuid": "8ef142d0-c7b8-4e8d-a8e9-d237f0d8ec06",
     "showTitle": false,
     "title": ""
    },
    "id": "MtK1iM4hfSHN"
   },
   "outputs": [],
   "source": [
    "# Vamos gerar uma matriz 4x4 aleatoriamente\n"
   ]
  },
  {
   "cell_type": "code",
   "execution_count": 0,
   "metadata": {
    "application/vnd.databricks.v1+cell": {
     "cellMetadata": {},
     "inputWidgets": {},
     "nuid": "003209fe-7b47-49fe-8cf6-906dac59845b",
     "showTitle": false,
     "title": ""
    },
    "id": "6bSIxkjjfWsx"
   },
   "outputs": [],
   "source": [
    "# Filtremos todas as linhas cuja segunda coluna seja positiva\n"
   ]
  },
  {
   "cell_type": "code",
   "execution_count": 0,
   "metadata": {
    "application/vnd.databricks.v1+cell": {
     "cellMetadata": {},
     "inputWidgets": {},
     "nuid": "f5afd09f-bd17-4c7e-9419-1059078e6c07",
     "showTitle": false,
     "title": ""
    },
    "id": "p7J0V4kSfXkd"
   },
   "outputs": [],
   "source": [
    "# Agora, indexemos a matriz\n"
   ]
  },
  {
   "cell_type": "markdown",
   "metadata": {
    "application/vnd.databricks.v1+cell": {
     "cellMetadata": {},
     "inputWidgets": {},
     "nuid": "066a3a44-b302-47e9-b988-b8be1b10387e",
     "showTitle": false,
     "title": ""
    },
    "id": "wcbYaszYfaWF"
   },
   "source": [
    "___\n",
    "___\n",
    "___"
   ]
  },
  {
   "cell_type": "markdown",
   "metadata": {
    "application/vnd.databricks.v1+cell": {
     "cellMetadata": {},
     "inputWidgets": {},
     "nuid": "02f0a2c1-6f54-41aa-a49d-cd16bf18f7b2",
     "showTitle": false,
     "title": ""
    },
    "id": "guerv684fdDw"
   },
   "source": [
    "## 3. **Exercícios:**\n",
    "\n",
    "___"
   ]
  },
  {
   "cell_type": "markdown",
   "metadata": {
    "application/vnd.databricks.v1+cell": {
     "cellMetadata": {},
     "inputWidgets": {},
     "nuid": "65894c1b-63eb-4569-a5aa-6e3470ebd092",
     "showTitle": false,
     "title": ""
    },
    "id": "8303Y2uFf5Fu"
   },
   "source": [
    "**1.** Em uma **análise de regressão**, usualmente estamos interessados em descrever o comportamento em um conjunto de dados por meio de uma **função** que descreva, o tanto quanto possível, nosson conjunto de dados.\n",
    "\n",
    "Por exemplo, no gráfico abaixo, os pontos vermelhos relacionam as medidas das duas variáveis sendo avaliadas (nos eixos x e y); e a linha azul aproxima a relação entre elas por uma função linear."
   ]
  },
  {
   "cell_type": "markdown",
   "metadata": {
    "application/vnd.databricks.v1+cell": {
     "cellMetadata": {},
     "inputWidgets": {},
     "nuid": "7e28d7d6-08b0-4f0c-b87f-caaf787ed3fd",
     "showTitle": false,
     "title": ""
    },
    "id": "eBWHRDA8f7DV"
   },
   "source": [
    "![Normdist_regression.png](https://miro.medium.com/v2/resize:fit:1280/1*eeIvlwkMNG1wSmj3FR6M2g.gif)"
   ]
  },
  {
   "cell_type": "markdown",
   "metadata": {
    "application/vnd.databricks.v1+cell": {
     "cellMetadata": {},
     "inputWidgets": {},
     "nuid": "d344dd9f-6435-4a36-be56-452d2a0447ed",
     "showTitle": false,
     "title": ""
    },
    "id": "_mLT4S_8gfDv"
   },
   "source": [
    "É possível ver que nem todos os pontos obedecem exatamente à relação ditada pela reta (isto é, há pontos que não estão exatamente \"sobre a reta\"; mas, sim, ligeraimente acima, ou abaixo, dela).\n",
    "\n",
    "Isto, contudo, é esperado em um modelo de regressão, por inúmeras fontes de incerteza associadas às medições."
   ]
  },
  {
   "cell_type": "markdown",
   "metadata": {
    "application/vnd.databricks.v1+cell": {
     "cellMetadata": {},
     "inputWidgets": {},
     "nuid": "33e165d6-203d-45cc-a3fb-c440ed644a49",
     "showTitle": false,
     "title": ""
    },
    "id": "r-5DhMyegihF"
   },
   "source": [
    "Uma das métricas que utilizamos para avaliar a qualidade de uma regressão é o **root mean squared error (RMSE)**, que mensura a diferença total entre cada predição da regressão ($y_{prediction}$) com o valor real de cada i-ésima medida ($y_{i}$). O RMSE pode ser definido como:"
   ]
  },
  {
   "cell_type": "markdown",
   "metadata": {
    "application/vnd.databricks.v1+cell": {
     "cellMetadata": {},
     "inputWidgets": {},
     "nuid": "7850fab2-48a6-42d4-ba9e-a9f2227c0d63",
     "showTitle": false,
     "title": ""
    },
    "id": "AXPGj7SSgkiG"
   },
   "source": [
    "$RMSE = \\sqrt{\\frac{1}{n}\\sum_{i=1}^{n}(y_{prediction} - y_{i})^2} $."
   ]
  },
  {
   "cell_type": "markdown",
   "metadata": {
    "application/vnd.databricks.v1+cell": {
     "cellMetadata": {},
     "inputWidgets": {},
     "nuid": "995b9f08-c6a4-4aab-9dd9-9ca794475341",
     "showTitle": false,
     "title": ""
    },
    "id": "V3apcCiYhMyH"
   },
   "source": [
    "Escreva uma função que calcule o RMSE recebendo, como entrada, os vetores $y_{prediction}$ e $y_{i}$. Por exemplo, digamos que sua função se chame *calculate_rmse*, ela deve operar da seguinte forma:"
   ]
  },
  {
   "cell_type": "code",
   "execution_count": 0,
   "metadata": {
    "application/vnd.databricks.v1+cell": {
     "cellMetadata": {},
     "inputWidgets": {},
     "nuid": "107a86ff-bc84-426b-8f32-9fc18bf05655",
     "showTitle": false,
     "title": ""
    },
    "id": "Xfdaw4ILfaKG"
   },
   "outputs": [],
   "source": [
    "# dados dois arrays quaisquer de mesmo tamanho, a função deve retornar o RMSE\n",
    "y_prediction = np.array([1,2,3])\n",
    "y_i = np.array([0,0,3])\n",
    "calculate_rmse(y_prediction,y_i)"
   ]
  },
  {
   "cell_type": "markdown",
   "metadata": {
    "application/vnd.databricks.v1+cell": {
     "cellMetadata": {},
     "inputWidgets": {},
     "nuid": "cda76795-dedd-4697-804c-bbe40e5cc123",
     "showTitle": false,
     "title": ""
    },
    "id": "CK6Fzs5WhZcP"
   },
   "source": [
    "**2.** Em estatística, um **outlier** é um valor que destoa consideravelmente da distribuição à qual está associado. Um dos critérios para idenficar outliers consiste em encontrar a **distância interquantil** (IQR), ou seja, a diferença entre o terceiro e o primeiro quantil da distribuição, e tomar como outliers todos os pontos abaixo, ou acima, de 1.5*IQR."
   ]
  },
  {
   "cell_type": "markdown",
   "metadata": {
    "application/vnd.databricks.v1+cell": {
     "cellMetadata": {},
     "inputWidgets": {},
     "nuid": "cc214fca-cf46-4f5c-9932-4c9e327b1f5e",
     "showTitle": false,
     "title": ""
    },
    "id": "sIXKVXQXhb_O"
   },
   "source": [
    "<img src = \"https://blog.curso-r.com/images/posts/banner/outlier.webp\" />"
   ]
  },
  {
   "cell_type": "markdown",
   "metadata": {
    "application/vnd.databricks.v1+cell": {
     "cellMetadata": {},
     "inputWidgets": {},
     "nuid": "e14a9689-509d-4d6d-ba60-30f3092d338a",
     "showTitle": false,
     "title": ""
    },
    "id": "EIbYf2Vthdp-"
   },
   "source": [
    "Escreva uma função que, dada uma matriz de dados de entrada de dimensões $N_{observações} \\times N_{features}$ retorne três requisitos:\n",
    "- uma matriz booleana indicando a existência de outliers nos dados de entrada;\n",
    "- a quantidade de outliers\n",
    "- quem são os outliers (os valores)."
   ]
  },
  {
   "cell_type": "markdown",
   "metadata": {
    "application/vnd.databricks.v1+cell": {
     "cellMetadata": {},
     "inputWidgets": {},
     "nuid": "ba698099-f3d0-4a23-a2c8-fa5e93f113a9",
     "showTitle": false,
     "title": ""
    },
    "id": "bLNP3ENlhdi4"
   },
   "source": [
    "**Algumas definições:**\n",
    "- um *quantil* divide a distribuição, após ordenados os pontos, segundo algum ponto de corte;\n",
    "- o **primeiro quantil** é o ponto para o qual 25 % dos valores da distribuição estão abaixo dele;\n",
    "- o **terceiro quantil** é o ponto para o qual 75 % dos valores da distribuição estão abaixo dele.\n",
    "\n",
    "Pode ser útil consultar a função **numpy.quantile**."
   ]
  },
  {
   "cell_type": "code",
   "execution_count": 0,
   "metadata": {
    "application/vnd.databricks.v1+cell": {
     "cellMetadata": {},
     "inputWidgets": {},
     "nuid": "df0822c0-86ca-451a-a49d-035601e8b36e",
     "showTitle": false,
     "title": ""
    },
    "id": "aF8-a-jyfYXF"
   },
   "outputs": [],
   "source": []
  }
 ],
 "metadata": {
  "application/vnd.databricks.v1+notebook": {
   "dashboards": [],
   "language": "python",
   "notebookMetadata": {
    "pythonIndentUnit": 4
   },
   "notebookName": "Aula_03_Numpy_(Parte_2)",
   "widgets": {}
  },
  "colab": {
   "provenance": []
  },
  "kernelspec": {
   "display_name": "Python 3",
   "name": "python3"
  },
  "nbformat": 4,
  "nbformat_minor": 0
}
