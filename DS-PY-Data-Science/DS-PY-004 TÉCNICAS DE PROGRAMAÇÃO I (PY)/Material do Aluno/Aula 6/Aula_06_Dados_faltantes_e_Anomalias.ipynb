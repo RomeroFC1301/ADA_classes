{
  "cells": [
    {
      "cell_type": "markdown",
      "metadata": {
        "id": "Am1Gz3iQlFS6"
      },
      "source": [
        "# Aula 6 - Como limpar dados em Data Frames?\n",
        "\n",
        "Nesta aula vamos continuar aprendendo a usar o [pandas](https://pandas.pydata.org/) para:\n",
        "- Identificação de valores missings\n",
        "- Identificação de valores atípicos\n",
        "- Deletar informações de uma tabela"
      ]
    },
    {
      "cell_type": "markdown",
      "metadata": {
        "id": "U6QTn50DlVIn"
      },
      "source": [
        "___\n",
        "**PROBLEMA 1:**\n",
        "\n",
        "Imagine que você está trabalhando com um conjunto de dados de vendas de seguros de saúde, porém, ele contém valores faltantes em várias colunas.\n",
        "\n",
        "Seu objetivo é identificar e lidar com esses valores ausentes para realizar uma análise correta.\n",
        "\n",
        "O que você deve fazer?"
      ]
    },
    {
      "cell_type": "markdown",
      "metadata": {
        "id": "HzYxpwcOlwBm"
      },
      "source": [
        "____\n",
        "\n",
        "**PROBLEMA 2:**\n",
        "\n",
        "Ao analisar dados de uma pesquisa de valores de plano de saúde, é necessário identificar os valores que fogem muito da média e podem ser considerados valores atípicos.\n",
        "\n",
        "Como realizamos essa análise?"
      ]
    },
    {
      "cell_type": "markdown",
      "metadata": {
        "id": "jo19PMFBpeyC"
      },
      "source": [
        "____\n",
        "\n",
        "Para começarmos, vamos abrir o conjunto de dados na pasta *datasets* com o título **medical_insurance**.\n",
        "\n",
        "Esse *dataset* é um conjunto modificado de um famoso *dataset* disponível no link [medical insurance](https://www.kaggle.com/datasets/mirichoi0218/insurance), no site do Kaggle."
      ]
    },
    {
      "cell_type": "code",
      "execution_count": null,
      "metadata": {
        "id": "Gq06d9AEroT8"
      },
      "outputs": [],
      "source": [
        "import pandas as pd"
      ]
    },
    {
      "cell_type": "code",
      "execution_count": null,
      "metadata": {
        "id": "lu5ceDlVrS-S"
      },
      "outputs": [],
      "source": [
        "df_insurance = pd.read_csv('../datasets/Medical_insurance.csv')"
      ]
    },
    {
      "cell_type": "code",
      "execution_count": null,
      "metadata": {
        "colab": {
          "base_uri": "https://localhost:8080/"
        },
        "id": "b-oJFUbgr7jO",
        "outputId": "35d62ec6-32ca-42db-c89c-0367e6e76289"
      },
      "outputs": [],
      "source": [
        "#Ver as informações\n"
      ]
    },
    {
      "cell_type": "code",
      "execution_count": null,
      "metadata": {
        "colab": {
          "base_uri": "https://localhost:8080/"
        },
        "id": "XIAgon9QsClV",
        "outputId": "84858810-6b15-4574-ce52-e882171e5f82"
      },
      "outputs": [],
      "source": [
        "#Ver as idades\n"
      ]
    },
    {
      "cell_type": "code",
      "execution_count": null,
      "metadata": {
        "id": "WLCYAIPdsOSe"
      },
      "outputs": [],
      "source": [
        "import numpy as np"
      ]
    },
    {
      "cell_type": "code",
      "execution_count": null,
      "metadata": {
        "id": "jjGT-3UwspcW"
      },
      "outputs": [],
      "source": [
        "# Função para substituir 60 por NaN\n"
      ]
    },
    {
      "cell_type": "code",
      "execution_count": null,
      "metadata": {
        "id": "Spp4LWp2sAUj"
      },
      "outputs": [],
      "source": [
        "#Trocar as idades de 60 por Nan\n"
      ]
    },
    {
      "cell_type": "code",
      "execution_count": null,
      "metadata": {
        "colab": {
          "base_uri": "https://localhost:8080/"
        },
        "id": "Lx0iughDsT7c",
        "outputId": "88e58fe1-33c7-4d18-9d5c-85c1359da9d5"
      },
      "outputs": [],
      "source": []
    },
    {
      "cell_type": "markdown",
      "metadata": {
        "id": "ue4Sq9rgl7PU"
      },
      "source": [
        "____\n",
        "\n",
        "## 1. O que são valores *missings* e como tratá-los?\n",
        "\n",
        "Valores faltantes, também conhecidos como \"missing values\" ou \"NaN\" (Not a Number), referem-se à ausência de dados em um conjunto de dados.\n",
        "\n",
        "\n",
        "Eles podem ocorrer por diversas razões, como erros na coleta de dados, falhas nos sistemas de armazenamento, problemas de integração entre fontes de dados ou simplesmente porque a informação não estava disponível no momento da coleta."
      ]
    },
    {
      "cell_type": "markdown",
      "metadata": {
        "id": "AWxL7rNLo3aG"
      },
      "source": [
        "### 1.1. Como identificamos os valores ausentes?\n",
        "\n",
        "Para identificar um valor faltante, podemos usar alguns métodos de pandas, como por exemplo: ```isna(), notna(), isnull(), notnull()```"
      ]
    },
    {
      "cell_type": "markdown",
      "metadata": {
        "id": "2sLHeM-Mt6C1"
      },
      "source": [
        "As funções **isnull()** e **isna()** verifica se há valores faltantes em um dataframe e retorna um dataframe com booleanos do mesmo tamanho que o original: True se for um valor faltante e False, caso contrário."
      ]
    },
    {
      "cell_type": "code",
      "execution_count": null,
      "metadata": {
        "colab": {
          "base_uri": "https://localhost:8080/",
          "height": 424
        },
        "id": "WlNWx64ZtjFz",
        "outputId": "7120c136-84f1-4009-f648-65647af09ec4"
      },
      "outputs": [],
      "source": [
        "#Aplicando a função isnull\n"
      ]
    },
    {
      "cell_type": "code",
      "execution_count": null,
      "metadata": {
        "colab": {
          "base_uri": "https://localhost:8080/",
          "height": 424
        },
        "id": "w3pem94buP3N",
        "outputId": "cdbfb446-9ff3-46fc-e934-31cea6c5b0e3"
      },
      "outputs": [],
      "source": [
        "#Aplicando a função isna\n"
      ]
    },
    {
      "cell_type": "markdown",
      "metadata": {
        "id": "w77C73uNuUA0"
      },
      "source": [
        "Podemos ainda aplicá-las para uma coluna específica (age):"
      ]
    },
    {
      "cell_type": "code",
      "execution_count": null,
      "metadata": {
        "colab": {
          "base_uri": "https://localhost:8080/"
        },
        "id": "qoUfRimZuYk7",
        "outputId": "de2fef0d-8a37-45d8-cde1-24e4af229444"
      },
      "outputs": [],
      "source": []
    },
    {
      "cell_type": "code",
      "execution_count": null,
      "metadata": {
        "colab": {
          "base_uri": "https://localhost:8080/"
        },
        "id": "X2Jtq7yuuboM",
        "outputId": "89db2a9e-5e7a-412c-ccc6-d19683215c16"
      },
      "outputs": [],
      "source": []
    },
    {
      "cell_type": "markdown",
      "metadata": {
        "id": "D5R3WpbRtehc"
      },
      "source": [
        "#### 1.2. Como lidamos com valores faltantes?\n",
        "\n",
        "Existem várias estratégias para lidar com valores faltantes, e a escolha de método pode depender do contexto dos dados e da quantidade de valores ausentes:\n",
        "\n",
        "a. Remoção\n",
        "\n",
        "b. Preenchimento com valores estatísticos\n",
        "\n",
        "c. Imputação avançada"
      ]
    },
    {
      "cell_type": "markdown",
      "metadata": {
        "id": "_Wdo7shZpLes"
      },
      "source": [
        "#### Remoção de valores faltantes\n",
        "\n",
        "Uma abordagem simples é eliminar colunas ou linhas que contenham valores faltantes.\n",
        "\n",
        "Para isso, vamos usar o método ```.dropna()``` do pandas.\n",
        "\n",
        "**Obs.:** Pode levar a perda de informação relevante."
      ]
    },
    {
      "cell_type": "markdown",
      "metadata": {
        "id": "M_-XKvqTvDi1"
      },
      "source": [
        "Basicamente, neste método temos os seguintes argumentos:\n",
        "* axis: determina se removemos linhas ('axis' = 0) ou colunas ('axis'=1). O **padrão** é linhas ('axis'=0);\n",
        "* how: Condição para remoção: 'how'='any' - padrão - (remove linhas ou colunas com pelo menos 1 *NaN*) e 'how'= 'all' (remove linhas ou colunas onde todos os valores são *NaN*;\n",
        "* thresh: Especifica o número mínimo de valores não nulos necessários para manter a linha ou coluna.\n",
        "* subset: Permite especificar uma lista de colunas para considerar na busca por valores faltantes.\n",
        "* inplace: Determina se a modificação deve ser feita no DataFrame original. Se True, altera o DataFrame existente; se False (padrão), retorna um novo DataFrame sem alterar o original."
      ]
    },
    {
      "cell_type": "code",
      "execution_count": null,
      "metadata": {
        "colab": {
          "base_uri": "https://localhost:8080/",
          "height": 424
        },
        "id": "MvU30b3Nkju3",
        "outputId": "21f24624-1e61-4c9a-e4c3-fc2ef1771ab8"
      },
      "outputs": [],
      "source": [
        "#Vamos remover as linhas com dados faltantes\n"
      ]
    },
    {
      "cell_type": "markdown",
      "metadata": {
        "id": "lNMMl8jHwDuc"
      },
      "source": [
        "**Obs.:** Para mexer diretamente no DataFrame, precisamos alterar o **inplace** para ```True```."
      ]
    },
    {
      "cell_type": "markdown",
      "metadata": {
        "id": "7OZ0tkw9wO5U"
      },
      "source": [
        "#### Preenchimento com valores estatísticos:\n",
        "\n",
        "Valores faltantes podem ser preenchidos com estatísticas resumidas, como média, mediana ou moda dos dados disponíveis na mesma coluna.\n",
        "\n",
        "Isso pode ser feito usando o método ```.fillna()``` em Pandas.\n",
        "\n",
        "o método ```fillna()``` em Pandas é usado para preencher valores faltantes (NaN) em um DataFrame com um valor específico ou estratégia escolhida."
      ]
    },
    {
      "cell_type": "markdown",
      "metadata": {
        "id": "Wy8G5YN2xORM"
      },
      "source": [
        "Sua sintaxe é:\n",
        "\n",
        "```DataFrame.fillna(value=None, method=None, axis=None, inplace=False, limit=None, downcast=None)```"
      ]
    },
    {
      "cell_type": "markdown",
      "metadata": {
        "id": "bf9ZiPR1xU4s"
      },
      "source": [
        "* value: Valor escalar, dicionário, série ou DataFrame usado para preencher os valores faltantes. Pode ser um valor único, um dicionário com substituições específicas por coluna, ou uma série/DataFrame correspondente ao índice.\n",
        "* method: Método para preencher valores faltantes. Alguns métodos disponíveis são:\n",
        "  * 'ffill' ou 'pad': Preenche os valores faltantes com o último valor válido conhecido para frente.\n",
        "  * 'bfill' ou 'backfill': Preenche os valores faltantes com o próximo valor válido conhecido para trás.\n",
        "* axis: Determina se a operação deve ser aplicada ao longo das colunas (axis=1) ou linhas (axis=0).\n",
        "* inplace: Se True, modifica o DataFrame original; se False (padrão), retorna um novo DataFrame com os valores preenchidos.\n",
        "* limit: Especifica o número máximo de valores preenchidos consecutivos ao usar method='ffill' ou method='bfill'.\n",
        "* downcast: Permite reduzir a memória usada para tipos de dados numéricos ao preencher valores (exemplo: downcasting para tipos menores, como float para int)."
      ]
    },
    {
      "cell_type": "code",
      "execution_count": null,
      "metadata": {
        "colab": {
          "base_uri": "https://localhost:8080/"
        },
        "id": "EZSuCyxIxIBk",
        "outputId": "1878a789-72fb-4f16-f3de-1d7b302a9789"
      },
      "outputs": [],
      "source": [
        "#Vamos substituir os dados faltantes pela idade que nós retiramos (60)\n"
      ]
    },
    {
      "cell_type": "code",
      "execution_count": null,
      "metadata": {
        "colab": {
          "base_uri": "https://localhost:8080/"
        },
        "id": "RkQSL_hAxp_L",
        "outputId": "1e4bcc0f-276c-4461-ec39-475cb6c30ba7"
      },
      "outputs": [],
      "source": []
    },
    {
      "cell_type": "markdown",
      "metadata": {
        "id": "qS36mw4AxvBj"
      },
      "source": [
        "Se eu quiser saber a quantidade?"
      ]
    },
    {
      "cell_type": "code",
      "execution_count": null,
      "metadata": {
        "colab": {
          "base_uri": "https://localhost:8080/"
        },
        "id": "svT_HblbwCOD",
        "outputId": "10ce8755-5b1e-4652-e54a-4a8db9e3cdba"
      },
      "outputs": [],
      "source": []
    },
    {
      "cell_type": "markdown",
      "metadata": {
        "id": "-muVaTB7xykc"
      },
      "source": [
        "E o percentual?"
      ]
    },
    {
      "cell_type": "code",
      "execution_count": null,
      "metadata": {
        "colab": {
          "base_uri": "https://localhost:8080/"
        },
        "id": "vOhFLP1Pxx6z",
        "outputId": "76221e33-dacf-430f-f65a-e123af9f6a53"
      },
      "outputs": [],
      "source": []
    },
    {
      "cell_type": "code",
      "execution_count": null,
      "metadata": {
        "colab": {
          "base_uri": "https://localhost:8080/"
        },
        "id": "LSNyoenux3oa",
        "outputId": "6da7699b-7d63-4fc2-a7ce-47924e8be0c2"
      },
      "outputs": [],
      "source": [
        "# Preenchendo os valores faltantes com o último valor válido conhecido (forward fill)\n"
      ]
    },
    {
      "cell_type": "markdown",
      "metadata": {
        "id": "NgppR02qyJAM"
      },
      "source": [
        "E para preencher com a média ou outra medida estatística?"
      ]
    },
    {
      "cell_type": "code",
      "execution_count": null,
      "metadata": {
        "colab": {
          "base_uri": "https://localhost:8080/"
        },
        "id": "WcQ60YbayDaS",
        "outputId": "dc99dd72-1d64-4f1d-d075-bda0255afe28"
      },
      "outputs": [],
      "source": []
    },
    {
      "cell_type": "code",
      "execution_count": null,
      "metadata": {
        "colab": {
          "base_uri": "https://localhost:8080/"
        },
        "id": "njSW0tUeySZa",
        "outputId": "17d3e9b5-8d41-4f6e-81dd-732de739a99d"
      },
      "outputs": [],
      "source": []
    },
    {
      "cell_type": "code",
      "execution_count": null,
      "metadata": {
        "id": "C68DTKEcUIei"
      },
      "outputs": [],
      "source": [
        "#Preenchendo com o 60\n"
      ]
    },
    {
      "cell_type": "code",
      "execution_count": null,
      "metadata": {
        "colab": {
          "base_uri": "https://localhost:8080/"
        },
        "id": "j_LM-H4gUUTd",
        "outputId": "840c6e2e-85f0-446a-af8a-4e3ce6d64bb1"
      },
      "outputs": [],
      "source": []
    },
    {
      "cell_type": "markdown",
      "metadata": {
        "id": "WVsJTS74yzME"
      },
      "source": [
        "____\n",
        "\n",
        "## 2. Como identificar valores atípicos?\n",
        "\n",
        "Valores atípicos ou *Outlier* são dados diferentes dos outros pontos que podem causar problemas em procedimentos estatísticos (mudar uma média).\n",
        "\n",
        "**Exemplo:** Mudar uma idade e ver a média."
      ]
    },
    {
      "cell_type": "code",
      "execution_count": null,
      "metadata": {
        "colab": {
          "base_uri": "https://localhost:8080/"
        },
        "id": "CKReEh7CyWta",
        "outputId": "09d691a7-237b-452b-f92a-1bc0bf981f31"
      },
      "outputs": [],
      "source": [
        "#Imagine o seguinte array\n"
      ]
    },
    {
      "cell_type": "code",
      "execution_count": null,
      "metadata": {
        "colab": {
          "base_uri": "https://localhost:8080/"
        },
        "id": "ndoBCsQezdG0",
        "outputId": "9e341cac-5475-4a90-b21c-9927e24cf3ea"
      },
      "outputs": [],
      "source": [
        "#Imagine o seguinte array\n"
      ]
    },
    {
      "cell_type": "markdown",
      "metadata": {
        "id": "mxBNZF71zUXz"
      },
      "source": [
        "* Solução 1: Ordenar os dados para encontrar outliers;\n",
        "* Solução 2: Utilizar gráficos: dispersão, boxplot;\n",
        "* Solução 3: Utilizar IQR para encontrar;\n",
        "* Solução 4: Utilizar o Z-score."
      ]
    },
    {
      "cell_type": "markdown",
      "metadata": {
        "id": "t8vD9GBt1enk"
      },
      "source": [
        "#Com o boxplot\n",
        "\n"
      ]
    },
    {
      "cell_type": "code",
      "execution_count": null,
      "metadata": {
        "id": "YyNL7TU510cr"
      },
      "outputs": [],
      "source": [
        "import matplotlib.pyplot as plt"
      ]
    },
    {
      "cell_type": "code",
      "execution_count": null,
      "metadata": {
        "colab": {
          "base_uri": "https://localhost:8080/",
          "height": 472
        },
        "id": "r0etUsyczUwB",
        "outputId": "3fe020e0-4a8a-443e-9735-645fd111f1dd"
      },
      "outputs": [],
      "source": []
    },
    {
      "cell_type": "code",
      "execution_count": null,
      "metadata": {
        "colab": {
          "base_uri": "https://localhost:8080/",
          "height": 472
        },
        "id": "RcXPm71013Mq",
        "outputId": "010c8606-accf-473a-8d93-f02e19cb66a9"
      },
      "outputs": [],
      "source": [
        "#Uma coluna específica\n",
        "\n",
        "\n",
        "# Mostrando o boxplot\n"
      ]
    },
    {
      "cell_type": "code",
      "execution_count": null,
      "metadata": {
        "colab": {
          "base_uri": "https://localhost:8080/",
          "height": 424
        },
        "id": "zzs0TwqD2TrR",
        "outputId": "eee6312c-32c7-450b-d8bb-869f6e51bbb7"
      },
      "outputs": [],
      "source": []
    },
    {
      "cell_type": "markdown",
      "metadata": {
        "id": "faFhbnHuU0o-"
      },
      "source": [
        "## Deletar informações de um DataFrame\n",
        "\n",
        "Ao trabalhar com dados de uma base de clientes, pode ser necessário remover informações de clientes que não estão mais ativos na empresa.\n",
        "\n",
        "Vimos como fazemos para remover dados faltantes. Mas, se por acaso, tivermos dados duplicados no dataset. O que fazer?"
      ]
    },
    {
      "cell_type": "markdown",
      "metadata": {
        "id": "w5xZ-WqQWEPQ"
      },
      "source": [
        "### **Método duplicated():**\n",
        "\n",
        "o método ```duplicated()``` em Pandas é utilizado para identificar linhas duplicadas em um DataFrame.\n",
        "\n",
        "Ele retorna uma série booleana que indica se cada linha é uma duplicata (ou seja, se aparece em uma linha anterior)."
      ]
    },
    {
      "cell_type": "markdown",
      "metadata": {
        "id": "xUKfoFc5WTFF"
      },
      "source": [
        "**Sintaxe:**\n",
        "\n",
        "```DataFrame.duplicated(subset=None, keep='first')```\n",
        "\n",
        "* subset (opcional): Permite especificar uma lista de colunas para verificar duplicatas apenas nessas colunas. Se não for fornecido, a verificação será em todas as colunas.\n",
        "\n",
        "* keep (opcional): Define como marcar as duplicatas. Pode assumir três valores:\n",
        "  * 'first' (padrão): Marca como True todas as ocorrências duplicadas, exceto a primeira.\n",
        "  * 'last': Marca como True todas as ocorrências duplicadas, exceto a última False: Marca todas as ocorrências duplicadas como True."
      ]
    },
    {
      "cell_type": "code",
      "execution_count": null,
      "metadata": {
        "colab": {
          "base_uri": "https://localhost:8080/"
        },
        "id": "0_3hdxK4Ut_3",
        "outputId": "da81ef12-95bf-4928-bb60-4ad9aa4a12fe"
      },
      "outputs": [],
      "source": []
    },
    {
      "cell_type": "markdown",
      "metadata": {
        "id": "kY8BHsP2WsXc"
      },
      "source": [
        "#Como ver isso como um DF?"
      ]
    },
    {
      "cell_type": "code",
      "execution_count": null,
      "metadata": {
        "colab": {
          "base_uri": "https://localhost:8080/",
          "height": 424
        },
        "id": "zeptacyaWhKA",
        "outputId": "672f20ad-f380-4321-a499-dcea89ec59a5"
      },
      "outputs": [],
      "source": []
    },
    {
      "cell_type": "markdown",
      "metadata": {
        "id": "RTD5ipCjXAPX"
      },
      "source": [
        "Como deletar os dados duplicados?"
      ]
    },
    {
      "cell_type": "code",
      "execution_count": null,
      "metadata": {
        "colab": {
          "base_uri": "https://localhost:8080/",
          "height": 424
        },
        "id": "uhnp6FkXWwub",
        "outputId": "05d18267-e71d-4d68-a7e3-8a2d98cfa99c"
      },
      "outputs": [],
      "source": []
    },
    {
      "cell_type": "code",
      "execution_count": null,
      "metadata": {
        "colab": {
          "base_uri": "https://localhost:8080/",
          "height": 424
        },
        "id": "IQwzKArcXNbj",
        "outputId": "336b7c1c-acd7-4e43-c96b-e502483bae4b"
      },
      "outputs": [],
      "source": []
    }
  ],
  "metadata": {
    "colab": {
      "provenance": []
    },
    "kernelspec": {
      "display_name": "Python 3",
      "name": "python3"
    },
    "language_info": {
      "codemirror_mode": {
        "name": "ipython",
        "version": 3
      },
      "file_extension": ".py",
      "mimetype": "text/x-python",
      "name": "python",
      "nbconvert_exporter": "python",
      "pygments_lexer": "ipython3",
      "version": "3.11.4"
    }
  },
  "nbformat": 4,
  "nbformat_minor": 0
}
