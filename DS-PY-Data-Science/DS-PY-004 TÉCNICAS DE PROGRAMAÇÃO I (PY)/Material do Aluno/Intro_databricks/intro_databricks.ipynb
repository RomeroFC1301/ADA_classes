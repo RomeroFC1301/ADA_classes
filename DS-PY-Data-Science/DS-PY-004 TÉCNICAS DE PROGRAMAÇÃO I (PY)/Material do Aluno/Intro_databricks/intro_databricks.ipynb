{
 "cells": [
  {
   "cell_type": "markdown",
   "metadata": {},
   "source": [
    "# Databricks"
   ]
  },
  {
   "cell_type": "markdown",
   "metadata": {},
   "source": [
    "# Quickstart"
   ]
  },
  {
   "cell_type": "markdown",
   "metadata": {},
   "source": [
    "**Como começar rapidamente, tal como no Google colab?**\n",
    "\n",
    "Primeiramente, precisamos criar um notebook:\n",
    "\n",
    "<br>&ensp;<img src=\"./img/create_notebook.png\" alt=\"create_notebook\" width=\"800\"/>"
   ]
  },
  {
   "cell_type": "markdown",
   "metadata": {},
   "source": [
    "Assim, já podemos começar a trabalhar no notebook:\n",
    "\n",
    "<br>&ensp;<img src=\"./img/start_notebook1.png\" alt=\"start_notebook1\" width=\"800\"/>"
   ]
  },
  {
   "cell_type": "markdown",
   "metadata": {},
   "source": [
    "E pronto! Parabéns pelo seu primeiro notebook! :)\n",
    "\n",
    "As alterações são salvas automaticamente. Mais de uma pessoa pode trabalhar no mesmo notebook, desde que você permita o acesso a outros usuários no teu notebook."
   ]
  },
  {
   "cell_type": "markdown",
   "metadata": {},
   "source": [
    "## Como acessar o notebook criado?"
   ]
  },
  {
   "cell_type": "markdown",
   "metadata": {},
   "source": [
    "<br>&ensp;<img src=\"./img/select_notebook_created1.png\" alt=\"select_notebook_created1\" width=\"800\"/>"
   ]
  },
  {
   "cell_type": "markdown",
   "metadata": {},
   "source": [
    "## Como exportar notebook criado?"
   ]
  },
  {
   "cell_type": "markdown",
   "metadata": {},
   "source": [
    "<br>&ensp;<img src=\"./img/export_notebook.png\" alt=\"export_notebook\" width=\"300\"/>"
   ]
  },
  {
   "cell_type": "markdown",
   "metadata": {
    "vscode": {
     "languageId": "plaintext"
    }
   },
   "source": [
    "# Como trabalhar e compartilhar seus projetos aplicando Best Practices?"
   ]
  },
  {
   "cell_type": "markdown",
   "metadata": {},
   "source": [
    "\"Best practices\" são as melhores práticas consideradas em todo a vida do projeto.\n",
    "\n",
    "Da mesma forma que aprendemos sobre repositórios, também vamos iniciar nosso _repo_ no databricks\n",
    "\n",
    "fonte: https://docs.databricks.com/en/repos/git-operations-with-repos.html"
   ]
  },
  {
   "cell_type": "markdown",
   "metadata": {
    "vscode": {
     "languageId": "plaintext"
    }
   },
   "source": [
    "## Criar repo databricks + github"
   ]
  },
  {
   "cell_type": "markdown",
   "metadata": {},
   "source": [
    "O databricks permite criar um repo do zero, porém, para nossa aula, vamos criar um repo no github, linká-lo com o databricks, mas continuar nossos trabalhos já na plataforma do databricks."
   ]
  },
  {
   "cell_type": "markdown",
   "metadata": {},
   "source": [
    "________\n",
    "# 2) Criar repositorio (repo) no github (servidor remoto)\n",
    "\n",
    "## Criar uma conta\n",
    "Para criarmos uma conta no github, nosso servidor remoto de repositórios do git, siga os passos:\n",
    "1. Entre no site https://www.github.com > `Sign up`\n",
    "2. Siga os passos escritos (use um tradutor se necessário)\n",
    "\n",
    "OBS: Utilize um email pessoal para garantir que receberá o email de confirmação da ativação de conta.\n",
    "\n",
    "## Criar um repo\n",
    "Para criar nosso primeiro repositório, basta seguir os passos:\n",
    "Na janela inicial **após o login**, na aba esquerda, clique em `new`\n",
    "\n",
    "<br>&ensp;<img src=\"../Aula 1/img/github_create_repo.png\" alt=\"create repo in github\" width=\"800\"/>\n",
    "\n",
    "Na janela abaixo, digite o nome do repositorio que deseja, uma descrição do teu projeto, escolher se queremos que seja um repositório **público** ou privado, e tica o box `Add a README file`\n",
    "\n",
    "<br>&ensp;<img src=\"../Aula 1/img/github_create_repo_2.png\" alt=\"create repo in github\" width=\"500\"/>\n",
    "\n",
    "## Etapas para autenticação\n",
    "No databricks, a própria plataforma já conecta nossa conta, mas também é possível utilizar Personal Tokens de acesso, que são bem comuns em APIs (ex: Utilizar API do chatGPT OpenAI)"
   ]
  },
  {
   "cell_type": "markdown",
   "metadata": {},
   "source": [
    "## Clonar repo do github no databricks"
   ]
  },
  {
   "cell_type": "markdown",
   "metadata": {},
   "source": [
    "## Atualizar repo"
   ]
  },
  {
   "cell_type": "code",
   "execution_count": null,
   "metadata": {
    "vscode": {
     "languageId": "plaintext"
    }
   },
   "outputs": [],
   "source": [
    "## Commitar e subir mudanças para o repositório"
   ]
  }
 ],
 "metadata": {
  "language_info": {
   "name": "python"
  }
 },
 "nbformat": 4,
 "nbformat_minor": 2
}
