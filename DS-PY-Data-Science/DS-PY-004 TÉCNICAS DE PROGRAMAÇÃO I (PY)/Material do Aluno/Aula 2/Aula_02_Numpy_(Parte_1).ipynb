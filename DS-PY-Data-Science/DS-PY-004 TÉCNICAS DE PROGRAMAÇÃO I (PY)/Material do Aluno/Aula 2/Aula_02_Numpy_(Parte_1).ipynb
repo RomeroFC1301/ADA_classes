{
  "cells": [
    {
      "cell_type": "markdown",
      "metadata": {
        "id": "RIgd-wNsselv"
      },
      "source": [
        "# Aula 02 - Numpy\n",
        "\n",
        "<img src=\"https://upload.wikimedia.org/wikipedia/commons/thumb/3/31/NumPy_logo_2020.svg/2560px-NumPy_logo_2020.svg.png\" alt=\"Alternative text\" />"
      ]
    },
    {
      "cell_type": "markdown",
      "metadata": {
        "id": "6em_OSECsmJ-"
      },
      "source": [
        "____\n",
        "\n",
        "## **Contextualização:**\n",
        "\n",
        "Imagina que você precisa estudar dados de preço plano de saúde de diferentes grupos etários ao longo de um período de tempo.\n",
        "\n",
        "Você recebeu a tarefa de analisar os valores médios das faixas etárias (infância, adolescência, juventude, terceira idade) com os seguintes dados:\n",
        "\n",
        "* Valores das médias anuais para a infância na última década (2013-2022): [80.29, 136.34, 222.57, 232.36, 223.91, 221.31, 165.1, 165.61, 82.17, 158.27]\n",
        "* Valores das médias anuais para a adolescência na última década: [211.82, 349.92, 304.53, 208.8, 262.62, 250.55, 363.44, 138.23, 173.94, 138.16]\n",
        "* Valores das médias anuais para a juventude na última década: [417.59, 565.65, 189.64, 279.04, 572.94, 199.32, 579.69, 568.64, 399.83, 511.09]\n",
        "* Valores das médias anuais para a terceira idade: [686.64, 499.16, 848.05, 390.63, 879.84, 520.33, 796.55, 500.86, 416.4, 784.88]\n",
        "\n",
        "\n"
      ]
    },
    {
      "cell_type": "code",
      "execution_count": 1,
      "metadata": {
        "id": "qQzl3pIkseCK"
      },
      "outputs": [],
      "source": [
        "#Lista da infância:\n",
        "lista_inf = [80.29, 136.34, 222.57, 232.36, 223.91, 221.31, 165.1, 165.61, 82.17, 158.27]\n",
        "#Lista da adolescência\n",
        "lista_ado = [211.82, 349.92, 304.53, 208.8, 262.62, 250.55, 363.44, 138.23, 173.94, 138.16]\n",
        "#Lista da juventude\n",
        "lista_juv = [417.59, 565.65, 189.64, 279.04, 572.94, 199.32, 579.69, 568.64, 399.83, 511.09]\n",
        "#Lista da terceira idade\n",
        "lista_ter = [686.64, 499.16, 848.05, 390.63, 879.84, 520.33, 796.55, 500.86, 416.4, 784.88]"
      ]
    },
    {
      "cell_type": "code",
      "execution_count": 3,
      "metadata": {
        "id": "VwXL257Vu0pY"
      },
      "outputs": [
        {
          "name": "stdout",
          "output_type": "stream",
          "text": [
            "A média do plano de saúde para a infância na última década é: 168.79.\n",
            "A média do plano de saúde para a adolescência na última década é: 240.2.\n",
            "A média do plano de saúde para a juventude na última década é: 428.34.\n",
            "A média do plano de saúde para a terceira idade na última década é: 632.33.\n"
          ]
        }
      ],
      "source": [
        "#Calculando a média anual para cada grupo\n",
        "media_inf = sum(lista_inf)/len(lista_inf)\n",
        "print(f'A média do plano de saúde para a infância na última década é: {round(media_inf,2)}.')\n",
        "media_ado = sum(lista_ado)/len(lista_ado)\n",
        "print(f'A média do plano de saúde para a adolescência na última década é: {round(media_ado,2)}.')\n",
        "media_juv = sum(lista_juv)/len(lista_juv)\n",
        "print(f'A média do plano de saúde para a juventude na última década é: {round(media_juv,2)}.')\n",
        "media_ter = sum(lista_ter)/len(lista_ter)\n",
        "print(f'A média do plano de saúde para a terceira idade na última década é: {round(media_ter,2)}.')"
      ]
    },
    {
      "cell_type": "markdown",
      "metadata": {
        "id": "mvRy3QGMxO8P"
      },
      "source": [
        "## O que é numpy?\n",
        "\n",
        "A biblioteca **NumPy** _(Numerical Python)_ proporciona uma forma eficiente de armazenagem e processamento de conjuntos de dados, e é utilizada como base para a construção da biblioteca Pandas, que estudaremos a seguir.\n",
        "\n",
        "O diferencial do Numpy é sua velocidade e eficiência, o que faz com que ela seja amplamente utilizada para computação científica e análise de dados.\n",
        "\n",
        "A velocidade e eficiência é possível graças à estrutura chamada **numpy array**, que é um forma eficiente de guardar e manipular matrizes, que serve como base para as tabelas que iremos utilizar."
      ]
    },
    {
      "cell_type": "markdown",
      "metadata": {
        "id": "EsClo8q0xaHy"
      },
      "source": [
        "[Guia rápido de uso da biblioteca](https://numpy.org/devdocs/user/quickstart.html)\n",
        "\n",
        "[Guia para iniciantes](https://numpy.org/devdocs/user/absolute_beginners.html)"
      ]
    },
    {
      "cell_type": "markdown",
      "metadata": {
        "id": "gV3jm0Jcxbv9"
      },
      "source": [
        "____\n",
        "\n",
        "### **Qual a diferença entre um numpy array e uma lista?**"
      ]
    },
    {
      "cell_type": "markdown",
      "metadata": {
        "id": "AvrbyPL6xf3u"
      },
      "source": [
        "**numpy array:** armazena somente um tipo de dado (homogêneo), ocupando menos memória. É pensado para maior eficiência de cálculo.\n",
        "\n",
        "**lista:** permite armazenar dados de vários tipos."
      ]
    },
    {
      "cell_type": "markdown",
      "metadata": {
        "id": "LYbjNJYrx3a1"
      },
      "source": [
        "Vamos relembrar como definimos uma lista:"
      ]
    },
    {
      "cell_type": "code",
      "execution_count": 4,
      "metadata": {
        "id": "pL_Tamo5xHp2"
      },
      "outputs": [],
      "source": [
        "lista = ['Unimed', 1108, 3.14, True, [2,4], (1,5), {'Turma Unimed':1108}]"
      ]
    },
    {
      "cell_type": "code",
      "execution_count": 5,
      "metadata": {},
      "outputs": [
        {
          "data": {
            "text/plain": [
              "['Unimed', 1108, 3.14, True, [2, 4], (1, 5), {'Turma Unimed': 1108}]"
            ]
          },
          "execution_count": 5,
          "metadata": {},
          "output_type": "execute_result"
        }
      ],
      "source": [
        "lista"
      ]
    },
    {
      "cell_type": "code",
      "execution_count": 6,
      "metadata": {
        "id": "mP5wWW6sx69K"
      },
      "outputs": [],
      "source": [
        "#Como adicionamos valores à lista\n",
        "lista.append({'Professores':['Allan','Romero']})"
      ]
    },
    {
      "cell_type": "code",
      "execution_count": 7,
      "metadata": {},
      "outputs": [
        {
          "data": {
            "text/plain": [
              "['Unimed',\n",
              " 1108,\n",
              " 3.14,\n",
              " True,\n",
              " [2, 4],\n",
              " (1, 5),\n",
              " {'Turma Unimed': 1108},\n",
              " {'Professores': ['Allan', 'Romero']}]"
            ]
          },
          "execution_count": 7,
          "metadata": {},
          "output_type": "execute_result"
        }
      ],
      "source": [
        "lista"
      ]
    },
    {
      "cell_type": "markdown",
      "metadata": {
        "id": "i5LXXsOlx_Lm"
      },
      "source": [
        "Como então criamos um objeto **numpy array?**\n",
        "\n",
        "Primeiro, precisamos importar a biblioteca numpy."
      ]
    },
    {
      "cell_type": "code",
      "execution_count": 2,
      "metadata": {
        "id": "1nkocaW_x9_0"
      },
      "outputs": [],
      "source": [
        "#Importando a biblioteca numpy\n",
        "import numpy as np"
      ]
    },
    {
      "cell_type": "markdown",
      "metadata": {
        "id": "AYSb7X2_ymkW"
      },
      "source": [
        "#### **Método np.array():**"
      ]
    },
    {
      "cell_type": "markdown",
      "metadata": {
        "id": "L9NHUKC-yd7H"
      },
      "source": [
        "Podemos criar um array a partir de uma lista, usando o método **np.array()**."
      ]
    },
    {
      "cell_type": "code",
      "execution_count": 3,
      "metadata": {
        "id": "W9k8ACIeyL9c"
      },
      "outputs": [],
      "source": [
        "#Criando uma lista\n",
        "lista = [1,2,3,4,5]\n",
        "array = np.array(lista)"
      ]
    },
    {
      "cell_type": "code",
      "execution_count": 4,
      "metadata": {
        "id": "-PawpsAKywQ1"
      },
      "outputs": [
        {
          "data": {
            "text/plain": [
              "[1, 2, 3, 4, 5]"
            ]
          },
          "execution_count": 4,
          "metadata": {},
          "output_type": "execute_result"
        }
      ],
      "source": [
        "lista"
      ]
    },
    {
      "cell_type": "code",
      "execution_count": 5,
      "metadata": {
        "id": "oULxID2-yxIV"
      },
      "outputs": [
        {
          "data": {
            "text/plain": [
              "array([1, 2, 3, 4, 5])"
            ]
          },
          "execution_count": 5,
          "metadata": {},
          "output_type": "execute_result"
        }
      ],
      "source": [
        "array"
      ]
    },
    {
      "cell_type": "code",
      "execution_count": 13,
      "metadata": {
        "id": "FH0M2aLayx1d"
      },
      "outputs": [
        {
          "name": "stdout",
          "output_type": "stream",
          "text": [
            "[1, 2, 3, 4, 5]\n"
          ]
        }
      ],
      "source": [
        "print(lista)"
      ]
    },
    {
      "cell_type": "code",
      "execution_count": 14,
      "metadata": {
        "id": "erhQafE_y1Ld"
      },
      "outputs": [
        {
          "name": "stdout",
          "output_type": "stream",
          "text": [
            "[1 2 3 4 5]\n"
          ]
        }
      ],
      "source": [
        "print(array)"
      ]
    },
    {
      "cell_type": "code",
      "execution_count": 15,
      "metadata": {
        "id": "tSDTr0VJy2BM"
      },
      "outputs": [
        {
          "data": {
            "text/plain": [
              "list"
            ]
          },
          "execution_count": 15,
          "metadata": {},
          "output_type": "execute_result"
        }
      ],
      "source": [
        "type(lista)"
      ]
    },
    {
      "cell_type": "code",
      "execution_count": 16,
      "metadata": {
        "id": "hDjc9jYty4qF"
      },
      "outputs": [
        {
          "data": {
            "text/plain": [
              "numpy.ndarray"
            ]
          },
          "execution_count": 16,
          "metadata": {},
          "output_type": "execute_result"
        }
      ],
      "source": [
        "type(array)"
      ]
    },
    {
      "cell_type": "markdown",
      "metadata": {
        "id": "UgLZ7vBWy-VP"
      },
      "source": [
        "Um array não precisa ser necessariamente 1 vetor (de uma dimensão). Podemos criar arrays de mais de uma dimensão. Por exemplo, uma matriz 3x2."
      ]
    },
    {
      "cell_type": "code",
      "execution_count": 17,
      "metadata": {
        "id": "qKaJsB6cy5nF"
      },
      "outputs": [],
      "source": [
        "lista = [[1,2],[3,4],[5,6]]\n",
        "array = np.array(lista)"
      ]
    },
    {
      "cell_type": "code",
      "execution_count": 18,
      "metadata": {
        "id": "R7ek9sYkzO81"
      },
      "outputs": [
        {
          "data": {
            "text/plain": [
              "[[1, 2], [3, 4], [5, 6]]"
            ]
          },
          "execution_count": 18,
          "metadata": {},
          "output_type": "execute_result"
        }
      ],
      "source": [
        "lista"
      ]
    },
    {
      "cell_type": "code",
      "execution_count": 19,
      "metadata": {
        "id": "oeGgESn2zPtt"
      },
      "outputs": [
        {
          "data": {
            "text/plain": [
              "array([[1, 2],\n",
              "       [3, 4],\n",
              "       [5, 6]])"
            ]
          },
          "execution_count": 19,
          "metadata": {},
          "output_type": "execute_result"
        }
      ],
      "source": [
        "array"
      ]
    },
    {
      "cell_type": "markdown",
      "metadata": {
        "id": "0LI9rlsczjs2"
      },
      "source": [
        "Ou ainda, usando o **método reshape:**"
      ]
    },
    {
      "cell_type": "code",
      "execution_count": 20,
      "metadata": {
        "id": "KLKQBZ9OzQat"
      },
      "outputs": [],
      "source": [
        "lista = [1,2,3,4,5,6]\n",
        "matriz = np.array(lista).reshape(3,2)"
      ]
    },
    {
      "cell_type": "code",
      "execution_count": 21,
      "metadata": {
        "id": "raCGRO8-z8_d"
      },
      "outputs": [
        {
          "data": {
            "text/plain": [
              "array([[1, 2],\n",
              "       [3, 4],\n",
              "       [5, 6]])"
            ]
          },
          "execution_count": 21,
          "metadata": {},
          "output_type": "execute_result"
        }
      ],
      "source": [
        "matriz"
      ]
    },
    {
      "cell_type": "markdown",
      "metadata": {
        "id": "EUaUIM-Pz-pN"
      },
      "source": [
        "**Obs.:** Veremos esse método com mais detalhes na próxima aula."
      ]
    },
    {
      "cell_type": "markdown",
      "metadata": {
        "id": "ONeWezU41-7t"
      },
      "source": [
        "### **Outras formas de iniciar arrays:**"
      ]
    },
    {
      "cell_type": "markdown",
      "metadata": {
        "id": "hkMZ_jE32CW9"
      },
      "source": [
        "**Array de zeros:**"
      ]
    },
    {
      "cell_type": "code",
      "execution_count": 6,
      "metadata": {
        "id": "xnD0q5dmz9nF"
      },
      "outputs": [
        {
          "data": {
            "text/plain": [
              "array([0., 0., 0., 0., 0., 0., 0., 0., 0., 0.])"
            ]
          },
          "execution_count": 6,
          "metadata": {},
          "output_type": "execute_result"
        }
      ],
      "source": [
        "#Criando um array de números zeros\n",
        "np.zeros(10)"
      ]
    },
    {
      "cell_type": "markdown",
      "metadata": {
        "id": "dJ7yRhMd2Gnd"
      },
      "source": [
        "**Arrays de uns:**"
      ]
    },
    {
      "cell_type": "code",
      "execution_count": 7,
      "metadata": {
        "id": "0NMxa1wc2GAl"
      },
      "outputs": [
        {
          "data": {
            "text/plain": [
              "array([1., 1., 1., 1., 1., 1., 1., 1., 1., 1.])"
            ]
          },
          "execution_count": 7,
          "metadata": {},
          "output_type": "execute_result"
        }
      ],
      "source": [
        "#Criando um array de números um\n",
        "np.ones(10)"
      ]
    },
    {
      "cell_type": "markdown",
      "metadata": {
        "id": "9nXTGXmK2OrN"
      },
      "source": [
        "**Arrays a partir do range:**"
      ]
    },
    {
      "cell_type": "code",
      "execution_count": 12,
      "metadata": {
        "id": "rUCQJDj02JZs"
      },
      "outputs": [
        {
          "data": {
            "text/plain": [
              "array([ 0,  2,  4,  6,  8, 10, 12, 14, 16, 18, 20])"
            ]
          },
          "execution_count": 12,
          "metadata": {},
          "output_type": "execute_result"
        }
      ],
      "source": [
        "np.array(list(range(0,21,2)))"
      ]
    },
    {
      "cell_type": "markdown",
      "metadata": {
        "id": "TDo75jfz2yAl"
      },
      "source": [
        "### **Método np.arange:**\n",
        "\n",
        "Conseguimos fazer o que fizemos anteriormente com o range."
      ]
    },
    {
      "cell_type": "code",
      "execution_count": 13,
      "metadata": {
        "id": "zJi3jdKC2Wuc"
      },
      "outputs": [
        {
          "data": {
            "text/plain": [
              "array([0, 1, 2, 3, 4])"
            ]
          },
          "execution_count": 13,
          "metadata": {},
          "output_type": "execute_result"
        }
      ],
      "source": [
        "#Criando um array de números sequenciais\n",
        "np.arange(5)"
      ]
    },
    {
      "cell_type": "code",
      "execution_count": 14,
      "metadata": {
        "id": "mpKkE9fy3B1s"
      },
      "outputs": [
        {
          "data": {
            "text/plain": [
              "array([ 0,  2,  4,  6,  8, 10, 12, 14, 16, 18, 20])"
            ]
          },
          "execution_count": 14,
          "metadata": {},
          "output_type": "execute_result"
        }
      ],
      "source": [
        "#Criando um array de 1 a 19 de 2 em 2\n",
        "np.arange(0,21,2)"
      ]
    },
    {
      "cell_type": "markdown",
      "metadata": {
        "id": "suQZcC2R3Msd"
      },
      "source": [
        "O **padrão** é como no **range:**\n",
        "* (início, fim, passo);\n",
        "* Sem início: começa no zero;\n",
        "* Sem passo: passo será um."
      ]
    },
    {
      "cell_type": "markdown",
      "metadata": {
        "id": "eRHAPkbY3XbM"
      },
      "source": [
        "## **Método np.linspace:**\n",
        "\n",
        "É um método usado para criar um array com valores igualmente espaçados dentro de um intervalo especificado.\n",
        "\n",
        "**Utilidade:** Desejamos gerar uma sequência de números com uma quantidade específica de elementos entre um valor inicial e final:\n",
        "\n",
        "**Sintaxe:**\n",
        "\n",
        "```(python)\n",
        "np.linspace(start,stop,num=50,endpint=True,retstep=False,dtype=None)\n",
        "```\n"
      ]
    },
    {
      "cell_type": "markdown",
      "metadata": {
        "id": "TGaDVwHD4IA1"
      },
      "source": [
        "* start: Valor inicial da sequência.\n",
        "* stop: Valor final da sequência.\n",
        "* num: Número de elementos a serem gerados. Por padrão, é igual a 50.\n",
        "* endpoint: Se True, o valor final (stop) é incluído no array resultante. Por padrão, é True.\n",
        "* retstep: Se True, retorna o espaçamento entre os valores gerados.\n",
        "* dtype: Tipo de dados dos elementos no array."
      ]
    },
    {
      "cell_type": "markdown",
      "metadata": {
        "id": "ym_y9-jr4RBg"
      },
      "source": [
        "Geralmente usamos: start, stop e num."
      ]
    },
    {
      "cell_type": "code",
      "execution_count": 15,
      "metadata": {
        "id": "NuBNf80V3Iak"
      },
      "outputs": [
        {
          "data": {
            "text/plain": [
              "array([ 30.        ,  33.68421053,  37.36842105,  41.05263158,\n",
              "        44.73684211,  48.42105263,  52.10526316,  55.78947368,\n",
              "        59.47368421,  63.15789474,  66.84210526,  70.52631579,\n",
              "        74.21052632,  77.89473684,  81.57894737,  85.26315789,\n",
              "        88.94736842,  92.63157895,  96.31578947, 100.        ])"
            ]
          },
          "execution_count": 15,
          "metadata": {},
          "output_type": "execute_result"
        }
      ],
      "source": [
        "#Gerar uma sequência de 20 números igualmente espaçados entre 30 e 100\n",
        "start = 30\n",
        "stop = 100\n",
        "num = 20\n",
        "np.linspace(start=start,stop=stop,num=num)"
      ]
    },
    {
      "cell_type": "markdown",
      "metadata": {
        "id": "teH7r0wi4kdd"
      },
      "source": [
        "### **Método random:**\n",
        "\n",
        "<img src = \"https://numpy.org/devdocs/_images/np_ones_zeros_random.png\" />\n",
        "\n",
        "Ele oferece várias funções para geração de números aleatórios e é bastante útil para aplicações, desde simulações estatísticas até a criação de conjuntos de dados fictícios para testes."
      ]
    },
    {
      "cell_type": "code",
      "execution_count": 24,
      "metadata": {
        "id": "vmHdGMPH4iX9"
      },
      "outputs": [
        {
          "data": {
            "text/plain": [
              "array([0.98067161, 0.31115585, 0.3067367 , 0.36273976, 0.92429518])"
            ]
          },
          "execution_count": 24,
          "metadata": {},
          "output_type": "execute_result"
        }
      ],
      "source": [
        "#Gerar dados com distribuição uniforme entre 0 e 1:\n",
        "np.random.rand(5)"
      ]
    },
    {
      "cell_type": "code",
      "execution_count": 25,
      "metadata": {
        "id": "xWsPkRO_9bTd"
      },
      "outputs": [],
      "source": [
        "import seaborn as sns"
      ]
    },
    {
      "cell_type": "markdown",
      "metadata": {
        "id": "3o8O4i2y9aoh"
      },
      "source": [
        "Plotando o gráfico da distribuição uniforme:\n",
        "\n",
        "<img src = \"https://www.uv.es/ceaces/base/modelos%20de%20probabilidad/Image12.gif\" />"
      ]
    },
    {
      "cell_type": "code",
      "execution_count": 27,
      "metadata": {
        "id": "IRwo2h-d9ei9"
      },
      "outputs": [
        {
          "data": {
            "text/plain": [
              "<Axes: ylabel='Count'>"
            ]
          },
          "execution_count": 27,
          "metadata": {},
          "output_type": "execute_result"
        },
        {
          "data": {
            "image/png": "[encoded data removed]",
            "text/plain": [
              "<Figure size 640x480 with 1 Axes>"
            ]
          },
          "metadata": {},
          "output_type": "display_data"
        }
      ],
      "source": [
        "x = np.random.rand(1000000)\n",
        "sns.histplot(x)"
      ]
    },
    {
      "cell_type": "code",
      "execution_count": 28,
      "metadata": {
        "id": "3U9XjCwv7_w1"
      },
      "outputs": [
        {
          "data": {
            "text/plain": [
              "array([[0.35534015, 0.96115959, 0.08058375],\n",
              "       [0.39099787, 0.89771635, 0.31049534],\n",
              "       [0.29473386, 0.90962294, 0.11029005]])"
            ]
          },
          "execution_count": 28,
          "metadata": {},
          "output_type": "execute_result"
        }
      ],
      "source": [
        "#Gerar uma matriz 3x3\n",
        "np.random.rand(3,3)"
      ]
    },
    {
      "cell_type": "code",
      "execution_count": 35,
      "metadata": {
        "id": "rhDoIF2_8Cm0"
      },
      "outputs": [
        {
          "data": {
            "text/plain": [
              "10"
            ]
          },
          "execution_count": 35,
          "metadata": {},
          "output_type": "execute_result"
        }
      ],
      "source": [
        "#Gerar um número inteiro aleatório dentro de um intervalo especificado\n",
        "np.random.randint(1,11)"
      ]
    },
    {
      "cell_type": "markdown",
      "metadata": {
        "id": "4pr7wRSZ8s-m"
      },
      "source": [
        "Dentro deste módulo, há vários geradores de número aleatórios para fins mais especificos. No exemplo abaixo, trabalhamos com a função *randint*, que gera somente números inteiros no intervalo especificado."
      ]
    },
    {
      "cell_type": "code",
      "execution_count": 36,
      "metadata": {
        "id": "A-XEDFts8wo1"
      },
      "outputs": [
        {
          "data": {
            "text/plain": [
              "array([22, 24, 71, 75, 71, 32,  2, 56, 93, 11])"
            ]
          },
          "execution_count": 36,
          "metadata": {},
          "output_type": "execute_result"
        }
      ],
      "source": [
        "#Gerar um vetor aleatório de tamanho 10, de 0 até 100\n",
        "np.random.randint(0,101,10)"
      ]
    },
    {
      "cell_type": "markdown",
      "metadata": {
        "id": "SbV4GDd4878T"
      },
      "source": [
        "Também conseguimos trabalhar com **distribuições estatísticas de probabilidade**. Vejamos, por exemplo, como é possível gerar números aleatórios que obedeçam a uma distribuição normal."
      ]
    },
    {
      "cell_type": "markdown",
      "metadata": {
        "id": "xpU12Fnb8-_C"
      },
      "source": [
        "<img src = \"https://www.allaboutcircuits.com/uploads/articles/an-introduction-to-the-normal-distribution-in-electrical-engineerin-rk-aac-image1.jpg\" />"
      ]
    },
    {
      "cell_type": "code",
      "execution_count": 37,
      "metadata": {
        "id": "v5JLuUvd8Ij8"
      },
      "outputs": [
        {
          "data": {
            "text/plain": [
              "array([ 1.79566   ,  0.66687177, -0.90343345,  1.07590635, -0.19731392,\n",
              "        0.58312122, -0.25697002, -0.94644254, -1.76339479,  2.11407998])"
            ]
          },
          "execution_count": 37,
          "metadata": {},
          "output_type": "execute_result"
        }
      ],
      "source": [
        "#Gerar um array de valores aleatórios de distribuição normal\n",
        "np.random.randn(10)"
      ]
    },
    {
      "cell_type": "code",
      "execution_count": 38,
      "metadata": {
        "id": "SPueqwlu8gj8"
      },
      "outputs": [
        {
          "data": {
            "text/plain": [
              "array([[ 1.33671179,  0.51789913],\n",
              "       [-0.76991703,  1.10011405]])"
            ]
          },
          "execution_count": 38,
          "metadata": {},
          "output_type": "execute_result"
        }
      ],
      "source": [
        "#Gerar uma matriz 2x2 de valores aleatórios de distribuição normal\n",
        "np.random.randn(2,2)"
      ]
    },
    {
      "cell_type": "markdown",
      "metadata": {
        "id": "m_ofmKyE8pKd"
      },
      "source": [
        "Podemos plotar o gráfico de uma distribuição normal, usando a biblioteca seaborn:"
      ]
    },
    {
      "cell_type": "code",
      "execution_count": 39,
      "metadata": {
        "id": "RJSwBl1y8j_D"
      },
      "outputs": [
        {
          "data": {
            "text/plain": [
              "<Axes: ylabel='Count'>"
            ]
          },
          "execution_count": 39,
          "metadata": {},
          "output_type": "execute_result"
        },
        {
          "data": {
            "image/png": "[encoded data removed]",
            "text/plain": [
              "<Figure size 640x480 with 1 Axes>"
            ]
          },
          "metadata": {},
          "output_type": "display_data"
        }
      ],
      "source": [
        "# plotando distribuição normal com o seaborn\n",
        "x = np.random.randn(1000000)\n",
        "sns.histplot(x)"
      ]
    },
    {
      "cell_type": "markdown",
      "metadata": {
        "id": "xfKyKQm--GAW"
      },
      "source": [
        "Podemos ainda gerar uma amostra aleatória a partir de uma matriz ou sequência usando o **random.choice()**:"
      ]
    },
    {
      "cell_type": "code",
      "execution_count": 47,
      "metadata": {
        "id": "aQ9mlSkM-Ljj"
      },
      "outputs": [
        {
          "data": {
            "text/plain": [
              "array([165.61, 136.34, 232.36])"
            ]
          },
          "execution_count": 47,
          "metadata": {},
          "output_type": "execute_result"
        }
      ],
      "source": [
        "#Gerar uma amostra aleatória a partir de um objeto aleatório\n",
        "lista_inf = [80.29, 136.34, 222.57, 232.36, 223.91, 221.31, 165.1, 165.61, 82.17, 158.27]\n",
        "random_sample = np.random.choice(lista_inf,size=3,replace=False)\n",
        "random_sample"
      ]
    },
    {
      "cell_type": "markdown",
      "metadata": {
        "id": "P-X3lNZl-c1P"
      },
      "source": [
        "Podemos também definir uma **semente (seed)** para gerar números pseudoaleatórios.\n",
        "\n",
        "**Utilidade:** Permite reproduzir a mesma sequência de números aleatórios em diferentes execuções do código, desde que a mesma semente seja usada."
      ]
    },
    {
      "cell_type": "code",
      "execution_count": 56,
      "metadata": {
        "id": "iKwwOGze-TX0"
      },
      "outputs": [
        {
          "data": {
            "text/plain": [
              "array([ 82.17, 136.34, 221.31])"
            ]
          },
          "execution_count": 56,
          "metadata": {},
          "output_type": "execute_result"
        }
      ],
      "source": [
        "#Definir a semente para garantir a mesma sequência\n",
        "np.random.seed(42)\n",
        "#Gerar uma sequência aleatória\n",
        "random_sample = np.random.choice(lista_inf,size=3,replace=False)\n",
        "random_sample"
      ]
    },
    {
      "cell_type": "markdown",
      "metadata": {
        "id": "ccvX2oDG-3a8"
      },
      "source": [
        "**Obs.:** Se eu rodar de novo sem o seed?"
      ]
    },
    {
      "cell_type": "code",
      "execution_count": 52,
      "metadata": {
        "id": "PDFn1MyZ-ycz"
      },
      "outputs": [
        {
          "data": {
            "text/plain": [
              "array([ 80.29, 136.34,  82.17])"
            ]
          },
          "execution_count": 52,
          "metadata": {},
          "output_type": "execute_result"
        }
      ],
      "source": [
        "random_sample = np.random.choice(lista_inf,size=3,replace=False)\n",
        "random_sample"
      ]
    },
    {
      "cell_type": "markdown",
      "metadata": {
        "id": "C16YTBC_-7Rd"
      },
      "source": [
        "É definido apenas para aquela célula."
      ]
    },
    {
      "cell_type": "markdown",
      "metadata": {
        "id": "W24EaQ9X-_mW"
      },
      "source": [
        "## **Indexação de Arrays:**\n",
        "\n",
        "É possível acessar elementos individuais dos arrays pelos **índices**, da mesma forma que fazemos com listas."
      ]
    },
    {
      "cell_type": "code",
      "execution_count": 57,
      "metadata": {
        "id": "rx1f1SYX-6mC"
      },
      "outputs": [
        {
          "data": {
            "text/plain": [
              "array([ 1,  2,  3,  4,  5,  6,  7,  8,  9, 10, 11, 12, 13, 14, 15, 16, 17,\n",
              "       18, 19, 20])"
            ]
          },
          "execution_count": 57,
          "metadata": {},
          "output_type": "execute_result"
        }
      ],
      "source": [
        "#Criando um array sequencial de 1 a 20\n",
        "array = np.arange(1,21)\n",
        "array"
      ]
    },
    {
      "cell_type": "code",
      "execution_count": 58,
      "metadata": {
        "id": "bEsW8bqh_L78"
      },
      "outputs": [
        {
          "data": {
            "text/plain": [
              "1"
            ]
          },
          "execution_count": 58,
          "metadata": {},
          "output_type": "execute_result"
        }
      ],
      "source": [
        "#Acessando elementos individuais\n",
        "array[0]"
      ]
    },
    {
      "cell_type": "code",
      "execution_count": 59,
      "metadata": {
        "id": "iwtxCTgF_PCT"
      },
      "outputs": [
        {
          "data": {
            "text/plain": [
              "20"
            ]
          },
          "execution_count": 59,
          "metadata": {},
          "output_type": "execute_result"
        }
      ],
      "source": [
        "#Acessando índices negativos\n",
        "array[-1]"
      ]
    },
    {
      "cell_type": "code",
      "execution_count": 60,
      "metadata": {
        "id": "clFRQT3f_R2M"
      },
      "outputs": [
        {
          "data": {
            "text/plain": [
              "array([2, 3])"
            ]
          },
          "execution_count": 60,
          "metadata": {},
          "output_type": "execute_result"
        }
      ],
      "source": [
        "#Fazendo slicing\n",
        "array[1:3]"
      ]
    },
    {
      "cell_type": "code",
      "execution_count": 61,
      "metadata": {
        "id": "bDVs7w8t_Upk"
      },
      "outputs": [
        {
          "data": {
            "text/plain": [
              "array([1, 2, 3])"
            ]
          },
          "execution_count": 61,
          "metadata": {},
          "output_type": "execute_result"
        }
      ],
      "source": [
        "#Slicing sem início\n",
        "array[:3]"
      ]
    },
    {
      "cell_type": "code",
      "execution_count": 62,
      "metadata": {
        "id": "CmDleXAd_Z4k"
      },
      "outputs": [
        {
          "data": {
            "text/plain": [
              "array([18, 19, 20])"
            ]
          },
          "execution_count": 62,
          "metadata": {},
          "output_type": "execute_result"
        }
      ],
      "source": [
        "#Slicing sem fim\n",
        "array[-3:]"
      ]
    },
    {
      "cell_type": "markdown",
      "metadata": {
        "id": "dUGF1gkl_gf_"
      },
      "source": [
        "<img src = \"https://numpy.org/devdocs/_images/np_indexing.png\" />"
      ]
    },
    {
      "cell_type": "markdown",
      "metadata": {
        "id": "RkjKFkRa_hdV"
      },
      "source": [
        "**E como funciona para matrizes?**"
      ]
    },
    {
      "cell_type": "code",
      "execution_count": 63,
      "metadata": {
        "id": "d531Uau9_dgE"
      },
      "outputs": [
        {
          "data": {
            "text/plain": [
              "array([[1, 2, 3],\n",
              "       [4, 5, 6],\n",
              "       [7, 8, 9]])"
            ]
          },
          "execution_count": 63,
          "metadata": {},
          "output_type": "execute_result"
        }
      ],
      "source": [
        "# Criar uma matriz de exemplo\n",
        "matriz = np.array(list(range(1,10))).reshape(3,3)\n",
        "matriz"
      ]
    },
    {
      "cell_type": "markdown",
      "metadata": {
        "id": "dHQ1YWRH_1oo"
      },
      "source": [
        "**Slicing por linhas e colunas:** Para selecionar uma parte específica da matriz, você pode usar a notação:\n",
        "\n",
        "```[linha_inicio:linha_fim, coluna_inicio:coluna_fim]```"
      ]
    },
    {
      "cell_type": "code",
      "execution_count": 64,
      "metadata": {
        "id": "-zgeYF5j_vEB"
      },
      "outputs": [
        {
          "data": {
            "text/plain": [
              "array([[1, 2],\n",
              "       [4, 5]])"
            ]
          },
          "execution_count": 64,
          "metadata": {},
          "output_type": "execute_result"
        }
      ],
      "source": [
        "# Selecionar todas as linhas até a segunda e todas as colunas até a segunda\n",
        "matriz[:2,:2]"
      ]
    },
    {
      "cell_type": "markdown",
      "metadata": {
        "id": "q0LP50VY_9c9"
      },
      "source": [
        "**Selecionando uma linha ou coluna específica:** Para selecionar uma linha ou coluna específica, use apenas um índice."
      ]
    },
    {
      "cell_type": "code",
      "execution_count": 65,
      "metadata": {
        "id": "k71izD-0_yZl"
      },
      "outputs": [
        {
          "data": {
            "text/plain": [
              "array([2, 5, 8])"
            ]
          },
          "execution_count": 65,
          "metadata": {},
          "output_type": "execute_result"
        }
      ],
      "source": [
        "# Selecionar a segunda coluna\n",
        "matriz[:,1]"
      ]
    },
    {
      "cell_type": "code",
      "execution_count": 66,
      "metadata": {
        "id": "adCXjtX9_ypL"
      },
      "outputs": [
        {
          "data": {
            "text/plain": [
              "array([4, 5, 6])"
            ]
          },
          "execution_count": 66,
          "metadata": {},
          "output_type": "execute_result"
        }
      ],
      "source": [
        "# Selecionar a segunda linha\n",
        "matriz[1,:]"
      ]
    },
    {
      "cell_type": "markdown",
      "metadata": {
        "id": "oUoueZO9AO6S"
      },
      "source": [
        "**Slicing com passo:** Você pode especificar um passo para avançar de maneira diferente pelos elementos da matriz:"
      ]
    },
    {
      "cell_type": "code",
      "execution_count": 67,
      "metadata": {
        "id": "rCGYGEM3AJFs"
      },
      "outputs": [
        {
          "data": {
            "text/plain": [
              "array([1, 3])"
            ]
          },
          "execution_count": 67,
          "metadata": {},
          "output_type": "execute_result"
        }
      ],
      "source": [
        "# Selecionar cada segundo elemento da primeira linha\n",
        "matriz[0,::2]"
      ]
    },
    {
      "cell_type": "markdown",
      "metadata": {
        "id": "x_nOGRfNAlJM"
      },
      "source": [
        "**Indexação usando arrays de índices:** Você pode indexar matrizes NumPy usando arrays de índices para selecionar elementos específicos:"
      ]
    },
    {
      "cell_type": "code",
      "execution_count": 69,
      "metadata": {
        "id": "R74CCpwxASpU"
      },
      "outputs": [
        {
          "data": {
            "text/plain": [
              "array([[1, 2, 3],\n",
              "       [7, 8, 9]])"
            ]
          },
          "execution_count": 69,
          "metadata": {},
          "output_type": "execute_result"
        }
      ],
      "source": [
        "#Pegar as 2 primeiras linhas\n",
        "matriz[np.array([0,2]),:]"
      ]
    },
    {
      "cell_type": "markdown",
      "metadata": {
        "id": "GDcqU6AmAyoI"
      },
      "source": [
        "Temos aqui uma submatriz contendo as linhas 0 e 2 da matriz original"
      ]
    },
    {
      "cell_type": "markdown",
      "metadata": {
        "id": "Y5Eu4O7xA3XY"
      },
      "source": [
        "## **Operações simples:**\n",
        "\n",
        "\n",
        "As operações com arrays no NumPy oferecem uma forma eficiente de realizar operações matemáticas e manipulações de dados em arrays multidimensionais. Essas operações são vetorizadas, o que significa que são aplicadas a todos os elementos do array sem a necessidade de loops explícitos, tornando o código mais conciso e rápido."
      ]
    },
    {
      "cell_type": "markdown",
      "metadata": {
        "id": "scy9vNrVEwgO"
      },
      "source": [
        "### **Operações matemáticas:**"
      ]
    },
    {
      "cell_type": "markdown",
      "metadata": {
        "id": "IYsPJOCaB1Ce"
      },
      "source": [
        "____\n",
        "Vamos relembrar primeiro com uma lista:"
      ]
    },
    {
      "cell_type": "code",
      "execution_count": 77,
      "metadata": {
        "id": "tR060JbLAsBz"
      },
      "outputs": [],
      "source": [
        "#Criando duas listas:\n",
        "lista_1 = [1,2,3]\n",
        "lista_2 = [4,5,6]"
      ]
    },
    {
      "cell_type": "code",
      "execution_count": null,
      "metadata": {},
      "outputs": [],
      "source": [
        "lista_1+lista_2"
      ]
    },
    {
      "cell_type": "code",
      "execution_count": null,
      "metadata": {
        "id": "rQeLefVYCIsE"
      },
      "outputs": [],
      "source": [
        "#Multiplicando uma lista por um número\n",
        "lista_1"
      ]
    },
    {
      "cell_type": "code",
      "execution_count": null,
      "metadata": {
        "id": "Op3LSXDZCRJM"
      },
      "outputs": [],
      "source": [
        "#Somando uma lista com um número\n"
      ]
    },
    {
      "cell_type": "markdown",
      "metadata": {
        "id": "H8E0CJ4ACdwO"
      },
      "source": [
        "São 2 objetos diferentes e só conseguimos somar listas com listas"
      ]
    },
    {
      "cell_type": "code",
      "execution_count": null,
      "metadata": {
        "id": "H3tkY_dXCVrz"
      },
      "outputs": [],
      "source": [
        "#Acrescentando um número a uma lista (ou soma)\n"
      ]
    },
    {
      "cell_type": "code",
      "execution_count": null,
      "metadata": {
        "id": "zz2L1xw4ChHn"
      },
      "outputs": [],
      "source": [
        "#somando a lista_1 e lista_2\n"
      ]
    },
    {
      "cell_type": "markdown",
      "metadata": {
        "id": "kV0WOgxECnIw"
      },
      "source": [
        "E se eu quiser fazer as operações (+, -, *, /, **) entre os elementos das listas?"
      ]
    },
    {
      "cell_type": "code",
      "execution_count": null,
      "metadata": {
        "id": "nuahePXECkt0"
      },
      "outputs": [],
      "source": [
        "#Criar uma lista que é o quadrado da lista_1\n"
      ]
    },
    {
      "cell_type": "code",
      "execution_count": null,
      "metadata": {
        "id": "unn4qUfXC04D"
      },
      "outputs": [],
      "source": [
        "#Podemos ainda fazer com o list comprehension\n"
      ]
    },
    {
      "cell_type": "markdown",
      "metadata": {
        "id": "SON9x1ESC9K9"
      },
      "source": [
        "Agora veremos o poder do numpy:"
      ]
    },
    {
      "cell_type": "code",
      "execution_count": null,
      "metadata": {
        "id": "H0TLkY56C6eU"
      },
      "outputs": [],
      "source": [
        "#Vamos criar um array com a lista_1\n"
      ]
    },
    {
      "cell_type": "code",
      "execution_count": null,
      "metadata": {
        "id": "VFAfyZo_DB_L"
      },
      "outputs": [],
      "source": []
    },
    {
      "cell_type": "code",
      "execution_count": null,
      "metadata": {
        "id": "Y9GWjJthDHwb"
      },
      "outputs": [],
      "source": [
        "#Somando o array com o número 2\n"
      ]
    },
    {
      "cell_type": "code",
      "execution_count": null,
      "metadata": {
        "id": "Km6rJ6_JDLeL"
      },
      "outputs": [],
      "source": [
        "#Somando o array_1 com o array_2\n"
      ]
    },
    {
      "cell_type": "code",
      "execution_count": null,
      "metadata": {
        "id": "dSdodMCYDUUj"
      },
      "outputs": [],
      "source": [
        "#Multiplicando um array por um número\n"
      ]
    },
    {
      "cell_type": "code",
      "execution_count": null,
      "metadata": {
        "id": "jKVArHm9Dd1M"
      },
      "outputs": [],
      "source": [
        "#Multiplicando um array pelo outro\n"
      ]
    },
    {
      "cell_type": "code",
      "execution_count": null,
      "metadata": {
        "id": "aIXD2SHxDiKb"
      },
      "outputs": [],
      "source": [
        "#Elevando um array ao quadrado\n"
      ]
    },
    {
      "cell_type": "markdown",
      "metadata": {
        "id": "kQBjvUtcD-oW"
      },
      "source": [
        "Podemos fazer isso usando as funções apresentadas anteriormente também:"
      ]
    },
    {
      "cell_type": "code",
      "execution_count": null,
      "metadata": {
        "id": "bOaJYC2YD7_M"
      },
      "outputs": [],
      "source": [
        "#Criando um array de 5 com a função ones\n"
      ]
    },
    {
      "cell_type": "code",
      "execution_count": null,
      "metadata": {
        "id": "7EhudVs4EGij"
      },
      "outputs": [],
      "source": [
        "#Criando um array de 5 com a função zeros\n"
      ]
    },
    {
      "cell_type": "code",
      "execution_count": null,
      "metadata": {
        "id": "EZPQXdYVELWL"
      },
      "outputs": [],
      "source": [
        "#Dividir um array por um número\n"
      ]
    },
    {
      "cell_type": "code",
      "execution_count": null,
      "metadata": {
        "id": "_F6Oc80MESST"
      },
      "outputs": [],
      "source": [
        "#Dividir um array pelo outro\n"
      ]
    },
    {
      "cell_type": "markdown",
      "metadata": {
        "id": "u7mjGQtyEYPs"
      },
      "source": [
        "**Obs.1:** As operações elementos a elementos tem que respeitar a dimensão dos arrays:"
      ]
    },
    {
      "cell_type": "code",
      "execution_count": null,
      "metadata": {
        "id": "E3rXPa2sEVD0"
      },
      "outputs": [],
      "source": [
        "#Criar array 3 (2 elementos)\n",
        "\n",
        "#Somar array_1 com array_3\n"
      ]
    },
    {
      "cell_type": "markdown",
      "metadata": {
        "id": "-JeNXAJwEraU"
      },
      "source": [
        "### **Operações de comparação e lógica:**\n",
        "\n",
        "O NumPy permite realizar operações de comparação (<, <=, >, >=, ==, !=) e operações lógicas (&, |, ~) entre arrays, criando arrays booleanos como resultado."
      ]
    },
    {
      "cell_type": "code",
      "execution_count": null,
      "metadata": {
        "id": "ZOYty8A4Eljm"
      },
      "outputs": [],
      "source": [
        "\n"
      ]
    },
    {
      "cell_type": "code",
      "execution_count": null,
      "metadata": {
        "id": "lFY7ZKWeE-8r"
      },
      "outputs": [],
      "source": [
        "#Operação de comparação\n"
      ]
    },
    {
      "cell_type": "code",
      "execution_count": null,
      "metadata": {
        "id": "82RskaJrFEor"
      },
      "outputs": [],
      "source": [
        "#Operações de lógica\n"
      ]
    },
    {
      "cell_type": "code",
      "execution_count": null,
      "metadata": {
        "id": "uYVj4ks0FOIc"
      },
      "outputs": [],
      "source": []
    },
    {
      "cell_type": "code",
      "execution_count": null,
      "metadata": {
        "id": "Gkyv76ZsFSSs"
      },
      "outputs": [],
      "source": []
    },
    {
      "cell_type": "markdown",
      "metadata": {
        "id": "zkzXae3GFak_"
      },
      "source": [
        "## Funções matemáticas universais\n",
        "\n",
        "O NumPy fornece funções matemáticas universais (np.sin(), np.cos(), np.exp(), np.sqrt(), etc.) que podem ser aplicadas a arrays NumPy, realizando a operação especificada em cada elemento do array.\n",
        "\n",
        "Muitos destes serão herdados pelo pandas, então os usaremos bastante no futuro próximo!"
      ]
    },
    {
      "cell_type": "code",
      "execution_count": null,
      "metadata": {
        "id": "CB5oPqP5FTq0"
      },
      "outputs": [],
      "source": [
        "#ver o array_1\n"
      ]
    },
    {
      "cell_type": "code",
      "execution_count": null,
      "metadata": {
        "id": "faN3Vbh7FpXj"
      },
      "outputs": [],
      "source": [
        "# Aplicar a função de exponenciação a todos os elementos\n"
      ]
    },
    {
      "cell_type": "code",
      "execution_count": null,
      "metadata": {
        "id": "n72H-E7oFvaU"
      },
      "outputs": [],
      "source": []
    },
    {
      "cell_type": "code",
      "execution_count": null,
      "metadata": {
        "id": "2J5jX44gFwlz"
      },
      "outputs": [],
      "source": [
        "# Aplicar a função de seno a todos os elementos\n"
      ]
    },
    {
      "cell_type": "code",
      "execution_count": null,
      "metadata": {
        "id": "G2JfdLjvF0lT"
      },
      "outputs": [],
      "source": [
        "# Aplicar a função de cosseno a todos os elementos\n"
      ]
    },
    {
      "cell_type": "code",
      "execution_count": null,
      "metadata": {
        "id": "8lxxd2--F7aj"
      },
      "outputs": [],
      "source": [
        "# Aplicar a função da raiz quadrada a todos os elementos\n"
      ]
    },
    {
      "cell_type": "markdown",
      "metadata": {
        "id": "VuqBgVkmGGur"
      },
      "source": [
        "### **Operações de redução:**\n",
        "\n",
        "O NumPy oferece operações de redução, como soma (np.sum()), média (np.mean()), máximo (np.max()), mínimo (np.min()), entre outras. Essas operações agregam os valores do array em um único resultado."
      ]
    },
    {
      "cell_type": "code",
      "execution_count": null,
      "metadata": {
        "id": "FawISoK4GQVF"
      },
      "outputs": [],
      "source": [
        "# fixando a seed: números aleatórios reproduzíveis, com np.random.seed()\n"
      ]
    },
    {
      "cell_type": "code",
      "execution_count": null,
      "metadata": {
        "id": "WkRattlMGBKb"
      },
      "outputs": [],
      "source": [
        "# maior valor\n"
      ]
    },
    {
      "cell_type": "code",
      "execution_count": null,
      "metadata": {
        "id": "o5-C2GVxGTC7"
      },
      "outputs": [],
      "source": [
        "# indice do elemento máximo\n"
      ]
    },
    {
      "cell_type": "code",
      "execution_count": null,
      "metadata": {
        "id": "VtaIXNkZGUWD"
      },
      "outputs": [],
      "source": [
        "# menor valor\n"
      ]
    },
    {
      "cell_type": "code",
      "execution_count": null,
      "metadata": {
        "id": "zdAtcTgaGXoL"
      },
      "outputs": [],
      "source": [
        "# indice do elemento minimo\n"
      ]
    },
    {
      "cell_type": "code",
      "execution_count": null,
      "metadata": {
        "id": "1VdTk8UJGY5s"
      },
      "outputs": [],
      "source": [
        "# soma de todos os items\n"
      ]
    },
    {
      "cell_type": "code",
      "execution_count": null,
      "metadata": {
        "id": "o9Vpp9U2Gawz"
      },
      "outputs": [],
      "source": [
        "# media dos elementos\n"
      ]
    },
    {
      "cell_type": "markdown",
      "metadata": {
        "id": "zEt9VskxGe1P"
      },
      "source": [
        "### Outros métodos úteis\n",
        "\n",
        "O numpy é uma ferramenta poderosa para lidar com cálculos numéricos e é base para o pandas, de modo que conseguimos manipular os dados de forma eficiente e concisa em arrays multidimensionais."
      ]
    },
    {
      "cell_type": "code",
      "execution_count": null,
      "metadata": {
        "id": "b1Ja_rPHGcgj"
      },
      "outputs": [],
      "source": [
        "# desvio padrão\n"
      ]
    },
    {
      "cell_type": "code",
      "execution_count": null,
      "metadata": {
        "id": "-g6dDp86GsAz"
      },
      "outputs": [],
      "source": [
        "# ordenar a lista\n",
        "# por padrão, essa operação ocorre \"inplace\"\n",
        "# ou seja, ela ordena o objeto original, e não retorna nada\n"
      ]
    },
    {
      "cell_type": "code",
      "execution_count": null,
      "metadata": {
        "id": "zYjW-vMoGvjj"
      },
      "outputs": [],
      "source": [
        "# Trocando o tipo dos dados nas lista com o .astype()\n"
      ]
    },
    {
      "cell_type": "markdown",
      "metadata": {
        "id": "z1H7a8E5G0A1"
      },
      "source": [
        "## Para praticar (Hora boa)!!\n",
        "\n",
        "Vamos dividi-los em grupo para resolução dos seguintes exercícios, usando numpy."
      ]
    },
    {
      "cell_type": "markdown",
      "metadata": {
        "id": "0RBxhUDPHDPw"
      },
      "source": [
        "**1.** Escreva uma função que receba dois argumentos: um número qualquer de arrays (de mesmo tamanho) em numpy; e o número de elementos de cada array. A função deve retornar um escalar que representa a soma total de todos estes arrays. Inclua na função uma condição de verificação em que, caso haja um array de tamanho distinto dos demais, um erro seja retornado."
      ]
    },
    {
      "cell_type": "code",
      "execution_count": null,
      "metadata": {
        "id": "J3MWvo5TGxeT"
      },
      "outputs": [],
      "source": []
    },
    {
      "cell_type": "markdown",
      "metadata": {
        "id": "U5qyhvkKHqq4"
      },
      "source": [
        "**2.** Em estatística, a normalização de uma distribuição de dados pode ser feita subtraindo o valor médio da distribuição de cada valor do conjunto de dados, dividindo o resultado pelo desvio-padrão da distribuição.\n",
        "\n",
        "Escreva uma função que normalize os dados recebidos por um array numpy qualquer, conforme descrito anteriormente."
      ]
    },
    {
      "cell_type": "code",
      "execution_count": null,
      "metadata": {
        "id": "i7wZR8oFHnOz"
      },
      "outputs": [],
      "source": []
    },
    {
      "cell_type": "markdown",
      "metadata": {
        "id": "4C7_WFvMIaEe"
      },
      "source": [
        "**3.** Escreva uma função em numpy que receba um array contendo notas de uma turma de 100 estudantes. Considere que a nota de aprovação da turma é 5.0. A função deve retornar, em um array numpy, nesta ordem:\n",
        "- a média e o desvio-padrão das notas da turma;\n",
        "- o número de notas maiores que 7.0;\n",
        "- o número de reprovações da turma;\n",
        "- a menor nota da turma;\n",
        "- a maior nota da turma."
      ]
    },
    {
      "cell_type": "code",
      "execution_count": null,
      "metadata": {
        "id": "0sc4zFPjJkLj"
      },
      "outputs": [],
      "source": []
    },
    {
      "cell_type": "markdown",
      "metadata": {
        "id": "z9a_BRVwJ08x"
      },
      "source": [
        "**4.** Em Geometria Analítica, um **vetor** é uma quantidade que pode ser definida por um énuplo (uma sequência ordenada de *n* elementos) em que cada elemento representa a intensidade do vetor na direção especificada pela i-ésima componente desta sequência.\n",
        "\n",
        "Quando pensamos em duas dimensões, por exemplo, o vetor $R = (b,a)$ define, geometricamente, a entidade representada na figura abaixo, com componentes nos eixos x e y usuais.\n",
        "\n",
        "<img src = \"https://static.todamateria.com.br/upload/im/ag/image-721.jpg?auto_optimize=low\" />\n",
        "\n",
        "O **módulo** deste vetor, também chamado de intensidade, está geometricamente relacionado ao seu comprimento, e pode ser calculado diretamente pelas suas componentes, por meio de uma operação conhecida como **produto escalar** do vetor com ele mesmo. O módulo quadrático é expresso, desta forma, por:\n",
        "\n",
        "$|A|^2 = \\vec{A} \\cdot \\vec{A}$\n",
        "\n",
        "Por outro lado, o produto escalar entre dois vetores $A = (a_{x}, a_{y})$ e $B = (b_{x}, b_{y})$ é dado por:\n",
        "\n",
        "$\\vec{A} \\cdot \\vec{B} = a_{x} \\times b_{x} + a_{y} \\times b_{y}$ (e esta definição vale para qualquer que seja a dimensão do vetor).\n",
        "\n",
        "O módulo quadrático de um vetor é, portanto:\n",
        "\n",
        "$|A|² = a_{x}^2 + b_{x}^2$."
      ]
    },
    {
      "cell_type": "code",
      "execution_count": null,
      "metadata": {
        "id": "QzHi2IL6JmfT"
      },
      "outputs": [],
      "source": []
    }
  ],
  "metadata": {
    "colab": {
      "provenance": []
    },
    "kernelspec": {
      "display_name": "Python 3",
      "name": "python3"
    },
    "language_info": {
      "codemirror_mode": {
        "name": "ipython",
        "version": 3
      },
      "file_extension": ".py",
      "mimetype": "text/x-python",
      "name": "python",
      "nbconvert_exporter": "python",
      "pygments_lexer": "ipython3",
      "version": "3.11.4"
    }
  },
  "nbformat": 4,
  "nbformat_minor": 0
}
