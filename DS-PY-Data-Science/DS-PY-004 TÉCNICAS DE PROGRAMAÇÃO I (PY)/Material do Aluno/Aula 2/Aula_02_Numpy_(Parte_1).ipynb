{
  "nbformat": 4,
  "nbformat_minor": 0,
  "metadata": {
    "colab": {
      "provenance": []
    },
    "kernelspec": {
      "name": "python3",
      "display_name": "Python 3"
    },
    "language_info": {
      "name": "python"
    }
  },
  "cells": [
    {
      "cell_type": "markdown",
      "source": [
        "# Aula 02 - Numpy\n",
        "\n",
        "<img src=\"https://upload.wikimedia.org/wikipedia/commons/thumb/3/31/NumPy_logo_2020.svg/2560px-NumPy_logo_2020.svg.png\" alt=\"Alternative text\" />"
      ],
      "metadata": {
        "id": "RIgd-wNsselv"
      }
    },
    {
      "cell_type": "markdown",
      "source": [
        "____\n",
        "\n",
        "## **Contextualização:**\n",
        "\n",
        "Imagina que você precisa estudar dados de preço plano de saúde de diferentes grupos etários ao longo de um período de tempo.\n",
        "\n",
        "Você recebeu a tarefa de analisar os valores médios das faixas etárias (infância, adolescência, juventude, terceira idade) com os seguintes dados:\n",
        "\n",
        "* Valores das médias anuais para a infância na última década (2013-2022): [80.29, 136.34, 222.57, 232.36, 223.91, 221.31, 165.1, 165.61, 82.17, 158.27]\n",
        "* Valores das médias anuais para a adolescência na última década: [211.82, 349.92, 304.53, 208.8, 262.62, 250.55, 363.44, 138.23, 173.94, 138.16]\n",
        "* Valores das médias anuais para a juventude na última década: [417.59, 565.65, 189.64, 279.04, 572.94, 199.32, 579.69, 568.64, 399.83, 511.09]\n",
        "* Valores das médias anuais para a terceira idade: [686.64, 499.16, 848.05, 390.63, 879.84, 520.33, 796.55, 500.86, 416.4, 784.88]\n",
        "\n",
        "\n"
      ],
      "metadata": {
        "id": "6em_OSECsmJ-"
      }
    },
    {
      "cell_type": "code",
      "execution_count": null,
      "metadata": {
        "id": "qQzl3pIkseCK"
      },
      "outputs": [],
      "source": [
        "#Lista da infância:\n",
        "lista_inf = [80.29, 136.34, 222.57, 232.36, 223.91, 221.31, 165.1, 165.61, 82.17, 158.27]\n",
        "#Lista da adolescência\n",
        "lista_ado = [211.82, 349.92, 304.53, 208.8, 262.62, 250.55, 363.44, 138.23, 173.94, 138.16]\n",
        "#Lista da juventude\n",
        "lista_juv = [417.59, 565.65, 189.64, 279.04, 572.94, 199.32, 579.69, 568.64, 399.83, 511.09]\n",
        "#Lista da terceira idade\n",
        "lista_ter = [686.64, 499.16, 848.05, 390.63, 879.84, 520.33, 796.55, 500.86, 416.4, 784.88]"
      ]
    },
    {
      "cell_type": "code",
      "source": [
        "#Calculando a média anual para cada grupo\n"
      ],
      "metadata": {
        "id": "VwXL257Vu0pY"
      },
      "execution_count": null,
      "outputs": []
    },
    {
      "cell_type": "markdown",
      "source": [
        "## O que é numpy?\n",
        "\n",
        "A biblioteca **NumPy** _(Numerical Python)_ proporciona uma forma eficiente de armazenagem e processamento de conjuntos de dados, e é utilizada como base para a construção da biblioteca Pandas, que estudaremos a seguir.\n",
        "\n",
        "O diferencial do Numpy é sua velocidade e eficiência, o que faz com que ela seja amplamente utilizada para computação científica e análise de dados.\n",
        "\n",
        "A velocidade e eficiência é possível graças à estrutura chamada **numpy array**, que é um forma eficiente de guardar e manipular matrizes, que serve como base para as tabelas que iremos utilizar."
      ],
      "metadata": {
        "id": "mvRy3QGMxO8P"
      }
    },
    {
      "cell_type": "markdown",
      "source": [
        "[Guia rápido de uso da biblioteca](https://numpy.org/devdocs/user/quickstart.html)\n",
        "\n",
        "[Guia para iniciantes](https://numpy.org/devdocs/user/absolute_beginners.html)"
      ],
      "metadata": {
        "id": "EsClo8q0xaHy"
      }
    },
    {
      "cell_type": "markdown",
      "source": [
        "____\n",
        "\n",
        "### **Qual a diferença entre um numpy array e uma lista?**"
      ],
      "metadata": {
        "id": "gV3jm0Jcxbv9"
      }
    },
    {
      "cell_type": "markdown",
      "source": [
        "**numpy array:** armazena somente um tipo de dado (homogêneo), ocupando menos memória. É pensado para maior eficiência de cálculo.\n",
        "\n",
        "**lista:** permite armazenar dados de vários tipos."
      ],
      "metadata": {
        "id": "AvrbyPL6xf3u"
      }
    },
    {
      "cell_type": "markdown",
      "source": [
        "Vamos relembrar como definimos uma lista:"
      ],
      "metadata": {
        "id": "LYbjNJYrx3a1"
      }
    },
    {
      "cell_type": "code",
      "source": [],
      "metadata": {
        "id": "pL_Tamo5xHp2"
      },
      "execution_count": null,
      "outputs": []
    },
    {
      "cell_type": "code",
      "source": [
        "#Como adicionamos valores à lista\n"
      ],
      "metadata": {
        "id": "mP5wWW6sx69K"
      },
      "execution_count": null,
      "outputs": []
    },
    {
      "cell_type": "markdown",
      "source": [
        "Como então criamos um objeto **numpy array?**\n",
        "\n",
        "Primeiro, precisamos importar a biblioteca numpy."
      ],
      "metadata": {
        "id": "i5LXXsOlx_Lm"
      }
    },
    {
      "cell_type": "code",
      "source": [
        "#Importando a biblioteca numpy\n",
        "import numpy as np"
      ],
      "metadata": {
        "id": "1nkocaW_x9_0"
      },
      "execution_count": null,
      "outputs": []
    },
    {
      "cell_type": "markdown",
      "source": [
        "#### **Método np.array():**"
      ],
      "metadata": {
        "id": "AYSb7X2_ymkW"
      }
    },
    {
      "cell_type": "markdown",
      "source": [
        "Podemos criar um array a partir de uma lista, usando o método **np.array()**."
      ],
      "metadata": {
        "id": "L9NHUKC-yd7H"
      }
    },
    {
      "cell_type": "code",
      "source": [
        "#Criando uma lista\n"
      ],
      "metadata": {
        "id": "W9k8ACIeyL9c"
      },
      "execution_count": null,
      "outputs": []
    },
    {
      "cell_type": "code",
      "source": [],
      "metadata": {
        "id": "-PawpsAKywQ1"
      },
      "execution_count": null,
      "outputs": []
    },
    {
      "cell_type": "code",
      "source": [],
      "metadata": {
        "id": "oULxID2-yxIV"
      },
      "execution_count": null,
      "outputs": []
    },
    {
      "cell_type": "code",
      "source": [],
      "metadata": {
        "id": "FH0M2aLayx1d"
      },
      "execution_count": null,
      "outputs": []
    },
    {
      "cell_type": "code",
      "source": [],
      "metadata": {
        "id": "erhQafE_y1Ld"
      },
      "execution_count": null,
      "outputs": []
    },
    {
      "cell_type": "code",
      "source": [],
      "metadata": {
        "id": "tSDTr0VJy2BM"
      },
      "execution_count": null,
      "outputs": []
    },
    {
      "cell_type": "code",
      "source": [],
      "metadata": {
        "id": "hDjc9jYty4qF"
      },
      "execution_count": null,
      "outputs": []
    },
    {
      "cell_type": "markdown",
      "source": [
        "Um array não precisa ser necessariamente 1 vetor (de uma dimensão). Podemos criar arrays de mais de uma dimensão. Por exemplo, uma matriz 3x2."
      ],
      "metadata": {
        "id": "UgLZ7vBWy-VP"
      }
    },
    {
      "cell_type": "code",
      "source": [],
      "metadata": {
        "id": "qKaJsB6cy5nF"
      },
      "execution_count": null,
      "outputs": []
    },
    {
      "cell_type": "code",
      "source": [],
      "metadata": {
        "id": "R7ek9sYkzO81"
      },
      "execution_count": null,
      "outputs": []
    },
    {
      "cell_type": "code",
      "source": [],
      "metadata": {
        "id": "oeGgESn2zPtt"
      },
      "execution_count": null,
      "outputs": []
    },
    {
      "cell_type": "markdown",
      "source": [
        "Ou ainda, usando o **método reshape:**"
      ],
      "metadata": {
        "id": "0LI9rlsczjs2"
      }
    },
    {
      "cell_type": "code",
      "source": [],
      "metadata": {
        "id": "KLKQBZ9OzQat"
      },
      "execution_count": null,
      "outputs": []
    },
    {
      "cell_type": "code",
      "source": [],
      "metadata": {
        "id": "raCGRO8-z8_d"
      },
      "execution_count": null,
      "outputs": []
    },
    {
      "cell_type": "markdown",
      "source": [
        "**Obs.:** Veremos esse método com mais detalhes na próxima aula."
      ],
      "metadata": {
        "id": "EUaUIM-Pz-pN"
      }
    },
    {
      "cell_type": "markdown",
      "source": [
        "### **Outras formas de iniciar arrays:**"
      ],
      "metadata": {
        "id": "ONeWezU41-7t"
      }
    },
    {
      "cell_type": "markdown",
      "source": [
        "**Array de zeros:**"
      ],
      "metadata": {
        "id": "hkMZ_jE32CW9"
      }
    },
    {
      "cell_type": "code",
      "source": [],
      "metadata": {
        "id": "xnD0q5dmz9nF"
      },
      "execution_count": null,
      "outputs": []
    },
    {
      "cell_type": "markdown",
      "source": [
        "**Arrays de uns:**"
      ],
      "metadata": {
        "id": "dJ7yRhMd2Gnd"
      }
    },
    {
      "cell_type": "code",
      "source": [
        "np.ones(10)"
      ],
      "metadata": {
        "id": "0NMxa1wc2GAl"
      },
      "execution_count": null,
      "outputs": []
    },
    {
      "cell_type": "markdown",
      "source": [
        "**Arrays a partir do range:**"
      ],
      "metadata": {
        "id": "9nXTGXmK2OrN"
      }
    },
    {
      "cell_type": "code",
      "source": [],
      "metadata": {
        "id": "rUCQJDj02JZs"
      },
      "execution_count": null,
      "outputs": []
    },
    {
      "cell_type": "markdown",
      "source": [
        "### **Método np.arange:**\n",
        "\n",
        "Conseguimos fazer o que fizemos anteriormente com o range."
      ],
      "metadata": {
        "id": "TDo75jfz2yAl"
      }
    },
    {
      "cell_type": "code",
      "source": [
        "#Criando um array de números sequenciais\n"
      ],
      "metadata": {
        "id": "zJi3jdKC2Wuc"
      },
      "execution_count": null,
      "outputs": []
    },
    {
      "cell_type": "code",
      "source": [
        "#Criando um array de 1 a 19 de 2 em 2\n"
      ],
      "metadata": {
        "id": "mpKkE9fy3B1s"
      },
      "execution_count": null,
      "outputs": []
    },
    {
      "cell_type": "markdown",
      "source": [
        "O **padrão** é como no **range:**\n",
        "* (início, fim, passo);\n",
        "* Sem início: começa no zero;\n",
        "* Sem passo: passo será um."
      ],
      "metadata": {
        "id": "suQZcC2R3Msd"
      }
    },
    {
      "cell_type": "markdown",
      "source": [
        "## **Método np.linspace:**\n",
        "\n",
        "É um método usado para criar um array com valores igualmente espaçados dentro de um intervalo especificado.\n",
        "\n",
        "**Utilidade:** Desejamos gerar uma sequência de números com uma quantidade específica de elementos entre um valor inicial e final:\n",
        "\n",
        "**Sintaxe:**\n",
        "\n",
        "```(python)\n",
        "np.linspace(start,stop,num=50,endpint=True,retstep=False,dtype=None)\n",
        "```\n"
      ],
      "metadata": {
        "id": "eRHAPkbY3XbM"
      }
    },
    {
      "cell_type": "markdown",
      "source": [
        "* start: Valor inicial da sequência.\n",
        "* stop: Valor final da sequência.\n",
        "* num: Número de elementos a serem gerados. Por padrão, é igual a 50.\n",
        "* endpoint: Se True, o valor final (stop) é incluído no array resultante. Por padrão, é True.\n",
        "* retstep: Se True, retorna o espaçamento entre os valores gerados.\n",
        "* dtype: Tipo de dados dos elementos no array."
      ],
      "metadata": {
        "id": "TGaDVwHD4IA1"
      }
    },
    {
      "cell_type": "markdown",
      "source": [
        "Geralmente usamos: start, stop e num."
      ],
      "metadata": {
        "id": "ym_y9-jr4RBg"
      }
    },
    {
      "cell_type": "code",
      "source": [
        "#Gerar uma sequência de 20 números igualmente espaçados entre 30 e 100\n"
      ],
      "metadata": {
        "id": "NuBNf80V3Iak"
      },
      "execution_count": null,
      "outputs": []
    },
    {
      "cell_type": "markdown",
      "source": [
        "### **Método random:**\n",
        "\n",
        "<img src = \"https://numpy.org/devdocs/_images/np_ones_zeros_random.png\" />\n",
        "\n",
        "Ele oferece várias funções para geração de números aleatórios e é bastante útil para aplicações, desde simulações estatísticas até a criação de conjuntos de dados fictícios para testes."
      ],
      "metadata": {
        "id": "teH7r0wi4kdd"
      }
    },
    {
      "cell_type": "code",
      "source": [
        "#Gerar dados com distribuição uniforme entre 0 e 1:\n"
      ],
      "metadata": {
        "id": "vmHdGMPH4iX9"
      },
      "execution_count": null,
      "outputs": []
    },
    {
      "cell_type": "code",
      "source": [
        "import seaborn as sns"
      ],
      "metadata": {
        "id": "xWsPkRO_9bTd"
      },
      "execution_count": null,
      "outputs": []
    },
    {
      "cell_type": "markdown",
      "source": [
        "Plotando o gráfico da distribuição uniforme:\n",
        "\n",
        "<img src = \"https://www.uv.es/ceaces/base/modelos%20de%20probabilidad/Image12.gif\" />"
      ],
      "metadata": {
        "id": "3o8O4i2y9aoh"
      }
    },
    {
      "cell_type": "code",
      "source": [],
      "metadata": {
        "id": "IRwo2h-d9ei9"
      },
      "execution_count": null,
      "outputs": []
    },
    {
      "cell_type": "code",
      "source": [
        "#Gerar uma matriz 3x3\n"
      ],
      "metadata": {
        "id": "3U9XjCwv7_w1"
      },
      "execution_count": null,
      "outputs": []
    },
    {
      "cell_type": "code",
      "source": [
        "#Gerar um número inteiro aleatório dentro de um intervalo especificado\n"
      ],
      "metadata": {
        "id": "rhDoIF2_8Cm0"
      },
      "execution_count": null,
      "outputs": []
    },
    {
      "cell_type": "markdown",
      "source": [
        "Dentro deste módulo, há vários geradores de número aleatórios para fins mais especificos. No exemplo abaixo, trabalhamos com a função *randint*, que gera somente números inteiros no intervalo especificado."
      ],
      "metadata": {
        "id": "4pr7wRSZ8s-m"
      }
    },
    {
      "cell_type": "code",
      "source": [
        "#Gerar um vetor aleatório de tamanho 10, de 0 até 100\n"
      ],
      "metadata": {
        "id": "A-XEDFts8wo1"
      },
      "execution_count": null,
      "outputs": []
    },
    {
      "cell_type": "markdown",
      "source": [
        "Também conseguimos trabalhar com **distribuições estatísticas de probabilidade**. Vejamos, por exemplo, como é possível gerar números aleatórios que obedeçam a uma distribuição normal."
      ],
      "metadata": {
        "id": "SbV4GDd4878T"
      }
    },
    {
      "cell_type": "markdown",
      "source": [
        "<img src = \"https://www.allaboutcircuits.com/uploads/articles/an-introduction-to-the-normal-distribution-in-electrical-engineerin-rk-aac-image1.jpg\" />"
      ],
      "metadata": {
        "id": "xpU12Fnb8-_C"
      }
    },
    {
      "cell_type": "code",
      "source": [
        "#Gerar um array de valores aleatórios de distribuição normal\n"
      ],
      "metadata": {
        "id": "v5JLuUvd8Ij8"
      },
      "execution_count": null,
      "outputs": []
    },
    {
      "cell_type": "code",
      "source": [
        "#Gerar uma matriz 2x2 de valores aleatórios de distribuição normal\n"
      ],
      "metadata": {
        "id": "SPueqwlu8gj8"
      },
      "execution_count": null,
      "outputs": []
    },
    {
      "cell_type": "markdown",
      "source": [
        "Podemos plotar o gráfico de uma distribuição normal, usando a biblioteca seaborn:"
      ],
      "metadata": {
        "id": "m_ofmKyE8pKd"
      }
    },
    {
      "cell_type": "code",
      "source": [
        "# plotando distribuição normal com o seaborn\n"
      ],
      "metadata": {
        "id": "RJSwBl1y8j_D"
      },
      "execution_count": null,
      "outputs": []
    },
    {
      "cell_type": "markdown",
      "source": [
        "Podemos ainda gerar uma amostra aleatória a partir de uma matriz ou sequência usando o **random.choice()**:"
      ],
      "metadata": {
        "id": "xfKyKQm--GAW"
      }
    },
    {
      "cell_type": "code",
      "source": [
        "#Gerar uma amostra aleatória a partir de um objeto aleatório\n"
      ],
      "metadata": {
        "id": "aQ9mlSkM-Ljj"
      },
      "execution_count": null,
      "outputs": []
    },
    {
      "cell_type": "markdown",
      "source": [
        "Podemos também definir uma **semente (seed)** para gerar números pseudoaleatórios.\n",
        "\n",
        "**Utilidade:** Permite reproduzir a mesma sequência de números aleatórios em diferentes execuções do código, desde que a mesma semente seja usada."
      ],
      "metadata": {
        "id": "P-X3lNZl-c1P"
      }
    },
    {
      "cell_type": "code",
      "source": [
        "#Definir a semente para garantir a mesma sequência\n",
        "\n",
        "#Gerar uma sequência aleatória\n"
      ],
      "metadata": {
        "id": "iKwwOGze-TX0"
      },
      "execution_count": null,
      "outputs": []
    },
    {
      "cell_type": "markdown",
      "source": [
        "**Obs.:** Se eu rodar de novo sem o seed?"
      ],
      "metadata": {
        "id": "ccvX2oDG-3a8"
      }
    },
    {
      "cell_type": "code",
      "source": [],
      "metadata": {
        "id": "PDFn1MyZ-ycz"
      },
      "execution_count": null,
      "outputs": []
    },
    {
      "cell_type": "markdown",
      "source": [
        "É definido apenas para aquela célula."
      ],
      "metadata": {
        "id": "C16YTBC_-7Rd"
      }
    },
    {
      "cell_type": "markdown",
      "source": [
        "## **Indexação de Arrays:**\n",
        "\n",
        "É possível acessar elementos individuais dos arrays pelos **índices**, da mesma forma que fazemos com listas."
      ],
      "metadata": {
        "id": "W24EaQ9X-_mW"
      }
    },
    {
      "cell_type": "code",
      "source": [
        "#Criando um array sequencial de 1 a 20\n"
      ],
      "metadata": {
        "id": "rx1f1SYX-6mC"
      },
      "execution_count": null,
      "outputs": []
    },
    {
      "cell_type": "code",
      "source": [
        "#Acessando elementos individuais\n"
      ],
      "metadata": {
        "id": "bEsW8bqh_L78"
      },
      "execution_count": null,
      "outputs": []
    },
    {
      "cell_type": "code",
      "source": [
        "#Acessando índices negativos\n"
      ],
      "metadata": {
        "id": "iwtxCTgF_PCT"
      },
      "execution_count": null,
      "outputs": []
    },
    {
      "cell_type": "code",
      "source": [
        "#Fazendo slicing\n"
      ],
      "metadata": {
        "id": "clFRQT3f_R2M"
      },
      "execution_count": null,
      "outputs": []
    },
    {
      "cell_type": "code",
      "source": [
        "#Slicing sem início\n"
      ],
      "metadata": {
        "id": "bDVs7w8t_Upk"
      },
      "execution_count": null,
      "outputs": []
    },
    {
      "cell_type": "code",
      "source": [
        "#Slicing sem fim\n"
      ],
      "metadata": {
        "id": "CmDleXAd_Z4k"
      },
      "execution_count": null,
      "outputs": []
    },
    {
      "cell_type": "markdown",
      "source": [
        "<img src = \"https://numpy.org/devdocs/_images/np_indexing.png\" />"
      ],
      "metadata": {
        "id": "dUGF1gkl_gf_"
      }
    },
    {
      "cell_type": "markdown",
      "source": [
        "**E como funciona para matrizes?**"
      ],
      "metadata": {
        "id": "RkjKFkRa_hdV"
      }
    },
    {
      "cell_type": "code",
      "source": [
        "# Criar uma matriz de exemplo\n"
      ],
      "metadata": {
        "id": "d531Uau9_dgE"
      },
      "execution_count": null,
      "outputs": []
    },
    {
      "cell_type": "markdown",
      "source": [
        "**Slicing por linhas e colunas:** Para selecionar uma parte específica da matriz, você pode usar a notação:\n",
        "\n",
        "```[linha_inicio:linha_fim, coluna_inicio:coluna_fim]```"
      ],
      "metadata": {
        "id": "dHQ1YWRH_1oo"
      }
    },
    {
      "cell_type": "code",
      "source": [
        "# Selecionar todas as linhas até a segunda e todas as colunas até a segunda\n"
      ],
      "metadata": {
        "id": "-zgeYF5j_vEB"
      },
      "execution_count": null,
      "outputs": []
    },
    {
      "cell_type": "markdown",
      "source": [
        "**Selecionando uma linha ou coluna específica:** Para selecionar uma linha ou coluna específica, use apenas um índice."
      ],
      "metadata": {
        "id": "q0LP50VY_9c9"
      }
    },
    {
      "cell_type": "code",
      "source": [
        "# Selecionar a segunda coluna\n"
      ],
      "metadata": {
        "id": "k71izD-0_yZl"
      },
      "execution_count": null,
      "outputs": []
    },
    {
      "cell_type": "code",
      "source": [
        "# Selecionar a segunda linha\n"
      ],
      "metadata": {
        "id": "adCXjtX9_ypL"
      },
      "execution_count": null,
      "outputs": []
    },
    {
      "cell_type": "markdown",
      "source": [
        "**Slicing com passo:** Você pode especificar um passo para avançar de maneira diferente pelos elementos da matriz:"
      ],
      "metadata": {
        "id": "oUoueZO9AO6S"
      }
    },
    {
      "cell_type": "code",
      "source": [
        "# Selecionar cada segundo elemento da primeira linha\n"
      ],
      "metadata": {
        "id": "rCGYGEM3AJFs"
      },
      "execution_count": null,
      "outputs": []
    },
    {
      "cell_type": "markdown",
      "source": [
        "**Indexação usando arrays de índices:** Você pode indexar matrizes NumPy usando arrays de índices para selecionar elementos específicos:"
      ],
      "metadata": {
        "id": "x_nOGRfNAlJM"
      }
    },
    {
      "cell_type": "code",
      "source": [],
      "metadata": {
        "id": "R74CCpwxASpU"
      },
      "execution_count": null,
      "outputs": []
    },
    {
      "cell_type": "markdown",
      "source": [
        "Temos aqui uma submatriz contendo as linhas 0 e 2 da matriz original"
      ],
      "metadata": {
        "id": "GDcqU6AmAyoI"
      }
    },
    {
      "cell_type": "markdown",
      "source": [
        "## **Operações simples:**\n",
        "\n",
        "\n",
        "As operações com arrays no NumPy oferecem uma forma eficiente de realizar operações matemáticas e manipulações de dados em arrays multidimensionais. Essas operações são vetorizadas, o que significa que são aplicadas a todos os elementos do array sem a necessidade de loops explícitos, tornando o código mais conciso e rápido."
      ],
      "metadata": {
        "id": "Y5Eu4O7xA3XY"
      }
    },
    {
      "cell_type": "markdown",
      "source": [
        "### **Operações matemáticas:**"
      ],
      "metadata": {
        "id": "scy9vNrVEwgO"
      }
    },
    {
      "cell_type": "markdown",
      "source": [
        "____\n",
        "Vamos relembrar primeiro com uma lista:"
      ],
      "metadata": {
        "id": "IYsPJOCaB1Ce"
      }
    },
    {
      "cell_type": "code",
      "source": [
        "#Criando duas listas:\n"
      ],
      "metadata": {
        "id": "tR060JbLAsBz"
      },
      "execution_count": null,
      "outputs": []
    },
    {
      "cell_type": "code",
      "source": [
        "#Multiplicando uma lista por um número\n"
      ],
      "metadata": {
        "id": "rQeLefVYCIsE"
      },
      "execution_count": null,
      "outputs": []
    },
    {
      "cell_type": "code",
      "source": [
        "#Somando uma lista com um número\n"
      ],
      "metadata": {
        "id": "Op3LSXDZCRJM"
      },
      "execution_count": null,
      "outputs": []
    },
    {
      "cell_type": "markdown",
      "source": [
        "São 2 objetos diferentes e só conseguimos somar listas com listas"
      ],
      "metadata": {
        "id": "H8E0CJ4ACdwO"
      }
    },
    {
      "cell_type": "code",
      "source": [
        "#Acrescentando um número a uma lista (ou soma)\n"
      ],
      "metadata": {
        "id": "H3tkY_dXCVrz"
      },
      "execution_count": null,
      "outputs": []
    },
    {
      "cell_type": "code",
      "source": [
        "#somando a lista_1 e lista_2\n"
      ],
      "metadata": {
        "id": "zz2L1xw4ChHn"
      },
      "execution_count": null,
      "outputs": []
    },
    {
      "cell_type": "markdown",
      "source": [
        "E se eu quiser fazer as operações (+, -, *, /, **) entre os elementos das listas?"
      ],
      "metadata": {
        "id": "kV0WOgxECnIw"
      }
    },
    {
      "cell_type": "code",
      "source": [
        "#Criar uma lista que é o quadrado da lista_1\n"
      ],
      "metadata": {
        "id": "nuahePXECkt0"
      },
      "execution_count": null,
      "outputs": []
    },
    {
      "cell_type": "code",
      "source": [
        "#Podemos ainda fazer com o list comprehension\n"
      ],
      "metadata": {
        "id": "unn4qUfXC04D"
      },
      "execution_count": null,
      "outputs": []
    },
    {
      "cell_type": "markdown",
      "source": [
        "Agora veremos o poder do numpy:"
      ],
      "metadata": {
        "id": "SON9x1ESC9K9"
      }
    },
    {
      "cell_type": "code",
      "source": [
        "#Vamos criar um array com a lista_1\n"
      ],
      "metadata": {
        "id": "H0TLkY56C6eU"
      },
      "execution_count": null,
      "outputs": []
    },
    {
      "cell_type": "code",
      "source": [],
      "metadata": {
        "id": "VFAfyZo_DB_L"
      },
      "execution_count": null,
      "outputs": []
    },
    {
      "cell_type": "code",
      "source": [
        "#Somando o array com o número 2\n"
      ],
      "metadata": {
        "id": "Y9GWjJthDHwb"
      },
      "execution_count": null,
      "outputs": []
    },
    {
      "cell_type": "code",
      "source": [
        "#Somando o array_1 com o array_2\n"
      ],
      "metadata": {
        "id": "Km6rJ6_JDLeL"
      },
      "execution_count": null,
      "outputs": []
    },
    {
      "cell_type": "code",
      "source": [
        "#Multiplicando um array por um número\n"
      ],
      "metadata": {
        "id": "dSdodMCYDUUj"
      },
      "execution_count": null,
      "outputs": []
    },
    {
      "cell_type": "code",
      "source": [
        "#Multiplicando um array pelo outro\n"
      ],
      "metadata": {
        "id": "jKVArHm9Dd1M"
      },
      "execution_count": null,
      "outputs": []
    },
    {
      "cell_type": "code",
      "source": [
        "#Elevando um array ao quadrado\n"
      ],
      "metadata": {
        "id": "aIXD2SHxDiKb"
      },
      "execution_count": null,
      "outputs": []
    },
    {
      "cell_type": "markdown",
      "source": [
        "Podemos fazer isso usando as funções apresentadas anteriormente também:"
      ],
      "metadata": {
        "id": "kQBjvUtcD-oW"
      }
    },
    {
      "cell_type": "code",
      "source": [
        "#Criando um array de 5 com a função ones\n"
      ],
      "metadata": {
        "id": "bOaJYC2YD7_M"
      },
      "execution_count": null,
      "outputs": []
    },
    {
      "cell_type": "code",
      "source": [
        "#Criando um array de 5 com a função zeros\n"
      ],
      "metadata": {
        "id": "7EhudVs4EGij"
      },
      "execution_count": null,
      "outputs": []
    },
    {
      "cell_type": "code",
      "source": [
        "#Dividir um array por um número\n"
      ],
      "metadata": {
        "id": "EZPQXdYVELWL"
      },
      "execution_count": null,
      "outputs": []
    },
    {
      "cell_type": "code",
      "source": [
        "#Dividir um array pelo outro\n"
      ],
      "metadata": {
        "id": "_F6Oc80MESST"
      },
      "execution_count": null,
      "outputs": []
    },
    {
      "cell_type": "markdown",
      "source": [
        "**Obs.1:** As operações elementos a elementos tem que respeitar a dimensão dos arrays:"
      ],
      "metadata": {
        "id": "u7mjGQtyEYPs"
      }
    },
    {
      "cell_type": "code",
      "source": [
        "#Criar array 3 (2 elementos)\n",
        "\n",
        "#Somar array_1 com array_3\n"
      ],
      "metadata": {
        "id": "E3rXPa2sEVD0"
      },
      "execution_count": null,
      "outputs": []
    },
    {
      "cell_type": "markdown",
      "source": [
        "### **Operações de comparação e lógica:**\n",
        "\n",
        "O NumPy permite realizar operações de comparação (<, <=, >, >=, ==, !=) e operações lógicas (&, |, ~) entre arrays, criando arrays booleanos como resultado."
      ],
      "metadata": {
        "id": "-JeNXAJwEraU"
      }
    },
    {
      "cell_type": "code",
      "source": [
        "\n"
      ],
      "metadata": {
        "id": "ZOYty8A4Eljm"
      },
      "execution_count": null,
      "outputs": []
    },
    {
      "cell_type": "code",
      "source": [
        "#Operação de comparação\n"
      ],
      "metadata": {
        "id": "lFY7ZKWeE-8r"
      },
      "execution_count": null,
      "outputs": []
    },
    {
      "cell_type": "code",
      "source": [
        "#Operações de lógica\n"
      ],
      "metadata": {
        "id": "82RskaJrFEor"
      },
      "execution_count": null,
      "outputs": []
    },
    {
      "cell_type": "code",
      "source": [],
      "metadata": {
        "id": "uYVj4ks0FOIc"
      },
      "execution_count": null,
      "outputs": []
    },
    {
      "cell_type": "code",
      "source": [],
      "metadata": {
        "id": "Gkyv76ZsFSSs"
      },
      "execution_count": null,
      "outputs": []
    },
    {
      "cell_type": "markdown",
      "source": [
        "## Funções matemáticas universais\n",
        "\n",
        "O NumPy fornece funções matemáticas universais (np.sin(), np.cos(), np.exp(), np.sqrt(), etc.) que podem ser aplicadas a arrays NumPy, realizando a operação especificada em cada elemento do array.\n",
        "\n",
        "Muitos destes serão herdados pelo pandas, então os usaremos bastante no futuro próximo!"
      ],
      "metadata": {
        "id": "zkzXae3GFak_"
      }
    },
    {
      "cell_type": "code",
      "source": [
        "#ver o array_1\n"
      ],
      "metadata": {
        "id": "CB5oPqP5FTq0"
      },
      "execution_count": null,
      "outputs": []
    },
    {
      "cell_type": "code",
      "source": [
        "# Aplicar a função de exponenciação a todos os elementos\n"
      ],
      "metadata": {
        "id": "faN3Vbh7FpXj"
      },
      "execution_count": null,
      "outputs": []
    },
    {
      "cell_type": "code",
      "source": [],
      "metadata": {
        "id": "n72H-E7oFvaU"
      },
      "execution_count": null,
      "outputs": []
    },
    {
      "cell_type": "code",
      "source": [
        "# Aplicar a função de seno a todos os elementos\n"
      ],
      "metadata": {
        "id": "2J5jX44gFwlz"
      },
      "execution_count": null,
      "outputs": []
    },
    {
      "cell_type": "code",
      "source": [
        "# Aplicar a função de cosseno a todos os elementos\n"
      ],
      "metadata": {
        "id": "G2JfdLjvF0lT"
      },
      "execution_count": null,
      "outputs": []
    },
    {
      "cell_type": "code",
      "source": [
        "# Aplicar a função da raiz quadrada a todos os elementos\n"
      ],
      "metadata": {
        "id": "8lxxd2--F7aj"
      },
      "execution_count": null,
      "outputs": []
    },
    {
      "cell_type": "markdown",
      "source": [
        "### **Operações de redução:**\n",
        "\n",
        "O NumPy oferece operações de redução, como soma (np.sum()), média (np.mean()), máximo (np.max()), mínimo (np.min()), entre outras. Essas operações agregam os valores do array em um único resultado."
      ],
      "metadata": {
        "id": "VuqBgVkmGGur"
      }
    },
    {
      "cell_type": "code",
      "source": [
        "# fixando a seed: números aleatórios reproduzíveis, com np.random.seed()\n"
      ],
      "metadata": {
        "id": "FawISoK4GQVF"
      },
      "execution_count": null,
      "outputs": []
    },
    {
      "cell_type": "code",
      "source": [
        "# maior valor\n"
      ],
      "metadata": {
        "id": "WkRattlMGBKb"
      },
      "execution_count": null,
      "outputs": []
    },
    {
      "cell_type": "code",
      "source": [
        "# indice do elemento máximo\n"
      ],
      "metadata": {
        "id": "o5-C2GVxGTC7"
      },
      "execution_count": null,
      "outputs": []
    },
    {
      "cell_type": "code",
      "source": [
        "# menor valor\n"
      ],
      "metadata": {
        "id": "VtaIXNkZGUWD"
      },
      "execution_count": null,
      "outputs": []
    },
    {
      "cell_type": "code",
      "source": [
        "# indice do elemento minimo\n"
      ],
      "metadata": {
        "id": "zdAtcTgaGXoL"
      },
      "execution_count": null,
      "outputs": []
    },
    {
      "cell_type": "code",
      "source": [
        "# soma de todos os items\n"
      ],
      "metadata": {
        "id": "1VdTk8UJGY5s"
      },
      "execution_count": null,
      "outputs": []
    },
    {
      "cell_type": "code",
      "source": [
        "# media dos elementos\n"
      ],
      "metadata": {
        "id": "o9Vpp9U2Gawz"
      },
      "execution_count": null,
      "outputs": []
    },
    {
      "cell_type": "markdown",
      "source": [
        "### Outros métodos úteis\n",
        "\n",
        "O numpy é uma ferramenta poderosa para lidar com cálculos numéricos e é base para o pandas, de modo que conseguimos manipular os dados de forma eficiente e concisa em arrays multidimensionais."
      ],
      "metadata": {
        "id": "zEt9VskxGe1P"
      }
    },
    {
      "cell_type": "code",
      "source": [
        "# desvio padrão\n"
      ],
      "metadata": {
        "id": "b1Ja_rPHGcgj"
      },
      "execution_count": null,
      "outputs": []
    },
    {
      "cell_type": "code",
      "source": [
        "# ordenar a lista\n",
        "# por padrão, essa operação ocorre \"inplace\"\n",
        "# ou seja, ela ordena o objeto original, e não retorna nada\n"
      ],
      "metadata": {
        "id": "-g6dDp86GsAz"
      },
      "execution_count": null,
      "outputs": []
    },
    {
      "cell_type": "code",
      "source": [
        "# Trocando o tipo dos dados nas lista com o .astype()\n"
      ],
      "metadata": {
        "id": "zYjW-vMoGvjj"
      },
      "execution_count": null,
      "outputs": []
    },
    {
      "cell_type": "markdown",
      "source": [
        "## Para praticar (Hora boa)!!\n",
        "\n",
        "Vamos dividi-los em grupo para resolução dos seguintes exercícios, usando numpy."
      ],
      "metadata": {
        "id": "z1H7a8E5G0A1"
      }
    },
    {
      "cell_type": "markdown",
      "source": [
        "**1.** Escreva uma função que receba dois argumentos: um número qualquer de arrays (de mesmo tamanho) em numpy; e o número de elementos de cada array. A função deve retornar um escalar que representa a soma total de todos estes arrays. Inclua na função uma condição de verificação em que, caso haja um array de tamanho distinto dos demais, um erro seja retornado."
      ],
      "metadata": {
        "id": "0RBxhUDPHDPw"
      }
    },
    {
      "cell_type": "code",
      "source": [],
      "metadata": {
        "id": "J3MWvo5TGxeT"
      },
      "execution_count": null,
      "outputs": []
    },
    {
      "cell_type": "markdown",
      "source": [
        "**2.** Em estatística, a normalização de uma distribuição de dados pode ser feita subtraindo o valor médio da distribuição de cada valor do conjunto de dados, dividindo o resultado pelo desvio-padrão da distribuição.\n",
        "\n",
        "Escreva uma função que normalize os dados recebidos por um array numpy qualquer, conforme descrito anteriormente."
      ],
      "metadata": {
        "id": "U5qyhvkKHqq4"
      }
    },
    {
      "cell_type": "code",
      "source": [],
      "metadata": {
        "id": "i7wZR8oFHnOz"
      },
      "execution_count": null,
      "outputs": []
    },
    {
      "cell_type": "markdown",
      "source": [
        "**3.** Escreva uma função em numpy que receba um array contendo notas de uma turma de 100 estudantes. Considere que a nota de aprovação da turma é 5.0. A função deve retornar, em um array numpy, nesta ordem:\n",
        "- a média e o desvio-padrão das notas da turma;\n",
        "- o número de notas maiores que 7.0;\n",
        "- o número de reprovações da turma;\n",
        "- a menor nota da turma;\n",
        "- a maior nota da turma."
      ],
      "metadata": {
        "id": "4C7_WFvMIaEe"
      }
    },
    {
      "cell_type": "code",
      "source": [],
      "metadata": {
        "id": "0sc4zFPjJkLj"
      },
      "execution_count": null,
      "outputs": []
    },
    {
      "cell_type": "markdown",
      "source": [
        "**4.** Em Geometria Analítica, um **vetor** é uma quantidade que pode ser definida por um énuplo (uma sequência ordenada de *n* elementos) em que cada elemento representa a intensidade do vetor na direção especificada pela i-ésima componente desta sequência.\n",
        "\n",
        "Quando pensamos em duas dimensões, por exemplo, o vetor $R = (b,a)$ define, geometricamente, a entidade representada na figura abaixo, com componentes nos eixos x e y usuais.\n",
        "\n",
        "<img src = \"https://static.todamateria.com.br/upload/im/ag/image-721.jpg?auto_optimize=low\" />\n",
        "\n",
        "O **módulo** deste vetor, também chamado de intensidade, está geometricamente relacionado ao seu comprimento, e pode ser calculado diretamente pelas suas componentes, por meio de uma operação conhecida como **produto escalar** do vetor com ele mesmo. O módulo quadrático é expresso, desta forma, por:\n",
        "\n",
        "$|A|^2 = \\vec{A} \\cdot \\vec{A}$\n",
        "\n",
        "Por outro lado, o produto escalar entre dois vetores $A = (a_{x}, a_{y})$ e $B = (b_{x}, b_{y})$ é dado por:\n",
        "\n",
        "$\\vec{A} \\cdot \\vec{B} = a_{x} \\times b_{x} + a_{y} \\times b_{y}$ (e esta definição vale para qualquer que seja a dimensão do vetor).\n",
        "\n",
        "O módulo quadrático de um vetor é, portanto:\n",
        "\n",
        "$|A|² = a_{x}^2 + b_{x}^2$."
      ],
      "metadata": {
        "id": "z9a_BRVwJ08x"
      }
    },
    {
      "cell_type": "code",
      "source": [],
      "metadata": {
        "id": "QzHi2IL6JmfT"
      },
      "execution_count": null,
      "outputs": []
    }
  ]
}