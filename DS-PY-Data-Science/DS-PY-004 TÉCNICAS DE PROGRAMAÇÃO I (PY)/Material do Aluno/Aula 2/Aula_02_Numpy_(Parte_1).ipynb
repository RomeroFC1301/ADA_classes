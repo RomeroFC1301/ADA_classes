{
 "cells": [
  {
   "cell_type": "markdown",
   "metadata": {
    "application/vnd.databricks.v1+cell": {
     "cellMetadata": {},
     "inputWidgets": {},
     "nuid": "201814e4-659d-4916-987e-d8fa3c722e1f",
     "showTitle": false,
     "title": ""
    },
    "id": "RIgd-wNsselv"
   },
   "source": [
    "# Aula 02 - Numpy\n",
    "\n",
    "<img src=\"https://upload.wikimedia.org/wikipedia/commons/thumb/3/31/NumPy_logo_2020.svg/2560px-NumPy_logo_2020.svg.png\" alt=\"Alternative text\" />"
   ]
  },
  {
   "cell_type": "markdown",
   "metadata": {
    "application/vnd.databricks.v1+cell": {
     "cellMetadata": {},
     "inputWidgets": {},
     "nuid": "3aea6d82-67b6-4d1f-aaf0-573efdbc49cd",
     "showTitle": false,
     "title": ""
    },
    "id": "6em_OSECsmJ-"
   },
   "source": [
    "____\n",
    "\n",
    "## **Contextualização:**\n",
    "\n",
    "Imagina que você precisa estudar dados de preço plano de saúde de diferentes grupos etários ao longo de um período de tempo.\n",
    "\n",
    "Você recebeu a tarefa de analisar os valores médios das faixas etárias (infância, adolescência, juventude, terceira idade) com os seguintes dados:\n",
    "\n",
    "* Valores das médias anuais para a infância na última década (2013-2022): [80.29, 136.34, 222.57, 232.36, 223.91, 221.31, 165.1, 165.61, 82.17, 158.27]\n",
    "* Valores das médias anuais para a adolescência na última década: [211.82, 349.92, 304.53, 208.8, 262.62, 250.55, 363.44, 138.23, 173.94, 138.16]\n",
    "* Valores das médias anuais para a juventude na última década: [417.59, 565.65, 189.64, 279.04, 572.94, 199.32, 579.69, 568.64, 399.83, 511.09]\n",
    "* Valores das médias anuais para a terceira idade: [686.64, 499.16, 848.05, 390.63, 879.84, 520.33, 796.55, 500.86, 416.4, 784.88]\n",
    "\n",
    "\n"
   ]
  },
  {
   "cell_type": "code",
   "execution_count": 0,
   "metadata": {
    "application/vnd.databricks.v1+cell": {
     "cellMetadata": {},
     "inputWidgets": {},
     "nuid": "b960d709-33ac-431c-8e39-8c972af741c8",
     "showTitle": false,
     "title": ""
    },
    "id": "qQzl3pIkseCK"
   },
   "outputs": [],
   "source": [
    "#Lista da infância:\n",
    "lista_inf = [80.29, 136.34, 222.57, 232.36, 223.91, 221.31, 165.1, 165.61, 82.17, 158.27]\n",
    "#Lista da adolescência\n",
    "lista_ado = [211.82, 349.92, 304.53, 208.8, 262.62, 250.55, 363.44, 138.23, 173.94, 138.16]\n",
    "#Lista da juventude\n",
    "lista_juv = [417.59, 565.65, 189.64, 279.04, 572.94, 199.32, 579.69, 568.64, 399.83, 511.09]\n",
    "#Lista da terceira idade\n",
    "lista_ter = [686.64, 499.16, 848.05, 390.63, 879.84, 520.33, 796.55, 500.86, 416.4, 784.88]"
   ]
  },
  {
   "cell_type": "code",
   "execution_count": 0,
   "metadata": {
    "application/vnd.databricks.v1+cell": {
     "cellMetadata": {},
     "inputWidgets": {},
     "nuid": "eac1beea-e422-4efe-9f13-bbde88ffa7db",
     "showTitle": false,
     "title": ""
    },
    "id": "VwXL257Vu0pY"
   },
   "outputs": [],
   "source": [
    "#Calculando a média anual para cada grupo\n",
    "media_inf = sum(lista_inf)/len(lista_inf)\n",
    "print(f'A média do plano de saúde para a infância na última década é: {round(media_inf,2)}.')\n",
    "media_ado = sum(lista_ado)/len(lista_ado)\n",
    "print(f'A média do plano de saúde para a adolescência na última década é: {round(media_ado,2)}.')\n",
    "media_juv = sum(lista_juv)/len(lista_juv)\n",
    "print(f'A média do plano de saúde para a juventude na última década é: {round(media_juv,2)}.')\n",
    "media_ter = sum(lista_ter)/len(lista_ter)\n",
    "print(f'A média do plano de saúde para a terceira idade na última década é: {round(media_ter,2)}.')"
   ]
  },
  {
   "cell_type": "markdown",
   "metadata": {
    "application/vnd.databricks.v1+cell": {
     "cellMetadata": {},
     "inputWidgets": {},
     "nuid": "918e18ff-abab-4a26-9772-12d156f52dd5",
     "showTitle": false,
     "title": ""
    },
    "id": "mvRy3QGMxO8P"
   },
   "source": [
    "## O que é numpy?\n",
    "\n",
    "A biblioteca **NumPy** _(Numerical Python)_ proporciona uma forma eficiente de armazenagem e processamento de conjuntos de dados, e é utilizada como base para a construção da biblioteca Pandas, que estudaremos a seguir.\n",
    "\n",
    "O diferencial do Numpy é sua velocidade e eficiência, o que faz com que ela seja amplamente utilizada para computação científica e análise de dados.\n",
    "\n",
    "A velocidade e eficiência é possível graças à estrutura chamada **numpy array**, que é um forma eficiente de guardar e manipular matrizes, que serve como base para as tabelas que iremos utilizar."
   ]
  },
  {
   "cell_type": "markdown",
   "metadata": {
    "application/vnd.databricks.v1+cell": {
     "cellMetadata": {},
     "inputWidgets": {},
     "nuid": "dd9c24ce-943f-4e19-8134-10d82b7377d7",
     "showTitle": false,
     "title": ""
    },
    "id": "EsClo8q0xaHy"
   },
   "source": [
    "[Guia rápido de uso da biblioteca](https://numpy.org/devdocs/user/quickstart.html)\n",
    "\n",
    "[Guia para iniciantes](https://numpy.org/devdocs/user/absolute_beginners.html)"
   ]
  },
  {
   "cell_type": "markdown",
   "metadata": {
    "application/vnd.databricks.v1+cell": {
     "cellMetadata": {},
     "inputWidgets": {},
     "nuid": "ea1b999d-1f80-4b8b-a808-133bac6fe05f",
     "showTitle": false,
     "title": ""
    },
    "id": "gV3jm0Jcxbv9"
   },
   "source": [
    "____\n",
    "\n",
    "### **Qual a diferença entre um numpy array e uma lista?**"
   ]
  },
  {
   "cell_type": "markdown",
   "metadata": {
    "application/vnd.databricks.v1+cell": {
     "cellMetadata": {},
     "inputWidgets": {},
     "nuid": "e40a8240-497e-41c9-90f9-a47ea1453f8c",
     "showTitle": false,
     "title": ""
    },
    "id": "AvrbyPL6xf3u"
   },
   "source": [
    "**numpy array:** armazena somente um tipo de dado (homogêneo), ocupando menos memória. É pensado para maior eficiência de cálculo.\n",
    "\n",
    "**lista:** permite armazenar dados de vários tipos."
   ]
  },
  {
   "cell_type": "markdown",
   "metadata": {
    "application/vnd.databricks.v1+cell": {
     "cellMetadata": {},
     "inputWidgets": {},
     "nuid": "f3b5900f-89be-491f-bbc2-89844488c430",
     "showTitle": false,
     "title": ""
    },
    "id": "LYbjNJYrx3a1"
   },
   "source": [
    "Vamos relembrar como definimos uma lista:"
   ]
  },
  {
   "cell_type": "code",
   "execution_count": 0,
   "metadata": {
    "application/vnd.databricks.v1+cell": {
     "cellMetadata": {},
     "inputWidgets": {},
     "nuid": "a047900c-ba96-4817-b163-e9954642c7af",
     "showTitle": false,
     "title": ""
    },
    "id": "pL_Tamo5xHp2"
   },
   "outputs": [],
   "source": [
    "lista = ['Unimed', 1108, 3.14, True, [2,4], (1,5), {'Turma Unimed':1108}]"
   ]
  },
  {
   "cell_type": "code",
   "execution_count": 0,
   "metadata": {
    "application/vnd.databricks.v1+cell": {
     "cellMetadata": {},
     "inputWidgets": {},
     "nuid": "a4b52d90-2152-4abd-8fe7-f378a6b8b289",
     "showTitle": false,
     "title": ""
    }
   },
   "outputs": [],
   "source": [
    "lista"
   ]
  },
  {
   "cell_type": "code",
   "execution_count": 0,
   "metadata": {
    "application/vnd.databricks.v1+cell": {
     "cellMetadata": {},
     "inputWidgets": {},
     "nuid": "488fb865-8a1f-45ef-8994-a0bc86586e7f",
     "showTitle": false,
     "title": ""
    },
    "id": "mP5wWW6sx69K"
   },
   "outputs": [],
   "source": [
    "#Como adicionamos valores à lista\n",
    "lista.append({'Professores':['Allan','Romero']})"
   ]
  },
  {
   "cell_type": "code",
   "execution_count": 0,
   "metadata": {
    "application/vnd.databricks.v1+cell": {
     "cellMetadata": {},
     "inputWidgets": {},
     "nuid": "549ad966-f474-4677-a2b5-78b22fbca8eb",
     "showTitle": false,
     "title": ""
    }
   },
   "outputs": [],
   "source": [
    "lista"
   ]
  },
  {
   "cell_type": "markdown",
   "metadata": {
    "application/vnd.databricks.v1+cell": {
     "cellMetadata": {},
     "inputWidgets": {},
     "nuid": "a5ede59e-abec-4ddd-a8f1-336c671ba77b",
     "showTitle": false,
     "title": ""
    },
    "id": "i5LXXsOlx_Lm"
   },
   "source": [
    "Como então criamos um objeto **numpy array?**\n",
    "\n",
    "Primeiro, precisamos importar a biblioteca numpy."
   ]
  },
  {
   "cell_type": "code",
   "execution_count": 0,
   "metadata": {
    "application/vnd.databricks.v1+cell": {
     "cellMetadata": {},
     "inputWidgets": {},
     "nuid": "f8219638-5544-49ee-b48f-c139ad14c8b6",
     "showTitle": false,
     "title": ""
    },
    "id": "1nkocaW_x9_0"
   },
   "outputs": [],
   "source": [
    "#Importando a biblioteca numpy\n",
    "import numpy as np"
   ]
  },
  {
   "cell_type": "markdown",
   "metadata": {
    "application/vnd.databricks.v1+cell": {
     "cellMetadata": {},
     "inputWidgets": {},
     "nuid": "dda714ee-9cf0-4e3e-96af-857a526a241e",
     "showTitle": false,
     "title": ""
    },
    "id": "AYSb7X2_ymkW"
   },
   "source": [
    "#### **Método np.array():**"
   ]
  },
  {
   "cell_type": "markdown",
   "metadata": {
    "application/vnd.databricks.v1+cell": {
     "cellMetadata": {},
     "inputWidgets": {},
     "nuid": "51617a2a-37de-4e0b-8239-aacc199b1904",
     "showTitle": false,
     "title": ""
    },
    "id": "L9NHUKC-yd7H"
   },
   "source": [
    "Podemos criar um array a partir de uma lista, usando o método **np.array()**."
   ]
  },
  {
   "cell_type": "code",
   "execution_count": 0,
   "metadata": {
    "application/vnd.databricks.v1+cell": {
     "cellMetadata": {},
     "inputWidgets": {},
     "nuid": "f1f0c994-0d4d-41d1-87ca-db61c4a4eb5f",
     "showTitle": false,
     "title": ""
    },
    "id": "W9k8ACIeyL9c"
   },
   "outputs": [],
   "source": [
    "#Criando uma lista\n",
    "lista = [1,2,3,4,5]\n",
    "array = np.array(lista)"
   ]
  },
  {
   "cell_type": "code",
   "execution_count": 0,
   "metadata": {
    "application/vnd.databricks.v1+cell": {
     "cellMetadata": {},
     "inputWidgets": {},
     "nuid": "cd8f9925-778a-46fb-bb28-c3a382192701",
     "showTitle": false,
     "title": ""
    },
    "id": "-PawpsAKywQ1"
   },
   "outputs": [],
   "source": [
    "lista"
   ]
  },
  {
   "cell_type": "code",
   "execution_count": 0,
   "metadata": {
    "application/vnd.databricks.v1+cell": {
     "cellMetadata": {},
     "inputWidgets": {},
     "nuid": "61458da6-aa90-4784-9bc0-1b1e07eadd2f",
     "showTitle": false,
     "title": ""
    },
    "id": "oULxID2-yxIV"
   },
   "outputs": [],
   "source": [
    "array"
   ]
  },
  {
   "cell_type": "code",
   "execution_count": 0,
   "metadata": {
    "application/vnd.databricks.v1+cell": {
     "cellMetadata": {},
     "inputWidgets": {},
     "nuid": "46091351-a61d-452f-93f2-04738bd2dec7",
     "showTitle": false,
     "title": ""
    },
    "id": "FH0M2aLayx1d"
   },
   "outputs": [],
   "source": [
    "print(lista)"
   ]
  },
  {
   "cell_type": "code",
   "execution_count": 0,
   "metadata": {
    "application/vnd.databricks.v1+cell": {
     "cellMetadata": {},
     "inputWidgets": {},
     "nuid": "6223347f-adf5-4eab-b54d-ba555d0e495b",
     "showTitle": false,
     "title": ""
    },
    "id": "erhQafE_y1Ld"
   },
   "outputs": [],
   "source": [
    "print(array)"
   ]
  },
  {
   "cell_type": "code",
   "execution_count": 0,
   "metadata": {
    "application/vnd.databricks.v1+cell": {
     "cellMetadata": {},
     "inputWidgets": {},
     "nuid": "4201fddb-0ad3-42b5-8151-73271a34f3d5",
     "showTitle": false,
     "title": ""
    },
    "id": "tSDTr0VJy2BM"
   },
   "outputs": [],
   "source": [
    "type(lista)"
   ]
  },
  {
   "cell_type": "code",
   "execution_count": 0,
   "metadata": {
    "application/vnd.databricks.v1+cell": {
     "cellMetadata": {},
     "inputWidgets": {},
     "nuid": "994c0f32-839c-4a0e-ade2-9b8dc9e2bc95",
     "showTitle": false,
     "title": ""
    },
    "id": "hDjc9jYty4qF"
   },
   "outputs": [],
   "source": [
    "type(array)"
   ]
  },
  {
   "cell_type": "markdown",
   "metadata": {
    "application/vnd.databricks.v1+cell": {
     "cellMetadata": {},
     "inputWidgets": {},
     "nuid": "95994d86-82e9-409a-aa74-964f9b213d43",
     "showTitle": false,
     "title": ""
    },
    "id": "UgLZ7vBWy-VP"
   },
   "source": [
    "Um array não precisa ser necessariamente 1 vetor (de uma dimensão). Podemos criar arrays de mais de uma dimensão. Por exemplo, uma matriz 3x2."
   ]
  },
  {
   "cell_type": "code",
   "execution_count": 0,
   "metadata": {
    "application/vnd.databricks.v1+cell": {
     "cellMetadata": {},
     "inputWidgets": {},
     "nuid": "ccccc285-a855-4092-9ca7-6c28f0721da4",
     "showTitle": false,
     "title": ""
    },
    "id": "qKaJsB6cy5nF"
   },
   "outputs": [],
   "source": [
    "lista = [[1,2],[3,4],[5,6]]\n",
    "array = np.array(lista)"
   ]
  },
  {
   "cell_type": "code",
   "execution_count": 0,
   "metadata": {
    "application/vnd.databricks.v1+cell": {
     "cellMetadata": {},
     "inputWidgets": {},
     "nuid": "552a8721-c46e-4da0-9d5e-96d86f838d10",
     "showTitle": false,
     "title": ""
    },
    "id": "R7ek9sYkzO81"
   },
   "outputs": [],
   "source": [
    "lista"
   ]
  },
  {
   "cell_type": "code",
   "execution_count": 0,
   "metadata": {
    "application/vnd.databricks.v1+cell": {
     "cellMetadata": {},
     "inputWidgets": {},
     "nuid": "589a9995-0043-4a57-b3ff-112b3282889b",
     "showTitle": false,
     "title": ""
    },
    "id": "oeGgESn2zPtt"
   },
   "outputs": [],
   "source": [
    "array"
   ]
  },
  {
   "cell_type": "markdown",
   "metadata": {
    "application/vnd.databricks.v1+cell": {
     "cellMetadata": {},
     "inputWidgets": {},
     "nuid": "141ba735-7c90-4306-ab62-fca085a602ae",
     "showTitle": false,
     "title": ""
    },
    "id": "0LI9rlsczjs2"
   },
   "source": [
    "Ou ainda, usando o **método reshape:**"
   ]
  },
  {
   "cell_type": "code",
   "execution_count": 0,
   "metadata": {
    "application/vnd.databricks.v1+cell": {
     "cellMetadata": {},
     "inputWidgets": {},
     "nuid": "d05d7a73-6fe0-459e-b4e2-44f0e44216f3",
     "showTitle": false,
     "title": ""
    },
    "id": "KLKQBZ9OzQat"
   },
   "outputs": [],
   "source": [
    "lista = [1,2,3,4,5,6]\n",
    "matriz = np.array(lista).reshape(3,2)"
   ]
  },
  {
   "cell_type": "code",
   "execution_count": 0,
   "metadata": {
    "application/vnd.databricks.v1+cell": {
     "cellMetadata": {},
     "inputWidgets": {},
     "nuid": "7d6eccde-8d65-47dc-a231-906fdb64217f",
     "showTitle": false,
     "title": ""
    },
    "id": "raCGRO8-z8_d"
   },
   "outputs": [],
   "source": [
    "matriz"
   ]
  },
  {
   "cell_type": "markdown",
   "metadata": {
    "application/vnd.databricks.v1+cell": {
     "cellMetadata": {},
     "inputWidgets": {},
     "nuid": "7faf6d8b-d0c9-453c-b763-a951cd4991f9",
     "showTitle": false,
     "title": ""
    },
    "id": "EUaUIM-Pz-pN"
   },
   "source": [
    "**Obs.:** Veremos esse método com mais detalhes na próxima aula."
   ]
  },
  {
   "cell_type": "markdown",
   "metadata": {
    "application/vnd.databricks.v1+cell": {
     "cellMetadata": {},
     "inputWidgets": {},
     "nuid": "ae8ea1ae-5683-4fdd-9466-cd9887732552",
     "showTitle": false,
     "title": ""
    },
    "id": "ONeWezU41-7t"
   },
   "source": [
    "### **Outras formas de iniciar arrays:**"
   ]
  },
  {
   "cell_type": "markdown",
   "metadata": {
    "application/vnd.databricks.v1+cell": {
     "cellMetadata": {},
     "inputWidgets": {},
     "nuid": "36042060-c054-4863-ab07-ffd0d90537bd",
     "showTitle": false,
     "title": ""
    },
    "id": "hkMZ_jE32CW9"
   },
   "source": [
    "**Array de zeros:**"
   ]
  },
  {
   "cell_type": "code",
   "execution_count": 0,
   "metadata": {
    "application/vnd.databricks.v1+cell": {
     "cellMetadata": {},
     "inputWidgets": {},
     "nuid": "729577bd-f2a0-4d76-af6a-d906c4107c0d",
     "showTitle": false,
     "title": ""
    },
    "id": "xnD0q5dmz9nF"
   },
   "outputs": [],
   "source": [
    "#Criando um array de números zeros\n",
    "np.zeros(10)"
   ]
  },
  {
   "cell_type": "markdown",
   "metadata": {
    "application/vnd.databricks.v1+cell": {
     "cellMetadata": {},
     "inputWidgets": {},
     "nuid": "71415c50-321b-4d68-bf66-680b54e26078",
     "showTitle": false,
     "title": ""
    },
    "id": "dJ7yRhMd2Gnd"
   },
   "source": [
    "**Arrays de uns:**"
   ]
  },
  {
   "cell_type": "code",
   "execution_count": 0,
   "metadata": {
    "application/vnd.databricks.v1+cell": {
     "cellMetadata": {},
     "inputWidgets": {},
     "nuid": "c88146a5-307e-4b14-9f5c-7b590bfc7a3a",
     "showTitle": false,
     "title": ""
    },
    "id": "0NMxa1wc2GAl"
   },
   "outputs": [],
   "source": [
    "#Criando um array de números um\n",
    "np.ones(10)"
   ]
  },
  {
   "cell_type": "markdown",
   "metadata": {
    "application/vnd.databricks.v1+cell": {
     "cellMetadata": {},
     "inputWidgets": {},
     "nuid": "b59079cc-caff-4199-8593-35c1580ec3ad",
     "showTitle": false,
     "title": ""
    },
    "id": "9nXTGXmK2OrN"
   },
   "source": [
    "**Arrays a partir do range:**"
   ]
  },
  {
   "cell_type": "code",
   "execution_count": 0,
   "metadata": {
    "application/vnd.databricks.v1+cell": {
     "cellMetadata": {},
     "inputWidgets": {},
     "nuid": "7122121c-c79e-4d26-af03-1eea70e16d94",
     "showTitle": false,
     "title": ""
    },
    "id": "rUCQJDj02JZs"
   },
   "outputs": [],
   "source": [
    "np.array(list(range(0,21,2)))"
   ]
  },
  {
   "cell_type": "markdown",
   "metadata": {
    "application/vnd.databricks.v1+cell": {
     "cellMetadata": {},
     "inputWidgets": {},
     "nuid": "c6e25718-a65c-42c0-b31c-6feff9d1cedc",
     "showTitle": false,
     "title": ""
    },
    "id": "TDo75jfz2yAl"
   },
   "source": [
    "### **Método np.arange:**\n",
    "\n",
    "Conseguimos fazer o que fizemos anteriormente com o range."
   ]
  },
  {
   "cell_type": "code",
   "execution_count": 0,
   "metadata": {
    "application/vnd.databricks.v1+cell": {
     "cellMetadata": {},
     "inputWidgets": {},
     "nuid": "da1d0136-6426-4a24-aff8-28a5ab936190",
     "showTitle": false,
     "title": ""
    },
    "id": "zJi3jdKC2Wuc"
   },
   "outputs": [],
   "source": [
    "#Criando um array de números sequenciais\n",
    "np.arange(5)"
   ]
  },
  {
   "cell_type": "code",
   "execution_count": 0,
   "metadata": {
    "application/vnd.databricks.v1+cell": {
     "cellMetadata": {},
     "inputWidgets": {},
     "nuid": "9057b4e5-a050-4142-9cae-eebf11e49efd",
     "showTitle": false,
     "title": ""
    },
    "id": "mpKkE9fy3B1s"
   },
   "outputs": [],
   "source": [
    "#Criando um array de 1 a 19 de 2 em 2\n",
    "np.arange(0,21,2)"
   ]
  },
  {
   "cell_type": "markdown",
   "metadata": {
    "application/vnd.databricks.v1+cell": {
     "cellMetadata": {},
     "inputWidgets": {},
     "nuid": "728672bb-4910-4647-b1df-306ad9229abe",
     "showTitle": false,
     "title": ""
    },
    "id": "suQZcC2R3Msd"
   },
   "source": [
    "O **padrão** é como no **range:**\n",
    "* (início, fim, passo);\n",
    "* Sem início: começa no zero;\n",
    "* Sem passo: passo será um."
   ]
  },
  {
   "cell_type": "markdown",
   "metadata": {
    "application/vnd.databricks.v1+cell": {
     "cellMetadata": {},
     "inputWidgets": {},
     "nuid": "1742d1f2-c9c2-48b0-93e6-0d3f2db2b6a3",
     "showTitle": false,
     "title": ""
    },
    "id": "eRHAPkbY3XbM"
   },
   "source": [
    "## **Método np.linspace:**\n",
    "\n",
    "É um método usado para criar um array com valores igualmente espaçados dentro de um intervalo especificado.\n",
    "\n",
    "**Utilidade:** Desejamos gerar uma sequência de números com uma quantidade específica de elementos entre um valor inicial e final:\n",
    "\n",
    "**Sintaxe:**\n",
    "\n",
    "```(python)\n",
    "np.linspace(start,stop,num=50,endpint=True,retstep=False,dtype=None)\n",
    "```\n"
   ]
  },
  {
   "cell_type": "markdown",
   "metadata": {
    "application/vnd.databricks.v1+cell": {
     "cellMetadata": {},
     "inputWidgets": {},
     "nuid": "f4dea759-8880-43ba-9645-1cf4e37b1fee",
     "showTitle": false,
     "title": ""
    },
    "id": "TGaDVwHD4IA1"
   },
   "source": [
    "* start: Valor inicial da sequência.\n",
    "* stop: Valor final da sequência.\n",
    "* num: Número de elementos a serem gerados. Por padrão, é igual a 50.\n",
    "* endpoint: Se True, o valor final (stop) é incluído no array resultante. Por padrão, é True.\n",
    "* retstep: Se True, retorna o espaçamento entre os valores gerados.\n",
    "* dtype: Tipo de dados dos elementos no array."
   ]
  },
  {
   "cell_type": "markdown",
   "metadata": {
    "application/vnd.databricks.v1+cell": {
     "cellMetadata": {},
     "inputWidgets": {},
     "nuid": "e495320a-c80d-4aee-8e76-e02d0eaf4580",
     "showTitle": false,
     "title": ""
    },
    "id": "ym_y9-jr4RBg"
   },
   "source": [
    "Geralmente usamos: start, stop e num."
   ]
  },
  {
   "cell_type": "code",
   "execution_count": 0,
   "metadata": {
    "application/vnd.databricks.v1+cell": {
     "cellMetadata": {},
     "inputWidgets": {},
     "nuid": "9c8d03f9-17c4-4af3-93c3-67abfbc85905",
     "showTitle": false,
     "title": ""
    },
    "id": "NuBNf80V3Iak"
   },
   "outputs": [],
   "source": [
    "#Gerar uma sequência de 20 números igualmente espaçados entre 30 e 100\n",
    "start = 30\n",
    "stop = 100\n",
    "num = 20\n",
    "np.linspace(start=start,stop=stop,num=num)"
   ]
  },
  {
   "cell_type": "markdown",
   "metadata": {
    "application/vnd.databricks.v1+cell": {
     "cellMetadata": {},
     "inputWidgets": {},
     "nuid": "5dd8ba15-b2ce-4f5e-88ee-3e0aeb14fc97",
     "showTitle": false,
     "title": ""
    },
    "id": "teH7r0wi4kdd"
   },
   "source": [
    "### **Método random:**\n",
    "\n",
    "<img src = \"https://numpy.org/devdocs/_images/np_ones_zeros_random.png\" />\n",
    "\n",
    "Ele oferece várias funções para geração de números aleatórios e é bastante útil para aplicações, desde simulações estatísticas até a criação de conjuntos de dados fictícios para testes."
   ]
  },
  {
   "cell_type": "code",
   "execution_count": 0,
   "metadata": {
    "application/vnd.databricks.v1+cell": {
     "cellMetadata": {},
     "inputWidgets": {},
     "nuid": "4b08cbad-5bd0-435f-87b0-2581fb0e83dc",
     "showTitle": false,
     "title": ""
    },
    "id": "vmHdGMPH4iX9"
   },
   "outputs": [],
   "source": [
    "#Gerar dados com distribuição uniforme entre 0 e 1:\n",
    "np.random.rand(5)"
   ]
  },
  {
   "cell_type": "code",
   "execution_count": 0,
   "metadata": {
    "application/vnd.databricks.v1+cell": {
     "cellMetadata": {},
     "inputWidgets": {},
     "nuid": "48321c0f-96e5-41ed-9d8e-7496e7b501ba",
     "showTitle": false,
     "title": ""
    },
    "id": "xWsPkRO_9bTd"
   },
   "outputs": [],
   "source": [
    "import seaborn as sns"
   ]
  },
  {
   "cell_type": "markdown",
   "metadata": {
    "application/vnd.databricks.v1+cell": {
     "cellMetadata": {},
     "inputWidgets": {},
     "nuid": "2240dd7f-5cc3-4bbd-9835-4dcff3f7719c",
     "showTitle": false,
     "title": ""
    },
    "id": "3o8O4i2y9aoh"
   },
   "source": [
    "Plotando o gráfico da distribuição uniforme:\n",
    "\n",
    "<img src = \"https://www.uv.es/ceaces/base/modelos%20de%20probabilidad/Image12.gif\" />"
   ]
  },
  {
   "cell_type": "code",
   "execution_count": 0,
   "metadata": {
    "application/vnd.databricks.v1+cell": {
     "cellMetadata": {},
     "inputWidgets": {},
     "nuid": "ebe5a35b-1075-487a-ba5b-b7523bd7aca4",
     "showTitle": false,
     "title": ""
    },
    "id": "IRwo2h-d9ei9"
   },
   "outputs": [],
   "source": [
    "x = np.random.rand(1000000)\n",
    "sns.histplot(x)"
   ]
  },
  {
   "cell_type": "code",
   "execution_count": 0,
   "metadata": {
    "application/vnd.databricks.v1+cell": {
     "cellMetadata": {},
     "inputWidgets": {},
     "nuid": "1bac9a07-2427-4189-8829-4c756e6be1cb",
     "showTitle": false,
     "title": ""
    },
    "id": "3U9XjCwv7_w1"
   },
   "outputs": [],
   "source": [
    "#Gerar uma matriz 3x3\n",
    "np.random.rand(3,3)"
   ]
  },
  {
   "cell_type": "code",
   "execution_count": 0,
   "metadata": {
    "application/vnd.databricks.v1+cell": {
     "cellMetadata": {},
     "inputWidgets": {},
     "nuid": "f4c4f301-40c3-4ecc-a989-b4da9a89d3ed",
     "showTitle": false,
     "title": ""
    },
    "id": "rhDoIF2_8Cm0"
   },
   "outputs": [],
   "source": [
    "#Gerar um número inteiro aleatório dentro de um intervalo especificado\n",
    "np.random.randint(1,11)"
   ]
  },
  {
   "cell_type": "markdown",
   "metadata": {
    "application/vnd.databricks.v1+cell": {
     "cellMetadata": {},
     "inputWidgets": {},
     "nuid": "ea44d5e3-9222-43a4-b4fd-af898df2a71b",
     "showTitle": false,
     "title": ""
    },
    "id": "4pr7wRSZ8s-m"
   },
   "source": [
    "Dentro deste módulo, há vários geradores de número aleatórios para fins mais especificos. No exemplo abaixo, trabalhamos com a função *randint*, que gera somente números inteiros no intervalo especificado."
   ]
  },
  {
   "cell_type": "code",
   "execution_count": 0,
   "metadata": {
    "application/vnd.databricks.v1+cell": {
     "cellMetadata": {},
     "inputWidgets": {},
     "nuid": "a6158f04-e0a6-4e27-a87a-bba22591a934",
     "showTitle": false,
     "title": ""
    },
    "id": "A-XEDFts8wo1"
   },
   "outputs": [],
   "source": [
    "#Gerar um vetor aleatório de tamanho 10, de 0 até 100\n",
    "np.random.randint(0,101,10)"
   ]
  },
  {
   "cell_type": "markdown",
   "metadata": {
    "application/vnd.databricks.v1+cell": {
     "cellMetadata": {},
     "inputWidgets": {},
     "nuid": "b2745337-235d-4501-97b4-8b87e9d3ac94",
     "showTitle": false,
     "title": ""
    },
    "id": "SbV4GDd4878T"
   },
   "source": [
    "Também conseguimos trabalhar com **distribuições estatísticas de probabilidade**. Vejamos, por exemplo, como é possível gerar números aleatórios que obedeçam a uma distribuição normal."
   ]
  },
  {
   "cell_type": "markdown",
   "metadata": {
    "application/vnd.databricks.v1+cell": {
     "cellMetadata": {},
     "inputWidgets": {},
     "nuid": "3376be17-5058-4e25-abeb-99fbbc073f62",
     "showTitle": false,
     "title": ""
    },
    "id": "xpU12Fnb8-_C"
   },
   "source": [
    "<img src = \"https://www.allaboutcircuits.com/uploads/articles/an-introduction-to-the-normal-distribution-in-electrical-engineerin-rk-aac-image1.jpg\" />"
   ]
  },
  {
   "cell_type": "code",
   "execution_count": 0,
   "metadata": {
    "application/vnd.databricks.v1+cell": {
     "cellMetadata": {},
     "inputWidgets": {},
     "nuid": "9cee75a7-84de-4b46-8fd6-c876e44405c9",
     "showTitle": false,
     "title": ""
    },
    "id": "v5JLuUvd8Ij8"
   },
   "outputs": [],
   "source": [
    "#Gerar um array de valores aleatórios de distribuição normal\n",
    "np.random.randn(10)"
   ]
  },
  {
   "cell_type": "code",
   "execution_count": 0,
   "metadata": {
    "application/vnd.databricks.v1+cell": {
     "cellMetadata": {},
     "inputWidgets": {},
     "nuid": "d7d05611-4ca2-4660-a80d-bd0c14a6c11a",
     "showTitle": false,
     "title": ""
    },
    "id": "SPueqwlu8gj8"
   },
   "outputs": [],
   "source": [
    "#Gerar uma matriz 2x2 de valores aleatórios de distribuição normal\n",
    "np.random.randn(2,2)"
   ]
  },
  {
   "cell_type": "markdown",
   "metadata": {
    "application/vnd.databricks.v1+cell": {
     "cellMetadata": {},
     "inputWidgets": {},
     "nuid": "9aefd623-ee18-457e-8ff9-2d7e025d6019",
     "showTitle": false,
     "title": ""
    },
    "id": "m_ofmKyE8pKd"
   },
   "source": [
    "Podemos plotar o gráfico de uma distribuição normal, usando a biblioteca seaborn:"
   ]
  },
  {
   "cell_type": "code",
   "execution_count": 0,
   "metadata": {
    "application/vnd.databricks.v1+cell": {
     "cellMetadata": {},
     "inputWidgets": {},
     "nuid": "1ce61ab4-69c4-42ad-bde4-537f2882e64c",
     "showTitle": false,
     "title": ""
    },
    "id": "RJSwBl1y8j_D"
   },
   "outputs": [],
   "source": [
    "# plotando distribuição normal com o seaborn\n",
    "x = np.random.randn(1000000)\n",
    "sns.histplot(x)"
   ]
  },
  {
   "cell_type": "markdown",
   "metadata": {
    "application/vnd.databricks.v1+cell": {
     "cellMetadata": {},
     "inputWidgets": {},
     "nuid": "adbb1769-3a4f-488c-b8e3-b82a5ab10a20",
     "showTitle": false,
     "title": ""
    },
    "id": "xfKyKQm--GAW"
   },
   "source": [
    "Podemos ainda gerar uma amostra aleatória a partir de uma matriz ou sequência usando o **random.choice()**:"
   ]
  },
  {
   "cell_type": "code",
   "execution_count": 0,
   "metadata": {
    "application/vnd.databricks.v1+cell": {
     "cellMetadata": {},
     "inputWidgets": {},
     "nuid": "65ea054f-06bc-463d-b59e-acc81b9b2dc0",
     "showTitle": false,
     "title": ""
    },
    "id": "aQ9mlSkM-Ljj"
   },
   "outputs": [],
   "source": [
    "#Gerar uma amostra aleatória a partir de um objeto aleatório\n",
    "lista_inf = [80.29, 136.34, 222.57, 232.36, 223.91, 221.31, 165.1, 165.61, 82.17, 158.27]\n",
    "random_sample = np.random.choice(lista_inf,size=3,replace=False)\n",
    "random_sample"
   ]
  },
  {
   "cell_type": "markdown",
   "metadata": {
    "application/vnd.databricks.v1+cell": {
     "cellMetadata": {},
     "inputWidgets": {},
     "nuid": "200338eb-ceb3-4862-83fc-340c8ed4bb2d",
     "showTitle": false,
     "title": ""
    },
    "id": "P-X3lNZl-c1P"
   },
   "source": [
    "Podemos também definir uma **semente (seed)** para gerar números pseudoaleatórios.\n",
    "\n",
    "**Utilidade:** Permite reproduzir a mesma sequência de números aleatórios em diferentes execuções do código, desde que a mesma semente seja usada."
   ]
  },
  {
   "cell_type": "code",
   "execution_count": 0,
   "metadata": {
    "application/vnd.databricks.v1+cell": {
     "cellMetadata": {},
     "inputWidgets": {},
     "nuid": "9f9415de-9c9c-4ede-ad7e-d72157e2bd9d",
     "showTitle": false,
     "title": ""
    },
    "id": "iKwwOGze-TX0"
   },
   "outputs": [],
   "source": [
    "#Definir a semente para garantir a mesma sequência\n",
    "np.random.seed(42)\n",
    "#Gerar uma sequência aleatória\n",
    "random_sample = np.random.choice(lista_inf,size=3,replace=False)\n",
    "random_sample"
   ]
  },
  {
   "cell_type": "markdown",
   "metadata": {
    "application/vnd.databricks.v1+cell": {
     "cellMetadata": {},
     "inputWidgets": {},
     "nuid": "a7e33057-ef80-4b71-9ff8-488ef6439ef0",
     "showTitle": false,
     "title": ""
    },
    "id": "ccvX2oDG-3a8"
   },
   "source": [
    "**Obs.:** Se eu rodar de novo sem o seed?"
   ]
  },
  {
   "cell_type": "code",
   "execution_count": 0,
   "metadata": {
    "application/vnd.databricks.v1+cell": {
     "cellMetadata": {},
     "inputWidgets": {},
     "nuid": "fb306c81-6106-41d2-b842-660828f1ee95",
     "showTitle": false,
     "title": ""
    },
    "id": "PDFn1MyZ-ycz"
   },
   "outputs": [],
   "source": [
    "random_sample = np.random.choice(lista_inf,size=3,replace=False)\n",
    "random_sample"
   ]
  },
  {
   "cell_type": "markdown",
   "metadata": {
    "application/vnd.databricks.v1+cell": {
     "cellMetadata": {},
     "inputWidgets": {},
     "nuid": "8ee2bd66-0eb7-458d-a2bd-add8be916b4e",
     "showTitle": false,
     "title": ""
    },
    "id": "C16YTBC_-7Rd"
   },
   "source": [
    "É definido apenas para aquela célula."
   ]
  },
  {
   "cell_type": "markdown",
   "metadata": {
    "application/vnd.databricks.v1+cell": {
     "cellMetadata": {},
     "inputWidgets": {},
     "nuid": "ac1c52dd-4dd8-487d-b61c-ad563049bc93",
     "showTitle": false,
     "title": ""
    },
    "id": "W24EaQ9X-_mW"
   },
   "source": [
    "## **Indexação de Arrays:**\n",
    "\n",
    "É possível acessar elementos individuais dos arrays pelos **índices**, da mesma forma que fazemos com listas."
   ]
  },
  {
   "cell_type": "code",
   "execution_count": 0,
   "metadata": {
    "application/vnd.databricks.v1+cell": {
     "cellMetadata": {},
     "inputWidgets": {},
     "nuid": "0550ee21-4740-49b0-98be-d5de05a39ab6",
     "showTitle": false,
     "title": ""
    },
    "id": "rx1f1SYX-6mC"
   },
   "outputs": [],
   "source": [
    "#Criando um array sequencial de 1 a 20\n",
    "array = np.arange(1,21)\n",
    "array"
   ]
  },
  {
   "cell_type": "code",
   "execution_count": 0,
   "metadata": {
    "application/vnd.databricks.v1+cell": {
     "cellMetadata": {},
     "inputWidgets": {},
     "nuid": "c18a369b-232c-462e-9502-8fc7c1616ede",
     "showTitle": false,
     "title": ""
    },
    "id": "bEsW8bqh_L78"
   },
   "outputs": [],
   "source": [
    "#Acessando elementos individuais\n",
    "array[0]"
   ]
  },
  {
   "cell_type": "code",
   "execution_count": 0,
   "metadata": {
    "application/vnd.databricks.v1+cell": {
     "cellMetadata": {},
     "inputWidgets": {},
     "nuid": "1fccd329-75ec-4682-90df-e309a2c9e424",
     "showTitle": false,
     "title": ""
    },
    "id": "iwtxCTgF_PCT"
   },
   "outputs": [],
   "source": [
    "#Acessando índices negativos\n",
    "array[-1]"
   ]
  },
  {
   "cell_type": "code",
   "execution_count": 0,
   "metadata": {
    "application/vnd.databricks.v1+cell": {
     "cellMetadata": {},
     "inputWidgets": {},
     "nuid": "44172a4a-bef2-4ab2-8b53-69876957d657",
     "showTitle": false,
     "title": ""
    },
    "id": "clFRQT3f_R2M"
   },
   "outputs": [],
   "source": [
    "#Fazendo slicing\n",
    "array[1:3]"
   ]
  },
  {
   "cell_type": "code",
   "execution_count": 0,
   "metadata": {
    "application/vnd.databricks.v1+cell": {
     "cellMetadata": {},
     "inputWidgets": {},
     "nuid": "f6fd73a2-4a3c-4856-8873-24a11b1f405e",
     "showTitle": false,
     "title": ""
    },
    "id": "bDVs7w8t_Upk"
   },
   "outputs": [],
   "source": [
    "#Slicing sem início\n",
    "array[:3]"
   ]
  },
  {
   "cell_type": "code",
   "execution_count": 0,
   "metadata": {
    "application/vnd.databricks.v1+cell": {
     "cellMetadata": {},
     "inputWidgets": {},
     "nuid": "7511c724-67e0-41ea-a88c-a4f7a86defe2",
     "showTitle": false,
     "title": ""
    },
    "id": "CmDleXAd_Z4k"
   },
   "outputs": [],
   "source": [
    "#Slicing sem fim\n",
    "array[-3:]"
   ]
  },
  {
   "cell_type": "markdown",
   "metadata": {
    "application/vnd.databricks.v1+cell": {
     "cellMetadata": {},
     "inputWidgets": {},
     "nuid": "da613c14-cc9f-4590-94ee-133db5ede3f5",
     "showTitle": false,
     "title": ""
    },
    "id": "dUGF1gkl_gf_"
   },
   "source": [
    "<img src = \"https://numpy.org/devdocs/_images/np_indexing.png\" />"
   ]
  },
  {
   "cell_type": "markdown",
   "metadata": {
    "application/vnd.databricks.v1+cell": {
     "cellMetadata": {},
     "inputWidgets": {},
     "nuid": "f7692035-bcdb-4204-9cb0-7635a7824c6c",
     "showTitle": false,
     "title": ""
    },
    "id": "RkjKFkRa_hdV"
   },
   "source": [
    "**E como funciona para matrizes?**"
   ]
  },
  {
   "cell_type": "code",
   "execution_count": 0,
   "metadata": {
    "application/vnd.databricks.v1+cell": {
     "cellMetadata": {},
     "inputWidgets": {},
     "nuid": "511331e0-0167-4f7f-b6f6-9d2f434a4606",
     "showTitle": false,
     "title": ""
    },
    "id": "d531Uau9_dgE"
   },
   "outputs": [],
   "source": [
    "# Criar uma matriz de exemplo\n",
    "matriz = np.array(list(range(1,10))).reshape(3,3)\n",
    "matriz"
   ]
  },
  {
   "cell_type": "markdown",
   "metadata": {
    "application/vnd.databricks.v1+cell": {
     "cellMetadata": {},
     "inputWidgets": {},
     "nuid": "31c047a2-cc44-4af5-b682-85670eddfc9a",
     "showTitle": false,
     "title": ""
    },
    "id": "dHQ1YWRH_1oo"
   },
   "source": [
    "**Slicing por linhas e colunas:** Para selecionar uma parte específica da matriz, você pode usar a notação:\n",
    "\n",
    "```[linha_inicio:linha_fim, coluna_inicio:coluna_fim]```"
   ]
  },
  {
   "cell_type": "code",
   "execution_count": 0,
   "metadata": {
    "application/vnd.databricks.v1+cell": {
     "cellMetadata": {},
     "inputWidgets": {},
     "nuid": "b1897ad4-797b-4af8-bb66-682fbc82875d",
     "showTitle": false,
     "title": ""
    },
    "id": "-zgeYF5j_vEB"
   },
   "outputs": [],
   "source": [
    "# Selecionar todas as linhas até a segunda e todas as colunas até a segunda\n",
    "matriz[:2,:2]"
   ]
  },
  {
   "cell_type": "markdown",
   "metadata": {
    "application/vnd.databricks.v1+cell": {
     "cellMetadata": {},
     "inputWidgets": {},
     "nuid": "5bb43d63-3cfc-44a0-8d07-227a7a43950d",
     "showTitle": false,
     "title": ""
    },
    "id": "q0LP50VY_9c9"
   },
   "source": [
    "**Selecionando uma linha ou coluna específica:** Para selecionar uma linha ou coluna específica, use apenas um índice."
   ]
  },
  {
   "cell_type": "code",
   "execution_count": 0,
   "metadata": {
    "application/vnd.databricks.v1+cell": {
     "cellMetadata": {},
     "inputWidgets": {},
     "nuid": "0aaa4391-24f9-451e-8b4d-0e324a08aa01",
     "showTitle": false,
     "title": ""
    },
    "id": "k71izD-0_yZl"
   },
   "outputs": [],
   "source": [
    "# Selecionar a segunda coluna\n",
    "matriz[:,1]"
   ]
  },
  {
   "cell_type": "code",
   "execution_count": 0,
   "metadata": {
    "application/vnd.databricks.v1+cell": {
     "cellMetadata": {},
     "inputWidgets": {},
     "nuid": "d954b795-f9b4-4946-9dec-8dfabfcd5536",
     "showTitle": false,
     "title": ""
    },
    "id": "adCXjtX9_ypL"
   },
   "outputs": [],
   "source": [
    "# Selecionar a segunda linha\n",
    "matriz[1,:]"
   ]
  },
  {
   "cell_type": "markdown",
   "metadata": {
    "application/vnd.databricks.v1+cell": {
     "cellMetadata": {},
     "inputWidgets": {},
     "nuid": "cc50c2a3-6ae1-4b7e-98ef-f21b99671ffe",
     "showTitle": false,
     "title": ""
    },
    "id": "oUoueZO9AO6S"
   },
   "source": [
    "**Slicing com passo:** Você pode especificar um passo para avançar de maneira diferente pelos elementos da matriz:"
   ]
  },
  {
   "cell_type": "code",
   "execution_count": 0,
   "metadata": {
    "application/vnd.databricks.v1+cell": {
     "cellMetadata": {},
     "inputWidgets": {},
     "nuid": "d99a837f-affb-4026-8224-eb0a8955cfde",
     "showTitle": false,
     "title": ""
    },
    "id": "rCGYGEM3AJFs"
   },
   "outputs": [],
   "source": [
    "# Selecionar cada segundo elemento da primeira linha\n",
    "matriz[0,::2]"
   ]
  },
  {
   "cell_type": "markdown",
   "metadata": {
    "application/vnd.databricks.v1+cell": {
     "cellMetadata": {},
     "inputWidgets": {},
     "nuid": "def51867-02b1-4d2c-86af-79ab379d4fd1",
     "showTitle": false,
     "title": ""
    },
    "id": "x_nOGRfNAlJM"
   },
   "source": [
    "**Indexação usando arrays de índices:** Você pode indexar matrizes NumPy usando arrays de índices para selecionar elementos específicos:"
   ]
  },
  {
   "cell_type": "code",
   "execution_count": 0,
   "metadata": {
    "application/vnd.databricks.v1+cell": {
     "cellMetadata": {},
     "inputWidgets": {},
     "nuid": "fd60d0dc-293a-4ae3-92c2-cd5b0fd00ffb",
     "showTitle": false,
     "title": ""
    },
    "id": "R74CCpwxASpU"
   },
   "outputs": [],
   "source": [
    "#Pegar as 2 primeiras linhas\n",
    "matriz[np.array([0,2]),:]"
   ]
  },
  {
   "cell_type": "markdown",
   "metadata": {
    "application/vnd.databricks.v1+cell": {
     "cellMetadata": {},
     "inputWidgets": {},
     "nuid": "7adbe953-02a5-4af7-bc1e-0816b0226b15",
     "showTitle": false,
     "title": ""
    },
    "id": "GDcqU6AmAyoI"
   },
   "source": [
    "Temos aqui uma submatriz contendo as linhas 0 e 2 da matriz original"
   ]
  },
  {
   "cell_type": "markdown",
   "metadata": {
    "application/vnd.databricks.v1+cell": {
     "cellMetadata": {},
     "inputWidgets": {},
     "nuid": "ea55bddc-2470-4cee-b8b1-a4dc98d6079d",
     "showTitle": false,
     "title": ""
    },
    "id": "Y5Eu4O7xA3XY"
   },
   "source": [
    "## **Operações simples:**\n",
    "\n",
    "\n",
    "As operações com arrays no NumPy oferecem uma forma eficiente de realizar operações matemáticas e manipulações de dados em arrays multidimensionais. Essas operações são vetorizadas, o que significa que são aplicadas a todos os elementos do array sem a necessidade de loops explícitos, tornando o código mais conciso e rápido."
   ]
  },
  {
   "cell_type": "markdown",
   "metadata": {
    "application/vnd.databricks.v1+cell": {
     "cellMetadata": {},
     "inputWidgets": {},
     "nuid": "f1d35221-03c8-4d32-8837-c24c5f1254f1",
     "showTitle": false,
     "title": ""
    },
    "id": "scy9vNrVEwgO"
   },
   "source": [
    "### **Operações matemáticas:**"
   ]
  },
  {
   "cell_type": "markdown",
   "metadata": {
    "application/vnd.databricks.v1+cell": {
     "cellMetadata": {},
     "inputWidgets": {},
     "nuid": "2b9ebd4a-0915-431d-b8df-46e3b20b123e",
     "showTitle": false,
     "title": ""
    },
    "id": "IYsPJOCaB1Ce"
   },
   "source": [
    "____\n",
    "Vamos relembrar primeiro com uma lista:"
   ]
  },
  {
   "cell_type": "code",
   "execution_count": 0,
   "metadata": {
    "application/vnd.databricks.v1+cell": {
     "cellMetadata": {
      "byteLimit": 2048000,
      "rowLimit": 10000
     },
     "inputWidgets": {},
     "nuid": "0b410b64-8f88-46e0-a103-69f9d1d892cf",
     "showTitle": false,
     "title": ""
    }
   },
   "outputs": [],
   "source": [
    "import numpy as np"
   ]
  },
  {
   "cell_type": "code",
   "execution_count": 0,
   "metadata": {
    "application/vnd.databricks.v1+cell": {
     "cellMetadata": {
      "byteLimit": 2048000,
      "rowLimit": 10000
     },
     "inputWidgets": {},
     "nuid": "a7854119-8700-4427-b2d4-3d4f3dc8be29",
     "showTitle": false,
     "title": ""
    },
    "id": "tR060JbLAsBz"
   },
   "outputs": [],
   "source": [
    "#Criando duas listas:\n",
    "lista_1 = [1,2,3]\n",
    "lista_2 = [4,5,6]"
   ]
  },
  {
   "cell_type": "code",
   "execution_count": 0,
   "metadata": {
    "application/vnd.databricks.v1+cell": {
     "cellMetadata": {
      "byteLimit": 2048000,
      "rowLimit": 10000
     },
     "inputWidgets": {},
     "nuid": "80e26320-f807-4788-8e69-022614063ac2",
     "showTitle": false,
     "title": ""
    }
   },
   "outputs": [],
   "source": [
    "print(lista_1)\n",
    "print(lista_2)"
   ]
  },
  {
   "cell_type": "code",
   "execution_count": 0,
   "metadata": {
    "application/vnd.databricks.v1+cell": {
     "cellMetadata": {
      "byteLimit": 2048000,
      "rowLimit": 10000
     },
     "inputWidgets": {},
     "nuid": "d0df0823-04c7-47ac-8564-880a4ff8823b",
     "showTitle": false,
     "title": ""
    }
   },
   "outputs": [],
   "source": []
  },
  {
   "cell_type": "code",
   "execution_count": 0,
   "metadata": {
    "application/vnd.databricks.v1+cell": {
     "cellMetadata": {
      "byteLimit": 2048000,
      "rowLimit": 10000
     },
     "inputWidgets": {},
     "nuid": "38805a55-0d1b-4db4-a0bb-65469ba9e682",
     "showTitle": false,
     "title": ""
    },
    "id": "rQeLefVYCIsE"
   },
   "outputs": [],
   "source": [
    "#Multiplicando uma lista por um número\n",
    "lista_1*3"
   ]
  },
  {
   "cell_type": "code",
   "execution_count": 0,
   "metadata": {
    "application/vnd.databricks.v1+cell": {
     "cellMetadata": {
      "byteLimit": 2048000,
      "rowLimit": 10000
     },
     "inputWidgets": {},
     "nuid": "f03d6744-5850-4d3c-bbbb-ed397b10116c",
     "showTitle": false,
     "title": ""
    },
    "id": "Op3LSXDZCRJM"
   },
   "outputs": [],
   "source": [
    "#Somando uma lista com um número\n",
    "lista_1+2"
   ]
  },
  {
   "cell_type": "markdown",
   "metadata": {
    "application/vnd.databricks.v1+cell": {
     "cellMetadata": {},
     "inputWidgets": {},
     "nuid": "6ca4c579-20f1-4324-94e9-4cbd2a0df5a4",
     "showTitle": false,
     "title": ""
    },
    "id": "H8E0CJ4ACdwO"
   },
   "source": [
    "São 2 objetos diferentes e só conseguimos somar listas com listas"
   ]
  },
  {
   "cell_type": "code",
   "execution_count": 0,
   "metadata": {
    "application/vnd.databricks.v1+cell": {
     "cellMetadata": {
      "byteLimit": 2048000,
      "rowLimit": 10000
     },
     "inputWidgets": {},
     "nuid": "5522ee7d-148b-4292-adfa-802225a32a50",
     "showTitle": false,
     "title": ""
    },
    "id": "H3tkY_dXCVrz"
   },
   "outputs": [],
   "source": [
    "#Acrescentando um número a uma lista (ou soma)\n",
    "lista_1+[2]"
   ]
  },
  {
   "cell_type": "code",
   "execution_count": 0,
   "metadata": {
    "application/vnd.databricks.v1+cell": {
     "cellMetadata": {
      "byteLimit": 2048000,
      "rowLimit": 10000
     },
     "inputWidgets": {},
     "nuid": "8feadfcd-42d3-480f-b034-d1f171e3d12c",
     "showTitle": false,
     "title": ""
    },
    "id": "zz2L1xw4ChHn"
   },
   "outputs": [],
   "source": [
    "#somando a lista_1 e lista_2\n",
    "lista_1+lista_2"
   ]
  },
  {
   "cell_type": "markdown",
   "metadata": {
    "application/vnd.databricks.v1+cell": {
     "cellMetadata": {},
     "inputWidgets": {},
     "nuid": "ccee2be5-2c20-47c8-83fa-f8944d6231a2",
     "showTitle": false,
     "title": ""
    },
    "id": "kV0WOgxECnIw"
   },
   "source": [
    "E se eu quiser fazer as operações (+, -, *, /, **) entre os elementos das listas?"
   ]
  },
  {
   "cell_type": "code",
   "execution_count": 0,
   "metadata": {
    "application/vnd.databricks.v1+cell": {
     "cellMetadata": {
      "byteLimit": 2048000,
      "rowLimit": 10000
     },
     "inputWidgets": {},
     "nuid": "f33fcda4-4286-43af-b157-e834c6fbefa2",
     "showTitle": false,
     "title": ""
    },
    "id": "nuahePXECkt0"
   },
   "outputs": [],
   "source": [
    "#Criar uma lista que é o quadrado da lista_1\n",
    "lista_quadrado = []\n",
    "for elemento in lista_1:\n",
    "    lista_quadrado.append(elemento**2)\n",
    "lista_quadrado"
   ]
  },
  {
   "cell_type": "code",
   "execution_count": 0,
   "metadata": {
    "application/vnd.databricks.v1+cell": {
     "cellMetadata": {
      "byteLimit": 2048000,
      "rowLimit": 10000
     },
     "inputWidgets": {},
     "nuid": "bdfbd020-f62c-459c-890b-b467af5e376d",
     "showTitle": false,
     "title": ""
    },
    "id": "unn4qUfXC04D"
   },
   "outputs": [],
   "source": [
    "#Podemos ainda fazer com o list comprehension\n",
    "lista_quadrado = [elemento**2 for elemento in lista_1]\n",
    "lista_quadrado"
   ]
  },
  {
   "cell_type": "markdown",
   "metadata": {
    "application/vnd.databricks.v1+cell": {
     "cellMetadata": {},
     "inputWidgets": {},
     "nuid": "82f1ac25-a26b-4c47-85f2-e9fa1d323f1e",
     "showTitle": false,
     "title": ""
    },
    "id": "SON9x1ESC9K9"
   },
   "source": [
    "Agora veremos o poder do numpy:"
   ]
  },
  {
   "cell_type": "code",
   "execution_count": 0,
   "metadata": {
    "application/vnd.databricks.v1+cell": {
     "cellMetadata": {
      "byteLimit": 2048000,
      "rowLimit": 10000
     },
     "inputWidgets": {},
     "nuid": "a3afa8bf-b561-42d4-a84e-ebe3b03b2433",
     "showTitle": false,
     "title": ""
    },
    "id": "H0TLkY56C6eU"
   },
   "outputs": [],
   "source": [
    "#Vamos criar um array com a lista_1\n",
    "array_1 = np.array(lista_1)"
   ]
  },
  {
   "cell_type": "code",
   "execution_count": 0,
   "metadata": {
    "application/vnd.databricks.v1+cell": {
     "cellMetadata": {
      "byteLimit": 2048000,
      "rowLimit": 10000
     },
     "inputWidgets": {},
     "nuid": "8ad8217f-fa62-4265-90f2-b0fbfbfcade1",
     "showTitle": false,
     "title": ""
    },
    "id": "VFAfyZo_DB_L"
   },
   "outputs": [],
   "source": [
    "array_1"
   ]
  },
  {
   "cell_type": "code",
   "execution_count": 0,
   "metadata": {
    "application/vnd.databricks.v1+cell": {
     "cellMetadata": {
      "byteLimit": 2048000,
      "rowLimit": 10000
     },
     "inputWidgets": {},
     "nuid": "491cbf35-7f41-47af-ab2b-ca146055b64e",
     "showTitle": false,
     "title": ""
    },
    "id": "Y9GWjJthDHwb"
   },
   "outputs": [],
   "source": [
    "#Somando o array com o número 2\n",
    "array_1+2"
   ]
  },
  {
   "cell_type": "code",
   "execution_count": 0,
   "metadata": {
    "application/vnd.databricks.v1+cell": {
     "cellMetadata": {
      "byteLimit": 2048000,
      "rowLimit": 10000
     },
     "inputWidgets": {},
     "nuid": "63ca9268-0fa4-42cc-a971-16427c2a41f7",
     "showTitle": false,
     "title": ""
    },
    "id": "Km6rJ6_JDLeL"
   },
   "outputs": [],
   "source": [
    "#Somando o array_1 com o array_2\n",
    "array_2 = np.array(lista_2)\n",
    "array_1+array_2"
   ]
  },
  {
   "cell_type": "code",
   "execution_count": 0,
   "metadata": {
    "application/vnd.databricks.v1+cell": {
     "cellMetadata": {
      "byteLimit": 2048000,
      "rowLimit": 10000
     },
     "inputWidgets": {},
     "nuid": "6f227596-7253-438f-b543-21f5c4e784c9",
     "showTitle": false,
     "title": ""
    },
    "id": "dSdodMCYDUUj"
   },
   "outputs": [],
   "source": [
    "#Multiplicando um array por um número\n",
    "array_1*2"
   ]
  },
  {
   "cell_type": "code",
   "execution_count": 0,
   "metadata": {
    "application/vnd.databricks.v1+cell": {
     "cellMetadata": {
      "byteLimit": 2048000,
      "rowLimit": 10000
     },
     "inputWidgets": {},
     "nuid": "6fa2d8f9-9c7e-4e3e-96d0-183cc2ac0a72",
     "showTitle": false,
     "title": ""
    },
    "id": "jKVArHm9Dd1M"
   },
   "outputs": [],
   "source": [
    "#Multiplicando um array pelo outro\n",
    "array_1*array_2"
   ]
  },
  {
   "cell_type": "code",
   "execution_count": 0,
   "metadata": {
    "application/vnd.databricks.v1+cell": {
     "cellMetadata": {
      "byteLimit": 2048000,
      "rowLimit": 10000
     },
     "inputWidgets": {},
     "nuid": "b6ffc85f-f456-4018-8fd1-4e9de7359487",
     "showTitle": false,
     "title": ""
    },
    "id": "aIXD2SHxDiKb"
   },
   "outputs": [],
   "source": [
    "#Elevando um array ao quadrado\n",
    "array_1**2"
   ]
  },
  {
   "cell_type": "markdown",
   "metadata": {
    "application/vnd.databricks.v1+cell": {
     "cellMetadata": {},
     "inputWidgets": {},
     "nuid": "7b486b03-7aba-498b-9136-22679ceda50c",
     "showTitle": false,
     "title": ""
    },
    "id": "kQBjvUtcD-oW"
   },
   "source": [
    "Podemos fazer isso usando as funções apresentadas anteriormente também:"
   ]
  },
  {
   "cell_type": "code",
   "execution_count": 0,
   "metadata": {
    "application/vnd.databricks.v1+cell": {
     "cellMetadata": {
      "byteLimit": 2048000,
      "rowLimit": 10000
     },
     "inputWidgets": {},
     "nuid": "9b055f71-736c-4f3e-ae71-3c74425b0bf1",
     "showTitle": false,
     "title": ""
    },
    "id": "bOaJYC2YD7_M"
   },
   "outputs": [],
   "source": [
    "#Criando um array de 5 com a função ones\n",
    "np.ones(10)*5"
   ]
  },
  {
   "cell_type": "code",
   "execution_count": 0,
   "metadata": {
    "application/vnd.databricks.v1+cell": {
     "cellMetadata": {
      "byteLimit": 2048000,
      "rowLimit": 10000
     },
     "inputWidgets": {},
     "nuid": "6aa0c8db-0548-49f5-a693-a24941c8ee94",
     "showTitle": false,
     "title": ""
    },
    "id": "7EhudVs4EGij"
   },
   "outputs": [],
   "source": [
    "#Criando um array de 5 com a função zeros\n",
    "np.zeros(10)+5"
   ]
  },
  {
   "cell_type": "code",
   "execution_count": 0,
   "metadata": {
    "application/vnd.databricks.v1+cell": {
     "cellMetadata": {
      "byteLimit": 2048000,
      "rowLimit": 10000
     },
     "inputWidgets": {},
     "nuid": "af6dd01c-5bd0-40e1-a9cc-0869ebc4c47e",
     "showTitle": false,
     "title": ""
    },
    "id": "EZPQXdYVELWL"
   },
   "outputs": [],
   "source": [
    "#Dividir um array por um número\n",
    "array_1/2"
   ]
  },
  {
   "cell_type": "code",
   "execution_count": 0,
   "metadata": {
    "application/vnd.databricks.v1+cell": {
     "cellMetadata": {
      "byteLimit": 2048000,
      "rowLimit": 10000
     },
     "inputWidgets": {},
     "nuid": "31122f3d-2f3a-49e8-b693-a5f269f53996",
     "showTitle": false,
     "title": ""
    },
    "id": "_F6Oc80MESST"
   },
   "outputs": [],
   "source": [
    "#Dividir um array pelo outro\n",
    "array_1/array_2"
   ]
  },
  {
   "cell_type": "markdown",
   "metadata": {
    "application/vnd.databricks.v1+cell": {
     "cellMetadata": {},
     "inputWidgets": {},
     "nuid": "3465b976-0a68-4927-b078-bd5d974b4ec6",
     "showTitle": false,
     "title": ""
    },
    "id": "u7mjGQtyEYPs"
   },
   "source": [
    "**Obs.1:** As operações elementos a elementos tem que respeitar a dimensão dos arrays:"
   ]
  },
  {
   "cell_type": "code",
   "execution_count": 0,
   "metadata": {
    "application/vnd.databricks.v1+cell": {
     "cellMetadata": {
      "byteLimit": 2048000,
      "rowLimit": 10000
     },
     "inputWidgets": {},
     "nuid": "092250cf-8b9c-4b00-81e6-4200046c8699",
     "showTitle": false,
     "title": ""
    },
    "id": "E3rXPa2sEVD0"
   },
   "outputs": [],
   "source": [
    "#Criar array 3 (2 elementos)\n",
    "array_3 = np.array([1,2])\n",
    "#Somar array_1 com array_3\n",
    "array_1+array_3"
   ]
  },
  {
   "cell_type": "markdown",
   "metadata": {
    "application/vnd.databricks.v1+cell": {
     "cellMetadata": {},
     "inputWidgets": {},
     "nuid": "28bc6416-6e09-4583-aed0-0221b705498f",
     "showTitle": false,
     "title": ""
    },
    "id": "-JeNXAJwEraU"
   },
   "source": [
    "### **Operações de comparação e lógica:**\n",
    "\n",
    "O NumPy permite realizar operações de comparação (<, <=, >, >=, ==, !=) e operações lógicas (&, |, ~) entre arrays, criando arrays booleanos como resultado."
   ]
  },
  {
   "cell_type": "code",
   "execution_count": 0,
   "metadata": {
    "application/vnd.databricks.v1+cell": {
     "cellMetadata": {
      "byteLimit": 2048000,
      "rowLimit": 10000
     },
     "inputWidgets": {},
     "nuid": "b3c6530a-bb11-4c68-8360-47aadac2865c",
     "showTitle": false,
     "title": ""
    },
    "id": "ZOYty8A4Eljm"
   },
   "outputs": [],
   "source": [
    "array_1"
   ]
  },
  {
   "cell_type": "code",
   "execution_count": 0,
   "metadata": {
    "application/vnd.databricks.v1+cell": {
     "cellMetadata": {
      "byteLimit": 2048000,
      "rowLimit": 10000
     },
     "inputWidgets": {},
     "nuid": "45bb4a08-2472-42e4-aabe-88371b27faab",
     "showTitle": false,
     "title": ""
    },
    "id": "lFY7ZKWeE-8r"
   },
   "outputs": [],
   "source": [
    "#Operação de comparação\n",
    "array_1>2"
   ]
  },
  {
   "cell_type": "code",
   "execution_count": 0,
   "metadata": {
    "application/vnd.databricks.v1+cell": {
     "cellMetadata": {
      "byteLimit": 2048000,
      "rowLimit": 10000
     },
     "inputWidgets": {},
     "nuid": "47ed0ae1-dce4-472f-8cab-16e3683a5ee1",
     "showTitle": false,
     "title": ""
    }
   },
   "outputs": [],
   "source": [
    "array_2>2"
   ]
  },
  {
   "cell_type": "code",
   "execution_count": 0,
   "metadata": {
    "application/vnd.databricks.v1+cell": {
     "cellMetadata": {
      "byteLimit": 2048000,
      "rowLimit": 10000
     },
     "inputWidgets": {},
     "nuid": "c25dff86-5fa0-4158-ae0c-d0178a35b6a0",
     "showTitle": false,
     "title": ""
    },
    "id": "82RskaJrFEor"
   },
   "outputs": [],
   "source": [
    "#Operações de lógica\n",
    "resultado_logico =(array_1>2) | (array_2>2)\n",
    "resultado_logico"
   ]
  },
  {
   "cell_type": "markdown",
   "metadata": {
    "application/vnd.databricks.v1+cell": {
     "cellMetadata": {},
     "inputWidgets": {},
     "nuid": "ab0d015e-92ff-4d90-89db-e2c2cc64db5b",
     "showTitle": false,
     "title": ""
    },
    "id": "zkzXae3GFak_"
   },
   "source": [
    "## Funções matemáticas universais\n",
    "\n",
    "O NumPy fornece funções matemáticas universais (np.sin(), np.cos(), np.exp(), np.sqrt(), etc.) que podem ser aplicadas a arrays NumPy, realizando a operação especificada em cada elemento do array.\n",
    "\n",
    "Muitos destes serão herdados pelo pandas, então os usaremos bastante no futuro próximo!"
   ]
  },
  {
   "cell_type": "code",
   "execution_count": 0,
   "metadata": {
    "application/vnd.databricks.v1+cell": {
     "cellMetadata": {
      "byteLimit": 2048000,
      "rowLimit": 10000
     },
     "inputWidgets": {},
     "nuid": "eee404e4-10bf-4381-aaf6-5eb2a2f0f2c5",
     "showTitle": false,
     "title": ""
    },
    "id": "CB5oPqP5FTq0"
   },
   "outputs": [],
   "source": [
    "#ver o array_1\n",
    "array_1"
   ]
  },
  {
   "cell_type": "code",
   "execution_count": 0,
   "metadata": {
    "application/vnd.databricks.v1+cell": {
     "cellMetadata": {
      "byteLimit": 2048000,
      "rowLimit": 10000
     },
     "inputWidgets": {},
     "nuid": "a143deb6-2846-444e-a3a9-08606a1d44c3",
     "showTitle": false,
     "title": ""
    },
    "id": "faN3Vbh7FpXj"
   },
   "outputs": [],
   "source": [
    "# Aplicar a função de exponenciação a todos os elementos\n",
    "np.exp(array_1)"
   ]
  },
  {
   "cell_type": "code",
   "execution_count": 0,
   "metadata": {
    "application/vnd.databricks.v1+cell": {
     "cellMetadata": {
      "byteLimit": 2048000,
      "rowLimit": 10000
     },
     "inputWidgets": {},
     "nuid": "e588af34-b7f9-4ebe-bbcc-106a5677b461",
     "showTitle": false,
     "title": ""
    },
    "id": "2J5jX44gFwlz"
   },
   "outputs": [],
   "source": [
    "# Aplicar a função de seno a todos os elementos\n",
    "np.sin(array_1)"
   ]
  },
  {
   "cell_type": "code",
   "execution_count": 0,
   "metadata": {
    "application/vnd.databricks.v1+cell": {
     "cellMetadata": {
      "byteLimit": 2048000,
      "rowLimit": 10000
     },
     "inputWidgets": {},
     "nuid": "8ecf4907-c009-486a-b30f-af97dc27fc94",
     "showTitle": false,
     "title": ""
    },
    "id": "G2JfdLjvF0lT"
   },
   "outputs": [],
   "source": [
    "# Aplicar a função de cosseno a todos os elementos\n",
    "np.cos(array_1)"
   ]
  },
  {
   "cell_type": "code",
   "execution_count": 0,
   "metadata": {
    "application/vnd.databricks.v1+cell": {
     "cellMetadata": {
      "byteLimit": 2048000,
      "rowLimit": 10000
     },
     "inputWidgets": {},
     "nuid": "a8487232-2cf6-4f47-95ec-0b8b6a559c49",
     "showTitle": false,
     "title": ""
    },
    "id": "8lxxd2--F7aj"
   },
   "outputs": [],
   "source": [
    "# Aplicar a função da raiz quadrada a todos os elementos\n",
    "np.sqrt(array_1)"
   ]
  },
  {
   "cell_type": "markdown",
   "metadata": {
    "application/vnd.databricks.v1+cell": {
     "cellMetadata": {},
     "inputWidgets": {},
     "nuid": "06940223-6e03-46d8-81b4-3e906305239a",
     "showTitle": false,
     "title": ""
    },
    "id": "VuqBgVkmGGur"
   },
   "source": [
    "### **Operações de redução:**\n",
    "\n",
    "O NumPy oferece operações de redução, como soma (np.sum()), média (np.mean()), máximo (np.max()), mínimo (np.min()), entre outras. Essas operações agregam os valores do array em um único resultado."
   ]
  },
  {
   "cell_type": "code",
   "execution_count": 0,
   "metadata": {
    "application/vnd.databricks.v1+cell": {
     "cellMetadata": {
      "byteLimit": 2048000,
      "rowLimit": 10000
     },
     "inputWidgets": {},
     "nuid": "9c739305-bbd6-43be-b3b7-677e63d3ea10",
     "showTitle": false,
     "title": ""
    },
    "id": "FawISoK4GQVF"
   },
   "outputs": [],
   "source": [
    "# fixando a seed: números aleatórios reproduzíveis, com np.random.seed()\n",
    "np.random.seed(42)\n",
    "rand = np.random.randint(0,100,10)\n",
    "rand\n"
   ]
  },
  {
   "cell_type": "code",
   "execution_count": 0,
   "metadata": {
    "application/vnd.databricks.v1+cell": {
     "cellMetadata": {
      "byteLimit": 2048000,
      "rowLimit": 10000
     },
     "inputWidgets": {},
     "nuid": "e5816d41-c9c3-4850-a0ef-cfcdfd245a79",
     "showTitle": false,
     "title": ""
    },
    "id": "WkRattlMGBKb"
   },
   "outputs": [],
   "source": [
    "# maior valor\n",
    "rand.max()"
   ]
  },
  {
   "cell_type": "code",
   "execution_count": 0,
   "metadata": {
    "application/vnd.databricks.v1+cell": {
     "cellMetadata": {
      "byteLimit": 2048000,
      "rowLimit": 10000
     },
     "inputWidgets": {},
     "nuid": "26267d53-6027-4345-b67e-493699cc082a",
     "showTitle": false,
     "title": ""
    },
    "id": "o5-C2GVxGTC7"
   },
   "outputs": [],
   "source": [
    "# indice do elemento máximo\n",
    "rand.argmax()"
   ]
  },
  {
   "cell_type": "code",
   "execution_count": 0,
   "metadata": {
    "application/vnd.databricks.v1+cell": {
     "cellMetadata": {
      "byteLimit": 2048000,
      "rowLimit": 10000
     },
     "inputWidgets": {},
     "nuid": "15e37463-3307-4836-9d10-86ada2585dd2",
     "showTitle": false,
     "title": ""
    },
    "id": "VtaIXNkZGUWD"
   },
   "outputs": [],
   "source": [
    "# menor valor\n",
    "rand.min()"
   ]
  },
  {
   "cell_type": "code",
   "execution_count": 0,
   "metadata": {
    "application/vnd.databricks.v1+cell": {
     "cellMetadata": {
      "byteLimit": 2048000,
      "rowLimit": 10000
     },
     "inputWidgets": {},
     "nuid": "42ac4e1b-91ea-42ff-992e-98137e3fb4c3",
     "showTitle": false,
     "title": ""
    },
    "id": "zdAtcTgaGXoL"
   },
   "outputs": [],
   "source": [
    "# indice do elemento minimo\n",
    "rand.argmin()"
   ]
  },
  {
   "cell_type": "code",
   "execution_count": 0,
   "metadata": {
    "application/vnd.databricks.v1+cell": {
     "cellMetadata": {
      "byteLimit": 2048000,
      "rowLimit": 10000
     },
     "inputWidgets": {},
     "nuid": "70d863c0-87eb-4275-bc2d-3152ec39a31c",
     "showTitle": false,
     "title": ""
    },
    "id": "1VdTk8UJGY5s"
   },
   "outputs": [],
   "source": [
    "# soma de todos os items\n",
    "rand.sum()"
   ]
  },
  {
   "cell_type": "code",
   "execution_count": 0,
   "metadata": {
    "application/vnd.databricks.v1+cell": {
     "cellMetadata": {
      "byteLimit": 2048000,
      "rowLimit": 10000
     },
     "inputWidgets": {},
     "nuid": "e6b4cbd8-499f-495a-94b5-3ddc36e4dc6d",
     "showTitle": false,
     "title": ""
    },
    "id": "o9Vpp9U2Gawz"
   },
   "outputs": [],
   "source": [
    "# media dos elementos\n",
    "rand.mean()"
   ]
  },
  {
   "cell_type": "markdown",
   "metadata": {
    "application/vnd.databricks.v1+cell": {
     "cellMetadata": {},
     "inputWidgets": {},
     "nuid": "67c68a74-5acb-424a-9001-d4b4c58a8abd",
     "showTitle": false,
     "title": ""
    },
    "id": "zEt9VskxGe1P"
   },
   "source": [
    "### Outros métodos úteis\n",
    "\n",
    "O numpy é uma ferramenta poderosa para lidar com cálculos numéricos e é base para o pandas, de modo que conseguimos manipular os dados de forma eficiente e concisa em arrays multidimensionais."
   ]
  },
  {
   "cell_type": "code",
   "execution_count": 0,
   "metadata": {
    "application/vnd.databricks.v1+cell": {
     "cellMetadata": {
      "byteLimit": 2048000,
      "rowLimit": 10000
     },
     "inputWidgets": {},
     "nuid": "2927aff5-5ad1-4e43-a6ff-a608c3a74083",
     "showTitle": false,
     "title": ""
    },
    "id": "b1Ja_rPHGcgj"
   },
   "outputs": [],
   "source": [
    "# desvio padrão\n",
    "rand.std()"
   ]
  },
  {
   "cell_type": "code",
   "execution_count": 0,
   "metadata": {
    "application/vnd.databricks.v1+cell": {
     "cellMetadata": {
      "byteLimit": 2048000,
      "rowLimit": 10000
     },
     "inputWidgets": {},
     "nuid": "4ee0b8dc-65fb-41be-ae04-0a09567219bc",
     "showTitle": false,
     "title": ""
    },
    "id": "-g6dDp86GsAz"
   },
   "outputs": [],
   "source": [
    "# ordenar a lista\n",
    "# por padrão, essa operação ocorre \"inplace\"\n",
    "# ou seja, ela ordena o objeto original, e não retorna nada\n",
    "rand.sort()"
   ]
  },
  {
   "cell_type": "code",
   "execution_count": 0,
   "metadata": {
    "application/vnd.databricks.v1+cell": {
     "cellMetadata": {
      "byteLimit": 2048000,
      "rowLimit": 10000
     },
     "inputWidgets": {},
     "nuid": "d561e24a-59fb-4c19-abca-dacea87cb13b",
     "showTitle": false,
     "title": ""
    }
   },
   "outputs": [],
   "source": [
    "rand"
   ]
  },
  {
   "cell_type": "code",
   "execution_count": 0,
   "metadata": {
    "application/vnd.databricks.v1+cell": {
     "cellMetadata": {
      "byteLimit": 2048000,
      "rowLimit": 10000
     },
     "inputWidgets": {},
     "nuid": "8139c398-3d13-4fd1-bb6d-4a97a25a5531",
     "showTitle": false,
     "title": ""
    },
    "id": "zYjW-vMoGvjj"
   },
   "outputs": [],
   "source": [
    "# Trocando o tipo dos dados nas lista com o .astype()\n",
    "rand.astype(float)"
   ]
  },
  {
   "cell_type": "markdown",
   "metadata": {
    "application/vnd.databricks.v1+cell": {
     "cellMetadata": {},
     "inputWidgets": {},
     "nuid": "d97e5fc2-0cd6-46d3-ac1c-931c527c6f7b",
     "showTitle": false,
     "title": ""
    },
    "id": "z1H7a8E5G0A1"
   },
   "source": [
    "## Para praticar (Hora boa)!!\n",
    "\n",
    "Vamos dividi-los em grupo para resolução dos seguintes exercícios, usando numpy."
   ]
  },
  {
   "cell_type": "markdown",
   "metadata": {
    "application/vnd.databricks.v1+cell": {
     "cellMetadata": {},
     "inputWidgets": {},
     "nuid": "fd7bc061-94c1-4254-8036-a1c167cf920d",
     "showTitle": false,
     "title": ""
    },
    "id": "0RBxhUDPHDPw"
   },
   "source": [
    "**1.** Escreva uma função que receba dois argumentos: um número qualquer de arrays (de mesmo tamanho) em numpy; e o número de elementos de cada array. A função deve retornar um escalar que representa a soma total de todos estes arrays. Inclua na função uma condição de verificação em que, caso haja um array de tamanho distinto dos demais, um erro seja retornado."
   ]
  },
  {
   "cell_type": "code",
   "execution_count": 0,
   "metadata": {
    "application/vnd.databricks.v1+cell": {
     "cellMetadata": {
      "byteLimit": 2048000,
      "rowLimit": 10000
     },
     "inputWidgets": {},
     "nuid": "a07f2071-776a-446f-939c-02bd2730f7f2",
     "showTitle": false,
     "title": ""
    },
    "id": "J3MWvo5TGxeT"
   },
   "outputs": [],
   "source": [
    "import numpy as np"
   ]
  },
  {
   "cell_type": "code",
   "execution_count": 0,
   "metadata": {
    "application/vnd.databricks.v1+cell": {
     "cellMetadata": {
      "byteLimit": 2048000,
      "rowLimit": 10000
     },
     "inputWidgets": {},
     "nuid": "e9a26ea4-29d0-43eb-8195-ed9f02370010",
     "showTitle": false,
     "title": ""
    }
   },
   "outputs": [],
   "source": [
    "def soma_total(*arrays,num):\n",
    "    # Verifica se todos os arrays têm o mesmo tamanho\n",
    "    tamanho = num\n",
    "    for arr in arrays:\n",
    "        if len(arr) != tamanho:\n",
    "            raise ValueError(\"Os arrays não têm o mesmo tamanho!\")\n",
    "\n",
    "    # Soma total dos elementos dos arrays\n",
    "    soma = np.sum(np.array(arrays))\n",
    "\n",
    "    return soma\n",
    "\n",
    "# Exemplo de uso da função\n",
    "array1 = np.array([1, 2, 3])\n",
    "array2 = np.array([4, 5, 6])\n",
    "array3 = np.array([7, 8, 9])\n",
    "\n",
    "resultado = soma_total(array1, array2, array3,num=3)\n",
    "print(resultado)"
   ]
  },
  {
   "cell_type": "markdown",
   "metadata": {
    "application/vnd.databricks.v1+cell": {
     "cellMetadata": {},
     "inputWidgets": {},
     "nuid": "025d48d8-1579-42c0-b1f0-0145b15d4d99",
     "showTitle": false,
     "title": ""
    },
    "id": "U5qyhvkKHqq4"
   },
   "source": [
    "**2.** Em estatística, a normalização de uma distribuição de dados pode ser feita subtraindo o valor médio da distribuição de cada valor do conjunto de dados, dividindo o resultado pelo desvio-padrão da distribuição.\n",
    "\n",
    "Escreva uma função que normalize os dados recebidos por um array numpy qualquer, conforme descrito anteriormente."
   ]
  },
  {
   "cell_type": "code",
   "execution_count": 0,
   "metadata": {
    "application/vnd.databricks.v1+cell": {
     "cellMetadata": {
      "byteLimit": 2048000,
      "rowLimit": 10000
     },
     "inputWidgets": {},
     "nuid": "3a58c132-1c1a-4d31-958c-aeb031ae49a6",
     "showTitle": false,
     "title": ""
    },
    "id": "i7wZR8oFHnOz"
   },
   "outputs": [],
   "source": [
    "def func_norm(array):\n",
    "    media = array.mean()\n",
    "    dvp = array.std()\n",
    "    return (array - media)/dvp\n",
    "#Criando um array\n",
    "rand = np.random.rand(20)\n",
    "print(rand)\n",
    "resultado = func_norm(rand)\n",
    "print(resultado)"
   ]
  },
  {
   "cell_type": "markdown",
   "metadata": {
    "application/vnd.databricks.v1+cell": {
     "cellMetadata": {},
     "inputWidgets": {},
     "nuid": "988ab7ad-9717-4ddc-869e-2bff5d1a894b",
     "showTitle": false,
     "title": ""
    },
    "id": "4C7_WFvMIaEe"
   },
   "source": [
    "**3.** Escreva uma função em numpy que receba um array contendo notas de uma turma de 100 estudantes. Considere que a nota de aprovação da turma é 5.0. A função deve retornar, em um array numpy, nesta ordem:\n",
    "- a média e o desvio-padrão das notas da turma;\n",
    "- o número de notas maiores que 7.0;\n",
    "- o número de reprovações da turma;\n",
    "- a menor nota da turma;\n",
    "- a maior nota da turma."
   ]
  },
  {
   "cell_type": "code",
   "execution_count": 0,
   "metadata": {
    "application/vnd.databricks.v1+cell": {
     "cellMetadata": {
      "byteLimit": 2048000,
      "rowLimit": 10000
     },
     "inputWidgets": {},
     "nuid": "5d246ed6-c25f-467f-b3a3-5d27d8c6a908",
     "showTitle": false,
     "title": ""
    },
    "id": "0sc4zFPjJkLj"
   },
   "outputs": [],
   "source": [
    "def info_turma(notas):\n",
    "    media = notas.mean()\n",
    "    dvp = notas.std()\n",
    "    maior_que_sete = (notas > 7).sum()\n",
    "    num_repro = (notas < 5).sum()\n",
    "    menor_nota = notas.min()\n",
    "    maior_nota = notas.max()\n",
    "    return np.array([media,dvp,maior_que_sete,\n",
    "                     num_repro,menor_nota,maior_nota])\n",
    "#Gerar um array com notas entre 0 a 10 de 100 alunos\n",
    "np.random.seed(42)\n",
    "notas_turma = np.round(np.random.uniform(0,10,100),2)\n",
    "info_turma(notas_turma)"
   ]
  },
  {
   "cell_type": "markdown",
   "metadata": {
    "application/vnd.databricks.v1+cell": {
     "cellMetadata": {},
     "inputWidgets": {},
     "nuid": "219d4b01-e639-4c71-8e5f-b4dc0effad41",
     "showTitle": false,
     "title": ""
    },
    "id": "z9a_BRVwJ08x"
   },
   "source": [
    "**4.** Em Geometria Analítica, um **vetor** é uma quantidade que pode ser definida por um énuplo (uma sequência ordenada de *n* elementos) em que cada elemento representa a intensidade do vetor na direção especificada pela i-ésima componente desta sequência.\n",
    "\n",
    "Quando pensamos em duas dimensões, por exemplo, o vetor $R = (b,a)$ define, geometricamente, a entidade representada na figura abaixo, com componentes nos eixos x e y usuais.\n",
    "\n",
    "<img src = \"https://static.todamateria.com.br/upload/im/ag/image-721.jpg?auto_optimize=low\" />\n",
    "\n",
    "O **módulo** deste vetor, também chamado de intensidade, está geometricamente relacionado ao seu comprimento, e pode ser calculado diretamente pelas suas componentes, por meio de uma operação conhecida como **produto escalar** do vetor com ele mesmo. O módulo quadrático é expresso, desta forma, por:\n",
    "\n",
    "$|A|^2 = \\vec{A} \\cdot \\vec{A}$\n",
    "\n",
    "Por outro lado, o produto escalar entre dois vetores $A = (a_{x}, a_{y})$ e $B = (b_{x}, b_{y})$ é dado por:\n",
    "\n",
    "$\\vec{A} \\cdot \\vec{B} = a_{x} \\times b_{x} + a_{y} \\times b_{y}$ (e esta definição vale para qualquer que seja a dimensão do vetor).\n",
    "\n",
    "O módulo quadrático de um vetor é, portanto:\n",
    "\n",
    "$|A|² = a_{x}^2 + b_{x}^2$."
   ]
  },
  {
   "cell_type": "code",
   "execution_count": 0,
   "metadata": {
    "application/vnd.databricks.v1+cell": {
     "cellMetadata": {
      "byteLimit": 2048000,
      "rowLimit": 10000
     },
     "inputWidgets": {},
     "nuid": "cecc0a7c-eb00-4bbb-a5fe-99958db6d7e3",
     "showTitle": false,
     "title": ""
    },
    "id": "QzHi2IL6JmfT"
   },
   "outputs": [],
   "source": [
    "def modulo_array(array):\n",
    "    #Calcular o módulo desse array\n",
    "    modulo = np.sqrt(np.sum(array**2))\n",
    "    return modulo\n",
    "#Exemplo de uso da função\n",
    "array = np.array([[1,2,3],[4,5,6]])\n",
    "modulo_array(array)"
   ]
  }
 ],
 "metadata": {
  "application/vnd.databricks.v1+notebook": {
   "dashboards": [],
   "language": "python",
   "notebookMetadata": {
    "pythonIndentUnit": 4
   },
   "notebookName": "Aula_02_Numpy_(Parte_1)",
   "widgets": {}
  },
  "colab": {
   "provenance": []
  },
  "kernelspec": {
   "display_name": "Python 3",
   "name": "python3"
  },
  "language_info": {
   "codemirror_mode": {
    "name": "ipython",
    "version": 3
   },
   "file_extension": ".py",
   "mimetype": "text/x-python",
   "name": "python",
   "nbconvert_exporter": "python",
   "pygments_lexer": "ipython3",
   "version": "3.11.4"
  }
 },
 "nbformat": 4,
 "nbformat_minor": 0
}
