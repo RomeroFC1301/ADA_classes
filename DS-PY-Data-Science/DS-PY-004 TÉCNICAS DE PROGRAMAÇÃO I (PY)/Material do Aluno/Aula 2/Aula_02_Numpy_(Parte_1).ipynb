{
  "nbformat": 4,
  "nbformat_minor": 0,
  "metadata": {
    "colab": {
      "provenance": []
    },
    "kernelspec": {
      "name": "python3",
      "display_name": "Python 3"
    },
    "language_info": {
      "name": "python"
    }
  },
  "cells": [
    {
      "cell_type": "markdown",
      "source": [
        "# Aula 02 - Numpy\n",
        "\n",
        "<img src=\"https://upload.wikimedia.org/wikipedia/commons/thumb/3/31/NumPy_logo_2020.svg/2560px-NumPy_logo_2020.svg.png\" alt=\"Alternative text\" />"
      ],
      "metadata": {
        "id": "RIgd-wNsselv"
      }
    },
    {
      "cell_type": "markdown",
      "source": [
        "____\n",
        "\n",
        "## **Contextualização:**\n",
        "\n",
        "Imagina que você precisa estudar dados de preço plano de saúde de diferentes grupos etários ao longo de um período de tempo.\n",
        "\n",
        "Você recebeu a tarefa de analisar os valores médios das faixas etárias (infância, adolescência, juventude, terceira idade) com os seguintes dados:\n",
        "\n",
        "* Valores das médias anuais para a infância na última década (2013-2022): [80.29, 136.34, 222.57, 232.36, 223.91, 221.31, 165.1, 165.61, 82.17, 158.27]\n",
        "* Valores das médias anuais para a adolescência na última década: [211.82, 349.92, 304.53, 208.8, 262.62, 250.55, 363.44, 138.23, 173.94, 138.16]\n",
        "* Valores das médias anuais para a juventude na última década: [417.59, 565.65, 189.64, 279.04, 572.94, 199.32, 579.69, 568.64, 399.83, 511.09]\n",
        "* Valores das médias anuais para a terceira idade: [686.64, 499.16, 848.05, 390.63, 879.84, 520.33, 796.55, 500.86, 416.4, 784.88]\n",
        "\n",
        "\n"
      ],
      "metadata": {
        "id": "6em_OSECsmJ-"
      }
    },
    {
      "cell_type": "code",
      "execution_count": 7,
      "metadata": {
        "id": "qQzl3pIkseCK"
      },
      "outputs": [],
      "source": [
        "#Lista da infância:\n",
        "lista_inf = [80.29, 136.34, 222.57, 232.36, 223.91, 221.31, 165.1, 165.61, 82.17, 158.27]\n",
        "#Lista da adolescência\n",
        "lista_ado = [211.82, 349.92, 304.53, 208.8, 262.62, 250.55, 363.44, 138.23, 173.94, 138.16]\n",
        "#Lista da juventude\n",
        "lista_juv = [417.59, 565.65, 189.64, 279.04, 572.94, 199.32, 579.69, 568.64, 399.83, 511.09]\n",
        "#Lista da terceira idade\n",
        "lista_ter = [686.64, 499.16, 848.05, 390.63, 879.84, 520.33, 796.55, 500.86, 416.4, 784.88]"
      ]
    },
    {
      "cell_type": "code",
      "source": [
        "#Calculando a média anual para cada grupo\n",
        "media_inf = sum(lista_inf)/len(lista_inf)\n",
        "print(f'A média do plano de saúde para a infância na última década é: {round(media_inf,2)}')\n",
        "media_ado = sum(lista_ado)/len(lista_ado)\n",
        "print(f'A média do plano de saúde para a adolescência na última década é: {round(media_ado,2)}')\n",
        "media_juv = sum(lista_juv)/len(lista_juv)\n",
        "print(f'A média do plano de saúde para a juventude na última década é: {round(media_juv,2)}')\n",
        "media_ter = sum(lista_ter)/len(lista_ter)\n",
        "print(f'A média do plano de saúde para a terceira idade na última década é: {round(media_ter,2)}')"
      ],
      "metadata": {
        "colab": {
          "base_uri": "https://localhost:8080/"
        },
        "id": "VwXL257Vu0pY",
        "outputId": "24139289-5cbd-43b5-da10-bf90c9a6bb21"
      },
      "execution_count": 8,
      "outputs": [
        {
          "output_type": "stream",
          "name": "stdout",
          "text": [
            "A média do plano de saúde para a infância na última década é: 168.79\n",
            "A média do plano de saúde para a adolescência na última década é: 240.2\n",
            "A média do plano de saúde para a juventude na última década é: 428.34\n",
            "A média do plano de saúde para a terceira idade na última década é: 632.33\n"
          ]
        }
      ]
    },
    {
      "cell_type": "markdown",
      "source": [
        "## O que é numpy?\n",
        "\n",
        "A biblioteca **NumPy** _(Numerical Python)_ proporciona uma forma eficiente de armazenagem e processamento de conjuntos de dados, e é utilizada como base para a construção da biblioteca Pandas, que estudaremos a seguir.\n",
        "\n",
        "O diferencial do Numpy é sua velocidade e eficiência, o que faz com que ela seja amplamente utilizada para computação científica e análise de dados.\n",
        "\n",
        "A velocidade e eficiência é possível graças à estrutura chamada **numpy array**, que é um forma eficiente de guardar e manipular matrizes, que serve como base para as tabelas que iremos utilizar."
      ],
      "metadata": {
        "id": "mvRy3QGMxO8P"
      }
    },
    {
      "cell_type": "markdown",
      "source": [
        "[Guia rápido de uso da biblioteca](https://numpy.org/devdocs/user/quickstart.html)\n",
        "\n",
        "[Guia para iniciantes](https://numpy.org/devdocs/user/absolute_beginners.html)"
      ],
      "metadata": {
        "id": "EsClo8q0xaHy"
      }
    },
    {
      "cell_type": "markdown",
      "source": [
        "____\n",
        "\n",
        "### **Qual a diferença entre um numpy array e uma lista?**"
      ],
      "metadata": {
        "id": "gV3jm0Jcxbv9"
      }
    },
    {
      "cell_type": "markdown",
      "source": [
        "**numpy array:** armazena somente um tipo de dado (homogêneo), ocupando menos memória. É pensado para maior eficiência de cálculo.\n",
        "\n",
        "**lista:** permite armazenar dados de vários tipos."
      ],
      "metadata": {
        "id": "AvrbyPL6xf3u"
      }
    },
    {
      "cell_type": "markdown",
      "source": [
        "Vamos relembrar como definimos uma lista:"
      ],
      "metadata": {
        "id": "LYbjNJYrx3a1"
      }
    },
    {
      "cell_type": "code",
      "source": [
        "lista = [\"Unimed\", 1108, 3.14, True, [2,4], (1,5),{\"Turma:1108 Unimed\"}]\n",
        "lista"
      ],
      "metadata": {
        "colab": {
          "base_uri": "https://localhost:8080/"
        },
        "id": "pL_Tamo5xHp2",
        "outputId": "54260af2-d937-4e1f-b2c7-4d457f5a9181"
      },
      "execution_count": 12,
      "outputs": [
        {
          "output_type": "execute_result",
          "data": {
            "text/plain": [
              "['Unimed', 1108, 3.14, True, [2, 4], (1, 5), {'Turma:1108 Unimed'}]"
            ]
          },
          "metadata": {},
          "execution_count": 12
        }
      ]
    },
    {
      "cell_type": "code",
      "source": [
        "#Como adicionamos valores à lista\n",
        "lista.append({'Professores': ['Romero','Allan']})\n",
        "lista"
      ],
      "metadata": {
        "colab": {
          "base_uri": "https://localhost:8080/"
        },
        "id": "mP5wWW6sx69K",
        "outputId": "e9f2f7f5-506c-4442-9724-f2fb70e29af5"
      },
      "execution_count": 13,
      "outputs": [
        {
          "output_type": "execute_result",
          "data": {
            "text/plain": [
              "['Unimed',\n",
              " 1108,\n",
              " 3.14,\n",
              " True,\n",
              " [2, 4],\n",
              " (1, 5),\n",
              " {'Turma:1108 Unimed'},\n",
              " {'Professores': ['Romero', 'Allan']}]"
            ]
          },
          "metadata": {},
          "execution_count": 13
        }
      ]
    },
    {
      "cell_type": "markdown",
      "source": [
        "Como então criamos um objeto **numpy array?**\n",
        "\n",
        "Primeiro, precisamos importar a biblioteca numpy."
      ],
      "metadata": {
        "id": "i5LXXsOlx_Lm"
      }
    },
    {
      "cell_type": "code",
      "source": [
        "#Importando a biblioteca numpy\n",
        "import numpy as np"
      ],
      "metadata": {
        "id": "1nkocaW_x9_0"
      },
      "execution_count": 11,
      "outputs": []
    },
    {
      "cell_type": "markdown",
      "source": [
        "#### **Método np.array():**"
      ],
      "metadata": {
        "id": "AYSb7X2_ymkW"
      }
    },
    {
      "cell_type": "markdown",
      "source": [
        "Podemos criar um array a partir de uma lista, usando o método **np.array()**."
      ],
      "metadata": {
        "id": "L9NHUKC-yd7H"
      }
    },
    {
      "cell_type": "code",
      "source": [
        "#Criando uma lista\n",
        "lista = [5,4,3,2,1]\n",
        "array = np.array(lista)"
      ],
      "metadata": {
        "id": "W9k8ACIeyL9c"
      },
      "execution_count": 14,
      "outputs": []
    },
    {
      "cell_type": "code",
      "source": [
        "lista"
      ],
      "metadata": {
        "colab": {
          "base_uri": "https://localhost:8080/"
        },
        "id": "-PawpsAKywQ1",
        "outputId": "4699764c-b95c-4688-daf7-c7db216a5437"
      },
      "execution_count": 15,
      "outputs": [
        {
          "output_type": "execute_result",
          "data": {
            "text/plain": [
              "[5, 4, 3, 2, 1]"
            ]
          },
          "metadata": {},
          "execution_count": 15
        }
      ]
    },
    {
      "cell_type": "code",
      "source": [
        "array"
      ],
      "metadata": {
        "colab": {
          "base_uri": "https://localhost:8080/"
        },
        "id": "oULxID2-yxIV",
        "outputId": "24d6ba0c-511d-4151-a5ad-c01541d02ad1"
      },
      "execution_count": 16,
      "outputs": [
        {
          "output_type": "execute_result",
          "data": {
            "text/plain": [
              "array([5, 4, 3, 2, 1])"
            ]
          },
          "metadata": {},
          "execution_count": 16
        }
      ]
    },
    {
      "cell_type": "code",
      "source": [
        "print(lista)"
      ],
      "metadata": {
        "colab": {
          "base_uri": "https://localhost:8080/"
        },
        "id": "FH0M2aLayx1d",
        "outputId": "b171a85e-3b6c-4f28-aed6-3dd88f2d957e"
      },
      "execution_count": 17,
      "outputs": [
        {
          "output_type": "stream",
          "name": "stdout",
          "text": [
            "[5, 4, 3, 2, 1]\n"
          ]
        }
      ]
    },
    {
      "cell_type": "code",
      "source": [
        "print(array)"
      ],
      "metadata": {
        "colab": {
          "base_uri": "https://localhost:8080/"
        },
        "id": "erhQafE_y1Ld",
        "outputId": "d18196d3-e0ec-4032-bb3b-42cfd1a2db2e"
      },
      "execution_count": 18,
      "outputs": [
        {
          "output_type": "stream",
          "name": "stdout",
          "text": [
            "[5 4 3 2 1]\n"
          ]
        }
      ]
    },
    {
      "cell_type": "code",
      "source": [
        "type(lista)"
      ],
      "metadata": {
        "colab": {
          "base_uri": "https://localhost:8080/"
        },
        "id": "tSDTr0VJy2BM",
        "outputId": "9499de62-0ae8-449c-da89-839a6ad43076"
      },
      "execution_count": 19,
      "outputs": [
        {
          "output_type": "execute_result",
          "data": {
            "text/plain": [
              "list"
            ]
          },
          "metadata": {},
          "execution_count": 19
        }
      ]
    },
    {
      "cell_type": "code",
      "source": [
        "type(array)"
      ],
      "metadata": {
        "colab": {
          "base_uri": "https://localhost:8080/"
        },
        "id": "hDjc9jYty4qF",
        "outputId": "9ad4f911-1c6e-4520-cf46-3d2ac5b91ecc"
      },
      "execution_count": 20,
      "outputs": [
        {
          "output_type": "execute_result",
          "data": {
            "text/plain": [
              "numpy.ndarray"
            ]
          },
          "metadata": {},
          "execution_count": 20
        }
      ]
    },
    {
      "cell_type": "markdown",
      "source": [
        "Um array não precisa ser necessariamente 1 vetor (de uma dimensão). Podemos criar arrays de mais de uma dimensão. Por exemplo, uma matriz 3x2."
      ],
      "metadata": {
        "id": "UgLZ7vBWy-VP"
      }
    },
    {
      "cell_type": "code",
      "source": [
        "lista = [[1,2],[3,4],[5,6]]\n",
        "array = np.array(lista)"
      ],
      "metadata": {
        "id": "qKaJsB6cy5nF"
      },
      "execution_count": 24,
      "outputs": []
    },
    {
      "cell_type": "code",
      "source": [
        "lista"
      ],
      "metadata": {
        "colab": {
          "base_uri": "https://localhost:8080/"
        },
        "id": "R7ek9sYkzO81",
        "outputId": "c500c121-4674-4f73-ba35-1aa5be657ee9"
      },
      "execution_count": 25,
      "outputs": [
        {
          "output_type": "execute_result",
          "data": {
            "text/plain": [
              "[[1, 2], [3, 4], [5, 6]]"
            ]
          },
          "metadata": {},
          "execution_count": 25
        }
      ]
    },
    {
      "cell_type": "code",
      "source": [
        "array"
      ],
      "metadata": {
        "colab": {
          "base_uri": "https://localhost:8080/"
        },
        "id": "oeGgESn2zPtt",
        "outputId": "05cc408b-d387-4952-cbd5-b21e881aaf8a"
      },
      "execution_count": 26,
      "outputs": [
        {
          "output_type": "execute_result",
          "data": {
            "text/plain": [
              "array([[1, 2],\n",
              "       [3, 4],\n",
              "       [5, 6]])"
            ]
          },
          "metadata": {},
          "execution_count": 26
        }
      ]
    },
    {
      "cell_type": "markdown",
      "source": [
        "Ou ainda, usando o **método reshape:**"
      ],
      "metadata": {
        "id": "0LI9rlsczjs2"
      }
    },
    {
      "cell_type": "code",
      "source": [
        "lista = [1,2,3,4,5,6]\n",
        "matriz = np.array(lista).reshape(3,2)"
      ],
      "metadata": {
        "id": "KLKQBZ9OzQat"
      },
      "execution_count": 27,
      "outputs": []
    },
    {
      "cell_type": "code",
      "source": [
        "matriz"
      ],
      "metadata": {
        "colab": {
          "base_uri": "https://localhost:8080/"
        },
        "id": "raCGRO8-z8_d",
        "outputId": "ab7a129f-21af-44e6-ce39-b357caf10cc0"
      },
      "execution_count": 28,
      "outputs": [
        {
          "output_type": "execute_result",
          "data": {
            "text/plain": [
              "array([[1, 2],\n",
              "       [3, 4],\n",
              "       [5, 6]])"
            ]
          },
          "metadata": {},
          "execution_count": 28
        }
      ]
    },
    {
      "cell_type": "markdown",
      "source": [
        "**Obs.:** Veremos esse método com mais detalhes na próxima aula."
      ],
      "metadata": {
        "id": "EUaUIM-Pz-pN"
      }
    },
    {
      "cell_type": "markdown",
      "source": [
        "### **Outras formas de iniciar arrays:**"
      ],
      "metadata": {
        "id": "ONeWezU41-7t"
      }
    },
    {
      "cell_type": "markdown",
      "source": [
        "**Array de zeros:**"
      ],
      "metadata": {
        "id": "hkMZ_jE32CW9"
      }
    },
    {
      "cell_type": "code",
      "source": [
        "np.zeros(10)"
      ],
      "metadata": {
        "colab": {
          "base_uri": "https://localhost:8080/"
        },
        "id": "xnD0q5dmz9nF",
        "outputId": "c29730a7-0eb8-4262-f0f9-8d346e639fab"
      },
      "execution_count": 29,
      "outputs": [
        {
          "output_type": "execute_result",
          "data": {
            "text/plain": [
              "array([0., 0., 0., 0., 0., 0., 0., 0., 0., 0.])"
            ]
          },
          "metadata": {},
          "execution_count": 29
        }
      ]
    },
    {
      "cell_type": "markdown",
      "source": [
        "**Arrays de uns:**"
      ],
      "metadata": {
        "id": "dJ7yRhMd2Gnd"
      }
    },
    {
      "cell_type": "code",
      "source": [
        "np.ones(10)"
      ],
      "metadata": {
        "colab": {
          "base_uri": "https://localhost:8080/"
        },
        "id": "0NMxa1wc2GAl",
        "outputId": "8f76129d-a712-4bb0-c3bc-a095bb7b5b23"
      },
      "execution_count": 30,
      "outputs": [
        {
          "output_type": "execute_result",
          "data": {
            "text/plain": [
              "array([1., 1., 1., 1., 1., 1., 1., 1., 1., 1.])"
            ]
          },
          "metadata": {},
          "execution_count": 30
        }
      ]
    },
    {
      "cell_type": "markdown",
      "source": [
        "**Arrays a partir do range:**"
      ],
      "metadata": {
        "id": "9nXTGXmK2OrN"
      }
    },
    {
      "cell_type": "code",
      "source": [
        "np.array(list(range(1,20,2)))"
      ],
      "metadata": {
        "colab": {
          "base_uri": "https://localhost:8080/"
        },
        "id": "rUCQJDj02JZs",
        "outputId": "32654370-7cba-42ac-f31b-52d5cd7348a6"
      },
      "execution_count": 31,
      "outputs": [
        {
          "output_type": "execute_result",
          "data": {
            "text/plain": [
              "array([ 1,  3,  5,  7,  9, 11, 13, 15, 17, 19])"
            ]
          },
          "metadata": {},
          "execution_count": 31
        }
      ]
    },
    {
      "cell_type": "markdown",
      "source": [
        "### **Método np.arange:**\n",
        "\n",
        "Conseguimos fazer o que fizemos anteriormente com o range."
      ],
      "metadata": {
        "id": "TDo75jfz2yAl"
      }
    },
    {
      "cell_type": "code",
      "source": [
        "#Criando um array de números sequenciais\n",
        "np.arange(5)"
      ],
      "metadata": {
        "colab": {
          "base_uri": "https://localhost:8080/"
        },
        "id": "zJi3jdKC2Wuc",
        "outputId": "7c058377-1eaf-4508-fb2b-83557e718455"
      },
      "execution_count": 33,
      "outputs": [
        {
          "output_type": "execute_result",
          "data": {
            "text/plain": [
              "array([0, 1, 2, 3, 4])"
            ]
          },
          "metadata": {},
          "execution_count": 33
        }
      ]
    },
    {
      "cell_type": "code",
      "source": [
        "#Criando um array de 1 a 19 de 2 em 2\n",
        "np.arange(1,20,2)"
      ],
      "metadata": {
        "colab": {
          "base_uri": "https://localhost:8080/"
        },
        "id": "mpKkE9fy3B1s",
        "outputId": "f0f55321-d0ed-446c-e1a8-ba6c954cde8b"
      },
      "execution_count": 34,
      "outputs": [
        {
          "output_type": "execute_result",
          "data": {
            "text/plain": [
              "array([ 1,  3,  5,  7,  9, 11, 13, 15, 17, 19])"
            ]
          },
          "metadata": {},
          "execution_count": 34
        }
      ]
    },
    {
      "cell_type": "markdown",
      "source": [
        "O **padrão** é como no **range:**\n",
        "* (início, fim, passo);\n",
        "* Sem início: começa no zero;\n",
        "* Sem passo: passo será um."
      ],
      "metadata": {
        "id": "suQZcC2R3Msd"
      }
    },
    {
      "cell_type": "markdown",
      "source": [
        "## **Método np.linspace:**\n",
        "\n",
        "É um método usado para criar um array com valores igualmente espaçados dentro de um intervalo especificado.\n",
        "\n",
        "**Utilidade:** Desejamos gerar uma sequência de números com uma quantidade específica de elementos entre um valor inicial e final:\n",
        "\n",
        "**Sintaxe:**\n",
        "\n",
        "```(python)\n",
        "np.linspace(start,stop,num=50,endpint=True,retstep=False,dtype=None)\n",
        "```\n"
      ],
      "metadata": {
        "id": "eRHAPkbY3XbM"
      }
    },
    {
      "cell_type": "markdown",
      "source": [
        "* start: Valor inicial da sequência.\n",
        "* stop: Valor final da sequência.\n",
        "* num: Número de elementos a serem gerados. Por padrão, é igual a 50.\n",
        "* endpoint: Se True, o valor final (stop) é incluído no array resultante. Por padrão, é True.\n",
        "* retstep: Se True, retorna o espaçamento entre os valores gerados.\n",
        "* dtype: Tipo de dados dos elementos no array."
      ],
      "metadata": {
        "id": "TGaDVwHD4IA1"
      }
    },
    {
      "cell_type": "markdown",
      "source": [
        "Geralmente usamos: start, stop e num."
      ],
      "metadata": {
        "id": "ym_y9-jr4RBg"
      }
    },
    {
      "cell_type": "code",
      "source": [
        "#Gerar uma sequência de 20 números igualmente espaçados entre 30 e 100\n",
        "array = np.linspace(30,100,20)\n",
        "array"
      ],
      "metadata": {
        "colab": {
          "base_uri": "https://localhost:8080/"
        },
        "id": "NuBNf80V3Iak",
        "outputId": "e52ae8cb-3913-45e9-ee4e-a2a11c6fecf1"
      },
      "execution_count": 35,
      "outputs": [
        {
          "output_type": "execute_result",
          "data": {
            "text/plain": [
              "array([ 30.        ,  33.68421053,  37.36842105,  41.05263158,\n",
              "        44.73684211,  48.42105263,  52.10526316,  55.78947368,\n",
              "        59.47368421,  63.15789474,  66.84210526,  70.52631579,\n",
              "        74.21052632,  77.89473684,  81.57894737,  85.26315789,\n",
              "        88.94736842,  92.63157895,  96.31578947, 100.        ])"
            ]
          },
          "metadata": {},
          "execution_count": 35
        }
      ]
    },
    {
      "cell_type": "markdown",
      "source": [
        "### **Método random:**\n",
        "\n",
        "<img src = \"https://numpy.org/devdocs/_images/np_ones_zeros_random.png\" />\n",
        "\n",
        "Ele oferece várias funções para geração de números aleatórios e é bastante útil para aplicações, desde simulações estatísticas até a criação de conjuntos de dados fictícios para testes."
      ],
      "metadata": {
        "id": "teH7r0wi4kdd"
      }
    },
    {
      "cell_type": "code",
      "source": [
        "#Gerar dados com distribuição uniforme entre 0 e 1:\n",
        "np.random.rand(5)"
      ],
      "metadata": {
        "colab": {
          "base_uri": "https://localhost:8080/"
        },
        "id": "vmHdGMPH4iX9",
        "outputId": "6a1e19a7-c455-41cd-91a6-0b8637d627d4"
      },
      "execution_count": 36,
      "outputs": [
        {
          "output_type": "execute_result",
          "data": {
            "text/plain": [
              "array([0.09364895, 0.2305344 , 0.22953949, 0.91070881, 0.07351049])"
            ]
          },
          "metadata": {},
          "execution_count": 36
        }
      ]
    },
    {
      "cell_type": "code",
      "source": [
        "import seaborn as sns"
      ],
      "metadata": {
        "id": "xWsPkRO_9bTd"
      },
      "execution_count": 46,
      "outputs": []
    },
    {
      "cell_type": "markdown",
      "source": [
        "Plotando o gráfico da distribuição uniforme:\n",
        "\n",
        "<img src = \"https://www.uv.es/ceaces/base/modelos%20de%20probabilidad/Image12.gif\" />"
      ],
      "metadata": {
        "id": "3o8O4i2y9aoh"
      }
    },
    {
      "cell_type": "code",
      "source": [
        "x = np.random.rand(100000)\n",
        "sns.histplot(x)"
      ],
      "metadata": {
        "colab": {
          "base_uri": "https://localhost:8080/",
          "height": 448
        },
        "id": "IRwo2h-d9ei9",
        "outputId": "a1e77d8a-1345-42b4-9e85-b45b710b2a37"
      },
      "execution_count": 50,
      "outputs": [
        {
          "output_type": "execute_result",
          "data": {
            "text/plain": [
              "<Axes: ylabel='Count'>"
            ]
          },
          "metadata": {},
          "execution_count": 50
        },
        {
          "output_type": "display_data",
          "data": {
            "text/plain": [
              "<Figure size 640x480 with 1 Axes>"
            ],
            "image/png": "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\n"
          },
          "metadata": {}
        }
      ]
    },
    {
      "cell_type": "code",
      "source": [
        "#Gerar uma matriz 3x3\n",
        "np.random.rand(3,3)"
      ],
      "metadata": {
        "colab": {
          "base_uri": "https://localhost:8080/"
        },
        "id": "3U9XjCwv7_w1",
        "outputId": "8227f460-51d8-48c3-8341-b946c339e325"
      },
      "execution_count": 37,
      "outputs": [
        {
          "output_type": "execute_result",
          "data": {
            "text/plain": [
              "array([[0.72794201, 0.99589961, 0.65404663],\n",
              "       [0.29183774, 0.10906243, 0.18521914],\n",
              "       [0.2691923 , 0.55820236, 0.40371747]])"
            ]
          },
          "metadata": {},
          "execution_count": 37
        }
      ]
    },
    {
      "cell_type": "code",
      "source": [
        "#Gerar um número inteiro aleatório dentro de um intervalo especificado\n",
        "np.random.randint(1,11)"
      ],
      "metadata": {
        "colab": {
          "base_uri": "https://localhost:8080/"
        },
        "id": "rhDoIF2_8Cm0",
        "outputId": "44d564a3-8491-4b2b-af16-64dba4bdfec1"
      },
      "execution_count": 39,
      "outputs": [
        {
          "output_type": "execute_result",
          "data": {
            "text/plain": [
              "4"
            ]
          },
          "metadata": {},
          "execution_count": 39
        }
      ]
    },
    {
      "cell_type": "markdown",
      "source": [
        "Dentro deste módulo, há vários geradores de número aleatórios para fins mais especificos. No exemplo abaixo, trabalhamos com a função *randint*, que gera somente números inteiros no intervalo especificado."
      ],
      "metadata": {
        "id": "4pr7wRSZ8s-m"
      }
    },
    {
      "cell_type": "code",
      "source": [
        "#Gerar um vetor aleatório de tamanho 10, de 0 até 100\n",
        "np.random.randint(0,100,10)"
      ],
      "metadata": {
        "colab": {
          "base_uri": "https://localhost:8080/"
        },
        "id": "A-XEDFts8wo1",
        "outputId": "678ee147-d30f-4ea7-efb5-226a3b23f9b3"
      },
      "execution_count": 43,
      "outputs": [
        {
          "output_type": "execute_result",
          "data": {
            "text/plain": [
              "array([58, 43, 48, 44,  5,  0, 89,  8, 88, 31])"
            ]
          },
          "metadata": {},
          "execution_count": 43
        }
      ]
    },
    {
      "cell_type": "markdown",
      "source": [
        "Também conseguimos trabalhar com **distribuições estatísticas de probabilidade**. Vejamos, por exemplo, como é possível gerar números aleatórios que obedeçam a uma distribuição normal."
      ],
      "metadata": {
        "id": "SbV4GDd4878T"
      }
    },
    {
      "cell_type": "markdown",
      "source": [
        "<img src = \"https://www.allaboutcircuits.com/uploads/articles/an-introduction-to-the-normal-distribution-in-electrical-engineerin-rk-aac-image1.jpg\" />"
      ],
      "metadata": {
        "id": "xpU12Fnb8-_C"
      }
    },
    {
      "cell_type": "code",
      "source": [
        "#Gerar um array de valores aleatórios de distribuição normal\n",
        "np.random.randn(10)"
      ],
      "metadata": {
        "colab": {
          "base_uri": "https://localhost:8080/"
        },
        "id": "v5JLuUvd8Ij8",
        "outputId": "9574fa9b-996d-419e-bcc0-4a7d5bcd37df"
      },
      "execution_count": 40,
      "outputs": [
        {
          "output_type": "execute_result",
          "data": {
            "text/plain": [
              "array([-0.88171995,  0.29485468, -0.24689948, -0.18784732, -0.46946153,\n",
              "       -0.40152587, -0.80193792,  1.26806572,  0.69874588,  0.69575631])"
            ]
          },
          "metadata": {},
          "execution_count": 40
        }
      ]
    },
    {
      "cell_type": "code",
      "source": [
        "#Gerar uma matriz 2x2 de valores aleatórios de distribuição normal\n",
        "np.random.randn(2,2)"
      ],
      "metadata": {
        "colab": {
          "base_uri": "https://localhost:8080/"
        },
        "id": "SPueqwlu8gj8",
        "outputId": "db62b0d2-892c-4af7-8598-f3ef0199e503"
      },
      "execution_count": 41,
      "outputs": [
        {
          "output_type": "execute_result",
          "data": {
            "text/plain": [
              "array([[ 1.75451635, -0.95890374],\n",
              "       [ 2.53471604, -2.32859752]])"
            ]
          },
          "metadata": {},
          "execution_count": 41
        }
      ]
    },
    {
      "cell_type": "markdown",
      "source": [
        "Podemos plotar o gráfico de uma distribuição normal, usando a biblioteca seaborn:"
      ],
      "metadata": {
        "id": "m_ofmKyE8pKd"
      }
    },
    {
      "cell_type": "code",
      "source": [
        "# plotando distribuições (uniforme e normal) com o seaborn\n",
        "x = np.random.normal(0,1,100000)\n",
        "sns.histplot(x)"
      ],
      "metadata": {
        "colab": {
          "base_uri": "https://localhost:8080/",
          "height": 448
        },
        "id": "RJSwBl1y8j_D",
        "outputId": "2307ce99-cc46-4042-de26-3c809502d6f6"
      },
      "execution_count": 45,
      "outputs": [
        {
          "output_type": "execute_result",
          "data": {
            "text/plain": [
              "<Axes: ylabel='Count'>"
            ]
          },
          "metadata": {},
          "execution_count": 45
        },
        {
          "output_type": "display_data",
          "data": {
            "text/plain": [
              "<Figure size 640x480 with 1 Axes>"
            ],
            "image/png": "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\n"
          },
          "metadata": {}
        }
      ]
    },
    {
      "cell_type": "markdown",
      "source": [
        "Podemos ainda gerar uma amostra aleatória a partir de uma matriz ou sequência usando o **random.choice()**:"
      ],
      "metadata": {
        "id": "xfKyKQm--GAW"
      }
    },
    {
      "cell_type": "code",
      "source": [
        "#Gerar uma amostra aleatória a partir de um objeto aleatório\n",
        "random_sample = np.random.choice(np.random.rand(10),size=3,replace=False)\n",
        "random_sample"
      ],
      "metadata": {
        "colab": {
          "base_uri": "https://localhost:8080/"
        },
        "id": "aQ9mlSkM-Ljj",
        "outputId": "8883c55a-f648-4e6d-8d4e-a3f5a63f2f0d"
      },
      "execution_count": 52,
      "outputs": [
        {
          "output_type": "execute_result",
          "data": {
            "text/plain": [
              "array([0.21032559, 0.59317614, 0.19213   ])"
            ]
          },
          "metadata": {},
          "execution_count": 52
        }
      ]
    },
    {
      "cell_type": "markdown",
      "source": [
        "Podemos também definir uma **semente (seed)** para gerar números pseudoaleatórios.\n",
        "\n",
        "**Utilidade:** Permite reproduzir a mesma sequência de números aleatórios em diferentes execuções do código, desde que a mesma semente seja usada."
      ],
      "metadata": {
        "id": "P-X3lNZl-c1P"
      }
    },
    {
      "cell_type": "code",
      "source": [
        "#Definir a semente para garantir a mesma sequência\n",
        "np.random.seed(42)\n",
        "#Gerar uma sequência aleatória\n",
        "np.random.rand(5)"
      ],
      "metadata": {
        "colab": {
          "base_uri": "https://localhost:8080/"
        },
        "id": "iKwwOGze-TX0",
        "outputId": "0b6c58e0-0412-42b3-b461-1907347252e5"
      },
      "execution_count": 58,
      "outputs": [
        {
          "output_type": "execute_result",
          "data": {
            "text/plain": [
              "array([0.37454012, 0.95071431, 0.73199394, 0.59865848, 0.15601864])"
            ]
          },
          "metadata": {},
          "execution_count": 58
        }
      ]
    },
    {
      "cell_type": "markdown",
      "source": [
        "**Obs.:** Se eu rodar de novo sem o seed?"
      ],
      "metadata": {
        "id": "ccvX2oDG-3a8"
      }
    },
    {
      "cell_type": "code",
      "source": [
        "np.random.rand(5)"
      ],
      "metadata": {
        "colab": {
          "base_uri": "https://localhost:8080/"
        },
        "id": "PDFn1MyZ-ycz",
        "outputId": "101e7dfe-99d2-4cbf-a5d9-bbfad9c873d9"
      },
      "execution_count": 59,
      "outputs": [
        {
          "output_type": "execute_result",
          "data": {
            "text/plain": [
              "array([0.15599452, 0.05808361, 0.86617615, 0.60111501, 0.70807258])"
            ]
          },
          "metadata": {},
          "execution_count": 59
        }
      ]
    },
    {
      "cell_type": "markdown",
      "source": [
        "É definido apenas para aquela célula."
      ],
      "metadata": {
        "id": "C16YTBC_-7Rd"
      }
    },
    {
      "cell_type": "markdown",
      "source": [
        "## **Indexação de Arrays:**\n",
        "\n",
        "É possível acessar elementos individuais dos arrays pelos **índices**, da mesma forma que fazemos com listas."
      ],
      "metadata": {
        "id": "W24EaQ9X-_mW"
      }
    },
    {
      "cell_type": "code",
      "source": [
        "#Criando um array sequencial de 1 a 20\n",
        "array = np.arange(1,21)\n",
        "array"
      ],
      "metadata": {
        "colab": {
          "base_uri": "https://localhost:8080/"
        },
        "id": "rx1f1SYX-6mC",
        "outputId": "4e035360-2e21-4340-a035-248cf2da2258"
      },
      "execution_count": 60,
      "outputs": [
        {
          "output_type": "execute_result",
          "data": {
            "text/plain": [
              "array([ 1,  2,  3,  4,  5,  6,  7,  8,  9, 10, 11, 12, 13, 14, 15, 16, 17,\n",
              "       18, 19, 20])"
            ]
          },
          "metadata": {},
          "execution_count": 60
        }
      ]
    },
    {
      "cell_type": "code",
      "source": [
        "#Acessando elementos individuais\n",
        "array[1]"
      ],
      "metadata": {
        "colab": {
          "base_uri": "https://localhost:8080/"
        },
        "id": "bEsW8bqh_L78",
        "outputId": "06f12f29-5428-4992-97ba-ae6ea24e700c"
      },
      "execution_count": 61,
      "outputs": [
        {
          "output_type": "execute_result",
          "data": {
            "text/plain": [
              "2"
            ]
          },
          "metadata": {},
          "execution_count": 61
        }
      ]
    },
    {
      "cell_type": "code",
      "source": [
        "#Acessando índices negativos\n",
        "array[-3]"
      ],
      "metadata": {
        "colab": {
          "base_uri": "https://localhost:8080/"
        },
        "id": "iwtxCTgF_PCT",
        "outputId": "ddbde3d9-f27e-4927-d3c1-8be947b83a68"
      },
      "execution_count": 62,
      "outputs": [
        {
          "output_type": "execute_result",
          "data": {
            "text/plain": [
              "18"
            ]
          },
          "metadata": {},
          "execution_count": 62
        }
      ]
    },
    {
      "cell_type": "code",
      "source": [
        "#Fazendo slicing\n",
        "array[1:3]"
      ],
      "metadata": {
        "colab": {
          "base_uri": "https://localhost:8080/"
        },
        "id": "clFRQT3f_R2M",
        "outputId": "4eb0afd0-91c0-4670-cca6-8129fdc916bf"
      },
      "execution_count": 63,
      "outputs": [
        {
          "output_type": "execute_result",
          "data": {
            "text/plain": [
              "array([2, 3])"
            ]
          },
          "metadata": {},
          "execution_count": 63
        }
      ]
    },
    {
      "cell_type": "code",
      "source": [
        "#Slicing sem início\n",
        "array[:5]"
      ],
      "metadata": {
        "colab": {
          "base_uri": "https://localhost:8080/"
        },
        "id": "bDVs7w8t_Upk",
        "outputId": "d8e52515-2582-4909-ca9d-7b3700382be2"
      },
      "execution_count": 64,
      "outputs": [
        {
          "output_type": "execute_result",
          "data": {
            "text/plain": [
              "array([1, 2, 3, 4, 5])"
            ]
          },
          "metadata": {},
          "execution_count": 64
        }
      ]
    },
    {
      "cell_type": "code",
      "source": [
        "#Slicing sem fim\n",
        "array[-3:]"
      ],
      "metadata": {
        "colab": {
          "base_uri": "https://localhost:8080/"
        },
        "id": "CmDleXAd_Z4k",
        "outputId": "962b5617-57d6-4ef7-8d48-450063104082"
      },
      "execution_count": 65,
      "outputs": [
        {
          "output_type": "execute_result",
          "data": {
            "text/plain": [
              "array([18, 19, 20])"
            ]
          },
          "metadata": {},
          "execution_count": 65
        }
      ]
    },
    {
      "cell_type": "markdown",
      "source": [
        "<img src = \"https://numpy.org/devdocs/_images/np_indexing.png\" />"
      ],
      "metadata": {
        "id": "dUGF1gkl_gf_"
      }
    },
    {
      "cell_type": "markdown",
      "source": [
        "**E como funciona para matrizes?**"
      ],
      "metadata": {
        "id": "RkjKFkRa_hdV"
      }
    },
    {
      "cell_type": "code",
      "source": [
        "# Criar uma matriz de exemplo\n",
        "matriz = np.array([\n",
        "    [1, 2, 3],\n",
        "    [4, 5, 6],\n",
        "    [7, 8, 9]\n",
        "])"
      ],
      "metadata": {
        "id": "d531Uau9_dgE"
      },
      "execution_count": 66,
      "outputs": []
    },
    {
      "cell_type": "markdown",
      "source": [
        "**Slicing por linhas e colunas:** Para selecionar uma parte específica da matriz, você pode usar a notação:\n",
        "\n",
        "```[linha_inicio:linha_fim, coluna_inicio:coluna_fim]```"
      ],
      "metadata": {
        "id": "dHQ1YWRH_1oo"
      }
    },
    {
      "cell_type": "code",
      "source": [
        "# Selecionar todas as linhas até a segunda e todas as colunas até a segunda\n",
        "submatriz = matriz[:2, :2]\n",
        "print(submatriz)"
      ],
      "metadata": {
        "colab": {
          "base_uri": "https://localhost:8080/"
        },
        "id": "-zgeYF5j_vEB",
        "outputId": "9fd94a38-14ac-4e69-d974-19f345761584"
      },
      "execution_count": 67,
      "outputs": [
        {
          "output_type": "stream",
          "name": "stdout",
          "text": [
            "[[1 2]\n",
            " [4 5]]\n"
          ]
        }
      ]
    },
    {
      "cell_type": "markdown",
      "source": [
        "**Selecionando uma linha ou coluna específica:** Para selecionar uma linha ou coluna específica, use apenas um índice."
      ],
      "metadata": {
        "id": "q0LP50VY_9c9"
      }
    },
    {
      "cell_type": "code",
      "source": [
        "# Selecionar a segunda coluna\n",
        "segunda_coluna = matriz[:, 1]\n",
        "print(segunda_coluna)"
      ],
      "metadata": {
        "colab": {
          "base_uri": "https://localhost:8080/"
        },
        "id": "k71izD-0_yZl",
        "outputId": "d9b0ea67-a07e-4912-cc00-0cc681fd9749"
      },
      "execution_count": 68,
      "outputs": [
        {
          "output_type": "stream",
          "name": "stdout",
          "text": [
            "[2 5 8]\n"
          ]
        }
      ]
    },
    {
      "cell_type": "code",
      "source": [
        "# Selecionar a segunda linha\n",
        "segunda_linha = matriz[1, :]\n",
        "print(segunda_linha)"
      ],
      "metadata": {
        "colab": {
          "base_uri": "https://localhost:8080/"
        },
        "id": "adCXjtX9_ypL",
        "outputId": "b5ae375d-e3e7-492e-e4e1-3c1e4eecf7cc"
      },
      "execution_count": 70,
      "outputs": [
        {
          "output_type": "stream",
          "name": "stdout",
          "text": [
            "[4 5 6]\n"
          ]
        }
      ]
    },
    {
      "cell_type": "markdown",
      "source": [
        "**Slicing com passo:** Você pode especificar um passo para avançar de maneira diferente pelos elementos da matriz:"
      ],
      "metadata": {
        "id": "oUoueZO9AO6S"
      }
    },
    {
      "cell_type": "code",
      "source": [
        "# Selecionar cada segundo elemento da primeira linha\n",
        "elementos_pares = matriz[0, ::2]\n",
        "print(elementos_pares)"
      ],
      "metadata": {
        "colab": {
          "base_uri": "https://localhost:8080/"
        },
        "id": "rCGYGEM3AJFs",
        "outputId": "9d946cfa-0e0f-41e3-a50e-9cb4570c1431"
      },
      "execution_count": 71,
      "outputs": [
        {
          "output_type": "stream",
          "name": "stdout",
          "text": [
            "[1 3]\n"
          ]
        }
      ]
    },
    {
      "cell_type": "markdown",
      "source": [
        "**Indexação usando arrays de índices:** Você pode indexar matrizes NumPy usando arrays de índices para selecionar elementos específicos:"
      ],
      "metadata": {
        "id": "x_nOGRfNAlJM"
      }
    },
    {
      "cell_type": "code",
      "source": [
        "indices = np.array([0, 2])\n",
        "submatriz_indices = matriz[indices, :]\n",
        "print(submatriz_indices)"
      ],
      "metadata": {
        "colab": {
          "base_uri": "https://localhost:8080/"
        },
        "id": "R74CCpwxASpU",
        "outputId": "fc7406c1-ced3-4da2-9995-cdb424be3f57"
      },
      "execution_count": 72,
      "outputs": [
        {
          "output_type": "stream",
          "name": "stdout",
          "text": [
            "[[1 2 3]\n",
            " [7 8 9]]\n"
          ]
        }
      ]
    },
    {
      "cell_type": "markdown",
      "source": [
        "Temos aqui uma submatriz contendo as linhas 0 e 2 da matriz original"
      ],
      "metadata": {
        "id": "GDcqU6AmAyoI"
      }
    },
    {
      "cell_type": "markdown",
      "source": [
        "## **Operações simples:**\n",
        "\n",
        "\n",
        "As operações com arrays no NumPy oferecem uma forma eficiente de realizar operações matemáticas e manipulações de dados em arrays multidimensionais. Essas operações são vetorizadas, o que significa que são aplicadas a todos os elementos do array sem a necessidade de loops explícitos, tornando o código mais conciso e rápido."
      ],
      "metadata": {
        "id": "Y5Eu4O7xA3XY"
      }
    },
    {
      "cell_type": "markdown",
      "source": [
        "### **Operações matemáticas:**"
      ],
      "metadata": {
        "id": "scy9vNrVEwgO"
      }
    },
    {
      "cell_type": "markdown",
      "source": [
        "____\n",
        "Vamos relembrar primeiro com uma lista:"
      ],
      "metadata": {
        "id": "IYsPJOCaB1Ce"
      }
    },
    {
      "cell_type": "code",
      "source": [
        "#Criando duas listas:\n",
        "lista_1 = [1,3,5,7,9]\n",
        "lista_2 = [2,4,6,8,10]"
      ],
      "metadata": {
        "id": "tR060JbLAsBz"
      },
      "execution_count": 73,
      "outputs": []
    },
    {
      "cell_type": "code",
      "source": [
        "#Multiplicando uma lista por um número\n",
        "lista_1*2"
      ],
      "metadata": {
        "colab": {
          "base_uri": "https://localhost:8080/"
        },
        "id": "rQeLefVYCIsE",
        "outputId": "bc67ccc9-1273-4ad3-a079-7e508baafb16"
      },
      "execution_count": 74,
      "outputs": [
        {
          "output_type": "execute_result",
          "data": {
            "text/plain": [
              "[1, 3, 5, 7, 9, 1, 3, 5, 7, 9]"
            ]
          },
          "metadata": {},
          "execution_count": 74
        }
      ]
    },
    {
      "cell_type": "code",
      "source": [
        "#Somando uma lista com um número\n",
        "lista_1+2"
      ],
      "metadata": {
        "colab": {
          "base_uri": "https://localhost:8080/",
          "height": 200
        },
        "id": "Op3LSXDZCRJM",
        "outputId": "4f05e695-13d7-48c9-97de-3f56573cf7f3"
      },
      "execution_count": 75,
      "outputs": [
        {
          "output_type": "error",
          "ename": "TypeError",
          "evalue": "ignored",
          "traceback": [
            "\u001b[0;31m---------------------------------------------------------------------------\u001b[0m",
            "\u001b[0;31mTypeError\u001b[0m                                 Traceback (most recent call last)",
            "\u001b[0;32m<ipython-input-75-2e484367a9e3>\u001b[0m in \u001b[0;36m<cell line: 2>\u001b[0;34m()\u001b[0m\n\u001b[1;32m      1\u001b[0m \u001b[0;31m#Somando uma lista com um número\u001b[0m\u001b[0;34m\u001b[0m\u001b[0;34m\u001b[0m\u001b[0m\n\u001b[0;32m----> 2\u001b[0;31m \u001b[0mlista_1\u001b[0m\u001b[0;34m+\u001b[0m\u001b[0;36m2\u001b[0m\u001b[0;34m\u001b[0m\u001b[0;34m\u001b[0m\u001b[0m\n\u001b[0m",
            "\u001b[0;31mTypeError\u001b[0m: can only concatenate list (not \"int\") to list"
          ]
        }
      ]
    },
    {
      "cell_type": "markdown",
      "source": [
        "São 2 objetos diferentes e só conseguimos somar listas com listas"
      ],
      "metadata": {
        "id": "H8E0CJ4ACdwO"
      }
    },
    {
      "cell_type": "code",
      "source": [
        "#Acrescentando um número a uma lista (ou soma)\n",
        "lista_1+[2]"
      ],
      "metadata": {
        "colab": {
          "base_uri": "https://localhost:8080/"
        },
        "id": "H3tkY_dXCVrz",
        "outputId": "b5834431-d79b-47e8-ed52-254e085e3f60"
      },
      "execution_count": 76,
      "outputs": [
        {
          "output_type": "execute_result",
          "data": {
            "text/plain": [
              "[1, 3, 5, 7, 9, 2]"
            ]
          },
          "metadata": {},
          "execution_count": 76
        }
      ]
    },
    {
      "cell_type": "code",
      "source": [
        "lista_1+lista_2"
      ],
      "metadata": {
        "colab": {
          "base_uri": "https://localhost:8080/"
        },
        "id": "zz2L1xw4ChHn",
        "outputId": "34509453-92a6-4633-8c75-45c362f3d9b8"
      },
      "execution_count": 77,
      "outputs": [
        {
          "output_type": "execute_result",
          "data": {
            "text/plain": [
              "[1, 3, 5, 7, 9, 2, 4, 6, 8, 10]"
            ]
          },
          "metadata": {},
          "execution_count": 77
        }
      ]
    },
    {
      "cell_type": "markdown",
      "source": [
        "E se eu quiser fazer as operações (+, -, *, /, **) entre os elementos das listas?"
      ],
      "metadata": {
        "id": "kV0WOgxECnIw"
      }
    },
    {
      "cell_type": "code",
      "source": [
        "#Criar uma lista que é o quadrado da lista_1\n",
        "lista_quadrado = []\n",
        "for i in lista_1:\n",
        "    lista_quadrado.append(i**2)\n",
        "lista_quadrado"
      ],
      "metadata": {
        "colab": {
          "base_uri": "https://localhost:8080/"
        },
        "id": "nuahePXECkt0",
        "outputId": "122f91f3-7dc9-488b-ffa9-0cc8c6f9c0f8"
      },
      "execution_count": 79,
      "outputs": [
        {
          "output_type": "execute_result",
          "data": {
            "text/plain": [
              "[1, 9, 25, 49, 81]"
            ]
          },
          "metadata": {},
          "execution_count": 79
        }
      ]
    },
    {
      "cell_type": "code",
      "source": [
        "#Podemos ainda fazer com o list comprehension\n",
        "[i**2 for i in lista_1]"
      ],
      "metadata": {
        "colab": {
          "base_uri": "https://localhost:8080/"
        },
        "id": "unn4qUfXC04D",
        "outputId": "316b1ba8-3acb-440c-a1ea-6c01c9bdd989"
      },
      "execution_count": 81,
      "outputs": [
        {
          "output_type": "execute_result",
          "data": {
            "text/plain": [
              "[1, 9, 25, 49, 81]"
            ]
          },
          "metadata": {},
          "execution_count": 81
        }
      ]
    },
    {
      "cell_type": "markdown",
      "source": [
        "Agora veremos o poder do numpy:"
      ],
      "metadata": {
        "id": "SON9x1ESC9K9"
      }
    },
    {
      "cell_type": "code",
      "source": [
        "#Vamos criar um array com a lista_1\n",
        "array_1 = np.array(lista_1)"
      ],
      "metadata": {
        "id": "H0TLkY56C6eU"
      },
      "execution_count": 87,
      "outputs": []
    },
    {
      "cell_type": "code",
      "source": [
        "array_1"
      ],
      "metadata": {
        "colab": {
          "base_uri": "https://localhost:8080/"
        },
        "id": "VFAfyZo_DB_L",
        "outputId": "32cdfd25-e2a5-4aed-e697-3a424ae00186"
      },
      "execution_count": 88,
      "outputs": [
        {
          "output_type": "execute_result",
          "data": {
            "text/plain": [
              "array([1, 3, 5, 7, 9])"
            ]
          },
          "metadata": {},
          "execution_count": 88
        }
      ]
    },
    {
      "cell_type": "code",
      "source": [
        "#Somando o array com o número 2\n",
        "array_1+2"
      ],
      "metadata": {
        "colab": {
          "base_uri": "https://localhost:8080/"
        },
        "id": "Y9GWjJthDHwb",
        "outputId": "a8e1c84b-ce2a-4d4e-e6da-6b4f9accfc44"
      },
      "execution_count": 89,
      "outputs": [
        {
          "output_type": "execute_result",
          "data": {
            "text/plain": [
              "array([ 3,  5,  7,  9, 11])"
            ]
          },
          "metadata": {},
          "execution_count": 89
        }
      ]
    },
    {
      "cell_type": "code",
      "source": [
        "#Somando o array_1 com o array_2\n",
        "array_2 = np.array(lista_2)\n",
        "array_1+array_2"
      ],
      "metadata": {
        "colab": {
          "base_uri": "https://localhost:8080/"
        },
        "id": "Km6rJ6_JDLeL",
        "outputId": "611406df-b0d9-4cda-f6c9-be33f3ab5cab"
      },
      "execution_count": 90,
      "outputs": [
        {
          "output_type": "execute_result",
          "data": {
            "text/plain": [
              "array([ 3,  7, 11, 15, 19])"
            ]
          },
          "metadata": {},
          "execution_count": 90
        }
      ]
    },
    {
      "cell_type": "code",
      "source": [
        "#Multiplicando um array por um número\n",
        "array_1*2"
      ],
      "metadata": {
        "colab": {
          "base_uri": "https://localhost:8080/"
        },
        "id": "dSdodMCYDUUj",
        "outputId": "9ab17a24-947a-49bd-bac8-aa2e2216c32d"
      },
      "execution_count": 91,
      "outputs": [
        {
          "output_type": "execute_result",
          "data": {
            "text/plain": [
              "array([ 2,  6, 10, 14, 18])"
            ]
          },
          "metadata": {},
          "execution_count": 91
        }
      ]
    },
    {
      "cell_type": "code",
      "source": [
        "#Multiplicando um array pelo outro\n",
        "array_1*array_2"
      ],
      "metadata": {
        "colab": {
          "base_uri": "https://localhost:8080/"
        },
        "id": "jKVArHm9Dd1M",
        "outputId": "53a6bfda-7289-43f4-cbd4-9f732b3acdb5"
      },
      "execution_count": 92,
      "outputs": [
        {
          "output_type": "execute_result",
          "data": {
            "text/plain": [
              "array([ 2, 12, 30, 56, 90])"
            ]
          },
          "metadata": {},
          "execution_count": 92
        }
      ]
    },
    {
      "cell_type": "code",
      "source": [
        "#Elevando um array ao quadrado\n",
        "array_1**2"
      ],
      "metadata": {
        "colab": {
          "base_uri": "https://localhost:8080/"
        },
        "id": "aIXD2SHxDiKb",
        "outputId": "a2f05ca6-60fa-43cd-f9fa-a285fc46d73b"
      },
      "execution_count": 93,
      "outputs": [
        {
          "output_type": "execute_result",
          "data": {
            "text/plain": [
              "array([ 1,  9, 25, 49, 81])"
            ]
          },
          "metadata": {},
          "execution_count": 93
        }
      ]
    },
    {
      "cell_type": "markdown",
      "source": [
        "Podemos fazer isso usando as funções apresentadas anteriormente também:"
      ],
      "metadata": {
        "id": "kQBjvUtcD-oW"
      }
    },
    {
      "cell_type": "code",
      "source": [
        "#Criando um array de 5 com a função ones\n",
        "np.ones(5)*5"
      ],
      "metadata": {
        "colab": {
          "base_uri": "https://localhost:8080/"
        },
        "id": "bOaJYC2YD7_M",
        "outputId": "310b55fb-68ff-4e61-9055-2b2f440d5b76"
      },
      "execution_count": 94,
      "outputs": [
        {
          "output_type": "execute_result",
          "data": {
            "text/plain": [
              "array([5., 5., 5., 5., 5.])"
            ]
          },
          "metadata": {},
          "execution_count": 94
        }
      ]
    },
    {
      "cell_type": "code",
      "source": [
        "#Criando um array de 5 com a função zeros\n",
        "np.zeros(5)+5"
      ],
      "metadata": {
        "colab": {
          "base_uri": "https://localhost:8080/"
        },
        "id": "7EhudVs4EGij",
        "outputId": "56c98e8e-af9b-47ef-e854-309dfe11a512"
      },
      "execution_count": 96,
      "outputs": [
        {
          "output_type": "execute_result",
          "data": {
            "text/plain": [
              "array([5., 5., 5., 5., 5.])"
            ]
          },
          "metadata": {},
          "execution_count": 96
        }
      ]
    },
    {
      "cell_type": "code",
      "source": [
        "#Dividir um array por um número\n",
        "array_1/2"
      ],
      "metadata": {
        "colab": {
          "base_uri": "https://localhost:8080/"
        },
        "id": "EZPQXdYVELWL",
        "outputId": "bcfb31c1-fb3f-4e8f-d110-f678e8d362cc"
      },
      "execution_count": 97,
      "outputs": [
        {
          "output_type": "execute_result",
          "data": {
            "text/plain": [
              "array([0.5, 1.5, 2.5, 3.5, 4.5])"
            ]
          },
          "metadata": {},
          "execution_count": 97
        }
      ]
    },
    {
      "cell_type": "code",
      "source": [
        "#Dividir um array pelo outro\n",
        "array_1/array_2"
      ],
      "metadata": {
        "colab": {
          "base_uri": "https://localhost:8080/"
        },
        "id": "_F6Oc80MESST",
        "outputId": "fc74e110-55f9-49c1-954f-37e58b33291a"
      },
      "execution_count": 98,
      "outputs": [
        {
          "output_type": "execute_result",
          "data": {
            "text/plain": [
              "array([0.5       , 0.75      , 0.83333333, 0.875     , 0.9       ])"
            ]
          },
          "metadata": {},
          "execution_count": 98
        }
      ]
    },
    {
      "cell_type": "markdown",
      "source": [
        "**Obs.1:** As operações elementos a elementos tem que respeitar a dimensão dos arrays:"
      ],
      "metadata": {
        "id": "u7mjGQtyEYPs"
      }
    },
    {
      "cell_type": "code",
      "source": [
        "array_3 = np.array([1,2])\n",
        "array_1+array_3"
      ],
      "metadata": {
        "colab": {
          "base_uri": "https://localhost:8080/",
          "height": 200
        },
        "id": "E3rXPa2sEVD0",
        "outputId": "0a2105e0-96e0-4f52-eba7-683c7ce6a6f1"
      },
      "execution_count": 99,
      "outputs": [
        {
          "output_type": "error",
          "ename": "ValueError",
          "evalue": "ignored",
          "traceback": [
            "\u001b[0;31m---------------------------------------------------------------------------\u001b[0m",
            "\u001b[0;31mValueError\u001b[0m                                Traceback (most recent call last)",
            "\u001b[0;32m<ipython-input-99-751398ed1d48>\u001b[0m in \u001b[0;36m<cell line: 2>\u001b[0;34m()\u001b[0m\n\u001b[1;32m      1\u001b[0m \u001b[0marray_3\u001b[0m \u001b[0;34m=\u001b[0m \u001b[0mnp\u001b[0m\u001b[0;34m.\u001b[0m\u001b[0marray\u001b[0m\u001b[0;34m(\u001b[0m\u001b[0;34m[\u001b[0m\u001b[0;36m1\u001b[0m\u001b[0;34m,\u001b[0m\u001b[0;36m2\u001b[0m\u001b[0;34m]\u001b[0m\u001b[0;34m)\u001b[0m\u001b[0;34m\u001b[0m\u001b[0;34m\u001b[0m\u001b[0m\n\u001b[0;32m----> 2\u001b[0;31m \u001b[0marray_1\u001b[0m\u001b[0;34m+\u001b[0m\u001b[0marray_3\u001b[0m\u001b[0;34m\u001b[0m\u001b[0;34m\u001b[0m\u001b[0m\n\u001b[0m",
            "\u001b[0;31mValueError\u001b[0m: operands could not be broadcast together with shapes (5,) (2,) "
          ]
        }
      ]
    },
    {
      "cell_type": "markdown",
      "source": [
        "### **Operações de comparação e lógica:**\n",
        "\n",
        "O NumPy permite realizar operações de comparação (<, <=, >, >=, ==, !=) e operações lógicas (&, |, ~) entre arrays, criando arrays booleanos como resultado."
      ],
      "metadata": {
        "id": "-JeNXAJwEraU"
      }
    },
    {
      "cell_type": "code",
      "source": [
        "array_1"
      ],
      "metadata": {
        "colab": {
          "base_uri": "https://localhost:8080/"
        },
        "id": "ZOYty8A4Eljm",
        "outputId": "051923d2-e792-4402-ca84-b49740ee7968"
      },
      "execution_count": 100,
      "outputs": [
        {
          "output_type": "execute_result",
          "data": {
            "text/plain": [
              "array([1, 3, 5, 7, 9])"
            ]
          },
          "metadata": {},
          "execution_count": 100
        }
      ]
    },
    {
      "cell_type": "code",
      "source": [
        "#Operação de comparação\n",
        "array_1>5"
      ],
      "metadata": {
        "colab": {
          "base_uri": "https://localhost:8080/"
        },
        "id": "lFY7ZKWeE-8r",
        "outputId": "db8b7548-ab00-48d9-9867-5d44a5b303dc"
      },
      "execution_count": 101,
      "outputs": [
        {
          "output_type": "execute_result",
          "data": {
            "text/plain": [
              "array([False, False, False,  True,  True])"
            ]
          },
          "metadata": {},
          "execution_count": 101
        }
      ]
    },
    {
      "cell_type": "code",
      "source": [
        "#Operações de lógica\n",
        "resultado_logico = (array_1>2) & (array_2>3)\n",
        "resultado_logico"
      ],
      "metadata": {
        "colab": {
          "base_uri": "https://localhost:8080/"
        },
        "id": "82RskaJrFEor",
        "outputId": "422e94b5-0bd7-40fe-d3e2-34d30f03d4d2"
      },
      "execution_count": 102,
      "outputs": [
        {
          "output_type": "execute_result",
          "data": {
            "text/plain": [
              "array([False,  True,  True,  True,  True])"
            ]
          },
          "metadata": {},
          "execution_count": 102
        }
      ]
    },
    {
      "cell_type": "code",
      "source": [
        "array_1>2"
      ],
      "metadata": {
        "colab": {
          "base_uri": "https://localhost:8080/"
        },
        "id": "uYVj4ks0FOIc",
        "outputId": "8fe1d399-14ab-4df2-e166-3014237ddd71"
      },
      "execution_count": 103,
      "outputs": [
        {
          "output_type": "execute_result",
          "data": {
            "text/plain": [
              "array([False,  True,  True,  True,  True])"
            ]
          },
          "metadata": {},
          "execution_count": 103
        }
      ]
    },
    {
      "cell_type": "code",
      "source": [
        "array_2>3"
      ],
      "metadata": {
        "colab": {
          "base_uri": "https://localhost:8080/"
        },
        "id": "Gkyv76ZsFSSs",
        "outputId": "0f67e5a9-3e19-47d7-e037-c202df57ce2c"
      },
      "execution_count": 104,
      "outputs": [
        {
          "output_type": "execute_result",
          "data": {
            "text/plain": [
              "array([False,  True,  True,  True,  True])"
            ]
          },
          "metadata": {},
          "execution_count": 104
        }
      ]
    },
    {
      "cell_type": "markdown",
      "source": [
        "## Funções matemáticas universais\n",
        "\n",
        "O NumPy fornece funções matemáticas universais (np.sin(), np.cos(), np.exp(), np.sqrt(), etc.) que podem ser aplicadas a arrays NumPy, realizando a operação especificada em cada elemento do array.\n",
        "\n",
        "Muitos destes serão herdados pelo pandas, então os usaremos bastante no futuro próximo!"
      ],
      "metadata": {
        "id": "zkzXae3GFak_"
      }
    },
    {
      "cell_type": "code",
      "source": [
        "#ver o array_1\n",
        "array_1"
      ],
      "metadata": {
        "colab": {
          "base_uri": "https://localhost:8080/"
        },
        "id": "CB5oPqP5FTq0",
        "outputId": "2add56fd-b081-40bd-d039-e37164f31465"
      },
      "execution_count": 105,
      "outputs": [
        {
          "output_type": "execute_result",
          "data": {
            "text/plain": [
              "array([1, 3, 5, 7, 9])"
            ]
          },
          "metadata": {},
          "execution_count": 105
        }
      ]
    },
    {
      "cell_type": "code",
      "source": [
        "# Aplicar a função de exponenciação a todos os elementos\n",
        "resultado_exp = np.exp(array_1)"
      ],
      "metadata": {
        "id": "faN3Vbh7FpXj"
      },
      "execution_count": 106,
      "outputs": []
    },
    {
      "cell_type": "code",
      "source": [
        "resultado_exp"
      ],
      "metadata": {
        "colab": {
          "base_uri": "https://localhost:8080/"
        },
        "id": "n72H-E7oFvaU",
        "outputId": "078efaed-af68-4537-a12d-61677e3927ad"
      },
      "execution_count": 107,
      "outputs": [
        {
          "output_type": "execute_result",
          "data": {
            "text/plain": [
              "array([2.71828183e+00, 2.00855369e+01, 1.48413159e+02, 1.09663316e+03,\n",
              "       8.10308393e+03])"
            ]
          },
          "metadata": {},
          "execution_count": 107
        }
      ]
    },
    {
      "cell_type": "code",
      "source": [
        "# Aplicar a função de seno a todos os elementos\n",
        "resultado_sin = np.sin(array_1)\n",
        "resultado_sin"
      ],
      "metadata": {
        "colab": {
          "base_uri": "https://localhost:8080/"
        },
        "id": "2J5jX44gFwlz",
        "outputId": "c35610fa-b150-4c55-d45e-59f8de115e12"
      },
      "execution_count": 109,
      "outputs": [
        {
          "output_type": "execute_result",
          "data": {
            "text/plain": [
              "array([ 0.84147098,  0.14112001, -0.95892427,  0.6569866 ,  0.41211849])"
            ]
          },
          "metadata": {},
          "execution_count": 109
        }
      ]
    },
    {
      "cell_type": "code",
      "source": [
        "# Aplicar a função de cosseno a todos os elementos\n",
        "resultado_cos = np.cos(array_1)\n",
        "resultado_cos"
      ],
      "metadata": {
        "colab": {
          "base_uri": "https://localhost:8080/"
        },
        "id": "G2JfdLjvF0lT",
        "outputId": "e8c6299f-bfd0-4c2d-cb80-ea130f2ee3f5"
      },
      "execution_count": 110,
      "outputs": [
        {
          "output_type": "execute_result",
          "data": {
            "text/plain": [
              "array([ 0.54030231, -0.9899925 ,  0.28366219,  0.75390225, -0.91113026])"
            ]
          },
          "metadata": {},
          "execution_count": 110
        }
      ]
    },
    {
      "cell_type": "code",
      "source": [
        "# Aplicar a função da raiz quadrada a todos os elementos\n",
        "resultado_raiz = np.sqrt(array_1)\n",
        "resultado_raiz"
      ],
      "metadata": {
        "colab": {
          "base_uri": "https://localhost:8080/"
        },
        "id": "8lxxd2--F7aj",
        "outputId": "b086aef8-f368-454a-c1e5-8f601041957e"
      },
      "execution_count": 111,
      "outputs": [
        {
          "output_type": "execute_result",
          "data": {
            "text/plain": [
              "array([1.        , 1.73205081, 2.23606798, 2.64575131, 3.        ])"
            ]
          },
          "metadata": {},
          "execution_count": 111
        }
      ]
    },
    {
      "cell_type": "markdown",
      "source": [
        "### **Operações de redução:**\n",
        "\n",
        "O NumPy oferece operações de redução, como soma (np.sum()), média (np.mean()), máximo (np.max()), mínimo (np.min()), entre outras. Essas operações agregam os valores do array em um único resultado."
      ],
      "metadata": {
        "id": "VuqBgVkmGGur"
      }
    },
    {
      "cell_type": "code",
      "source": [
        "# fixando a seed: números aleatórios reproduzíveis, com np.random.seed()\n",
        "np.random.seed(23)\n",
        "rand = np.random.randint(0,100,10)\n",
        "rand"
      ],
      "metadata": {
        "colab": {
          "base_uri": "https://localhost:8080/"
        },
        "id": "FawISoK4GQVF",
        "outputId": "375267e5-74a1-4a9d-a21c-9221b7e9a5da"
      },
      "execution_count": 112,
      "outputs": [
        {
          "output_type": "execute_result",
          "data": {
            "text/plain": [
              "array([83, 40, 73, 54, 31, 76, 91, 39, 90, 25])"
            ]
          },
          "metadata": {},
          "execution_count": 112
        }
      ]
    },
    {
      "cell_type": "code",
      "source": [
        "# maior valor\n",
        "rand.max()"
      ],
      "metadata": {
        "colab": {
          "base_uri": "https://localhost:8080/"
        },
        "id": "WkRattlMGBKb",
        "outputId": "322ec57a-f9a8-41ab-a5de-5f4bc5d89805"
      },
      "execution_count": 113,
      "outputs": [
        {
          "output_type": "execute_result",
          "data": {
            "text/plain": [
              "91"
            ]
          },
          "metadata": {},
          "execution_count": 113
        }
      ]
    },
    {
      "cell_type": "code",
      "source": [
        "# indice do elemento máximo\n",
        "rand.argmax()"
      ],
      "metadata": {
        "colab": {
          "base_uri": "https://localhost:8080/"
        },
        "id": "o5-C2GVxGTC7",
        "outputId": "817210fd-9b7e-43ff-a313-cabcf1560a7b"
      },
      "execution_count": 114,
      "outputs": [
        {
          "output_type": "execute_result",
          "data": {
            "text/plain": [
              "6"
            ]
          },
          "metadata": {},
          "execution_count": 114
        }
      ]
    },
    {
      "cell_type": "code",
      "source": [
        "# menor valor\n",
        "rand.min()"
      ],
      "metadata": {
        "colab": {
          "base_uri": "https://localhost:8080/"
        },
        "id": "VtaIXNkZGUWD",
        "outputId": "362c4a78-87a2-4103-f0c1-63d1e4bc5349"
      },
      "execution_count": 115,
      "outputs": [
        {
          "output_type": "execute_result",
          "data": {
            "text/plain": [
              "25"
            ]
          },
          "metadata": {},
          "execution_count": 115
        }
      ]
    },
    {
      "cell_type": "code",
      "source": [
        "# indice do elemento minimo\n",
        "rand.argmin()"
      ],
      "metadata": {
        "colab": {
          "base_uri": "https://localhost:8080/"
        },
        "id": "zdAtcTgaGXoL",
        "outputId": "3123689e-8999-4385-878b-730a81263b0a"
      },
      "execution_count": 116,
      "outputs": [
        {
          "output_type": "execute_result",
          "data": {
            "text/plain": [
              "9"
            ]
          },
          "metadata": {},
          "execution_count": 116
        }
      ]
    },
    {
      "cell_type": "code",
      "source": [
        "# soma de todos os items\n",
        "rand.sum()"
      ],
      "metadata": {
        "colab": {
          "base_uri": "https://localhost:8080/"
        },
        "id": "1VdTk8UJGY5s",
        "outputId": "e58ce513-b116-4816-d83b-117541ec027e"
      },
      "execution_count": 117,
      "outputs": [
        {
          "output_type": "execute_result",
          "data": {
            "text/plain": [
              "602"
            ]
          },
          "metadata": {},
          "execution_count": 117
        }
      ]
    },
    {
      "cell_type": "code",
      "source": [
        "# media dos elementos\n",
        "rand.mean()"
      ],
      "metadata": {
        "colab": {
          "base_uri": "https://localhost:8080/"
        },
        "id": "o9Vpp9U2Gawz",
        "outputId": "4f80c623-e251-4be3-eb34-12bfdf5758f8"
      },
      "execution_count": 118,
      "outputs": [
        {
          "output_type": "execute_result",
          "data": {
            "text/plain": [
              "60.2"
            ]
          },
          "metadata": {},
          "execution_count": 118
        }
      ]
    },
    {
      "cell_type": "markdown",
      "source": [
        "### Outros métodos úteis\n",
        "\n",
        "O numpy é uma ferramenta poderosa para lidar com cálculos numéricos e é base para o pandas, de modo que conseguimos manipular os dados de forma eficiente e concisa em arrays multidimensionais."
      ],
      "metadata": {
        "id": "zEt9VskxGe1P"
      }
    },
    {
      "cell_type": "code",
      "source": [
        "# desvio padrão\n",
        "rand.std()"
      ],
      "metadata": {
        "colab": {
          "base_uri": "https://localhost:8080/"
        },
        "id": "b1Ja_rPHGcgj",
        "outputId": "4166d958-49e5-4738-9ae0-d023b210e9f5"
      },
      "execution_count": 119,
      "outputs": [
        {
          "output_type": "execute_result",
          "data": {
            "text/plain": [
              "23.99499947905813"
            ]
          },
          "metadata": {},
          "execution_count": 119
        }
      ]
    },
    {
      "cell_type": "code",
      "source": [
        "# ordenar a lista\n",
        "# por padrão, essa operação ocorre \"inplace\"\n",
        "# ou seja, ela ordena o objeto original, e não retorna nada\n",
        "rand.sort()\n",
        "rand"
      ],
      "metadata": {
        "colab": {
          "base_uri": "https://localhost:8080/"
        },
        "id": "-g6dDp86GsAz",
        "outputId": "2e5832dd-0204-4703-da65-1c1d5924128b"
      },
      "execution_count": 120,
      "outputs": [
        {
          "output_type": "execute_result",
          "data": {
            "text/plain": [
              "array([25, 31, 39, 40, 54, 73, 76, 83, 90, 91])"
            ]
          },
          "metadata": {},
          "execution_count": 120
        }
      ]
    },
    {
      "cell_type": "code",
      "source": [
        "# Trocando o tipo dos dados nas lista com o .astype()\n",
        "rand.astype(float)"
      ],
      "metadata": {
        "colab": {
          "base_uri": "https://localhost:8080/"
        },
        "id": "zYjW-vMoGvjj",
        "outputId": "3a40a433-0d34-49b2-8b8c-3aaff97e0dd5"
      },
      "execution_count": 121,
      "outputs": [
        {
          "output_type": "execute_result",
          "data": {
            "text/plain": [
              "array([25., 31., 39., 40., 54., 73., 76., 83., 90., 91.])"
            ]
          },
          "metadata": {},
          "execution_count": 121
        }
      ]
    },
    {
      "cell_type": "markdown",
      "source": [
        "## Para praticar (Hora boa)!!\n",
        "\n",
        "Vamos dividi-los em grupo para resolução dos seguintes exercícios, usando numpy."
      ],
      "metadata": {
        "id": "z1H7a8E5G0A1"
      }
    },
    {
      "cell_type": "markdown",
      "source": [
        "**1.** Escreva uma função que receba dois argumentos: um número qualquer de arrays (de mesmo tamanho) em numpy; e o número de elementos de cada array. A função deve retornar um escalar que representa a soma total de todos estes arrays. Inclua na função uma condição de verificação em que, caso haja um array de tamanho distinto dos demais, um erro seja retornado."
      ],
      "metadata": {
        "id": "0RBxhUDPHDPw"
      }
    },
    {
      "cell_type": "code",
      "source": [
        "def soma_total(*arrays,num):\n",
        "    # Verifica se todos os arrays têm o mesmo tamanho\n",
        "    tamanho = num\n",
        "    for arr in arrays:\n",
        "        if len(arr) != tamanho:\n",
        "            raise ValueError(\"Os arrays não têm o mesmo tamanho!\")\n",
        "\n",
        "    # Soma total dos elementos dos arrays\n",
        "    soma = np.sum(np.array(arrays), axis=0)\n",
        "\n",
        "    return soma\n",
        "\n",
        "# Exemplo de uso da função\n",
        "array1 = np.array([1, 2, 3])\n",
        "array2 = np.array([4, 5, 6])\n",
        "array3 = np.array([7, 8, 9])\n",
        "\n",
        "resultado = soma_total(array1, array2, array3,num=3)\n",
        "print(resultado)"
      ],
      "metadata": {
        "colab": {
          "base_uri": "https://localhost:8080/"
        },
        "id": "J3MWvo5TGxeT",
        "outputId": "96feeeee-d4a6-4ba5-d290-2f68e3833179"
      },
      "execution_count": 124,
      "outputs": [
        {
          "output_type": "stream",
          "name": "stdout",
          "text": [
            "[12 15 18]\n"
          ]
        }
      ]
    },
    {
      "cell_type": "markdown",
      "source": [
        "**2.** Em estatística, a normalização de uma distribuição de dados pode ser feita subtraindo o valor médio da distribuição de cada valor do conjunto de dados, dividindo o resultado pelo desvio-padrão da distribuição.\n",
        "\n",
        "Escreva uma função que normalize os dados recebidos por um array numpy qualquer, conforme descrito anteriormente."
      ],
      "metadata": {
        "id": "U5qyhvkKHqq4"
      }
    },
    {
      "cell_type": "code",
      "source": [
        "def func_norm(array):\n",
        "  media = array.mean()\n",
        "  dvp = array.std()\n",
        "  return (array-media)/dvp\n",
        "rand = np.random.rand(20)\n",
        "resultado = func_norm(rand)\n",
        "print(resultado)"
      ],
      "metadata": {
        "colab": {
          "base_uri": "https://localhost:8080/"
        },
        "id": "i7wZR8oFHnOz",
        "outputId": "4d551d8e-a38c-40c1-b562-6f986a0a94ad"
      },
      "execution_count": 129,
      "outputs": [
        {
          "output_type": "stream",
          "name": "stdout",
          "text": [
            "[ 0.96250907 -0.46178238  0.96690273 -0.33972541 -0.88167817  0.6164392\n",
            " -1.822916    0.32293784 -0.33626234  0.18734198  1.10981698 -1.43190491\n",
            "  0.84869772  0.4151539   1.26277245  1.05760604 -0.91268467 -1.38113653\n",
            " -1.40105601  1.21896852]\n"
          ]
        }
      ]
    },
    {
      "cell_type": "markdown",
      "source": [
        "**3.** Escreva uma função em numpy que receba um array contendo notas de uma turma de 100 estudantes. Considere que a nota de aprovação da turma é 5.0. A função deve retornar, em um array numpy, nesta ordem:\n",
        "- a média e o desvio-padrão das notas da turma;\n",
        "- o número de notas maiores que 7.0;\n",
        "- o número de reprovações da turma;\n",
        "- a menor nota da turma;\n",
        "- a maior nota da turma."
      ],
      "metadata": {
        "id": "4C7_WFvMIaEe"
      }
    },
    {
      "cell_type": "code",
      "source": [
        "#Gerando as notas dos alunos de 0 a 10\n",
        "np.random.seed(42)\n",
        "notas_turma = np.round(np.random.uniform(0,10,100),2)"
      ],
      "metadata": {
        "id": "UjrOCS7lINcK"
      },
      "execution_count": 154,
      "outputs": []
    },
    {
      "cell_type": "code",
      "source": [
        "notas_turma"
      ],
      "metadata": {
        "colab": {
          "base_uri": "https://localhost:8080/"
        },
        "id": "piEcfGWmJuyV",
        "outputId": "8c7ecc2a-0a10-4acd-ab85-5e4e6f9b6958"
      },
      "execution_count": 155,
      "outputs": [
        {
          "output_type": "execute_result",
          "data": {
            "text/plain": [
              "array([3.75, 9.51, 7.32, 5.99, 1.56, 1.56, 0.58, 8.66, 6.01, 7.08, 0.21,\n",
              "       9.7 , 8.32, 2.12, 1.82, 1.83, 3.04, 5.25, 4.32, 2.91, 6.12, 1.39,\n",
              "       2.92, 3.66, 4.56, 7.85, 2.  , 5.14, 5.92, 0.46, 6.08, 1.71, 0.65,\n",
              "       9.49, 9.66, 8.08, 3.05, 0.98, 6.84, 4.4 , 1.22, 4.95, 0.34, 9.09,\n",
              "       2.59, 6.63, 3.12, 5.2 , 5.47, 1.85, 9.7 , 7.75, 9.39, 8.95, 5.98,\n",
              "       9.22, 0.88, 1.96, 0.45, 3.25, 3.89, 2.71, 8.29, 3.57, 2.81, 5.43,\n",
              "       1.41, 8.02, 0.75, 9.87, 7.72, 1.99, 0.06, 8.15, 7.07, 7.29, 7.71,\n",
              "       0.74, 3.58, 1.16, 8.63, 6.23, 3.31, 0.64, 3.11, 3.25, 7.3 , 6.38,\n",
              "       8.87, 4.72, 1.2 , 7.13, 7.61, 5.61, 7.71, 4.94, 5.23, 4.28, 0.25,\n",
              "       1.08])"
            ]
          },
          "metadata": {},
          "execution_count": 155
        }
      ]
    },
    {
      "cell_type": "code",
      "source": [
        "#Média da turma\n",
        "notas_turma.mean()"
      ],
      "metadata": {
        "colab": {
          "base_uri": "https://localhost:8080/"
        },
        "id": "BPbw447JIqVl",
        "outputId": "b1a8587d-4abd-43b9-cd80-6cae77abad31"
      },
      "execution_count": 156,
      "outputs": [
        {
          "output_type": "execute_result",
          "data": {
            "text/plain": [
              "4.701899999999999"
            ]
          },
          "metadata": {},
          "execution_count": 156
        }
      ]
    },
    {
      "cell_type": "code",
      "source": [
        "#Desvio-padrão da turma\n",
        "notas_turma.std()"
      ],
      "metadata": {
        "colab": {
          "base_uri": "https://localhost:8080/"
        },
        "id": "O0KFgaPXJSiL",
        "outputId": "ea2214e1-0169-4b83-d29d-38cf49be0b85"
      },
      "execution_count": 157,
      "outputs": [
        {
          "output_type": "execute_result",
          "data": {
            "text/plain": [
              "2.9598674615597234"
            ]
          },
          "metadata": {},
          "execution_count": 157
        }
      ]
    },
    {
      "cell_type": "code",
      "source": [
        "#Número de notas maiores que 7\n",
        "(notas_turma>7).sum()"
      ],
      "metadata": {
        "colab": {
          "base_uri": "https://localhost:8080/"
        },
        "id": "6NbMQg9AJXuj",
        "outputId": "200405c4-d8c8-48c2-871a-b584b2ce2b4a"
      },
      "execution_count": 158,
      "outputs": [
        {
          "output_type": "execute_result",
          "data": {
            "text/plain": [
              "30"
            ]
          },
          "metadata": {},
          "execution_count": 158
        }
      ]
    },
    {
      "cell_type": "code",
      "source": [
        "#Número de notas maiores que 7\n",
        "(notas_turma<5).sum()"
      ],
      "metadata": {
        "colab": {
          "base_uri": "https://localhost:8080/"
        },
        "id": "nMo2CtOjJdhD",
        "outputId": "b0c3247c-d516-4665-ea12-39023340faec"
      },
      "execution_count": 159,
      "outputs": [
        {
          "output_type": "execute_result",
          "data": {
            "text/plain": [
              "53"
            ]
          },
          "metadata": {},
          "execution_count": 159
        }
      ]
    },
    {
      "cell_type": "code",
      "source": [
        "#Menor nota da turma\n",
        "notas_turma.min()"
      ],
      "metadata": {
        "colab": {
          "base_uri": "https://localhost:8080/"
        },
        "id": "nEc62SnCJgsb",
        "outputId": "1f4a1b7b-b476-4487-b7a7-dd5cfb6d16fa"
      },
      "execution_count": 160,
      "outputs": [
        {
          "output_type": "execute_result",
          "data": {
            "text/plain": [
              "0.06"
            ]
          },
          "metadata": {},
          "execution_count": 160
        }
      ]
    },
    {
      "cell_type": "code",
      "source": [
        "#Mior nota da turma\n",
        "notas_turma.max()"
      ],
      "metadata": {
        "colab": {
          "base_uri": "https://localhost:8080/"
        },
        "id": "0sc4zFPjJkLj",
        "outputId": "18039014-cc4b-4cef-fbe2-2e9993321d8f"
      },
      "execution_count": 161,
      "outputs": [
        {
          "output_type": "execute_result",
          "data": {
            "text/plain": [
              "9.87"
            ]
          },
          "metadata": {},
          "execution_count": 161
        }
      ]
    },
    {
      "cell_type": "markdown",
      "source": [
        "**4.** Em Geometria Analítica, um **vetor** é uma quantidade que pode ser definida por um énuplo (uma sequência ordenada de *n* elementos) em que cada elemento representa a intensidade do vetor na direção especificada pela i-ésima componente desta sequência.\n",
        "\n",
        "Quando pensamos em duas dimensões, por exemplo, o vetor $R = (b,a)$ define, geometricamente, a entidade representada na figura abaixo, com componentes nos eixos x e y usuais.\n",
        "\n",
        "<img src = \"https://static.todamateria.com.br/upload/im/ag/image-721.jpg?auto_optimize=low\" />\n",
        "\n",
        "O **módulo** deste vetor, também chamado de intensidade, está geometricamente relacionado ao seu comprimento, e pode ser calculado diretamente pelas suas componentes, por meio de uma operação conhecida como **produto escalar** do vetor com ele mesmo. O módulo quadrático é expresso, desta forma, por:\n",
        "\n",
        "$|A|^2 = \\vec{A} \\cdot \\vec{A}$\n",
        "\n",
        "Por outro lado, o produto escalar entre dois vetores $A = (a_{x}, a_{y})$ e $B = (b_{x}, b_{y})$ é dado por:\n",
        "\n",
        "$\\vec{A} \\cdot \\vec{B} = a_{x} \\times b_{x} + a_{y} \\times b_{y}$ (e esta definição vale para qualquer que seja a dimensão do vetor).\n",
        "\n",
        "O módulo quadrático de um vetor é, portanto:\n",
        "\n",
        "$|A|² = a_{x}^2 + b_{x}^2$."
      ],
      "metadata": {
        "id": "z9a_BRVwJ08x"
      }
    },
    {
      "cell_type": "code",
      "source": [
        "def modulo_array(array):\n",
        "    # Calcular o módulo do array n-dimensional manualmente\n",
        "    modulo = np.sqrt(np.sum(array**2))\n",
        "\n",
        "    return modulo\n",
        "\n",
        "# Exemplo de uso da função\n",
        "array_nD = np.array([[-1, -2, 3],\n",
        "                     [4, -5, 6]])\n",
        "\n",
        "resultado = modulo_array(array_nD)\n",
        "print(resultado)"
      ],
      "metadata": {
        "colab": {
          "base_uri": "https://localhost:8080/"
        },
        "id": "QzHi2IL6JmfT",
        "outputId": "3bfa425f-4373-443b-d538-1a488c34299d"
      },
      "execution_count": 162,
      "outputs": [
        {
          "output_type": "stream",
          "name": "stdout",
          "text": [
            "9.539392014169456\n"
          ]
        }
      ]
    }
   },
   "outputs": [],
   "source": []
  },
  {
   "cell_type": "code",
   "execution_count": 0,
   "metadata": {
    "application/vnd.databricks.v1+cell": {
     "cellMetadata": {
      "byteLimit": 2048000,
      "rowLimit": 10000
     },
     "inputWidgets": {},
     "nuid": "38805a55-0d1b-4db4-a0bb-65469ba9e682",
     "showTitle": false,
     "title": ""
    },
    "id": "rQeLefVYCIsE"
   },
   "outputs": [],
   "source": [
    "#Multiplicando uma lista por um número\n",
    "lista_1*3"
   ]
  },
  {
   "cell_type": "code",
   "execution_count": 0,
   "metadata": {
    "application/vnd.databricks.v1+cell": {
     "cellMetadata": {
      "byteLimit": 2048000,
      "rowLimit": 10000
     },
     "inputWidgets": {},
     "nuid": "f03d6744-5850-4d3c-bbbb-ed397b10116c",
     "showTitle": false,
     "title": ""
    },
    "id": "Op3LSXDZCRJM"
   },
   "outputs": [],
   "source": [
    "#Somando uma lista com um número\n",
    "lista_1+2"
   ]
  },
  {
   "cell_type": "markdown",
   "metadata": {
    "application/vnd.databricks.v1+cell": {
     "cellMetadata": {},
     "inputWidgets": {},
     "nuid": "6ca4c579-20f1-4324-94e9-4cbd2a0df5a4",
     "showTitle": false,
     "title": ""
    },
    "id": "H8E0CJ4ACdwO"
   },
   "source": [
    "São 2 objetos diferentes e só conseguimos somar listas com listas"
   ]
  },
  {
   "cell_type": "code",
   "execution_count": 0,
   "metadata": {
    "application/vnd.databricks.v1+cell": {
     "cellMetadata": {
      "byteLimit": 2048000,
      "rowLimit": 10000
     },
     "inputWidgets": {},
     "nuid": "5522ee7d-148b-4292-adfa-802225a32a50",
     "showTitle": false,
     "title": ""
    },
    "id": "H3tkY_dXCVrz"
   },
   "outputs": [],
   "source": [
    "#Acrescentando um número a uma lista (ou soma)\n",
    "lista_1+[2]"
   ]
  },
  {
   "cell_type": "code",
   "execution_count": 0,
   "metadata": {
    "application/vnd.databricks.v1+cell": {
     "cellMetadata": {
      "byteLimit": 2048000,
      "rowLimit": 10000
     },
     "inputWidgets": {},
     "nuid": "8feadfcd-42d3-480f-b034-d1f171e3d12c",
     "showTitle": false,
     "title": ""
    },
    "id": "zz2L1xw4ChHn"
   },
   "outputs": [],
   "source": [
    "#somando a lista_1 e lista_2\n",
    "lista_1+lista_2"
   ]
  },
  {
   "cell_type": "markdown",
   "metadata": {
    "application/vnd.databricks.v1+cell": {
     "cellMetadata": {},
     "inputWidgets": {},
     "nuid": "ccee2be5-2c20-47c8-83fa-f8944d6231a2",
     "showTitle": false,
     "title": ""
    },
    "id": "kV0WOgxECnIw"
   },
   "source": [
    "E se eu quiser fazer as operações (+, -, *, /, **) entre os elementos das listas?"
   ]
  },
  {
   "cell_type": "code",
   "execution_count": 0,
   "metadata": {
    "application/vnd.databricks.v1+cell": {
     "cellMetadata": {
      "byteLimit": 2048000,
      "rowLimit": 10000
     },
     "inputWidgets": {},
     "nuid": "f33fcda4-4286-43af-b157-e834c6fbefa2",
     "showTitle": false,
     "title": ""
    },
    "id": "nuahePXECkt0"
   },
   "outputs": [],
   "source": [
    "#Criar uma lista que é o quadrado da lista_1\n",
    "lista_quadrado = []\n",
    "for elemento in lista_1:\n",
    "    lista_quadrado.append(elemento**2)\n",
    "lista_quadrado"
   ]
  },
  {
   "cell_type": "code",
   "execution_count": 0,
   "metadata": {
    "application/vnd.databricks.v1+cell": {
     "cellMetadata": {
      "byteLimit": 2048000,
      "rowLimit": 10000
     },
     "inputWidgets": {},
     "nuid": "bdfbd020-f62c-459c-890b-b467af5e376d",
     "showTitle": false,
     "title": ""
    },
    "id": "unn4qUfXC04D"
   },
   "outputs": [],
   "source": [
    "#Podemos ainda fazer com o list comprehension\n",
    "lista_quadrado = [elemento**2 for elemento in lista_1]\n",
    "lista_quadrado"
   ]
  },
  {
   "cell_type": "markdown",
   "metadata": {
    "application/vnd.databricks.v1+cell": {
     "cellMetadata": {},
     "inputWidgets": {},
     "nuid": "82f1ac25-a26b-4c47-85f2-e9fa1d323f1e",
     "showTitle": false,
     "title": ""
    },
    "id": "SON9x1ESC9K9"
   },
   "source": [
    "Agora veremos o poder do numpy:"
   ]
  },
  {
   "cell_type": "code",
   "execution_count": 0,
   "metadata": {
    "application/vnd.databricks.v1+cell": {
     "cellMetadata": {
      "byteLimit": 2048000,
      "rowLimit": 10000
     },
     "inputWidgets": {},
     "nuid": "a3afa8bf-b561-42d4-a84e-ebe3b03b2433",
     "showTitle": false,
     "title": ""
    },
    "id": "H0TLkY56C6eU"
   },
   "outputs": [],
   "source": [
    "#Vamos criar um array com a lista_1\n",
    "array_1 = np.array(lista_1)"
   ]
  },
  {
   "cell_type": "code",
   "execution_count": 0,
   "metadata": {
    "application/vnd.databricks.v1+cell": {
     "cellMetadata": {
      "byteLimit": 2048000,
      "rowLimit": 10000
     },
     "inputWidgets": {},
     "nuid": "8ad8217f-fa62-4265-90f2-b0fbfbfcade1",
     "showTitle": false,
     "title": ""
    },
    "id": "VFAfyZo_DB_L"
   },
   "outputs": [],
   "source": [
    "array_1"
   ]
  },
  {
   "cell_type": "code",
   "execution_count": 0,
   "metadata": {
    "application/vnd.databricks.v1+cell": {
     "cellMetadata": {
      "byteLimit": 2048000,
      "rowLimit": 10000
     },
     "inputWidgets": {},
     "nuid": "491cbf35-7f41-47af-ab2b-ca146055b64e",
     "showTitle": false,
     "title": ""
    },
    "id": "Y9GWjJthDHwb"
   },
   "outputs": [],
   "source": [
    "#Somando o array com o número 2\n",
    "array_1+2"
   ]
  },
  {
   "cell_type": "code",
   "execution_count": 0,
   "metadata": {
    "application/vnd.databricks.v1+cell": {
     "cellMetadata": {
      "byteLimit": 2048000,
      "rowLimit": 10000
     },
     "inputWidgets": {},
     "nuid": "63ca9268-0fa4-42cc-a971-16427c2a41f7",
     "showTitle": false,
     "title": ""
    },
    "id": "Km6rJ6_JDLeL"
   },
   "outputs": [],
   "source": [
    "#Somando o array_1 com o array_2\n",
    "array_2 = np.array(lista_2)\n",
    "array_1+array_2"
   ]
  },
  {
   "cell_type": "code",
   "execution_count": 0,
   "metadata": {
    "application/vnd.databricks.v1+cell": {
     "cellMetadata": {
      "byteLimit": 2048000,
      "rowLimit": 10000
     },
     "inputWidgets": {},
     "nuid": "6f227596-7253-438f-b543-21f5c4e784c9",
     "showTitle": false,
     "title": ""
    },
    "id": "dSdodMCYDUUj"
   },
   "outputs": [],
   "source": [
    "#Multiplicando um array por um número\n",
    "array_1*2"
   ]
  },
  {
   "cell_type": "code",
   "execution_count": 0,
   "metadata": {
    "application/vnd.databricks.v1+cell": {
     "cellMetadata": {
      "byteLimit": 2048000,
      "rowLimit": 10000
     },
     "inputWidgets": {},
     "nuid": "6fa2d8f9-9c7e-4e3e-96d0-183cc2ac0a72",
     "showTitle": false,
     "title": ""
    },
    "id": "jKVArHm9Dd1M"
   },
   "outputs": [],
   "source": [
    "#Multiplicando um array pelo outro\n",
    "array_1*array_2"
   ]
  },
  {
   "cell_type": "code",
   "execution_count": 0,
   "metadata": {
    "application/vnd.databricks.v1+cell": {
     "cellMetadata": {
      "byteLimit": 2048000,
      "rowLimit": 10000
     },
     "inputWidgets": {},
     "nuid": "b6ffc85f-f456-4018-8fd1-4e9de7359487",
     "showTitle": false,
     "title": ""
    },
    "id": "aIXD2SHxDiKb"
   },
   "outputs": [],
   "source": [
    "#Elevando um array ao quadrado\n",
    "array_1**2"
   ]
  },
  {
   "cell_type": "markdown",
   "metadata": {
    "application/vnd.databricks.v1+cell": {
     "cellMetadata": {},
     "inputWidgets": {},
     "nuid": "7b486b03-7aba-498b-9136-22679ceda50c",
     "showTitle": false,
     "title": ""
    },
    "id": "kQBjvUtcD-oW"
   },
   "source": [
    "Podemos fazer isso usando as funções apresentadas anteriormente também:"
   ]
  },
  {
   "cell_type": "code",
   "execution_count": 0,
   "metadata": {
    "application/vnd.databricks.v1+cell": {
     "cellMetadata": {
      "byteLimit": 2048000,
      "rowLimit": 10000
     },
     "inputWidgets": {},
     "nuid": "9b055f71-736c-4f3e-ae71-3c74425b0bf1",
     "showTitle": false,
     "title": ""
    },
    "id": "bOaJYC2YD7_M"
   },
   "outputs": [],
   "source": [
    "#Criando um array de 5 com a função ones\n",
    "np.ones(10)*5"
   ]
  },
  {
   "cell_type": "code",
   "execution_count": 0,
   "metadata": {
    "application/vnd.databricks.v1+cell": {
     "cellMetadata": {
      "byteLimit": 2048000,
      "rowLimit": 10000
     },
     "inputWidgets": {},
     "nuid": "6aa0c8db-0548-49f5-a693-a24941c8ee94",
     "showTitle": false,
     "title": ""
    },
    "id": "7EhudVs4EGij"
   },
   "outputs": [],
   "source": [
    "#Criando um array de 5 com a função zeros\n",
    "np.zeros(10)+5"
   ]
  },
  {
   "cell_type": "code",
   "execution_count": 0,
   "metadata": {
    "application/vnd.databricks.v1+cell": {
     "cellMetadata": {
      "byteLimit": 2048000,
      "rowLimit": 10000
     },
     "inputWidgets": {},
     "nuid": "af6dd01c-5bd0-40e1-a9cc-0869ebc4c47e",
     "showTitle": false,
     "title": ""
    },
    "id": "EZPQXdYVELWL"
   },
   "outputs": [],
   "source": [
    "#Dividir um array por um número\n",
    "array_1/2"
   ]
  },
  {
   "cell_type": "code",
   "execution_count": 0,
   "metadata": {
    "application/vnd.databricks.v1+cell": {
     "cellMetadata": {
      "byteLimit": 2048000,
      "rowLimit": 10000
     },
     "inputWidgets": {},
     "nuid": "31122f3d-2f3a-49e8-b693-a5f269f53996",
     "showTitle": false,
     "title": ""
    },
    "id": "_F6Oc80MESST"
   },
   "outputs": [],
   "source": [
    "#Dividir um array pelo outro\n",
    "array_1/array_2"
   ]
  },
  {
   "cell_type": "markdown",
   "metadata": {
    "application/vnd.databricks.v1+cell": {
     "cellMetadata": {},
     "inputWidgets": {},
     "nuid": "3465b976-0a68-4927-b078-bd5d974b4ec6",
     "showTitle": false,
     "title": ""
    },
    "id": "u7mjGQtyEYPs"
   },
   "source": [
    "**Obs.1:** As operações elementos a elementos tem que respeitar a dimensão dos arrays:"
   ]
  },
  {
   "cell_type": "code",
   "execution_count": 0,
   "metadata": {
    "application/vnd.databricks.v1+cell": {
     "cellMetadata": {
      "byteLimit": 2048000,
      "rowLimit": 10000
     },
     "inputWidgets": {},
     "nuid": "092250cf-8b9c-4b00-81e6-4200046c8699",
     "showTitle": false,
     "title": ""
    },
    "id": "E3rXPa2sEVD0"
   },
   "outputs": [],
   "source": [
    "#Criar array 3 (2 elementos)\n",
    "array_3 = np.array([1,2])\n",
    "#Somar array_1 com array_3\n",
    "array_1+array_3"
   ]
  },
  {
   "cell_type": "markdown",
   "metadata": {
    "application/vnd.databricks.v1+cell": {
     "cellMetadata": {},
     "inputWidgets": {},
     "nuid": "28bc6416-6e09-4583-aed0-0221b705498f",
     "showTitle": false,
     "title": ""
    },
    "id": "-JeNXAJwEraU"
   },
   "source": [
    "### **Operações de comparação e lógica:**\n",
    "\n",
    "O NumPy permite realizar operações de comparação (<, <=, >, >=, ==, !=) e operações lógicas (&, |, ~) entre arrays, criando arrays booleanos como resultado."
   ]
  },
  {
   "cell_type": "code",
   "execution_count": 0,
   "metadata": {
    "application/vnd.databricks.v1+cell": {
     "cellMetadata": {
      "byteLimit": 2048000,
      "rowLimit": 10000
     },
     "inputWidgets": {},
     "nuid": "b3c6530a-bb11-4c68-8360-47aadac2865c",
     "showTitle": false,
     "title": ""
    },
    "id": "ZOYty8A4Eljm"
   },
   "outputs": [],
   "source": [
    "array_1"
   ]
  },
  {
   "cell_type": "code",
   "execution_count": 0,
   "metadata": {
    "application/vnd.databricks.v1+cell": {
     "cellMetadata": {
      "byteLimit": 2048000,
      "rowLimit": 10000
     },
     "inputWidgets": {},
     "nuid": "45bb4a08-2472-42e4-aabe-88371b27faab",
     "showTitle": false,
     "title": ""
    },
    "id": "lFY7ZKWeE-8r"
   },
   "outputs": [],
   "source": [
    "#Operação de comparação\n",
    "array_1>2"
   ]
  },
  {
   "cell_type": "code",
   "execution_count": 0,
   "metadata": {
    "application/vnd.databricks.v1+cell": {
     "cellMetadata": {
      "byteLimit": 2048000,
      "rowLimit": 10000
     },
     "inputWidgets": {},
     "nuid": "47ed0ae1-dce4-472f-8cab-16e3683a5ee1",
     "showTitle": false,
     "title": ""
    }
   },
   "outputs": [],
   "source": [
    "array_2>2"
   ]
  },
  {
   "cell_type": "code",
   "execution_count": 0,
   "metadata": {
    "application/vnd.databricks.v1+cell": {
     "cellMetadata": {
      "byteLimit": 2048000,
      "rowLimit": 10000
     },
     "inputWidgets": {},
     "nuid": "c25dff86-5fa0-4158-ae0c-d0178a35b6a0",
     "showTitle": false,
     "title": ""
    },
    "id": "82RskaJrFEor"
   },
   "outputs": [],
   "source": [
    "#Operações de lógica\n",
    "resultado_logico =(array_1>2) | (array_2>2)\n",
    "resultado_logico"
   ]
  },
  {
   "cell_type": "markdown",
   "metadata": {
    "application/vnd.databricks.v1+cell": {
     "cellMetadata": {},
     "inputWidgets": {},
     "nuid": "ab0d015e-92ff-4d90-89db-e2c2cc64db5b",
     "showTitle": false,
     "title": ""
    },
    "id": "zkzXae3GFak_"
   },
   "source": [
    "## Funções matemáticas universais\n",
    "\n",
    "O NumPy fornece funções matemáticas universais (np.sin(), np.cos(), np.exp(), np.sqrt(), etc.) que podem ser aplicadas a arrays NumPy, realizando a operação especificada em cada elemento do array.\n",
    "\n",
    "Muitos destes serão herdados pelo pandas, então os usaremos bastante no futuro próximo!"
   ]
  },
  {
   "cell_type": "code",
   "execution_count": 0,
   "metadata": {
    "application/vnd.databricks.v1+cell": {
     "cellMetadata": {
      "byteLimit": 2048000,
      "rowLimit": 10000
     },
     "inputWidgets": {},
     "nuid": "eee404e4-10bf-4381-aaf6-5eb2a2f0f2c5",
     "showTitle": false,
     "title": ""
    },
    "id": "CB5oPqP5FTq0"
   },
   "outputs": [],
   "source": [
    "#ver o array_1\n",
    "array_1"
   ]
  },
  {
   "cell_type": "code",
   "execution_count": 0,
   "metadata": {
    "application/vnd.databricks.v1+cell": {
     "cellMetadata": {
      "byteLimit": 2048000,
      "rowLimit": 10000
     },
     "inputWidgets": {},
     "nuid": "a143deb6-2846-444e-a3a9-08606a1d44c3",
     "showTitle": false,
     "title": ""
    },
    "id": "faN3Vbh7FpXj"
   },
   "outputs": [],
   "source": [
    "# Aplicar a função de exponenciação a todos os elementos\n",
    "np.exp(array_1)"
   ]
  },
  {
   "cell_type": "code",
   "execution_count": 0,
   "metadata": {
    "application/vnd.databricks.v1+cell": {
     "cellMetadata": {
      "byteLimit": 2048000,
      "rowLimit": 10000
     },
     "inputWidgets": {},
     "nuid": "e588af34-b7f9-4ebe-bbcc-106a5677b461",
     "showTitle": false,
     "title": ""
    },
    "id": "2J5jX44gFwlz"
   },
   "outputs": [],
   "source": [
    "# Aplicar a função de seno a todos os elementos\n",
    "np.sin(array_1)"
   ]
  },
  {
   "cell_type": "code",
   "execution_count": 0,
   "metadata": {
    "application/vnd.databricks.v1+cell": {
     "cellMetadata": {
      "byteLimit": 2048000,
      "rowLimit": 10000
     },
     "inputWidgets": {},
     "nuid": "8ecf4907-c009-486a-b30f-af97dc27fc94",
     "showTitle": false,
     "title": ""
    },
    "id": "G2JfdLjvF0lT"
   },
   "outputs": [],
   "source": [
    "# Aplicar a função de cosseno a todos os elementos\n",
    "np.cos(array_1)"
   ]
  },
  {
   "cell_type": "code",
   "execution_count": 0,
   "metadata": {
    "application/vnd.databricks.v1+cell": {
     "cellMetadata": {
      "byteLimit": 2048000,
      "rowLimit": 10000
     },
     "inputWidgets": {},
     "nuid": "a8487232-2cf6-4f47-95ec-0b8b6a559c49",
     "showTitle": false,
     "title": ""
    },
    "id": "8lxxd2--F7aj"
   },
   "outputs": [],
   "source": [
    "# Aplicar a função da raiz quadrada a todos os elementos\n",
    "np.sqrt(array_1)"
   ]
  },
  {
   "cell_type": "markdown",
   "metadata": {
    "application/vnd.databricks.v1+cell": {
     "cellMetadata": {},
     "inputWidgets": {},
     "nuid": "06940223-6e03-46d8-81b4-3e906305239a",
     "showTitle": false,
     "title": ""
    },
    "id": "VuqBgVkmGGur"
   },
   "source": [
    "### **Operações de redução:**\n",
    "\n",
    "O NumPy oferece operações de redução, como soma (np.sum()), média (np.mean()), máximo (np.max()), mínimo (np.min()), entre outras. Essas operações agregam os valores do array em um único resultado."
   ]
  },
  {
   "cell_type": "code",
   "execution_count": 0,
   "metadata": {
    "application/vnd.databricks.v1+cell": {
     "cellMetadata": {
      "byteLimit": 2048000,
      "rowLimit": 10000
     },
     "inputWidgets": {},
     "nuid": "9c739305-bbd6-43be-b3b7-677e63d3ea10",
     "showTitle": false,
     "title": ""
    },
    "id": "FawISoK4GQVF"
   },
   "outputs": [],
   "source": [
    "# fixando a seed: números aleatórios reproduzíveis, com np.random.seed()\n",
    "np.random.seed(42)\n",
    "rand = np.random.randint(0,100,10)\n",
    "rand\n"
   ]
  },
  {
   "cell_type": "code",
   "execution_count": 0,
   "metadata": {
    "application/vnd.databricks.v1+cell": {
     "cellMetadata": {
      "byteLimit": 2048000,
      "rowLimit": 10000
     },
     "inputWidgets": {},
     "nuid": "e5816d41-c9c3-4850-a0ef-cfcdfd245a79",
     "showTitle": false,
     "title": ""
    },
    "id": "WkRattlMGBKb"
   },
   "outputs": [],
   "source": [
    "# maior valor\n",
    "rand.max()"
   ]
  },
  {
   "cell_type": "code",
   "execution_count": 0,
   "metadata": {
    "application/vnd.databricks.v1+cell": {
     "cellMetadata": {
      "byteLimit": 2048000,
      "rowLimit": 10000
     },
     "inputWidgets": {},
     "nuid": "26267d53-6027-4345-b67e-493699cc082a",
     "showTitle": false,
     "title": ""
    },
    "id": "o5-C2GVxGTC7"
   },
   "outputs": [],
   "source": [
    "# indice do elemento máximo\n",
    "rand.argmax()"
   ]
  },
  {
   "cell_type": "code",
   "execution_count": 0,
   "metadata": {
    "application/vnd.databricks.v1+cell": {
     "cellMetadata": {
      "byteLimit": 2048000,
      "rowLimit": 10000
     },
     "inputWidgets": {},
     "nuid": "15e37463-3307-4836-9d10-86ada2585dd2",
     "showTitle": false,
     "title": ""
    },
    "id": "VtaIXNkZGUWD"
   },
   "outputs": [],
   "source": [
    "# menor valor\n",
    "rand.min()"
   ]
  },
  {
   "cell_type": "code",
   "execution_count": 0,
   "metadata": {
    "application/vnd.databricks.v1+cell": {
     "cellMetadata": {
      "byteLimit": 2048000,
      "rowLimit": 10000
     },
     "inputWidgets": {},
     "nuid": "42ac4e1b-91ea-42ff-992e-98137e3fb4c3",
     "showTitle": false,
     "title": ""
    },
    "id": "zdAtcTgaGXoL"
   },
   "outputs": [],
   "source": [
    "# indice do elemento minimo\n",
    "rand.argmin()"
   ]
  },
  {
   "cell_type": "code",
   "execution_count": 0,
   "metadata": {
    "application/vnd.databricks.v1+cell": {
     "cellMetadata": {
      "byteLimit": 2048000,
      "rowLimit": 10000
     },
     "inputWidgets": {},
     "nuid": "70d863c0-87eb-4275-bc2d-3152ec39a31c",
     "showTitle": false,
     "title": ""
    },
    "id": "1VdTk8UJGY5s"
   },
   "outputs": [],
   "source": [
    "# soma de todos os items\n",
    "rand.sum()"
   ]
  },
  {
   "cell_type": "code",
   "execution_count": 0,
   "metadata": {
    "application/vnd.databricks.v1+cell": {
     "cellMetadata": {
      "byteLimit": 2048000,
      "rowLimit": 10000
     },
     "inputWidgets": {},
     "nuid": "e6b4cbd8-499f-495a-94b5-3ddc36e4dc6d",
     "showTitle": false,
     "title": ""
    },
    "id": "o9Vpp9U2Gawz"
   },
   "outputs": [],
   "source": [
    "# media dos elementos\n",
    "rand.mean()"
   ]
  },
  {
   "cell_type": "markdown",
   "metadata": {
    "application/vnd.databricks.v1+cell": {
     "cellMetadata": {},
     "inputWidgets": {},
     "nuid": "67c68a74-5acb-424a-9001-d4b4c58a8abd",
     "showTitle": false,
     "title": ""
    },
    "id": "zEt9VskxGe1P"
   },
   "source": [
    "### Outros métodos úteis\n",
    "\n",
    "O numpy é uma ferramenta poderosa para lidar com cálculos numéricos e é base para o pandas, de modo que conseguimos manipular os dados de forma eficiente e concisa em arrays multidimensionais."
   ]
  },
  {
   "cell_type": "code",
   "execution_count": 0,
   "metadata": {
    "application/vnd.databricks.v1+cell": {
     "cellMetadata": {
      "byteLimit": 2048000,
      "rowLimit": 10000
     },
     "inputWidgets": {},
     "nuid": "2927aff5-5ad1-4e43-a6ff-a608c3a74083",
     "showTitle": false,
     "title": ""
    },
    "id": "b1Ja_rPHGcgj"
   },
   "outputs": [],
   "source": [
    "# desvio padrão\n",
    "rand.std()"
   ]
  },
  {
   "cell_type": "code",
   "execution_count": 0,
   "metadata": {
    "application/vnd.databricks.v1+cell": {
     "cellMetadata": {
      "byteLimit": 2048000,
      "rowLimit": 10000
     },
     "inputWidgets": {},
     "nuid": "4ee0b8dc-65fb-41be-ae04-0a09567219bc",
     "showTitle": false,
     "title": ""
    },
    "id": "-g6dDp86GsAz"
   },
   "outputs": [],
   "source": [
    "# ordenar a lista\n",
    "# por padrão, essa operação ocorre \"inplace\"\n",
    "# ou seja, ela ordena o objeto original, e não retorna nada\n",
    "rand.sort()"
   ]
  },
  {
   "cell_type": "code",
   "execution_count": 0,
   "metadata": {
    "application/vnd.databricks.v1+cell": {
     "cellMetadata": {
      "byteLimit": 2048000,
      "rowLimit": 10000
     },
     "inputWidgets": {},
     "nuid": "d561e24a-59fb-4c19-abca-dacea87cb13b",
     "showTitle": false,
     "title": ""
    }
   },
   "outputs": [],
   "source": [
    "rand"
   ]
  },
  {
   "cell_type": "code",
   "execution_count": 0,
   "metadata": {
    "application/vnd.databricks.v1+cell": {
     "cellMetadata": {
      "byteLimit": 2048000,
      "rowLimit": 10000
     },
     "inputWidgets": {},
     "nuid": "8139c398-3d13-4fd1-bb6d-4a97a25a5531",
     "showTitle": false,
     "title": ""
    },
    "id": "zYjW-vMoGvjj"
   },
   "outputs": [],
   "source": [
    "# Trocando o tipo dos dados nas lista com o .astype()\n",
    "rand.astype(float)"
   ]
  },
  {
   "cell_type": "markdown",
   "metadata": {
    "application/vnd.databricks.v1+cell": {
     "cellMetadata": {},
     "inputWidgets": {},
     "nuid": "d97e5fc2-0cd6-46d3-ac1c-931c527c6f7b",
     "showTitle": false,
     "title": ""
    },
    "id": "z1H7a8E5G0A1"
   },
   "source": [
    "## Para praticar (Hora boa)!!\n",
    "\n",
    "Vamos dividi-los em grupo para resolução dos seguintes exercícios, usando numpy."
   ]
  },
  {
   "cell_type": "markdown",
   "metadata": {
    "application/vnd.databricks.v1+cell": {
     "cellMetadata": {},
     "inputWidgets": {},
     "nuid": "fd7bc061-94c1-4254-8036-a1c167cf920d",
     "showTitle": false,
     "title": ""
    },
    "id": "0RBxhUDPHDPw"
   },
   "source": [
    "**1.** Escreva uma função que receba dois argumentos: um número qualquer de arrays (de mesmo tamanho) em numpy; e o número de elementos de cada array. A função deve retornar um escalar que representa a soma total de todos estes arrays. Inclua na função uma condição de verificação em que, caso haja um array de tamanho distinto dos demais, um erro seja retornado."
   ]
  },
  {
   "cell_type": "code",
   "execution_count": 0,
   "metadata": {
    "application/vnd.databricks.v1+cell": {
     "cellMetadata": {
      "byteLimit": 2048000,
      "rowLimit": 10000
     },
     "inputWidgets": {},
     "nuid": "a07f2071-776a-446f-939c-02bd2730f7f2",
     "showTitle": false,
     "title": ""
    },
    "id": "J3MWvo5TGxeT"
   },
   "outputs": [],
   "source": [
    "import numpy as np"
   ]
  },
  {
   "cell_type": "code",
   "execution_count": 0,
   "metadata": {
    "application/vnd.databricks.v1+cell": {
     "cellMetadata": {
      "byteLimit": 2048000,
      "rowLimit": 10000
     },
     "inputWidgets": {},
     "nuid": "e9a26ea4-29d0-43eb-8195-ed9f02370010",
     "showTitle": false,
     "title": ""
    }
   },
   "outputs": [],
   "source": [
    "def soma_total(*arrays,num):\n",
    "    # Verifica se todos os arrays têm o mesmo tamanho\n",
    "    tamanho = num\n",
    "    for arr in arrays:\n",
    "        if len(arr) != tamanho:\n",
    "            raise ValueError(\"Os arrays não têm o mesmo tamanho!\")\n",
    "\n",
    "    # Soma total dos elementos dos arrays\n",
    "    soma = np.sum(np.array(arrays))\n",
    "\n",
    "    return soma\n",
    "\n",
    "# Exemplo de uso da função\n",
    "array1 = np.array([1, 2, 3])\n",
    "array2 = np.array([4, 5, 6])\n",
    "array3 = np.array([7, 8, 9])\n",
    "\n",
    "resultado = soma_total(array1, array2, array3,num=3)\n",
    "print(resultado)"
   ]
  },
  {
   "cell_type": "markdown",
   "metadata": {
    "application/vnd.databricks.v1+cell": {
     "cellMetadata": {},
     "inputWidgets": {},
     "nuid": "025d48d8-1579-42c0-b1f0-0145b15d4d99",
     "showTitle": false,
     "title": ""
    },
    "id": "U5qyhvkKHqq4"
   },
   "source": [
    "**2.** Em estatística, a normalização de uma distribuição de dados pode ser feita subtraindo o valor médio da distribuição de cada valor do conjunto de dados, dividindo o resultado pelo desvio-padrão da distribuição.\n",
    "\n",
    "Escreva uma função que normalize os dados recebidos por um array numpy qualquer, conforme descrito anteriormente."
   ]
  },
  {
   "cell_type": "code",
   "execution_count": 0,
   "metadata": {
    "application/vnd.databricks.v1+cell": {
     "cellMetadata": {
      "byteLimit": 2048000,
      "rowLimit": 10000
     },
     "inputWidgets": {},
     "nuid": "3a58c132-1c1a-4d31-958c-aeb031ae49a6",
     "showTitle": false,
     "title": ""
    },
    "id": "i7wZR8oFHnOz"
   },
   "outputs": [],
   "source": [
    "def func_norm(array):\n",
    "    media = array.mean()\n",
    "    dvp = array.std()\n",
    "    return (array - media)/dvp\n",
    "#Criando um array\n",
    "rand = np.random.rand(20)\n",
    "print(rand)\n",
    "resultado = func_norm(rand)\n",
    "print(resultado)"
   ]
  },
  {
   "cell_type": "markdown",
   "metadata": {
    "application/vnd.databricks.v1+cell": {
     "cellMetadata": {},
     "inputWidgets": {},
     "nuid": "988ab7ad-9717-4ddc-869e-2bff5d1a894b",
     "showTitle": false,
     "title": ""
    },
    "id": "4C7_WFvMIaEe"
   },
   "source": [
    "**3.** Escreva uma função em numpy que receba um array contendo notas de uma turma de 100 estudantes. Considere que a nota de aprovação da turma é 5.0. A função deve retornar, em um array numpy, nesta ordem:\n",
    "- a média e o desvio-padrão das notas da turma;\n",
    "- o número de notas maiores que 7.0;\n",
    "- o número de reprovações da turma;\n",
    "- a menor nota da turma;\n",
    "- a maior nota da turma."
   ]
  },
  {
   "cell_type": "code",
   "execution_count": 0,
   "metadata": {
    "application/vnd.databricks.v1+cell": {
     "cellMetadata": {
      "byteLimit": 2048000,
      "rowLimit": 10000
     },
     "inputWidgets": {},
     "nuid": "5d246ed6-c25f-467f-b3a3-5d27d8c6a908",
     "showTitle": false,
     "title": ""
    },
    "id": "0sc4zFPjJkLj"
   },
   "outputs": [],
   "source": [
    "def info_turma(notas):\n",
    "    media = notas.mean()\n",
    "    dvp = notas.std()\n",
    "    maior_que_sete = (notas > 7).sum()\n",
    "    num_repro = (notas < 5).sum()\n",
    "    menor_nota = notas.min()\n",
    "    maior_nota = notas.max()\n",
    "    return np.array([media,dvp,maior_que_sete,\n",
    "                     num_repro,menor_nota,maior_nota])\n",
    "#Gerar um array com notas entre 0 a 10 de 100 alunos\n",
    "np.random.seed(42)\n",
    "notas_turma = np.round(np.random.uniform(0,10,100),2)\n",
    "info_turma(notas_turma)"
   ]
  },
  {
   "cell_type": "markdown",
   "metadata": {
    "application/vnd.databricks.v1+cell": {
     "cellMetadata": {},
     "inputWidgets": {},
     "nuid": "219d4b01-e639-4c71-8e5f-b4dc0effad41",
     "showTitle": false,
     "title": ""
    },
    "id": "z9a_BRVwJ08x"
   },
   "source": [
    "**4.** Em Geometria Analítica, um **vetor** é uma quantidade que pode ser definida por um énuplo (uma sequência ordenada de *n* elementos) em que cada elemento representa a intensidade do vetor na direção especificada pela i-ésima componente desta sequência.\n",
    "\n",
    "Quando pensamos em duas dimensões, por exemplo, o vetor $R = (b,a)$ define, geometricamente, a entidade representada na figura abaixo, com componentes nos eixos x e y usuais.\n",
    "\n",
    "<img src = \"https://static.todamateria.com.br/upload/im/ag/image-721.jpg?auto_optimize=low\" />\n",
    "\n",
    "O **módulo** deste vetor, também chamado de intensidade, está geometricamente relacionado ao seu comprimento, e pode ser calculado diretamente pelas suas componentes, por meio de uma operação conhecida como **produto escalar** do vetor com ele mesmo. O módulo quadrático é expresso, desta forma, por:\n",
    "\n",
    "$|A|^2 = \\vec{A} \\cdot \\vec{A}$\n",
    "\n",
    "Por outro lado, o produto escalar entre dois vetores $A = (a_{x}, a_{y})$ e $B = (b_{x}, b_{y})$ é dado por:\n",
    "\n",
    "$\\vec{A} \\cdot \\vec{B} = a_{x} \\times b_{x} + a_{y} \\times b_{y}$ (e esta definição vale para qualquer que seja a dimensão do vetor).\n",
    "\n",
    "O módulo quadrático de um vetor é, portanto:\n",
    "\n",
    "$|A|² = a_{x}^2 + b_{x}^2$."
   ]
  },
  {
   "cell_type": "code",
   "execution_count": 0,
   "metadata": {
    "application/vnd.databricks.v1+cell": {
     "cellMetadata": {
      "byteLimit": 2048000,
      "rowLimit": 10000
     },
     "inputWidgets": {},
     "nuid": "cecc0a7c-eb00-4bbb-a5fe-99958db6d7e3",
     "showTitle": false,
     "title": ""
    },
    "id": "QzHi2IL6JmfT"
   },
   "outputs": [],
   "source": [
    "def modulo_array(array):\n",
    "    #Calcular o módulo desse array\n",
    "    modulo = np.sqrt(np.sum(array**2))\n",
    "    return modulo\n",
    "#Exemplo de uso da função\n",
    "array = np.array([[1,2,3],[4,5,6]])\n",
    "modulo_array(array)"
   ]
  }
 ],
 "metadata": {
  "application/vnd.databricks.v1+notebook": {
   "dashboards": [],
   "language": "python",
   "notebookMetadata": {
    "pythonIndentUnit": 4
   },
   "notebookName": "Aula_02_Numpy_(Parte_1)",
   "widgets": {}
  },
  "colab": {
   "provenance": []
  },
  "kernelspec": {
   "display_name": "Python 3",
   "name": "python3"
  },
  "language_info": {
   "codemirror_mode": {
    "name": "ipython",
    "version": 3
   },
   "file_extension": ".py",
   "mimetype": "text/x-python",
   "name": "python",
   "nbconvert_exporter": "python",
   "pygments_lexer": "ipython3",
   "version": "3.11.4"
  }
 },
 "nbformat": 4,
 "nbformat_minor": 0
}