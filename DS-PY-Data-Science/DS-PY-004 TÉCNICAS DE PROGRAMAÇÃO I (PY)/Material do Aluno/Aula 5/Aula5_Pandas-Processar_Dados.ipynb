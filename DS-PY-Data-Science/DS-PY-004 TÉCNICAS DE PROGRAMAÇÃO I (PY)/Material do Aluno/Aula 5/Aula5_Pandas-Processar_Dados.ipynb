{
 "cells": [
  {
   "cell_type": "markdown",
   "metadata": {},
   "source": [
    "# PANDAS - Processamento de dados"
   ]
  },
  {
   "cell_type": "code",
   "execution_count": 12,
   "metadata": {},
   "outputs": [],
   "source": [
    "import numpy as np\n",
    "\n",
    "def pegar_alguem():\n",
    "    text_alunos = \"\"\"Allan Bernard Da Silva\n",
    "\n",
    "André Rafael Pereira\n",
    "\n",
    "Bruno Martins Do Nascimento\n",
    "\n",
    "Caique Antonio Russo\n",
    "\n",
    "Daniel Alves Da Silva\n",
    "\n",
    "Diego Fernandes Couto\n",
    "\n",
    "Ezequias Santos Lima\n",
    "\n",
    "Guilherme Corgos\n",
    "\n",
    "Hainati Antunes De Souza\n",
    "\n",
    "Halyson Da Silva Sander\n",
    "\n",
    "Isabele Barbosa\n",
    "\n",
    "Jennefe Morais Da Silva\n",
    "\n",
    "Joabe Natan Cicero Lazzarini\n",
    "\n",
    "Jonnata Monteiro Da Silva\n",
    "\n",
    "Kássia Santos\n",
    "\n",
    "Leonardo Nyari De Matos Pereira\n",
    "\n",
    "Lilian Cristine Setto\n",
    "\n",
    "Mateus Silva Santos\n",
    "\n",
    "Milton Alves De Souza Neto\n",
    "\n",
    "Rafael Francisco\n",
    "\n",
    "Rafael Mendes Oliveira\n",
    "\n",
    "Rodrigo Martins De Oliveira\n",
    "\n",
    "Rodrigo Michel Xavier\n",
    "\n",
    "Samuel Rodrigues De Freitas\n",
    "\n",
    "Taynan Candido Quitério\n",
    "\n",
    "Thabata Pinke Grangieri\n",
    "\n",
    "Thiago Fernandes Rosa\n",
    "\n",
    "Thiago Oliveira Da Rosa\n",
    "\n",
    "Vinícius Alberto Camargo Teles\n",
    "\n",
    "Ítalo Monteiro\"\"\"\n",
    "    alunos = text_alunos.split('\\n\\n')\n",
    "    return np.random.choice(alunos,1)[0]\n",
    "\n"
   ]
  },
  {
   "cell_type": "markdown",
   "metadata": {},
   "source": [
    "# Topicos\n",
    "1. [Caso prático](#caso-pratico)\n",
    "2. [O que vamos aprender?](#o-que-vamos-aprender)\n",
    "3. [Exercícios](#exer)"
   ]
  },
  {
   "cell_type": "markdown",
   "metadata": {},
   "source": [
    "Caso prático - 10m  (5min em cada)\n",
    "Concat + merge      (1h)\n",
    "Pivot + melt        (1h)\n",
    "Exercícios          (1h) "
   ]
  },
  {
   "cell_type": "markdown",
   "metadata": {},
   "source": [
    "# Caso prático <div id=\"caso-pratico\">"
   ]
  },
  {
   "cell_type": "markdown",
   "metadata": {},
   "source": [
    "## Titulo do problema 1 aqui"
   ]
  },
  {
   "cell_type": "markdown",
   "metadata": {},
   "source": [
    "Vamos considerar uma situação com dados relacionados a clientes, médicos, consultas e procedimentos médicos, cada um armazenado em tabelas separadas. Durante a análise dos dados de clientes e médicos, notamos que algumas informações não estão atualizadas. **O desafio** é que extrair todos os dados novamente levaria bastante tempo de processamento.\n",
    "\n",
    "<!--imagem aqui para ilustrar a falta de dados dessas tabelas-->\n",
    "\n",
    "O que você faria para solucionar este problema?\n",
    "\n",
    "<!--- tempo de espera para ver como resolver --->"
   ]
  },
  {
   "cell_type": "markdown",
   "metadata": {},
   "source": [
    "**SOLUÇÃO**:<!-- Diante dessa questão, a equipe decidiu adotar uma abordagem mais prática: em vez de recarregar todos os dados, a ideia é identificar **apenas** as informações que estão faltando e adicioná-las aos dados desatualizados. -->"
   ]
  },
  {
   "cell_type": "markdown",
   "metadata": {},
   "source": [
    "## Titulo do problema 2 aqui"
   ]
  },
  {
   "cell_type": "markdown",
   "metadata": {},
   "source": [
    "Durante uma reunião estratégica voltada para a identificação de oportunidades e aprimoramentos com os clientes, Alessandra apresentou à equipe de estratégia os resultados de uma enquete pública realizada no site da Unimed e na rua. Esses resultados incluíam dados demográficos (endereço, cidade, estado) e socioeconômicos (renda familiar, tamanho da família, qualidade de vida), bem como a opinião dos participantes em relação à Unimed de 1 a 5, variando de muito ruim a muito bom. No entanto, a equipe enfrentava dificuldades em compreender os insights dos resultados da enquete devido à forma como os dados estavam organizados, já que cada resposta ocupava uma linha e não conseguia visualizar o todo.\n",
    "\n",
    "<!--imagem aqui para ilustrar a forma da tabela-->\n",
    "\n",
    "O que você faria para reestruturar os dados e gerar insights estratégicos mais rapidamente?"
   ]
  },
  {
   "cell_type": "markdown",
   "metadata": {},
   "source": [
    "**SOLUÇÃO**:<!-- Uma solução eficaz seria reorganizar os dados, pivotando os dados para categorizar por classes socioeconômicas e regiões demográficas. Essa abordagem permitiria visualizar os resultados agregados da opinião pública de maneira mais clara e compreensível. Ao adotar uma perspectiva semelhante à funcionalidade Pivot Table do Excel, a equipe estaria mais familiarizada e apta a extrair insights significativos de maneira mais rápida e eficiente. -->"
   ]
  },
  {
   "cell_type": "markdown",
   "metadata": {},
   "source": [
    "# O que vamos aprender? <div id=\"o-que-vamos-aprender\">"
   ]
  },
  {
   "cell_type": "markdown",
   "metadata": {},
   "source": [
    "* [Concat](#Concat)\n",
    "* [Merge](#Merge)\n",
    "* [Pivot](#Pivot)\n",
    "* [Melt](#Melt)"
   ]
  },
  {
   "cell_type": "code",
   "execution_count": null,
   "metadata": {},
   "outputs": [],
   "source": [
    "# Até onde chegamos"
   ]
  },
  {
   "cell_type": "code",
   "execution_count": null,
   "metadata": {},
   "outputs": [],
   "source": [
    "texto aqui"
   ]
  },
  {
   "cell_type": "code",
   "execution_count": null,
   "metadata": {},
   "outputs": [],
   "source": [
    "# Até onde vamos chegar (com este módulo)"
   ]
  },
  {
   "cell_type": "code",
   "execution_count": null,
   "metadata": {},
   "outputs": [],
   "source": [
    "texto aqui"
   ]
  },
  {
   "cell_type": "markdown",
   "metadata": {},
   "source": [
    "## Concat"
   ]
  },
  {
   "cell_type": "code",
   "execution_count": null,
   "metadata": {},
   "outputs": [],
   "source": [
    "texto de ensino"
   ]
  },
  {
   "cell_type": "code",
   "execution_count": null,
   "metadata": {},
   "outputs": [],
   "source": [
    "Exer basicos de ensino"
   ]
  },
  {
   "cell_type": "code",
   "execution_count": null,
   "metadata": {},
   "outputs": [],
   "source": [
    "Pratica rapida (com textos de apoio)"
   ]
  },
  {
   "cell_type": "markdown",
   "metadata": {},
   "source": [
    "## Merge"
   ]
  },
  {
   "cell_type": "code",
   "execution_count": null,
   "metadata": {},
   "outputs": [],
   "source": [
    "texto de ensino"
   ]
  },
  {
   "cell_type": "code",
   "execution_count": null,
   "metadata": {},
   "outputs": [],
   "source": [
    "Exer basicos de ensino"
   ]
  },
  {
   "cell_type": "code",
   "execution_count": null,
   "metadata": {},
   "outputs": [],
   "source": [
    "Pratica rapida (com textos de apoio)"
   ]
  },
  {
   "cell_type": "markdown",
   "metadata": {},
   "source": [
    "## Pivot"
   ]
  },
  {
   "cell_type": "code",
   "execution_count": null,
   "metadata": {},
   "outputs": [],
   "source": [
    "texto de ensino"
   ]
  },
  {
   "cell_type": "code",
   "execution_count": null,
   "metadata": {},
   "outputs": [],
   "source": [
    "Exer basicos de ensino"
   ]
  },
  {
   "cell_type": "code",
   "execution_count": null,
   "metadata": {},
   "outputs": [],
   "source": [
    "Pratica rapida (com textos de apoio)"
   ]
  },
  {
   "cell_type": "markdown",
   "metadata": {},
   "source": [
    "## Melt"
   ]
  },
  {
   "cell_type": "code",
   "execution_count": null,
   "metadata": {},
   "outputs": [],
   "source": [
    "texto de ensino"
   ]
  },
  {
   "cell_type": "code",
   "execution_count": null,
   "metadata": {},
   "outputs": [],
   "source": [
    "Exer basicos de ensino"
   ]
  },
  {
   "cell_type": "code",
   "execution_count": null,
   "metadata": {},
   "outputs": [],
   "source": [
    "Pratica rapida (com textos de apoio)"
   ]
  },
  {
   "cell_type": "markdown",
   "metadata": {},
   "source": [
    "# Exercícios <div id=\"exer\">"
   ]
  },
  {
   "cell_type": "markdown",
   "metadata": {},
   "source": [
    "exer1"
   ]
  },
  {
   "cell_type": "markdown",
   "metadata": {},
   "source": [
    "_blank_"
   ]
  },
  {
   "cell_type": "markdown",
   "metadata": {},
   "source": [
    "Solução"
   ]
  },
  {
   "cell_type": "markdown",
   "metadata": {},
   "source": [
    "exer2"
   ]
  },
  {
   "cell_type": "markdown",
   "metadata": {},
   "source": [
    "_blank_"
   ]
  },
  {
   "cell_type": "markdown",
   "metadata": {},
   "source": [
    "Solução"
   ]
  },
  {
   "cell_type": "markdown",
   "metadata": {},
   "source": [
    "exer2"
   ]
  },
  {
   "cell_type": "markdown",
   "metadata": {},
   "source": [
    "_blank_"
   ]
  },
  {
   "cell_type": "markdown",
   "metadata": {},
   "source": [
    "Solução"
   ]
  },
  {
   "cell_type": "markdown",
   "metadata": {},
   "source": [
    "exer4"
   ]
  },
  {
   "cell_type": "markdown",
   "metadata": {},
   "source": [
    "_blank_"
   ]
  },
  {
   "cell_type": "markdown",
   "metadata": {},
   "source": [
    "Solução"
   ]
  }
 ],
 "metadata": {
  "kernelspec": {
   "display_name": "base",
   "language": "python",
   "name": "python3"
  },
  "language_info": {
   "codemirror_mode": {
    "name": "ipython",
    "version": 3
   },
   "file_extension": ".py",
   "mimetype": "text/x-python",
   "name": "python",
   "nbconvert_exporter": "python",
   "pygments_lexer": "ipython3",
   "version": "3.10.9"
  }
 },
 "nbformat": 4,
 "nbformat_minor": 2
}
