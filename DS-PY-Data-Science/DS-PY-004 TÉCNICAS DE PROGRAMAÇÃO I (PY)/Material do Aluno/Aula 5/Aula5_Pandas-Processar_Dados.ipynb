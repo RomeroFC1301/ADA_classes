{
 "cells": [
  {
   "cell_type": "markdown",
   "metadata": {},
   "source": [
    "# PANDAS - Processamento de dados\n",
    "[Guia do pandas](https://pandas.pydata.org/docs/user_guide/index.html#user-guide)\n",
    "____\n",
    "\n",
    "Dúvidas?\n",
    "* Romero Carvalho: romerofcarvalho (discord)\n",
    "* Allan Suzuki: allansuzuki (discord)"
   ]
  },
  {
   "cell_type": "code",
   "execution_count": 12,
   "metadata": {},
   "outputs": [],
   "source": [
    "import numpy as np\n",
    "\n",
    "def pegar_alguem():\n",
    "    text_alunos = \"\"\"Allan Bernard Da Silva\n",
    "\n",
    "André Rafael Pereira\n",
    "\n",
    "Bruno Martins Do Nascimento\n",
    "\n",
    "Caique Antonio Russo\n",
    "\n",
    "Daniel Alves Da Silva\n",
    "\n",
    "Diego Fernandes Couto\n",
    "\n",
    "Ezequias Santos Lima\n",
    "\n",
    "Guilherme Corgos\n",
    "\n",
    "Hainati Antunes De Souza\n",
    "\n",
    "Halyson Da Silva Sander\n",
    "\n",
    "Isabele Barbosa\n",
    "\n",
    "Jennefe Morais Da Silva\n",
    "\n",
    "Joabe Natan Cicero Lazzarini\n",
    "\n",
    "Jonnata Monteiro Da Silva\n",
    "\n",
    "Kássia Santos\n",
    "\n",
    "Leonardo Nyari De Matos Pereira\n",
    "\n",
    "Lilian Cristine Setto\n",
    "\n",
    "Mateus Silva Santos\n",
    "\n",
    "Milton Alves De Souza Neto\n",
    "\n",
    "Rafael Francisco\n",
    "\n",
    "Rafael Mendes Oliveira\n",
    "\n",
    "Rodrigo Martins De Oliveira\n",
    "\n",
    "Rodrigo Michel Xavier\n",
    "\n",
    "Samuel Rodrigues De Freitas\n",
    "\n",
    "Taynan Candido Quitério\n",
    "\n",
    "Thabata Pinke Grangieri\n",
    "\n",
    "Thiago Fernandes Rosa\n",
    "\n",
    "Thiago Oliveira Da Rosa\n",
    "\n",
    "Vinícius Alberto Camargo Teles\n",
    "\n",
    "Ítalo Monteiro\"\"\"\n",
    "    alunos = text_alunos.split('\\n\\n')\n",
    "    return np.random.choice(alunos,1)[0]\n",
    "\n"
   ]
  },
  {
   "cell_type": "markdown",
   "metadata": {},
   "source": [
    "# Topicos\n",
    "1. [Caso prático](#caso-pratico)\n",
    "2. [O que vamos aprender?](#o-que-vamos-aprender)\n",
    "3. [Exercícios](#exer)"
   ]
  },
  {
   "cell_type": "markdown",
   "metadata": {},
   "source": [
    "Caso prático - 10m  (5min em cada)\n",
    "<br>Concat + merge      (1h)\n",
    "<br>Pivot + melt        (1h)\n",
    "<br>Exercícios          (1h) "
   ]
  },
  {
   "cell_type": "markdown",
   "metadata": {},
   "source": [
    "# Caso prático <div id=\"caso-pratico\">"
   ]
  },
  {
   "cell_type": "markdown",
   "metadata": {},
   "source": [
    "## Caso 1"
   ]
  },
  {
   "cell_type": "markdown",
   "metadata": {},
   "source": [
    "Vamos considerar uma situação com dados relacionados a clientes, médicos, consultas e procedimentos médicos, cada um armazenado em tabelas separadas. Durante a análise dos dados de clientes e médicos, notamos que algumas informações não estão atualizadas. **O desafio** é que extrair todos os dados novamente levaria bastante tempo de processamento.\n",
    "\n",
    "`imagem aqui para ilustrar a falta de dados dessas tabelas`\n",
    "\n",
    "O que você faria para solucionar este problema?\n",
    "\n",
    "<!--- tempo de espera para ver como resolver --->"
   ]
  },
  {
   "cell_type": "markdown",
   "metadata": {},
   "source": [
    "**SOLUÇÃO**:<!-- Diante dessa questão, a equipe decidiu adotar uma abordagem mais prática: em vez de recarregar todos os dados, a ideia é identificar **apenas** as informações que estão faltando e adicioná-las aos dados desatualizados. -->"
   ]
  },
  {
   "cell_type": "markdown",
   "metadata": {},
   "source": [
    "## Caso 2"
   ]
  },
  {
   "cell_type": "markdown",
   "metadata": {},
   "source": [
    "Durante uma reunião estratégica voltada para a identificação de oportunidades e aprimoramentos com os clientes, Alessandra apresentou à equipe de estratégia os resultados de uma enquete pública realizada no site da Unimed e na rua. Esses resultados incluíam dados demográficos (endereço, cidade, estado) e socioeconômicos (renda familiar, tamanho da família, qualidade de vida), bem como a opinião dos participantes em relação à Unimed de 1 a 5, variando de muito ruim a muito bom. No entanto, a equipe enfrentava dificuldades em compreender os insights dos resultados da enquete devido à forma como os dados estavam organizados, já que cada resposta ocupava uma linha e não conseguia visualizar o todo.\n",
    "\n",
    "`imagem aqui para ilustrar a forma da tabela`\n",
    "\n",
    "O que você faria para reestruturar os dados e gerar insights estratégicos mais rapidamente?"
   ]
  },
  {
   "cell_type": "markdown",
   "metadata": {},
   "source": [
    "**SOLUÇÃO**:<!-- Uma solução eficaz seria reorganizar os dados, pivotando os dados para categorizar por classes socioeconômicas e regiões demográficas. Essa abordagem permitiria visualizar os resultados agregados da opinião pública de maneira mais clara e compreensível. Ao adotar uma perspectiva semelhante à funcionalidade Pivot Table do Excel, a equipe estaria mais familiarizada e apta a extrair insights significativos de maneira mais rápida e eficiente. -->"
   ]
  },
  {
   "cell_type": "markdown",
   "metadata": {},
   "source": [
    "# O que vamos aprender? <div id=\"o-que-vamos-aprender\">"
   ]
  },
  {
   "cell_type": "markdown",
   "metadata": {},
   "source": [
    "* [Concat](#Concat)\n",
    "* [Merge](#Merge)\n",
    "* [Groupby](#Groupby)\n",
    "* [Pivot](#Pivot)\n",
    "* [Melt](#Melt)"
   ]
  },
  {
   "cell_type": "markdown",
   "metadata": {},
   "source": [
    "## Até onde chegamos"
   ]
  },
  {
   "cell_type": "markdown",
   "metadata": {},
   "source": [
    "&ensp;<img src=\"./img/recap_lecture.png\" alt=\"create_notebook\" width=\"400\"/>\n",
    "\n",
    "Aprendemos a trabalhar com diversas funções para:\n",
    "1. carregar dados vindo de fontes externas;\n",
    "2. localizar dados específicos;\n",
    "3. realizar cálculos;\n",
    "4. salvar os dados em outro tipo de arquivo.\n",
    "\n",
    "Perceba que para aplicar cada uma dessas funções, somente é necessário UM único dataframe."
   ]
  },
  {
   "cell_type": "markdown",
   "metadata": {},
   "source": [
    "## Até onde vamos chegar (com este módulo)"
   ]
  },
  {
   "cell_type": "markdown",
   "metadata": {},
   "source": [
    "&ensp;<img src=\"./img/lecture_target.png\" alt=\"lecture_target\" width=\"400\"/>\n",
    "\n",
    "Neste módulo vamos conseguir realizar uniões/manipulações entre duas ou mais dataframes ou estruturar um dataframe para outra forma (tal como os dois casos que vimos no começo do módulo)."
   ]
  },
  {
   "cell_type": "markdown",
   "metadata": {},
   "source": [
    "## Concat\n",
    "Source: Documentation [(+info)](https://pandas.pydata.org/docs/reference/api/pandas.concat.html)"
   ]
  },
  {
   "cell_type": "markdown",
   "metadata": {},
   "source": [
    "As vezes, é preciso um novo conjunto de dados a partir de união de outros dados/tabelas. \n",
    "\n",
    "No caso, quando queremos concatenar/unir/empilhar dados num determinado eixo (lembra-se do que significa eixo em DataFrames?), utilizamos a função **pandas.concat** (semelhante a operação UNION do SQL):\n",
    "\n",
    ">pandas.concat(objs, *, axis=0, join='outer', ignore_index=False, keys=None, levels=None, names=None, verify_integrity=False, sort=False, copy=None)\n",
    "<br>&ensp;&ensp;&ensp;&ensp;Concatenate pandas objects along a particular axis.\n",
    "<br><br>&ensp;&ensp;&ensp;&ensp;Allows optional set logic along the other axes\n",
    "<br><br>&ensp;&ensp;&ensp;&ensp;Can also add a layer of hierarchical indexing on the concatenation axis, which may be useful if the labels are the same (or overlapping) on the passed axis number."
   ]
  },
  {
   "cell_type": "markdown",
   "metadata": {},
   "source": [
    "É possível combinar duas séries:"
   ]
  },
  {
   "cell_type": "code",
   "execution_count": null,
   "metadata": {},
   "outputs": [],
   "source": [
    "# s1 = pd.Series(['a', 'b'])\n",
    "# s2 = pd.Series(['c', 'd'])\n",
    "# pd.concat([s1, s2])"
   ]
  },
  {
   "cell_type": "markdown",
   "metadata": {},
   "source": [
    "Bem como combinar dois DataFrames com as mesmas colunas:"
   ]
  },
  {
   "cell_type": "code",
   "execution_count": null,
   "metadata": {},
   "outputs": [],
   "source": [
    "# df1 = pd.DataFrame([['a', 1], ['b', 2]], columns=['letter', 'number'])\n",
    "# df2 = pd.DataFrame([['c', 3], ['d', 4]], columns=['letter', 'number'])\n",
    "# pd.concat([df1, df2])"
   ]
  },
  {
   "cell_type": "markdown",
   "metadata": {},
   "source": [
    "Porém, combinar dois DataFrames que possuem diferentes colunas retorna valores **NaN** (o que é isto mesmo?):"
   ]
  },
  {
   "cell_type": "code",
   "execution_count": null,
   "metadata": {},
   "outputs": [],
   "source": [
    "# df1 = pd.DataFrame([['a', 1], ['b', 2]], columns=['letter', 'number'])\n",
    "# df2 = pd.DataFrame([['c', 3], ['d', 4]], columns=['letter', 'number'])\n",
    "# df3 = pd.DataFrame([['c', 3, 'cat'], ['d', 4, 'dog']], columns=['letter', 'number', 'animal']) # one more column\n",
    "# pd.concat([df1, df3])"
   ]
  },
  {
   "cell_type": "markdown",
   "metadata": {},
   "source": [
    "É possível resetar os índices com o argumento `ignore_index=True`, quando os índices originais não são importantes."
   ]
  },
  {
   "cell_type": "code",
   "execution_count": null,
   "metadata": {},
   "outputs": [],
   "source": [
    "# df1 = pd.DataFrame([['a', 1], ['b', 2]], columns=['letter', 'number'])\n",
    "# df2 = pd.DataFrame([['c', 3], ['d', 4]], columns=['letter', 'number'])\n",
    "# pd.concat([df1, df2, ignore_index=True)"
   ]
  },
  {
   "cell_type": "markdown",
   "metadata": {},
   "source": [
    "Também é possível combinar os DataFrames pelos índices (ao invés das colunas) utilizando o argumento `axis=1`"
   ]
  },
  {
   "cell_type": "code",
   "execution_count": null,
   "metadata": {},
   "outputs": [],
   "source": [
    "# df4 = pd.DataFrame([['bird', 'polly'], ['monkey', 'george']], columns=['animal', 'name']) # new columns\n",
    "# pd.concat([df1,df4], axis=1)"
   ]
  },
  {
   "cell_type": "markdown",
   "metadata": {},
   "source": [
    "Por fim, também é possível adicionar uma linha a um DataFrame, se a série tiver índices iguais as colunas do DataFrame."
   ]
  },
  {
   "cell_type": "code",
   "execution_count": null,
   "metadata": {},
   "outputs": [],
   "source": [
    "# nova_linha = pd.Series({'letter': 'z', 'number': 111})\n",
    "# pd.concat([df1,nova_linha])"
   ]
  },
  {
   "cell_type": "markdown",
   "metadata": {},
   "source": [
    "-----\n",
    "### Hands-on"
   ]
  },
  {
   "cell_type": "markdown",
   "metadata": {},
   "source": [
    "1. Você tem uma tarefa de criar um DataFrame no seguinte formato:\n",
    "<br>\n",
    "<br>`img aqui`\n",
    "<br>\n",
    "<br>Em seguida o teu par te mandou o restante dos dados e pediu para uní-los enquanto ele puxava os dados complementares. Os dados adicionais estão no arquivo `dados_adicionais.csv`.\n"
   ]
  },
  {
   "cell_type": "code",
   "execution_count": null,
   "metadata": {},
   "outputs": [],
   "source": []
  },
  {
   "cell_type": "markdown",
   "metadata": {},
   "source": [
    "2. Após a primeira entrega dos dados, um novo cliente apareceu nas bases de dados e teu superior pediu prioridade para incluir esse estimado cliente nos teus dados. Você se lembrou do 1o caso prático desta aula e pediu os dados do novo cliente para incluí-lo:\n",
    "> Name: Romero F Carvalho\n",
    "<br> Class: Premium\n",
    "<br> InsuranceTotalSpent: 90000"
   ]
  },
  {
   "cell_type": "code",
   "execution_count": null,
   "metadata": {},
   "outputs": [],
   "source": []
  },
  {
   "cell_type": "markdown",
   "metadata": {},
   "source": [
    "## Merge\n",
    "Source: Documentation [(+info)](https://pandas.pydata.org/docs/reference/api/pandas.DataFrame.merge.html)"
   ]
  },
  {
   "cell_type": "markdown",
   "metadata": {},
   "source": [
    "Muitas vezes queremos buscar dados adicionais de outro DataFrame que possuem algum interligação / relacionamento entre si. \n",
    "\n",
    "Neste caso, utilizamos a função **pandas.merge** (semelhante a operação JOIN do SQL):\n",
    "\n",
    "<img src=\"https://community.qlik.com/legacyfs/online/87693_all-joins.png\" width=450>\n",
    "<br><br>\n",
    "\n",
    ">DataFrame.merge(right, how='inner', on=None, left_on=None, right_on=None, left_index=False, right_index=False, sort=False, suffixes=('_x', '_y'), copy=None, indicator=False, validate=None)\n",
    "<br><br>&ensp;&ensp;&ensp;&ensp;Merge DataFrame or named Series objects with a database-style join.\n",
    "<br><br>&ensp;&ensp;&ensp;&ensp;A named Series object is treated as a DataFrame with a single named column."
   ]
  },
  {
   "cell_type": "markdown",
   "metadata": {},
   "source": [
    "Podemos juntar as informações de dois DataFrames que se relacionam por chaves (keys) comuns entre si:"
   ]
  },
  {
   "cell_type": "code",
   "execution_count": null,
   "metadata": {},
   "outputs": [],
   "source": [
    "# df_pacientes = pd.DataFrame({'paciente_id': [1, 2, 3], 'idade': [25, 35, 40]})\n",
    "# df_exames = pd.DataFrame({'paciente_id': [1, 2, 4], 'resultado': ['Normal', 'Elevado', 'Ausente']})\n",
    "# df1.merge(df2, on='key')"
   ]
  },
  {
   "cell_type": "markdown",
   "metadata": {},
   "source": [
    "Se quisermos mudar o tipo da união (qual é a união padrão?), utilizamos o parâmetro `how` que aceita os seguintes valores: \n",
    "> how : {‘left’, ‘right’, ‘outer’, ‘inner’, ‘cross’}"
   ]
  },
  {
   "cell_type": "code",
   "execution_count": null,
   "metadata": {},
   "outputs": [],
   "source": [
    "# df_pacientes = pd.DataFrame({'paciente_id': [1, 2, 3], 'idade': [25, 35, 40]})\n",
    "# df_exames = pd.DataFrame({'paciente_id': [1, 2, 4], 'resultado': ['Normal', 'Elevado', 'Ausente']})\n",
    "# df1.merge(df2, on='key', how='outer')"
   ]
  },
  {
   "cell_type": "markdown",
   "metadata": {},
   "source": [
    "Note que, no tipo união `outer`, não há um `paciente_id 4` no `df_pacientes`, por isso não temos a idade dele e, por padrão, nos retorna `NaN`, bem como não temos resultados do exame para o `paciente_id 3`."
   ]
  },
  {
   "cell_type": "markdown",
   "metadata": {},
   "source": [
    "Caso as colunas-chave não tenham nomes iguais, podemos unir com os argumentos `left_on` e `right_on`:"
   ]
  },
  {
   "cell_type": "code",
   "execution_count": null,
   "metadata": {},
   "outputs": [],
   "source": [
    "# df_pacientes = pd.DataFrame({'paciente_id': [1, 2, 3], 'idade': [25, 35, 40]})\n",
    "# df_exames_outro = pd.DataFrame({'id_pacientes': [1, 2, 4], 'resultado': ['Normal', 'Elevado', 'Ausente']})\n",
    "# df1.merge(df2, left_on='paciente_id',right_on='id_pacientes', how='outer')"
   ]
  },
  {
   "cell_type": "markdown",
   "metadata": {},
   "source": [
    "Se houver colunas que têm o mesmo nome e não serão chave, podemos diferenciá-los pelos argumento suffixes=('rsuff','lsuff'):"
   ]
  },
  {
   "cell_type": "code",
   "execution_count": null,
   "metadata": {},
   "outputs": [],
   "source": [
    "# df_exames = pd.DataFrame({'paciente_id': [1, 2, 4], 'resultado': ['Normal', 'Elevado', 'Ausente']})\n",
    "# df_renovacao_seguro = pd.DataFrame({'paciente_id': [1, 2, 4], 'resultado': ['Aprovado', 'Aprovado', 'Em analise']})\n",
    "df_exames.merge(df_renovacao_seguro, on='paciente_id')\n",
    "df_exames.merge(df_renovacao_seguro, on='paciente_id', suffixes=('_exame','_renovacao'))"
   ]
  },
  {
   "cell_type": "markdown",
   "metadata": {},
   "source": [
    "-----\n",
    "### Hands-on"
   ]
  },
  {
   "cell_type": "markdown",
   "metadata": {},
   "source": [
    "1. Teu colega da recepcao pediu os dados das consultas realizadas do arquivo ``. Porém, a tabela não parece conter informações relevantes para um usuário comum. Para resolver isto, uma prática muito comum no SQL é unir tabelas para ter todas as informações em texto, ao invés de códigos.\n",
    "\n",
    "<br> Na pasta 'nome da pasta aqui' temos 3 csvs que trazem dados dos pacientes, medicos e hospitais. Utilize o merge para identificar todas as informações referentes as consultas realizadas e entregar dados legíveis para o teu colega."
   ]
  },
  {
   "cell_type": "code",
   "execution_count": null,
   "metadata": {},
   "outputs": [],
   "source": [
    "# # Criando DataFrames fictícios\n",
    "# df_consultas = pd.DataFrame({\n",
    "#     'id_consulta': [1, 2, 3, 4],\n",
    "#     'id_medico': [101, 102, 103, 104],\n",
    "#     'id_paciente': [201, 202, 203, 204],\n",
    "#     'id_hospital': [301, 302, 303, 304]\n",
    "# })\n",
    "\n",
    "# df_medicos = pd.DataFrame({\n",
    "#     'id_medico': [101, 102, 103, 104],\n",
    "#     'nome_medico': ['Dr. Smith', 'Dr. Johnson', 'Dra. Davis', 'Dr. Wilson']\n",
    "#     'especialidade':['Neurologista','Pediatra','Cardiologista','Cardiologista']\n",
    "# })\n",
    "\n",
    "# df_pacientes = pd.DataFrame({\n",
    "#     'id_paciente': [201, 202, 203, 204],\n",
    "#     'nome_paciente': ['João', 'Maria', 'Carlos', 'Ana'],\n",
    "#     'idade': [30, 25, 35, 40]\n",
    "# })\n",
    "\n",
    "# df_hospitais = pd.DataFrame({\n",
    "#     'id_hospital': [301, 302, 303, 304],\n",
    "#     'nome_hospital': ['Hospital A', 'Hospital B', 'Hospital C', 'Hospital D'],\n",
    "#     'cidade': ['Cidade A', 'Cidade B', 'Cidade C', 'Cidade D']\n",
    "# })\n",
    "\n",
    "# # Unindo as tabelas usando merge\n",
    "# df_merge1 = pd.merge(df_consultas, df_medicos, on='id_medico', how='left')\n",
    "# df_merge2 = pd.merge(df_merge1, df_pacientes, on='id_paciente', how='left')\n",
    "# df_final = pd.merge(df_merge2, df_hospitais, on='id_hospital', how='left')\n",
    "\n",
    "# # Exibindo o resultado final\n",
    "# print(df_final)\n"
   ]
  },
  {
   "cell_type": "code",
   "execution_count": null,
   "metadata": {},
   "outputs": [],
   "source": [
    "**PAUSA**"
   ]
  },
  {
   "cell_type": "markdown",
   "metadata": {},
   "source": [
    "## Groupby"
   ]
  },
  {
   "cell_type": "code",
   "execution_count": null,
   "metadata": {},
   "outputs": [],
   "source": [
    "texto de ensino"
   ]
  },
  {
   "cell_type": "code",
   "execution_count": null,
   "metadata": {},
   "outputs": [],
   "source": [
    "Exer basicos de ensino"
   ]
  },
  {
   "cell_type": "code",
   "execution_count": null,
   "metadata": {},
   "outputs": [],
   "source": [
    "Pratica rapida (com textos de apoio)"
   ]
  },
  {
   "cell_type": "markdown",
   "metadata": {},
   "source": [
    "## Pivot"
   ]
  },
  {
   "cell_type": "code",
   "execution_count": null,
   "metadata": {},
   "outputs": [],
   "source": [
    "texto de ensino"
   ]
  },
  {
   "cell_type": "code",
   "execution_count": null,
   "metadata": {},
   "outputs": [],
   "source": [
    "Exer basicos de ensino"
   ]
  },
  {
   "cell_type": "code",
   "execution_count": null,
   "metadata": {},
   "outputs": [],
   "source": [
    "Pratica rapida (com textos de apoio)"
   ]
  },
  {
   "cell_type": "markdown",
   "metadata": {},
   "source": [
    "## Melt"
   ]
  },
  {
   "cell_type": "code",
   "execution_count": null,
   "metadata": {},
   "outputs": [],
   "source": [
    "texto de ensino"
   ]
  },
  {
   "cell_type": "code",
   "execution_count": null,
   "metadata": {},
   "outputs": [],
   "source": [
    "Exer basicos de ensino"
   ]
  },
  {
   "cell_type": "code",
   "execution_count": null,
   "metadata": {},
   "outputs": [],
   "source": [
    "Pratica rapida (com textos de apoio)"
   ]
  },
  {
   "cell_type": "markdown",
   "metadata": {},
   "source": [
    "# Exercícios <div id=\"exer\">"
   ]
  },
  {
   "cell_type": "markdown",
   "metadata": {},
   "source": [
    "exer1"
   ]
  },
  {
   "cell_type": "markdown",
   "metadata": {},
   "source": [
    "_blank_"
   ]
  },
  {
   "cell_type": "markdown",
   "metadata": {},
   "source": [
    "Solução"
   ]
  },
  {
   "cell_type": "markdown",
   "metadata": {},
   "source": [
    "exer2"
   ]
  },
  {
   "cell_type": "markdown",
   "metadata": {},
   "source": [
    "_blank_"
   ]
  },
  {
   "cell_type": "markdown",
   "metadata": {},
   "source": [
    "Solução"
   ]
  },
  {
   "cell_type": "markdown",
   "metadata": {},
   "source": [
    "exer2"
   ]
  },
  {
   "cell_type": "markdown",
   "metadata": {},
   "source": [
    "_blank_"
   ]
  },
  {
   "cell_type": "markdown",
   "metadata": {},
   "source": [
    "Solução"
   ]
  },
  {
   "cell_type": "markdown",
   "metadata": {},
   "source": [
    "exer4"
   ]
  },
  {
   "cell_type": "markdown",
   "metadata": {},
   "source": [
    "_blank_"
   ]
  },
  {
   "cell_type": "markdown",
   "metadata": {},
   "source": [
    "Solução"
   ]
  }
 ],
 "metadata": {
  "kernelspec": {
   "display_name": "base",
   "language": "python",
   "name": "python3"
  },
  "language_info": {
   "codemirror_mode": {
    "name": "ipython",
    "version": 3
   },
   "file_extension": ".py",
   "mimetype": "text/x-python",
   "name": "python",
   "nbconvert_exporter": "python",
   "pygments_lexer": "ipython3",
   "version": "3.10.9"
  }
 },
 "nbformat": 4,
 "nbformat_minor": 2
}
