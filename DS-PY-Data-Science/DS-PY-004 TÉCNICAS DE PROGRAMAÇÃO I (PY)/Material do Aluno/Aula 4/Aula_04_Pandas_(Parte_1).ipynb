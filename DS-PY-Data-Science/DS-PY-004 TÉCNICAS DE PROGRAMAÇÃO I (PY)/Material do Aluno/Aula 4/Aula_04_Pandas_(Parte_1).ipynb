{
  "cells": [
    {
      "cell_type": "markdown",
      "metadata": {
        "id": "BUSRlt4Shf-w"
      },
      "source": [
        "# Aula 04 - Pandas\n",
        "\n",
        "Na aula de hoje veremos com trabalhar com dados tabulares em alto nível, usando a biblioteca [pandas](https://pandas.pydata.org/).\n",
        "\n",
        "O [Pandas](https://pandas.pydata.org/) é uma das bibliotecas mais usadas em **ciência de dados**.\n",
        "\n",
        "Esta biblioteca, construída a partir do Numpy, possibilita a estruturação e manipulação de dados de maneira simples e eficiente.\n",
        "\n",
        "Como os dados são a matéria prima de todo projeto de Data Science, manipulá-los é fundamental! Por isso, utilizaremos o Pandas em quase todas as aulas daqui pra frente!"
      ]
    },
    {
      "cell_type": "markdown",
      "metadata": {
        "id": "ayqNQpd0iODA"
      },
      "source": [
        "____\n",
        "[Guia do pandas](https://pandas.pydata.org/docs/user_guide/index.html#user-guide)"
      ]
    },
    {
      "cell_type": "markdown",
      "metadata": {
        "id": "6j0mhZICiPfv"
      },
      "source": [
        "____\n",
        "Nesta primeira aula, avaliaremos:\n",
        "- O que são Séries e DataFrames;\n",
        "- Alguns dos principais métodos para operar com Séries;\n",
        "- Leitura e gravação de conjuntos de dados com pandas."
      ]
    },
    {
      "cell_type": "markdown",
      "metadata": {
        "id": "v8MpbH8IiSNA"
      },
      "source": [
        "____\n",
        "\n",
        "## Problemática\n",
        "\n",
        "Imagina que você queira ler um arquivo csv e transformá-lo em um arquivo xlsx.\n",
        "\n",
        "O que você faria?"
      ]
    },
    {
      "cell_type": "code",
      "execution_count": 1,
      "metadata": {
        "id": "eadtLiio8fED"
      },
      "outputs": [],
      "source": [
        "#Importando a biblioteca pandas\n",
        "import pandas as pd"
      ]
    },
    {
      "cell_type": "code",
      "execution_count": 3,
      "metadata": {
        "id": "VI_ZDHkNjjZt"
      },
      "outputs": [],
      "source": [
        "# Lendo um arquivo CSV e criando um DataFrame\n",
        "dados = pd.read_csv('../datasets/titanic_completa_oficial.csv')"
      ]
    },
    {
      "cell_type": "code",
      "execution_count": 6,
      "metadata": {},
      "outputs": [
        {
          "data": {
            "text/html": [
              "<div>\n",
              "<style scoped>\n",
              "    .dataframe tbody tr th:only-of-type {\n",
              "        vertical-align: middle;\n",
              "    }\n",
              "\n",
              "    .dataframe tbody tr th {\n",
              "        vertical-align: top;\n",
              "    }\n",
              "\n",
              "    .dataframe thead th {\n",
              "        text-align: right;\n",
              "    }\n",
              "</style>\n",
              "<table border=\"1\" class=\"dataframe\">\n",
              "  <thead>\n",
              "    <tr style=\"text-align: right;\">\n",
              "      <th></th>\n",
              "      <th>pclass</th>\n",
              "      <th>survived</th>\n",
              "      <th>name</th>\n",
              "      <th>sex</th>\n",
              "      <th>age</th>\n",
              "      <th>sibsp</th>\n",
              "      <th>parch</th>\n",
              "      <th>ticket</th>\n",
              "      <th>fare</th>\n",
              "      <th>cabin</th>\n",
              "      <th>embarked</th>\n",
              "      <th>boat</th>\n",
              "      <th>body</th>\n",
              "      <th>home.dest</th>\n",
              "    </tr>\n",
              "  </thead>\n",
              "  <tbody>\n",
              "    <tr>\n",
              "      <th>0</th>\n",
              "      <td>1</td>\n",
              "      <td>1</td>\n",
              "      <td>Allen, Miss. Elisabeth Walton</td>\n",
              "      <td>female</td>\n",
              "      <td>29</td>\n",
              "      <td>0</td>\n",
              "      <td>0</td>\n",
              "      <td>24160</td>\n",
              "      <td>211.3375</td>\n",
              "      <td>B5</td>\n",
              "      <td>S</td>\n",
              "      <td>2</td>\n",
              "      <td>?</td>\n",
              "      <td>St Louis, MO</td>\n",
              "    </tr>\n",
              "    <tr>\n",
              "      <th>1</th>\n",
              "      <td>1</td>\n",
              "      <td>1</td>\n",
              "      <td>Allison, Master. Hudson Trevor</td>\n",
              "      <td>male</td>\n",
              "      <td>0.9167</td>\n",
              "      <td>1</td>\n",
              "      <td>2</td>\n",
              "      <td>113781</td>\n",
              "      <td>151.55</td>\n",
              "      <td>C22 C26</td>\n",
              "      <td>S</td>\n",
              "      <td>11</td>\n",
              "      <td>?</td>\n",
              "      <td>Montreal, PQ / Chesterville, ON</td>\n",
              "    </tr>\n",
              "    <tr>\n",
              "      <th>2</th>\n",
              "      <td>1</td>\n",
              "      <td>0</td>\n",
              "      <td>Allison, Miss. Helen Loraine</td>\n",
              "      <td>female</td>\n",
              "      <td>2</td>\n",
              "      <td>1</td>\n",
              "      <td>2</td>\n",
              "      <td>113781</td>\n",
              "      <td>151.55</td>\n",
              "      <td>C22 C26</td>\n",
              "      <td>S</td>\n",
              "      <td>?</td>\n",
              "      <td>?</td>\n",
              "      <td>Montreal, PQ / Chesterville, ON</td>\n",
              "    </tr>\n",
              "    <tr>\n",
              "      <th>3</th>\n",
              "      <td>1</td>\n",
              "      <td>0</td>\n",
              "      <td>Allison, Mr. Hudson Joshua Creighton</td>\n",
              "      <td>male</td>\n",
              "      <td>30</td>\n",
              "      <td>1</td>\n",
              "      <td>2</td>\n",
              "      <td>113781</td>\n",
              "      <td>151.55</td>\n",
              "      <td>C22 C26</td>\n",
              "      <td>S</td>\n",
              "      <td>?</td>\n",
              "      <td>135</td>\n",
              "      <td>Montreal, PQ / Chesterville, ON</td>\n",
              "    </tr>\n",
              "    <tr>\n",
              "      <th>4</th>\n",
              "      <td>1</td>\n",
              "      <td>0</td>\n",
              "      <td>Allison, Mrs. Hudson J C (Bessie Waldo Daniels)</td>\n",
              "      <td>female</td>\n",
              "      <td>25</td>\n",
              "      <td>1</td>\n",
              "      <td>2</td>\n",
              "      <td>113781</td>\n",
              "      <td>151.55</td>\n",
              "      <td>C22 C26</td>\n",
              "      <td>S</td>\n",
              "      <td>?</td>\n",
              "      <td>?</td>\n",
              "      <td>Montreal, PQ / Chesterville, ON</td>\n",
              "    </tr>\n",
              "    <tr>\n",
              "      <th>...</th>\n",
              "      <td>...</td>\n",
              "      <td>...</td>\n",
              "      <td>...</td>\n",
              "      <td>...</td>\n",
              "      <td>...</td>\n",
              "      <td>...</td>\n",
              "      <td>...</td>\n",
              "      <td>...</td>\n",
              "      <td>...</td>\n",
              "      <td>...</td>\n",
              "      <td>...</td>\n",
              "      <td>...</td>\n",
              "      <td>...</td>\n",
              "      <td>...</td>\n",
              "    </tr>\n",
              "    <tr>\n",
              "      <th>1304</th>\n",
              "      <td>3</td>\n",
              "      <td>0</td>\n",
              "      <td>Zabour, Miss. Hileni</td>\n",
              "      <td>female</td>\n",
              "      <td>14.5</td>\n",
              "      <td>1</td>\n",
              "      <td>0</td>\n",
              "      <td>2665</td>\n",
              "      <td>14.4542</td>\n",
              "      <td>?</td>\n",
              "      <td>C</td>\n",
              "      <td>?</td>\n",
              "      <td>328</td>\n",
              "      <td>?</td>\n",
              "    </tr>\n",
              "    <tr>\n",
              "      <th>1305</th>\n",
              "      <td>3</td>\n",
              "      <td>0</td>\n",
              "      <td>Zabour, Miss. Thamine</td>\n",
              "      <td>female</td>\n",
              "      <td>?</td>\n",
              "      <td>1</td>\n",
              "      <td>0</td>\n",
              "      <td>2665</td>\n",
              "      <td>14.4542</td>\n",
              "      <td>?</td>\n",
              "      <td>C</td>\n",
              "      <td>?</td>\n",
              "      <td>?</td>\n",
              "      <td>?</td>\n",
              "    </tr>\n",
              "    <tr>\n",
              "      <th>1306</th>\n",
              "      <td>3</td>\n",
              "      <td>0</td>\n",
              "      <td>Zakarian, Mr. Mapriededer</td>\n",
              "      <td>male</td>\n",
              "      <td>26.5</td>\n",
              "      <td>0</td>\n",
              "      <td>0</td>\n",
              "      <td>2656</td>\n",
              "      <td>7.225</td>\n",
              "      <td>?</td>\n",
              "      <td>C</td>\n",
              "      <td>?</td>\n",
              "      <td>304</td>\n",
              "      <td>?</td>\n",
              "    </tr>\n",
              "    <tr>\n",
              "      <th>1307</th>\n",
              "      <td>3</td>\n",
              "      <td>0</td>\n",
              "      <td>Zakarian, Mr. Ortin</td>\n",
              "      <td>male</td>\n",
              "      <td>27</td>\n",
              "      <td>0</td>\n",
              "      <td>0</td>\n",
              "      <td>2670</td>\n",
              "      <td>7.225</td>\n",
              "      <td>?</td>\n",
              "      <td>C</td>\n",
              "      <td>?</td>\n",
              "      <td>?</td>\n",
              "      <td>?</td>\n",
              "    </tr>\n",
              "    <tr>\n",
              "      <th>1308</th>\n",
              "      <td>3</td>\n",
              "      <td>0</td>\n",
              "      <td>Zimmerman, Mr. Leo</td>\n",
              "      <td>male</td>\n",
              "      <td>29</td>\n",
              "      <td>0</td>\n",
              "      <td>0</td>\n",
              "      <td>315082</td>\n",
              "      <td>7.875</td>\n",
              "      <td>?</td>\n",
              "      <td>S</td>\n",
              "      <td>?</td>\n",
              "      <td>?</td>\n",
              "      <td>?</td>\n",
              "    </tr>\n",
              "  </tbody>\n",
              "</table>\n",
              "<p>1309 rows × 14 columns</p>\n",
              "</div>"
            ],
            "text/plain": [
              "      pclass  survived                                             name  \\\n",
              "0          1         1                    Allen, Miss. Elisabeth Walton   \n",
              "1          1         1                   Allison, Master. Hudson Trevor   \n",
              "2          1         0                     Allison, Miss. Helen Loraine   \n",
              "3          1         0             Allison, Mr. Hudson Joshua Creighton   \n",
              "4          1         0  Allison, Mrs. Hudson J C (Bessie Waldo Daniels)   \n",
              "...      ...       ...                                              ...   \n",
              "1304       3         0                             Zabour, Miss. Hileni   \n",
              "1305       3         0                            Zabour, Miss. Thamine   \n",
              "1306       3         0                        Zakarian, Mr. Mapriededer   \n",
              "1307       3         0                              Zakarian, Mr. Ortin   \n",
              "1308       3         0                               Zimmerman, Mr. Leo   \n",
              "\n",
              "         sex     age  sibsp  parch  ticket      fare    cabin embarked boat  \\\n",
              "0     female      29      0      0   24160  211.3375       B5        S    2   \n",
              "1       male  0.9167      1      2  113781    151.55  C22 C26        S   11   \n",
              "2     female       2      1      2  113781    151.55  C22 C26        S    ?   \n",
              "3       male      30      1      2  113781    151.55  C22 C26        S    ?   \n",
              "4     female      25      1      2  113781    151.55  C22 C26        S    ?   \n",
              "...      ...     ...    ...    ...     ...       ...      ...      ...  ...   \n",
              "1304  female    14.5      1      0    2665   14.4542        ?        C    ?   \n",
              "1305  female       ?      1      0    2665   14.4542        ?        C    ?   \n",
              "1306    male    26.5      0      0    2656     7.225        ?        C    ?   \n",
              "1307    male      27      0      0    2670     7.225        ?        C    ?   \n",
              "1308    male      29      0      0  315082     7.875        ?        S    ?   \n",
              "\n",
              "     body                        home.dest  \n",
              "0       ?                     St Louis, MO  \n",
              "1       ?  Montreal, PQ / Chesterville, ON  \n",
              "2       ?  Montreal, PQ / Chesterville, ON  \n",
              "3     135  Montreal, PQ / Chesterville, ON  \n",
              "4       ?  Montreal, PQ / Chesterville, ON  \n",
              "...   ...                              ...  \n",
              "1304  328                                ?  \n",
              "1305    ?                                ?  \n",
              "1306  304                                ?  \n",
              "1307    ?                                ?  \n",
              "1308    ?                                ?  \n",
              "\n",
              "[1309 rows x 14 columns]"
            ]
          },
          "execution_count": 6,
          "metadata": {},
          "output_type": "execute_result"
        }
      ],
      "source": [
        "dados"
      ]
    },
    {
      "cell_type": "code",
      "execution_count": 7,
      "metadata": {
        "id": "Xf48iE5ajp8v"
      },
      "outputs": [],
      "source": [
        "# Salvando um DataFrame em um arquivo xlsx\n",
        "# O parâmetro index=False evita a escrita do índice no arquivo\n",
        "dados.to_excel('../datasets/titanic_completa_oficial.xlsx',index=False)"
      ]
    },
    {
      "cell_type": "markdown",
      "metadata": {
        "id": "jVvYWxYlkbTV"
      },
      "source": [
        "**Obs.:** Voltaremos para falar mais das potencialidades do pandas e como trabalhamos com os arquivos no decorrer da aula.\n",
        "___"
      ]
    },
    {
      "cell_type": "markdown",
      "metadata": {
        "id": "KZB7p8ISkuo0"
      },
      "source": [
        "## **Séries**\n",
        "\n",
        "O objeto fundamental do Pandas são as **Series**, uma classe do pandas.\n",
        "\n",
        "As Series são as **colunas das tabelas** (que veremos mais a frente), e por baixo dos panos, os dados ficam armazenados como **numpy arrays**!\n",
        "\n",
        "A diferença é que a série possui um **índice associado**, permitindo o acesso aos conteúdos dessa estrutura por ele, como um dicionário.\n",
        "\n",
        "Além disso, as séries têm métodos específicos além dos que vimos pra arrays, o que será super útil!\n",
        "\n",
        "Podemos criar uma série **a partir de uma lista**, usando a função do pandas `pd.Series()`:"
      ]
    },
    {
      "cell_type": "markdown",
      "metadata": {
        "id": "XjHW0qwuk6Ll"
      },
      "source": [
        "**Vamos avaliar algumas particularidades das pd.Series a seguir.**"
      ]
    },
    {
      "cell_type": "code",
      "execution_count": 8,
      "metadata": {
        "colab": {
          "base_uri": "https://localhost:8080/"
        },
        "id": "_ybR1Avykkjv",
        "outputId": "6e469355-8020-47d4-bbaa-3ac922e82075"
      },
      "outputs": [
        {
          "data": {
            "text/plain": [
              "[4, 6, 3, 7, 25]"
            ]
          },
          "execution_count": 8,
          "metadata": {},
          "output_type": "execute_result"
        }
      ],
      "source": [
        "#Criando uma lista\n",
        "lista = [4,6,3,7,25]\n",
        "lista"
      ]
    },
    {
      "cell_type": "code",
      "execution_count": 9,
      "metadata": {
        "colab": {
          "base_uri": "https://localhost:8080/"
        },
        "id": "Sautm1aVk-UV",
        "outputId": "782b0eed-7e1d-49c7-cb17-9d7d05d539af"
      },
      "outputs": [
        {
          "data": {
            "text/plain": [
              "array([ 4,  6,  3,  7, 25])"
            ]
          },
          "execution_count": 9,
          "metadata": {},
          "output_type": "execute_result"
        }
      ],
      "source": [
        "#Criando um array numpy\n",
        "import numpy as np\n",
        "arr = np.array(lista)\n",
        "arr"
      ]
    },
    {
      "cell_type": "code",
      "execution_count": 10,
      "metadata": {
        "id": "y4Lo7_POlA4i"
      },
      "outputs": [],
      "source": [
        "# Série a partir de uma lista\n",
        "# os índices são automaticamente definidos\n",
        "serie = pd.Series(lista)"
      ]
    },
    {
      "cell_type": "code",
      "execution_count": 11,
      "metadata": {
        "colab": {
          "base_uri": "https://localhost:8080/"
        },
        "id": "5-mDQBvwlDm6",
        "outputId": "3ba9d2cf-2c68-403c-fb8e-0229351ddd91"
      },
      "outputs": [
        {
          "data": {
            "text/plain": [
              "0     4\n",
              "1     6\n",
              "2     3\n",
              "3     7\n",
              "4    25\n",
              "dtype: int64"
            ]
          },
          "execution_count": 11,
          "metadata": {},
          "output_type": "execute_result"
        }
      ],
      "source": [
        "#ver a série\n",
        "serie"
      ]
    },
    {
      "cell_type": "markdown",
      "metadata": {
        "id": "QzRguO5hlG28"
      },
      "source": [
        "Os números à esquerda são os **índices** da série, e, aqueles à direita, são seus **valores**. Podemos também acessá-los separadamente."
      ]
    },
    {
      "cell_type": "code",
      "execution_count": 12,
      "metadata": {
        "colab": {
          "base_uri": "https://localhost:8080/"
        },
        "id": "g5C166zDlEmz",
        "outputId": "b16769e2-f8c5-4f2c-cba0-1d0c2f74bb81"
      },
      "outputs": [
        {
          "data": {
            "text/plain": [
              "4"
            ]
          },
          "execution_count": 12,
          "metadata": {},
          "output_type": "execute_result"
        }
      ],
      "source": [
        "# Acessando os valores\n",
        "serie.values"
      ]
    },
    {
      "cell_type": "code",
      "execution_count": 14,
      "metadata": {
        "colab": {
          "base_uri": "https://localhost:8080/"
        },
        "id": "37IlFa-clI-7",
        "outputId": "daea4bc4-38f6-4ae1-9eb1-4a063728541c"
      },
      "outputs": [
        {
          "data": {
            "text/plain": [
              "RangeIndex(start=0, stop=5, step=1)"
            ]
          },
          "execution_count": 14,
          "metadata": {},
          "output_type": "execute_result"
        }
      ],
      "source": [
        "# Acessando índices\n",
        "serie.index"
      ]
    },
    {
      "cell_type": "code",
      "execution_count": 16,
      "metadata": {
        "colab": {
          "base_uri": "https://localhost:8080/"
        },
        "id": "oDDJTwMqlKNM",
        "outputId": "c8cb578a-f4f9-4f45-c118-e8088710f8c4"
      },
      "outputs": [
        {
          "data": {
            "text/plain": [
              "[0, 1, 2, 3, 4]"
            ]
          },
          "execution_count": 16,
          "metadata": {},
          "output_type": "execute_result"
        }
      ],
      "source": [
        "#Criando com list comprehension\n",
        "[i for i in range(0,5,1)]"
      ]
    },
    {
      "cell_type": "markdown",
      "metadata": {
        "id": "jiXQNebqlP5h"
      },
      "source": [
        "### **Indexação da série**\n",
        "\n",
        "A indexação de uma série com pandas é muito similar à maneira que fazemos com listas e numpy arrays."
      ]
    },
    {
      "cell_type": "code",
      "execution_count": 17,
      "metadata": {
        "colab": {
          "base_uri": "https://localhost:8080/"
        },
        "id": "QqOarNQelNVr",
        "outputId": "62edcb6c-d6fb-4dbc-9e4e-bc047304809e"
      },
      "outputs": [
        {
          "data": {
            "text/plain": [
              "4"
            ]
          },
          "execution_count": 17,
          "metadata": {},
          "output_type": "execute_result"
        }
      ],
      "source": [
        "#Acessando o elemento zero na série\n",
        "serie[0]"
      ]
    },
    {
      "cell_type": "markdown",
      "metadata": {
        "id": "YkKt0MWblZde"
      },
      "source": [
        "Podemos fazer uma analogia da série em pandas com os dicionários do Python:"
      ]
    },
    {
      "cell_type": "code",
      "execution_count": 18,
      "metadata": {
        "id": "47MWr_FilVwq"
      },
      "outputs": [],
      "source": [
        "# exemplo de um dicionário\n",
        "dic = {0:10,1:20}"
      ]
    },
    {
      "cell_type": "code",
      "execution_count": 19,
      "metadata": {
        "colab": {
          "base_uri": "https://localhost:8080/"
        },
        "id": "szbCLb_xlbej",
        "outputId": "bcc59649-d98a-4304-b623-43b4a38972b6"
      },
      "outputs": [
        {
          "data": {
            "text/plain": [
              "10"
            ]
          },
          "execution_count": 19,
          "metadata": {},
          "output_type": "execute_result"
        }
      ],
      "source": [
        "# Acessamos o dicionário pelas chaves\n",
        "dic[0]"
      ]
    },
    {
      "cell_type": "code",
      "execution_count": 20,
      "metadata": {
        "colab": {
          "base_uri": "https://localhost:8080/"
        },
        "id": "-UVh_CRBlcmj",
        "outputId": "cbe69caa-57d3-48b5-8b99-43268a5e00f9"
      },
      "outputs": [
        {
          "data": {
            "text/plain": [
              "dict_values([10, 20])"
            ]
          },
          "execution_count": 20,
          "metadata": {},
          "output_type": "execute_result"
        }
      ],
      "source": [
        "# Também podemos acessar os valores, apenas, assim como para as séries\n",
        "dic.values()"
      ]
    },
    {
      "cell_type": "markdown",
      "metadata": {
        "id": "7DkBXO1Klfbd"
      },
      "source": [
        "### **Slicing de séries**\n",
        "\n",
        "Também é feito da maneira como estamos acostumados a trabalhar com listas e numpy arrays."
      ]
    },
    {
      "cell_type": "code",
      "execution_count": 21,
      "metadata": {
        "colab": {
          "base_uri": "https://localhost:8080/"
        },
        "id": "YwhAECcvld3b",
        "outputId": "c06bdf19-7311-425c-d55e-1925ed22d63c"
      },
      "outputs": [
        {
          "data": {
            "text/plain": [
              "2     3\n",
              "3     7\n",
              "4    25\n",
              "dtype: int64"
            ]
          },
          "execution_count": 21,
          "metadata": {},
          "output_type": "execute_result"
        }
      ],
      "source": [
        "# slicing\n",
        "serie[2:]"
      ]
    },
    {
      "cell_type": "markdown",
      "metadata": {
        "id": "68TgeROcllMY"
      },
      "source": [
        "### **Índices**\n",
        "\n",
        "Apesar de termos visto a opção padrão de criação de índices, acima, sequencial, podemos defini-los da maneira que quisermos."
      ]
    },
    {
      "cell_type": "code",
      "execution_count": 22,
      "metadata": {
        "id": "bitru216ljjK"
      },
      "outputs": [],
      "source": [
        "#Criando uma lista\n",
        "lista = [4,6,3,7,25]"
      ]
    },
    {
      "cell_type": "code",
      "execution_count": 23,
      "metadata": {
        "colab": {
          "base_uri": "https://localhost:8080/"
        },
        "id": "yqIrxY6UlrhC",
        "outputId": "82212350-a804-4af5-9f79-06bd8780f164"
      },
      "outputs": [
        {
          "data": {
            "text/plain": [
              "0     4\n",
              "1     6\n",
              "2     3\n",
              "3     7\n",
              "4    25\n",
              "dtype: int64"
            ]
          },
          "execution_count": 23,
          "metadata": {},
          "output_type": "execute_result"
        }
      ],
      "source": [
        "#Criando a série\n",
        "serie = pd.Series(lista)\n",
        "serie"
      ]
    },
    {
      "cell_type": "code",
      "execution_count": 24,
      "metadata": {
        "id": "mR1dlYMElsdy"
      },
      "outputs": [],
      "source": [
        "# vamos usar outros índices quaisquer\n",
        "indices = ['a','b','c','d','e']"
      ]
    },
    {
      "cell_type": "code",
      "execution_count": 25,
      "metadata": {
        "colab": {
          "base_uri": "https://localhost:8080/"
        },
        "id": "OypvRWyNluAD",
        "outputId": "e3dcaba0-0473-434a-ca3d-606d86fbaa43"
      },
      "outputs": [
        {
          "data": {
            "text/plain": [
              "a     4\n",
              "b     6\n",
              "c     3\n",
              "d     7\n",
              "e    25\n",
              "Name: coluna_1, dtype: int64"
            ]
          },
          "execution_count": 25,
          "metadata": {},
          "output_type": "execute_result"
        }
      ],
      "source": [
        "serie = pd.Series(data = lista,\n",
        "                  index = indices,\n",
        "                  name = 'coluna_1')\n",
        "serie"
      ]
    },
    {
      "cell_type": "markdown",
      "metadata": {
        "id": "WLF8T4FWlyPu"
      },
      "source": [
        "**Obs.:** Podemos acessar os valores indexando tanto com o número da posição na série, ou com o próprio índice."
      ]
    },
    {
      "cell_type": "code",
      "execution_count": 26,
      "metadata": {
        "colab": {
          "base_uri": "https://localhost:8080/"
        },
        "id": "yGNml58plvYC",
        "outputId": "761dafa2-ebc3-4293-8928-fc914eb4a05b"
      },
      "outputs": [
        {
          "data": {
            "text/plain": [
              "3"
            ]
          },
          "execution_count": 26,
          "metadata": {},
          "output_type": "execute_result"
        }
      ],
      "source": [
        "serie['c']"
      ]
    },
    {
      "cell_type": "code",
      "execution_count": 27,
      "metadata": {
        "colab": {
          "base_uri": "https://localhost:8080/"
        },
        "id": "0xHXqybRl1cI",
        "outputId": "da67b143-cc02-4649-b8fc-3bfe230f6083"
      },
      "outputs": [
        {
          "data": {
            "text/plain": [
              "3"
            ]
          },
          "execution_count": 27,
          "metadata": {},
          "output_type": "execute_result"
        }
      ],
      "source": [
        "serie[2]"
      ]
    },
    {
      "cell_type": "code",
      "execution_count": 28,
      "metadata": {
        "colab": {
          "base_uri": "https://localhost:8080/"
        },
        "id": "ew6wKy_Gl2T6",
        "outputId": "d8d6d201-790c-441c-e3cc-6d9988e65886"
      },
      "outputs": [
        {
          "data": {
            "text/plain": [
              "c     3\n",
              "d     7\n",
              "e    25\n",
              "Name: coluna_1, dtype: int64"
            ]
          },
          "execution_count": 28,
          "metadata": {},
          "output_type": "execute_result"
        }
      ],
      "source": [
        "# também conseguimos fazer slicing com os índices\n",
        "serie['c':]"
      ]
    },
    {
      "cell_type": "code",
      "execution_count": 29,
      "metadata": {
        "colab": {
          "base_uri": "https://localhost:8080/"
        },
        "id": "kMUeVT1tl5Lb",
        "outputId": "db1827eb-4248-44b4-e507-28661dd295db"
      },
      "outputs": [
        {
          "data": {
            "text/plain": [
              "c    3\n",
              "d    7\n",
              "Name: coluna_1, dtype: int64"
            ]
          },
          "execution_count": 29,
          "metadata": {},
          "output_type": "execute_result"
        }
      ],
      "source": [
        "#Conseguimos pegar (filtrar uma lista de índices)\n",
        "serie[['c','d']]"
      ]
    },
    {
      "cell_type": "markdown",
      "metadata": {
        "id": "n09sdJJ-l_4W"
      },
      "source": [
        "Também conseguimos construir séries a partir de **dicionários**. Neste caso, as **chaves** se tornam os índices da série."
      ]
    },
    {
      "cell_type": "code",
      "execution_count": 30,
      "metadata": {
        "colab": {
          "base_uri": "https://localhost:8080/"
        },
        "id": "A6J5VZqwl-Gq",
        "outputId": "f4c30c81-1eca-4813-8bd6-864ea0a92ec1"
      },
      "outputs": [
        {
          "data": {
            "text/plain": [
              "{'Curso': 'Unimed', 'Turma': 1108}"
            ]
          },
          "execution_count": 30,
          "metadata": {},
          "output_type": "execute_result"
        }
      ],
      "source": [
        "#Criando um dicionário\n",
        "dic = {'Curso':\"Unimed\", 'Turma': 1108}\n",
        "dic"
      ]
    },
    {
      "cell_type": "code",
      "execution_count": 31,
      "metadata": {
        "colab": {
          "base_uri": "https://localhost:8080/"
        },
        "id": "DuRj-o2hmD8C",
        "outputId": "388b5c36-968e-4eb1-8087-464afbba1c4c"
      },
      "outputs": [
        {
          "data": {
            "text/plain": [
              "Curso    Unimed\n",
              "Turma      1108\n",
              "dtype: object"
            ]
          },
          "execution_count": 31,
          "metadata": {},
          "output_type": "execute_result"
        }
      ],
      "source": [
        "# Série a partir de dicionário\n",
        "pd.Series(dic)"
      ]
    },
    {
      "cell_type": "markdown",
      "metadata": {
        "id": "SpAXem_pmOqb"
      },
      "source": [
        "### **Operações com séries**\n",
        "\n",
        "Como são gerados como numpy arrays, de modo semelhante, operações com séries são realizadas elemento a elemento."
      ]
    },
    {
      "cell_type": "code",
      "execution_count": 32,
      "metadata": {
        "colab": {
          "base_uri": "https://localhost:8080/"
        },
        "id": "mbcn1VOBmJIC",
        "outputId": "45f24d59-cf2f-4b4f-bf52-c71088fa6515"
      },
      "outputs": [
        {
          "data": {
            "text/plain": [
              "a     4\n",
              "b     6\n",
              "c     3\n",
              "d     7\n",
              "e    25\n",
              "Name: coluna_1, dtype: int64"
            ]
          },
          "execution_count": 32,
          "metadata": {},
          "output_type": "execute_result"
        }
      ],
      "source": [
        "#Criando uma série de uma lista\n",
        "serie"
      ]
    },
    {
      "cell_type": "code",
      "execution_count": 33,
      "metadata": {
        "colab": {
          "base_uri": "https://localhost:8080/"
        },
        "id": "E3EFup3mmZuy",
        "outputId": "73871c15-6153-4fe0-b379-a5164c146d2e"
      },
      "outputs": [
        {
          "data": {
            "text/plain": [
              "array([ 4,  6,  3,  7, 25])"
            ]
          },
          "execution_count": 33,
          "metadata": {},
          "output_type": "execute_result"
        }
      ],
      "source": [
        "# No caso de arrays\n",
        "arr"
      ]
    },
    {
      "cell_type": "code",
      "execution_count": 34,
      "metadata": {
        "colab": {
          "base_uri": "https://localhost:8080/"
        },
        "id": "qlExkAoymbDB",
        "outputId": "b1b8c478-40f1-4dc5-aed8-cf33d3f43978"
      },
      "outputs": [
        {
          "data": {
            "text/plain": [
              "array([ 9, 11,  8, 12, 30])"
            ]
          },
          "execution_count": 34,
          "metadata": {},
          "output_type": "execute_result"
        }
      ],
      "source": [
        "#Somando o array com 5\n",
        "arr+5"
      ]
    },
    {
      "cell_type": "code",
      "execution_count": 35,
      "metadata": {
        "colab": {
          "base_uri": "https://localhost:8080/"
        },
        "id": "7JgUlUSXmdeB",
        "outputId": "e06b561e-ddb0-4ce3-9b47-6038e7e4597c"
      },
      "outputs": [
        {
          "data": {
            "text/plain": [
              "a     9\n",
              "b    11\n",
              "c     8\n",
              "d    12\n",
              "e    30\n",
              "Name: coluna_1, dtype: int64"
            ]
          },
          "execution_count": 35,
          "metadata": {},
          "output_type": "execute_result"
        }
      ],
      "source": [
        "# Operações aritméticas básicas funcionam elemento a elemento\n",
        "serie+5"
      ]
    },
    {
      "cell_type": "code",
      "execution_count": 36,
      "metadata": {
        "colab": {
          "base_uri": "https://localhost:8080/"
        },
        "id": "zsw7fWvemecq",
        "outputId": "bdbaab02-9e7d-4a11-f39d-f9361a092c04"
      },
      "outputs": [
        {
          "data": {
            "text/plain": [
              "a     20\n",
              "b     30\n",
              "c     15\n",
              "d     35\n",
              "e    125\n",
              "Name: coluna_1, dtype: int64"
            ]
          },
          "execution_count": 36,
          "metadata": {},
          "output_type": "execute_result"
        }
      ],
      "source": [
        "serie*5"
      ]
    },
    {
      "cell_type": "code",
      "execution_count": 37,
      "metadata": {
        "colab": {
          "base_uri": "https://localhost:8080/"
        },
        "id": "wQqVZJ_KmgMT",
        "outputId": "a160a3d5-09a1-4d68-89cc-88722caa5315"
      },
      "outputs": [
        {
          "data": {
            "text/plain": [
              "a    0.8\n",
              "b    1.2\n",
              "c    0.6\n",
              "d    1.4\n",
              "e    5.0\n",
              "Name: coluna_1, dtype: float64"
            ]
          },
          "execution_count": 37,
          "metadata": {},
          "output_type": "execute_result"
        }
      ],
      "source": [
        "serie/5"
      ]
    },
    {
      "cell_type": "code",
      "execution_count": 38,
      "metadata": {
        "colab": {
          "base_uri": "https://localhost:8080/"
        },
        "id": "FPMzU4Xsmg_7",
        "outputId": "e7e4c404-ce91-42df-ed9e-b490fa3b186c"
      },
      "outputs": [
        {
          "data": {
            "text/plain": [
              "a       1024\n",
              "b       7776\n",
              "c        243\n",
              "d      16807\n",
              "e    9765625\n",
              "Name: coluna_1, dtype: int64"
            ]
          },
          "execution_count": 38,
          "metadata": {},
          "output_type": "execute_result"
        }
      ],
      "source": [
        "serie**5"
      ]
    },
    {
      "cell_type": "code",
      "execution_count": 39,
      "metadata": {},
      "outputs": [
        {
          "data": {
            "text/plain": [
              "a     4\n",
              "b     6\n",
              "c     3\n",
              "d     7\n",
              "e    25\n",
              "Name: coluna_1, dtype: int64"
            ]
          },
          "execution_count": 39,
          "metadata": {},
          "output_type": "execute_result"
        }
      ],
      "source": [
        "serie"
      ]
    },
    {
      "cell_type": "code",
      "execution_count": 40,
      "metadata": {
        "colab": {
          "base_uri": "https://localhost:8080/"
        },
        "id": "F759Rwb3midL",
        "outputId": "dc518aed-23d1-4641-d034-4dcf88d57fe3"
      },
      "outputs": [
        {
          "data": {
            "text/plain": [
              "a     True\n",
              "b     True\n",
              "c    False\n",
              "d    False\n",
              "e    False\n",
              "Name: coluna_1, dtype: bool"
            ]
          },
          "execution_count": 40,
          "metadata": {},
          "output_type": "execute_result"
        }
      ],
      "source": [
        "# apenas elementos divisíveis por 2\n",
        "serie % 2 == 0"
      ]
    },
    {
      "cell_type": "code",
      "execution_count": 41,
      "metadata": {
        "colab": {
          "base_uri": "https://localhost:8080/"
        },
        "id": "NFl8HtsOmmIN",
        "outputId": "44244415-deb1-4396-9808-6bb065f7bf06"
      },
      "outputs": [
        {
          "data": {
            "text/plain": [
              "a    4\n",
              "b    6\n",
              "Name: coluna_1, dtype: int64"
            ]
          },
          "execution_count": 41,
          "metadata": {},
          "output_type": "execute_result"
        }
      ],
      "source": [
        "# apenas elementos divisíveis por 2\n",
        "serie[serie % 2 == 0]"
      ]
    },
    {
      "cell_type": "code",
      "execution_count": 42,
      "metadata": {
        "colab": {
          "base_uri": "https://localhost:8080/"
        },
        "id": "bXimzwJCmjvC",
        "outputId": "6d6a62d6-1d6a-4a0d-de4b-3ee2a673eaa8"
      },
      "outputs": [
        {
          "data": {
            "text/plain": [
              "a    False\n",
              "b    False\n",
              "c    False\n",
              "d    False\n",
              "e     True\n",
              "Name: coluna_1, dtype: bool"
            ]
          },
          "execution_count": 42,
          "metadata": {},
          "output_type": "execute_result"
        }
      ],
      "source": [
        "serie > 10"
      ]
    },
    {
      "cell_type": "markdown",
      "metadata": {
        "id": "Ahu8n3eXmsig"
      },
      "source": [
        "Também conseguimos operar entre séries."
      ]
    },
    {
      "cell_type": "code",
      "execution_count": 43,
      "metadata": {
        "id": "VIa4P4xKmlca"
      },
      "outputs": [],
      "source": [
        "lista1 = [4,6,3,7,25]\n",
        "lista2 = [34,42,2,1,-40,2]"
      ]
    },
    {
      "cell_type": "code",
      "execution_count": 44,
      "metadata": {
        "id": "rvDJcp1UmuBy"
      },
      "outputs": [],
      "source": [
        "s1 = pd.Series(lista1)\n",
        "s2 = pd.Series(lista2)"
      ]
    },
    {
      "cell_type": "code",
      "execution_count": 45,
      "metadata": {
        "colab": {
          "base_uri": "https://localhost:8080/"
        },
        "id": "zB6j4Ncjmvep",
        "outputId": "49be954f-c4e2-4e6a-ff9e-7e34b5a41b1b"
      },
      "outputs": [
        {
          "data": {
            "text/plain": [
              "0     4\n",
              "1     6\n",
              "2     3\n",
              "3     7\n",
              "4    25\n",
              "dtype: int64"
            ]
          },
          "execution_count": 45,
          "metadata": {},
          "output_type": "execute_result"
        }
      ],
      "source": [
        "s1"
      ]
    },
    {
      "cell_type": "code",
      "execution_count": 46,
      "metadata": {
        "colab": {
          "base_uri": "https://localhost:8080/"
        },
        "id": "3y_8gHIfmv6p",
        "outputId": "d37eab88-7ccb-4511-9e3e-2f30a8a66610"
      },
      "outputs": [
        {
          "data": {
            "text/plain": [
              "0    34\n",
              "1    42\n",
              "2     2\n",
              "3     1\n",
              "4   -40\n",
              "5     2\n",
              "dtype: int64"
            ]
          },
          "execution_count": 46,
          "metadata": {},
          "output_type": "execute_result"
        }
      ],
      "source": [
        "s2"
      ]
    },
    {
      "cell_type": "code",
      "execution_count": 47,
      "metadata": {
        "colab": {
          "base_uri": "https://localhost:8080/"
        },
        "id": "scCnqqADmwb5",
        "outputId": "e24c9118-3085-470d-b820-aada66d5e0d8"
      },
      "outputs": [],
      "source": [
        "arr2 = np.array(lista2)"
      ]
    },
    {
      "cell_type": "code",
      "execution_count": 48,
      "metadata": {},
      "outputs": [
        {
          "data": {
            "text/plain": [
              "array([ 34,  42,   2,   1, -40,   2])"
            ]
          },
          "execution_count": 48,
          "metadata": {},
          "output_type": "execute_result"
        }
      ],
      "source": [
        "arr2"
      ]
    },
    {
      "cell_type": "code",
      "execution_count": 49,
      "metadata": {},
      "outputs": [
        {
          "ename": "ValueError",
          "evalue": "operands could not be broadcast together with shapes (5,) (6,) ",
          "output_type": "error",
          "traceback": [
            "\u001b[1;31m---------------------------------------------------------------------------\u001b[0m",
            "\u001b[1;31mValueError\u001b[0m                                Traceback (most recent call last)",
            "\u001b[1;32mc:\\Users\\Roma\\Downloads\\ADA_classes\\DS-PY-Data-Science\\DS-PY-004 TÉCNICAS DE PROGRAMAÇÃO I (PY)\\Material do Aluno\\Aula 4\\Aula_04_Pandas_(Parte_1).ipynb Célula 60\u001b[0m line \u001b[0;36m1\n\u001b[1;32m----> <a href='vscode-notebook-cell:/c%3A/Users/Roma/Downloads/ADA_classes/DS-PY-Data-Science/DS-PY-004%20T%C3%89CNICAS%20DE%20PROGRAMA%C3%87%C3%83O%20I%20%28PY%29/Material%20do%20Aluno/Aula%204/Aula_04_Pandas_%28Parte_1%29.ipynb#Y404sZmlsZQ%3D%3D?line=0'>1</a>\u001b[0m arr\u001b[39m+\u001b[39;49marr2\n",
            "\u001b[1;31mValueError\u001b[0m: operands could not be broadcast together with shapes (5,) (6,) "
          ]
        }
      ],
      "source": [
        "arr+arr2"
      ]
    },
    {
      "cell_type": "code",
      "execution_count": 50,
      "metadata": {},
      "outputs": [
        {
          "data": {
            "text/plain": [
              "0    38.0\n",
              "1    48.0\n",
              "2     5.0\n",
              "3     8.0\n",
              "4   -15.0\n",
              "5     NaN\n",
              "dtype: float64"
            ]
          },
          "execution_count": 50,
          "metadata": {},
          "output_type": "execute_result"
        }
      ],
      "source": [
        "s3 = s1+s2\n",
        "s3"
      ]
    },
    {
      "cell_type": "code",
      "execution_count": 51,
      "metadata": {
        "colab": {
          "base_uri": "https://localhost:8080/"
        },
        "id": "qmTHfb5gmyHS",
        "outputId": "a9d443e8-a423-45ba-b446-d71bebf1ef8d"
      },
      "outputs": [
        {
          "data": {
            "text/plain": [
              "0    34\n",
              "1    42\n",
              "2     2\n",
              "4   -40\n",
              "5     2\n",
              "dtype: int64"
            ]
          },
          "execution_count": 51,
          "metadata": {},
          "output_type": "execute_result"
        }
      ],
      "source": [
        "# Usando a condição lógica como indexação\n",
        "s4 = s2[s2 % 2 == 0]\n",
        "s4"
      ]
    },
    {
      "cell_type": "code",
      "execution_count": 52,
      "metadata": {
        "colab": {
          "base_uri": "https://localhost:8080/"
        },
        "id": "aroqwYFMmzsZ",
        "outputId": "0874f194-0f99-4cbe-b9c8-11833d7c9c7b"
      },
      "outputs": [
        {
          "data": {
            "text/plain": [
              "0    34\n",
              "1    42\n",
              "2     2\n",
              "3   -40\n",
              "4     2\n",
              "dtype: int64"
            ]
          },
          "execution_count": 52,
          "metadata": {},
          "output_type": "execute_result"
        }
      ],
      "source": [
        "# Conseguimos \"resetar o index\"\n",
        "s4.reset_index(drop=True)"
      ]
    },
    {
      "cell_type": "markdown",
      "metadata": {
        "id": "JF7qc4-xm4O3"
      },
      "source": [
        "### Dados vazios (NaN)\n",
        "\n",
        "NaN = *not a number*; dado vazio."
      ]
    },
    {
      "cell_type": "code",
      "execution_count": 53,
      "metadata": {
        "colab": {
          "base_uri": "https://localhost:8080/"
        },
        "id": "79QE66sWm1np",
        "outputId": "88a2505f-3327-4e34-de38-225c8d5a634d"
      },
      "outputs": [],
      "source": [
        "np.random.seed(42)\n",
        "a1 = np.random.randint(0,100,5)\n",
        "a2 = np.random.randint(20,100,7)"
      ]
    },
    {
      "cell_type": "code",
      "execution_count": 54,
      "metadata": {
        "id": "YaxpYaZVm-wy"
      },
      "outputs": [
        {
          "data": {
            "text/plain": [
              "array([51, 92, 14, 71, 60])"
            ]
          },
          "execution_count": 54,
          "metadata": {},
          "output_type": "execute_result"
        }
      ],
      "source": [
        "a1"
      ]
    },
    {
      "cell_type": "code",
      "execution_count": 55,
      "metadata": {
        "colab": {
          "base_uri": "https://localhost:8080/"
        },
        "id": "3D-I-RCFnAai",
        "outputId": "916f2d50-6574-45bd-e9ff-35613f8c72d8"
      },
      "outputs": [
        {
          "data": {
            "text/plain": [
              "array([40, 94, 94, 43, 22, 41, 72])"
            ]
          },
          "execution_count": 55,
          "metadata": {},
          "output_type": "execute_result"
        }
      ],
      "source": [
        "a2"
      ]
    },
    {
      "cell_type": "code",
      "execution_count": 56,
      "metadata": {
        "colab": {
          "base_uri": "https://localhost:8080/"
        },
        "id": "FSgXLDlsnBd6",
        "outputId": "cc12ac5a-b5e5-43be-bce4-f012d9be143b"
      },
      "outputs": [],
      "source": [
        "s1 = pd.Series(a1)\n",
        "s2 = pd.Series(a2)"
      ]
    },
    {
      "cell_type": "code",
      "execution_count": 57,
      "metadata": {
        "colab": {
          "base_uri": "https://localhost:8080/",
          "height": 181
        },
        "id": "hT5e3jaHnB9D",
        "outputId": "d1d4828b-a159-4258-a155-402dbe95b12b"
      },
      "outputs": [
        {
          "ename": "ValueError",
          "evalue": "operands could not be broadcast together with shapes (5,) (7,) ",
          "output_type": "error",
          "traceback": [
            "\u001b[1;31m---------------------------------------------------------------------------\u001b[0m",
            "\u001b[1;31mValueError\u001b[0m                                Traceback (most recent call last)",
            "\u001b[1;32mc:\\Users\\Roma\\Downloads\\ADA_classes\\DS-PY-Data-Science\\DS-PY-004 TÉCNICAS DE PROGRAMAÇÃO I (PY)\\Material do Aluno\\Aula 4\\Aula_04_Pandas_(Parte_1).ipynb Célula 69\u001b[0m line \u001b[0;36m2\n\u001b[0;32m      <a href='vscode-notebook-cell:/c%3A/Users/Roma/Downloads/ADA_classes/DS-PY-Data-Science/DS-PY-004%20T%C3%89CNICAS%20DE%20PROGRAMA%C3%87%C3%83O%20I%20%28PY%29/Material%20do%20Aluno/Aula%204/Aula_04_Pandas_%28Parte_1%29.ipynb#Y120sZmlsZQ%3D%3D?line=0'>1</a>\u001b[0m \u001b[39m#Somando os arrays\u001b[39;00m\n\u001b[1;32m----> <a href='vscode-notebook-cell:/c%3A/Users/Roma/Downloads/ADA_classes/DS-PY-Data-Science/DS-PY-004%20T%C3%89CNICAS%20DE%20PROGRAMA%C3%87%C3%83O%20I%20%28PY%29/Material%20do%20Aluno/Aula%204/Aula_04_Pandas_%28Parte_1%29.ipynb#Y120sZmlsZQ%3D%3D?line=1'>2</a>\u001b[0m a1\u001b[39m+\u001b[39;49ma2\n",
            "\u001b[1;31mValueError\u001b[0m: operands could not be broadcast together with shapes (5,) (7,) "
          ]
        }
      ],
      "source": [
        "#Somando os arrays\n",
        "a1+a2"
      ]
    },
    {
      "cell_type": "code",
      "execution_count": 58,
      "metadata": {
        "colab": {
          "base_uri": "https://localhost:8080/"
        },
        "id": "hMgkAZ35nDV_",
        "outputId": "debde501-de3d-49b9-afc8-95b2fcd9a261"
      },
      "outputs": [
        {
          "data": {
            "text/plain": [
              "0     91.0\n",
              "1    186.0\n",
              "2    108.0\n",
              "3    114.0\n",
              "4     82.0\n",
              "5      NaN\n",
              "6      NaN\n",
              "dtype: float64"
            ]
          },
          "execution_count": 58,
          "metadata": {},
          "output_type": "execute_result"
        }
      ],
      "source": [
        "#Somando as séries\n",
        "s1+s2"
      ]
    },
    {
      "cell_type": "code",
      "execution_count": 59,
      "metadata": {
        "colab": {
          "base_uri": "https://localhost:8080/"
        },
        "id": "4v5huEIQnKni",
        "outputId": "30071c7f-f2f3-40be-b63d-1c955c4b2d4c"
      },
      "outputs": [
        {
          "data": {
            "text/plain": [
              "0     91.0\n",
              "1    186.0\n",
              "2    108.0\n",
              "3    114.0\n",
              "4     82.0\n",
              "5     41.0\n",
              "6     72.0\n",
              "dtype: float64"
            ]
          },
          "execution_count": 59,
          "metadata": {},
          "output_type": "execute_result"
        }
      ],
      "source": [
        "# opção para preencher valores nulos: fill_value\n",
        "# preenche com 0, porque 0 é o elemento neutro da soma\n",
        "# outra maneira de somar\n",
        "s1.add(s2,fill_value=0)"
      ]
    },
    {
      "cell_type": "code",
      "execution_count": 60,
      "metadata": {
        "colab": {
          "base_uri": "https://localhost:8080/"
        },
        "id": "kNMSrW6FnSdi",
        "outputId": "30c4d51c-834f-4650-86ff-a40201340975"
      },
      "outputs": [
        {
          "data": {
            "text/plain": [
              "0    2040.0\n",
              "1    8648.0\n",
              "2    1316.0\n",
              "3    3053.0\n",
              "4    1320.0\n",
              "5       NaN\n",
              "6       NaN\n",
              "dtype: float64"
            ]
          },
          "execution_count": 60,
          "metadata": {},
          "output_type": "execute_result"
        }
      ],
      "source": [
        "s1*s2"
      ]
    },
    {
      "cell_type": "code",
      "execution_count": 62,
      "metadata": {
        "colab": {
          "base_uri": "https://localhost:8080/"
        },
        "id": "8QXbC9Y-nUIC",
        "outputId": "22c3354b-18b2-488b-f010-6448aa3e8f71"
      },
      "outputs": [
        {
          "data": {
            "text/plain": [
              "0    2040.0\n",
              "1    8648.0\n",
              "2    1316.0\n",
              "3    3053.0\n",
              "4    1320.0\n",
              "5      41.0\n",
              "6      72.0\n",
              "dtype: float64"
            ]
          },
          "execution_count": 62,
          "metadata": {},
          "output_type": "execute_result"
        }
      ],
      "source": [
        "# elemento neutro é 1\n",
        "s1.multiply(s2,fill_value=1)"
      ]
    },
    {
      "cell_type": "markdown",
      "metadata": {
        "id": "aH7h9gQQnaSr"
      },
      "source": [
        "E com dados de formatos diferentes?"
      ]
    },
    {
      "cell_type": "code",
      "execution_count": 63,
      "metadata": {
        "id": "2b58UfcgnVkh"
      },
      "outputs": [],
      "source": [
        "s_texto = pd.Series(['a','b','c'])\n",
        "s_numero = pd.Series([1,2,3])"
      ]
    },
    {
      "cell_type": "code",
      "execution_count": 64,
      "metadata": {
        "colab": {
          "base_uri": "https://localhost:8080/"
        },
        "id": "Qs-cwYRlnb57",
        "outputId": "01e884cd-f7e9-4b26-9373-b9b43b514a76"
      },
      "outputs": [
        {
          "data": {
            "text/plain": [
              "0    a\n",
              "1    b\n",
              "2    c\n",
              "dtype: object"
            ]
          },
          "execution_count": 64,
          "metadata": {},
          "output_type": "execute_result"
        }
      ],
      "source": [
        "s_texto"
      ]
    },
    {
      "cell_type": "code",
      "execution_count": 65,
      "metadata": {
        "colab": {
          "base_uri": "https://localhost:8080/"
        },
        "id": "BeQoPn-jndO6",
        "outputId": "16cb1749-e57f-440d-b32a-3c47ce1e21d6"
      },
      "outputs": [
        {
          "data": {
            "text/plain": [
              "0    1\n",
              "1    2\n",
              "2    3\n",
              "dtype: int64"
            ]
          },
          "execution_count": 65,
          "metadata": {},
          "output_type": "execute_result"
        }
      ],
      "source": [
        "s_numero"
      ]
    },
    {
      "cell_type": "code",
      "execution_count": 66,
      "metadata": {
        "colab": {
          "base_uri": "https://localhost:8080/"
        },
        "id": "VtxqxulWneNi",
        "outputId": "c1d84fea-b3e9-46ec-a1f6-413f72a9784f"
      },
      "outputs": [
        {
          "name": "stdout",
          "output_type": "stream",
          "text": [
            "a\n",
            "bb\n",
            "ccc\n"
          ]
        }
      ],
      "source": [
        "# Com strings\n",
        "print('a'*1)\n",
        "print('b'*2)\n",
        "print('c'*3)"
      ]
    },
    {
      "cell_type": "code",
      "execution_count": 67,
      "metadata": {
        "colab": {
          "base_uri": "https://localhost:8080/"
        },
        "id": "fnN8uqQvnfg6",
        "outputId": "afcfb581-6c14-43a4-828f-9c30f9006300"
      },
      "outputs": [
        {
          "data": {
            "text/plain": [
              "0      a\n",
              "1     bb\n",
              "2    ccc\n",
              "dtype: object"
            ]
          },
          "execution_count": 67,
          "metadata": {},
          "output_type": "execute_result"
        }
      ],
      "source": [
        "# Mesmo efeito para as séries\n",
        "s_texto*s_numero"
      ]
    },
    {
      "cell_type": "code",
      "execution_count": 68,
      "metadata": {
        "colab": {
          "base_uri": "https://localhost:8080/",
          "height": 200
        },
        "id": "QZ2Juir3ng36",
        "outputId": "9016a04b-e088-40a7-95ff-6bf1ef650102"
      },
      "outputs": [
        {
          "ename": "TypeError",
          "evalue": "can only concatenate str (not \"int\") to str",
          "output_type": "error",
          "traceback": [
            "\u001b[1;31m---------------------------------------------------------------------------\u001b[0m",
            "\u001b[1;31mTypeError\u001b[0m                                 Traceback (most recent call last)",
            "\u001b[1;32mc:\\Users\\Roma\\Downloads\\ADA_classes\\DS-PY-Data-Science\\DS-PY-004 TÉCNICAS DE PROGRAMAÇÃO I (PY)\\Material do Aluno\\Aula 4\\Aula_04_Pandas_(Parte_1).ipynb Célula 80\u001b[0m line \u001b[0;36m2\n\u001b[0;32m      <a href='vscode-notebook-cell:/c%3A/Users/Roma/Downloads/ADA_classes/DS-PY-Data-Science/DS-PY-004%20T%C3%89CNICAS%20DE%20PROGRAMA%C3%87%C3%83O%20I%20%28PY%29/Material%20do%20Aluno/Aula%204/Aula_04_Pandas_%28Parte_1%29.ipynb#Y134sZmlsZQ%3D%3D?line=0'>1</a>\u001b[0m \u001b[39m# Strings\u001b[39;00m\n\u001b[1;32m----> <a href='vscode-notebook-cell:/c%3A/Users/Roma/Downloads/ADA_classes/DS-PY-Data-Science/DS-PY-004%20T%C3%89CNICAS%20DE%20PROGRAMA%C3%87%C3%83O%20I%20%28PY%29/Material%20do%20Aluno/Aula%204/Aula_04_Pandas_%28Parte_1%29.ipynb#Y134sZmlsZQ%3D%3D?line=1'>2</a>\u001b[0m \u001b[39m'\u001b[39;49m\u001b[39ma\u001b[39;49m\u001b[39m'\u001b[39;49m\u001b[39m+\u001b[39;49m\u001b[39m1\u001b[39;49m\n",
            "\u001b[1;31mTypeError\u001b[0m: can only concatenate str (not \"int\") to str"
          ]
        }
      ],
      "source": [
        "# Strings\n",
        "'a'+1"
      ]
    },
    {
      "cell_type": "code",
      "execution_count": 69,
      "metadata": {
        "colab": {
          "base_uri": "https://localhost:8080/",
          "height": 461
        },
        "id": "y761shBOniqa",
        "outputId": "3f3db8f4-0850-4b21-8532-8cb231e36002"
      },
      "outputs": [
        {
          "ename": "TypeError",
          "evalue": "can only concatenate str (not \"int\") to str",
          "output_type": "error",
          "traceback": [
            "\u001b[1;31m---------------------------------------------------------------------------\u001b[0m",
            "\u001b[1;31mTypeError\u001b[0m                                 Traceback (most recent call last)",
            "File \u001b[1;32mc:\\Users\\Roma\\AppData\\Local\\Programs\\Python\\Python311\\Lib\\site-packages\\pandas\\core\\ops\\array_ops.py:171\u001b[0m, in \u001b[0;36m_na_arithmetic_op\u001b[1;34m(left, right, op, is_cmp)\u001b[0m\n\u001b[0;32m    170\u001b[0m \u001b[39mtry\u001b[39;00m:\n\u001b[1;32m--> 171\u001b[0m     result \u001b[39m=\u001b[39m func(left, right)\n\u001b[0;32m    172\u001b[0m \u001b[39mexcept\u001b[39;00m \u001b[39mTypeError\u001b[39;00m:\n",
            "File \u001b[1;32mc:\\Users\\Roma\\AppData\\Local\\Programs\\Python\\Python311\\Lib\\site-packages\\pandas\\core\\computation\\expressions.py:239\u001b[0m, in \u001b[0;36mevaluate\u001b[1;34m(op, a, b, use_numexpr)\u001b[0m\n\u001b[0;32m    237\u001b[0m     \u001b[39mif\u001b[39;00m use_numexpr:\n\u001b[0;32m    238\u001b[0m         \u001b[39m# error: \"None\" not callable\u001b[39;00m\n\u001b[1;32m--> 239\u001b[0m         \u001b[39mreturn\u001b[39;00m _evaluate(op, op_str, a, b)  \u001b[39m# type: ignore[misc]\u001b[39;00m\n\u001b[0;32m    240\u001b[0m \u001b[39mreturn\u001b[39;00m _evaluate_standard(op, op_str, a, b)\n",
            "File \u001b[1;32mc:\\Users\\Roma\\AppData\\Local\\Programs\\Python\\Python311\\Lib\\site-packages\\pandas\\core\\computation\\expressions.py:70\u001b[0m, in \u001b[0;36m_evaluate_standard\u001b[1;34m(op, op_str, a, b)\u001b[0m\n\u001b[0;32m     69\u001b[0m     _store_test_result(\u001b[39mFalse\u001b[39;00m)\n\u001b[1;32m---> 70\u001b[0m \u001b[39mreturn\u001b[39;00m op(a, b)\n",
            "\u001b[1;31mTypeError\u001b[0m: can only concatenate str (not \"int\") to str",
            "\nDuring handling of the above exception, another exception occurred:\n",
            "\u001b[1;31mTypeError\u001b[0m                                 Traceback (most recent call last)",
            "\u001b[1;32mc:\\Users\\Roma\\Downloads\\ADA_classes\\DS-PY-Data-Science\\DS-PY-004 TÉCNICAS DE PROGRAMAÇÃO I (PY)\\Material do Aluno\\Aula 4\\Aula_04_Pandas_(Parte_1).ipynb Célula 81\u001b[0m line \u001b[0;36m2\n\u001b[0;32m      <a href='vscode-notebook-cell:/c%3A/Users/Roma/Downloads/ADA_classes/DS-PY-Data-Science/DS-PY-004%20T%C3%89CNICAS%20DE%20PROGRAMA%C3%87%C3%83O%20I%20%28PY%29/Material%20do%20Aluno/Aula%204/Aula_04_Pandas_%28Parte_1%29.ipynb#Y135sZmlsZQ%3D%3D?line=0'>1</a>\u001b[0m \u001b[39m# Séries\u001b[39;00m\n\u001b[1;32m----> <a href='vscode-notebook-cell:/c%3A/Users/Roma/Downloads/ADA_classes/DS-PY-Data-Science/DS-PY-004%20T%C3%89CNICAS%20DE%20PROGRAMA%C3%87%C3%83O%20I%20%28PY%29/Material%20do%20Aluno/Aula%204/Aula_04_Pandas_%28Parte_1%29.ipynb#Y135sZmlsZQ%3D%3D?line=1'>2</a>\u001b[0m s_texto\u001b[39m+\u001b[39;49ms_numero\n",
            "File \u001b[1;32mc:\\Users\\Roma\\AppData\\Local\\Programs\\Python\\Python311\\Lib\\site-packages\\pandas\\core\\ops\\common.py:81\u001b[0m, in \u001b[0;36m_unpack_zerodim_and_defer.<locals>.new_method\u001b[1;34m(self, other)\u001b[0m\n\u001b[0;32m     77\u001b[0m             \u001b[39mreturn\u001b[39;00m \u001b[39mNotImplemented\u001b[39m\n\u001b[0;32m     79\u001b[0m other \u001b[39m=\u001b[39m item_from_zerodim(other)\n\u001b[1;32m---> 81\u001b[0m \u001b[39mreturn\u001b[39;00m method(\u001b[39mself\u001b[39;49m, other)\n",
            "File \u001b[1;32mc:\\Users\\Roma\\AppData\\Local\\Programs\\Python\\Python311\\Lib\\site-packages\\pandas\\core\\arraylike.py:186\u001b[0m, in \u001b[0;36mOpsMixin.__add__\u001b[1;34m(self, other)\u001b[0m\n\u001b[0;32m     98\u001b[0m \u001b[39m@unpack_zerodim_and_defer\u001b[39m(\u001b[39m\"\u001b[39m\u001b[39m__add__\u001b[39m\u001b[39m\"\u001b[39m)\n\u001b[0;32m     99\u001b[0m \u001b[39mdef\u001b[39;00m \u001b[39m__add__\u001b[39m(\u001b[39mself\u001b[39m, other):\n\u001b[0;32m    100\u001b[0m \u001b[39m    \u001b[39m\u001b[39m\"\"\"\u001b[39;00m\n\u001b[0;32m    101\u001b[0m \u001b[39m    Get Addition of DataFrame and other, column-wise.\u001b[39;00m\n\u001b[0;32m    102\u001b[0m \n\u001b[1;32m   (...)\u001b[0m\n\u001b[0;32m    184\u001b[0m \u001b[39m    moose     3.0     NaN\u001b[39;00m\n\u001b[0;32m    185\u001b[0m \u001b[39m    \"\"\"\u001b[39;00m\n\u001b[1;32m--> 186\u001b[0m     \u001b[39mreturn\u001b[39;00m \u001b[39mself\u001b[39;49m\u001b[39m.\u001b[39;49m_arith_method(other, operator\u001b[39m.\u001b[39;49madd)\n",
            "File \u001b[1;32mc:\\Users\\Roma\\AppData\\Local\\Programs\\Python\\Python311\\Lib\\site-packages\\pandas\\core\\series.py:6112\u001b[0m, in \u001b[0;36mSeries._arith_method\u001b[1;34m(self, other, op)\u001b[0m\n\u001b[0;32m   6110\u001b[0m \u001b[39mdef\u001b[39;00m \u001b[39m_arith_method\u001b[39m(\u001b[39mself\u001b[39m, other, op):\n\u001b[0;32m   6111\u001b[0m     \u001b[39mself\u001b[39m, other \u001b[39m=\u001b[39m ops\u001b[39m.\u001b[39malign_method_SERIES(\u001b[39mself\u001b[39m, other)\n\u001b[1;32m-> 6112\u001b[0m     \u001b[39mreturn\u001b[39;00m base\u001b[39m.\u001b[39;49mIndexOpsMixin\u001b[39m.\u001b[39;49m_arith_method(\u001b[39mself\u001b[39;49m, other, op)\n",
            "File \u001b[1;32mc:\\Users\\Roma\\AppData\\Local\\Programs\\Python\\Python311\\Lib\\site-packages\\pandas\\core\\base.py:1348\u001b[0m, in \u001b[0;36mIndexOpsMixin._arith_method\u001b[1;34m(self, other, op)\u001b[0m\n\u001b[0;32m   1345\u001b[0m rvalues \u001b[39m=\u001b[39m ensure_wrapped_if_datetimelike(rvalues)\n\u001b[0;32m   1347\u001b[0m \u001b[39mwith\u001b[39;00m np\u001b[39m.\u001b[39merrstate(\u001b[39mall\u001b[39m\u001b[39m=\u001b[39m\u001b[39m\"\u001b[39m\u001b[39mignore\u001b[39m\u001b[39m\"\u001b[39m):\n\u001b[1;32m-> 1348\u001b[0m     result \u001b[39m=\u001b[39m ops\u001b[39m.\u001b[39;49marithmetic_op(lvalues, rvalues, op)\n\u001b[0;32m   1350\u001b[0m \u001b[39mreturn\u001b[39;00m \u001b[39mself\u001b[39m\u001b[39m.\u001b[39m_construct_result(result, name\u001b[39m=\u001b[39mres_name)\n",
            "File \u001b[1;32mc:\\Users\\Roma\\AppData\\Local\\Programs\\Python\\Python311\\Lib\\site-packages\\pandas\\core\\ops\\array_ops.py:232\u001b[0m, in \u001b[0;36marithmetic_op\u001b[1;34m(left, right, op)\u001b[0m\n\u001b[0;32m    228\u001b[0m     _bool_arith_check(op, left, right)\n\u001b[0;32m    230\u001b[0m     \u001b[39m# error: Argument 1 to \"_na_arithmetic_op\" has incompatible type\u001b[39;00m\n\u001b[0;32m    231\u001b[0m     \u001b[39m# \"Union[ExtensionArray, ndarray[Any, Any]]\"; expected \"ndarray[Any, Any]\"\u001b[39;00m\n\u001b[1;32m--> 232\u001b[0m     res_values \u001b[39m=\u001b[39m _na_arithmetic_op(left, right, op)  \u001b[39m# type: ignore[arg-type]\u001b[39;00m\n\u001b[0;32m    234\u001b[0m \u001b[39mreturn\u001b[39;00m res_values\n",
            "File \u001b[1;32mc:\\Users\\Roma\\AppData\\Local\\Programs\\Python\\Python311\\Lib\\site-packages\\pandas\\core\\ops\\array_ops.py:178\u001b[0m, in \u001b[0;36m_na_arithmetic_op\u001b[1;34m(left, right, op, is_cmp)\u001b[0m\n\u001b[0;32m    172\u001b[0m \u001b[39mexcept\u001b[39;00m \u001b[39mTypeError\u001b[39;00m:\n\u001b[0;32m    173\u001b[0m     \u001b[39mif\u001b[39;00m \u001b[39mnot\u001b[39;00m is_cmp \u001b[39mand\u001b[39;00m (is_object_dtype(left\u001b[39m.\u001b[39mdtype) \u001b[39mor\u001b[39;00m is_object_dtype(right)):\n\u001b[0;32m    174\u001b[0m         \u001b[39m# For object dtype, fallback to a masked operation (only operating\u001b[39;00m\n\u001b[0;32m    175\u001b[0m         \u001b[39m#  on the non-missing values)\u001b[39;00m\n\u001b[0;32m    176\u001b[0m         \u001b[39m# Don't do this for comparisons, as that will handle complex numbers\u001b[39;00m\n\u001b[0;32m    177\u001b[0m         \u001b[39m#  incorrectly, see GH#32047\u001b[39;00m\n\u001b[1;32m--> 178\u001b[0m         result \u001b[39m=\u001b[39m _masked_arith_op(left, right, op)\n\u001b[0;32m    179\u001b[0m     \u001b[39melse\u001b[39;00m:\n\u001b[0;32m    180\u001b[0m         \u001b[39mraise\u001b[39;00m\n",
            "File \u001b[1;32mc:\\Users\\Roma\\AppData\\Local\\Programs\\Python\\Python311\\Lib\\site-packages\\pandas\\core\\ops\\array_ops.py:116\u001b[0m, in \u001b[0;36m_masked_arith_op\u001b[1;34m(x, y, op)\u001b[0m\n\u001b[0;32m    114\u001b[0m     \u001b[39m# See GH#5284, GH#5035, GH#19448 for historical reference\u001b[39;00m\n\u001b[0;32m    115\u001b[0m     \u001b[39mif\u001b[39;00m mask\u001b[39m.\u001b[39many():\n\u001b[1;32m--> 116\u001b[0m         result[mask] \u001b[39m=\u001b[39m op(xrav[mask], yrav[mask])\n\u001b[0;32m    118\u001b[0m \u001b[39melse\u001b[39;00m:\n\u001b[0;32m    119\u001b[0m     \u001b[39mif\u001b[39;00m \u001b[39mnot\u001b[39;00m is_scalar(y):\n",
            "\u001b[1;31mTypeError\u001b[0m: can only concatenate str (not \"int\") to str"
          ]
        }
      ],
      "source": [
        "# Séries\n",
        "s_texto+s_numero"
      ]
    },
    {
      "cell_type": "markdown",
      "metadata": {
        "id": "3f1N7hATnl74"
      },
      "source": [
        "### Filtrando séries\n",
        "\n",
        "Filtros de séries seguem a mesma lógica de numpy arrays."
      ]
    },
    {
      "cell_type": "code",
      "execution_count": 70,
      "metadata": {
        "colab": {
          "base_uri": "https://localhost:8080/"
        },
        "id": "vSwGtFE2nj-s",
        "outputId": "45a0ae06-6baf-42ec-aee5-c70babf8883f"
      },
      "outputs": [
        {
          "data": {
            "text/plain": [
              "0    51\n",
              "1    92\n",
              "2    14\n",
              "3    71\n",
              "4    60\n",
              "dtype: int32"
            ]
          },
          "execution_count": 70,
          "metadata": {},
          "output_type": "execute_result"
        }
      ],
      "source": [
        "s1"
      ]
    },
    {
      "cell_type": "code",
      "execution_count": 71,
      "metadata": {
        "colab": {
          "base_uri": "https://localhost:8080/"
        },
        "id": "LCEHrzhKnrgq",
        "outputId": "f16bd0b9-4311-44d0-8553-132246acd1bf"
      },
      "outputs": [
        {
          "data": {
            "text/plain": [
              "0    51\n",
              "1    92\n",
              "3    71\n",
              "4    60\n",
              "dtype: int32"
            ]
          },
          "execution_count": 71,
          "metadata": {},
          "output_type": "execute_result"
        }
      ],
      "source": [
        "# filtro da série: quais são os valores da série que satisfazem uma dada condição?\n",
        "s1[s1>15]"
      ]
    },
    {
      "cell_type": "code",
      "execution_count": 72,
      "metadata": {
        "colab": {
          "base_uri": "https://localhost:8080/"
        },
        "id": "MiEwPwpSntsi",
        "outputId": "7f0238df-99bd-4d36-a652-482fdfa038c8"
      },
      "outputs": [
        {
          "data": {
            "text/plain": [
              "1    92\n",
              "4    60\n",
              "dtype: int32"
            ]
          },
          "execution_count": 72,
          "metadata": {},
          "output_type": "execute_result"
        }
      ],
      "source": [
        "#Usando comparações conjuntas (>15 E par)\n",
        "s1[(s1>15) & (s1 %2 == 0)]"
      ]
    },
    {
      "cell_type": "code",
      "execution_count": 73,
      "metadata": {
        "colab": {
          "base_uri": "https://localhost:8080/"
        },
        "id": "HP9ZCRNSnycq",
        "outputId": "b8c82592-a293-495b-e5d0-28c9ad2478f3"
      },
      "outputs": [
        {
          "data": {
            "text/plain": [
              "0    51\n",
              "1    92\n",
              "2    14\n",
              "3    71\n",
              "4    60\n",
              "dtype: int32"
            ]
          },
          "execution_count": 73,
          "metadata": {},
          "output_type": "execute_result"
        }
      ],
      "source": [
        "#Usando comparações conjuntas (>15 OU par)\n",
        "s1[(s1>15) | (s1 %2 == 0)]"
      ]
    },
    {
      "cell_type": "code",
      "execution_count": 74,
      "metadata": {
        "colab": {
          "base_uri": "https://localhost:8080/"
        },
        "id": "x7y1Jkz5n1Fq",
        "outputId": "e6275e0c-6e01-4cad-990e-a5b76bce81fe"
      },
      "outputs": [
        {
          "data": {
            "text/plain": [
              "0    51\n",
              "3    71\n",
              "dtype: int32"
            ]
          },
          "execution_count": 74,
          "metadata": {},
          "output_type": "execute_result"
        }
      ],
      "source": [
        "#Usando comparações conjuntas (>15 E ímpares)\n",
        "s1[(s1>15) & ~(s1 %2 == 0)]"
      ]
    },
    {
      "cell_type": "code",
      "execution_count": 75,
      "metadata": {
        "colab": {
          "base_uri": "https://localhost:8080/"
        },
        "id": "U8Lrf4-jn5YJ",
        "outputId": "2177c0f1-2a4c-4f48-bf92-3c022afc9973"
      },
      "outputs": [
        {
          "data": {
            "text/plain": [
              "0    51\n",
              "3    71\n",
              "dtype: int32"
            ]
          },
          "execution_count": 75,
          "metadata": {},
          "output_type": "execute_result"
        }
      ],
      "source": [
        "s1[(s1>15) & (s1 %2 != 0)]"
      ]
    },
    {
      "cell_type": "markdown",
      "metadata": {
        "id": "uyrSvA1yn9cO"
      },
      "source": [
        "### **Outros métodos úteis**\n",
        "\n",
        "Temos outros métodos interessantes para trabalharmos com séries."
      ]
    },
    {
      "cell_type": "code",
      "execution_count": 76,
      "metadata": {
        "colab": {
          "base_uri": "https://localhost:8080/"
        },
        "id": "cRvTtU1Vn8x5",
        "outputId": "42c0b2e6-85c8-4c4a-d346-555c36101ad4"
      },
      "outputs": [
        {
          "data": {
            "text/plain": [
              "0     9\n",
              "1     6\n",
              "2     7\n",
              "3     9\n",
              "4     5\n",
              "5     7\n",
              "6     7\n",
              "7     9\n",
              "8     4\n",
              "9     5\n",
              "10    9\n",
              "11    5\n",
              "12    5\n",
              "13    7\n",
              "14    6\n",
              "15    5\n",
              "16    8\n",
              "17    7\n",
              "18    4\n",
              "19    6\n",
              "20    8\n",
              "21    8\n",
              "22    4\n",
              "23    6\n",
              "24    7\n",
              "25    3\n",
              "26    6\n",
              "27    4\n",
              "28    8\n",
              "29    7\n",
              "dtype: int32"
            ]
          },
          "execution_count": 76,
          "metadata": {},
          "output_type": "execute_result"
        }
      ],
      "source": [
        "np.random.seed(42)\n",
        "notas = pd.Series(np.random.randint(3,10,30))\n",
        "notas"
      ]
    },
    {
      "cell_type": "markdown",
      "metadata": {
        "id": "MLxLEqNrowJF"
      },
      "source": [
        "#### **Métodos Básicos:**\n",
        "\n",
        "- head(): Exibe os primeiros elementos;\n",
        "- tail(): Exibe os últimos elementos;\n",
        "- describe(): Fornece estatísticas descritivas (média, desvio-padrão, mínimo, máximo, etc.);\n",
        "- unique: Retorna os valores únicos na Série;\n",
        "- value_counts(): Conta a frequência de cada valor na Series."
      ]
    },
    {
      "cell_type": "code",
      "execution_count": 80,
      "metadata": {
        "colab": {
          "base_uri": "https://localhost:8080/"
        },
        "id": "yCsOs2WppSVq",
        "outputId": "dab49908-930e-4923-d2cd-0d8712ba5dc4"
      },
      "outputs": [
        {
          "data": {
            "text/plain": [
              "0    9\n",
              "1    6\n",
              "2    7\n",
              "3    9\n",
              "4    5\n",
              "dtype: int32"
            ]
          },
          "execution_count": 80,
          "metadata": {},
          "output_type": "execute_result"
        }
      ],
      "source": [
        "#Ver as primeiras 5 linhas\n",
        "notas.head()"
      ]
    },
    {
      "cell_type": "code",
      "execution_count": 83,
      "metadata": {
        "colab": {
          "base_uri": "https://localhost:8080/"
        },
        "id": "a6PG5jjQpUL1",
        "outputId": "8493f744-6e5a-4735-e3f9-993a73ec26ff"
      },
      "outputs": [
        {
          "data": {
            "text/plain": [
              "25    3\n",
              "26    6\n",
              "27    4\n",
              "28    8\n",
              "29    7\n",
              "dtype: int32"
            ]
          },
          "execution_count": 83,
          "metadata": {},
          "output_type": "execute_result"
        }
      ],
      "source": [
        "#Ver as últimas 5 linhas\n",
        "notas.tail()"
      ]
    },
    {
      "cell_type": "code",
      "execution_count": 84,
      "metadata": {
        "colab": {
          "base_uri": "https://localhost:8080/"
        },
        "id": "Yso28WRypbQe",
        "outputId": "86a87617-1f14-4050-d397-d270e54d33d2"
      },
      "outputs": [
        {
          "data": {
            "text/plain": [
              "count    30.000000\n",
              "mean      6.366667\n",
              "std       1.711691\n",
              "min       3.000000\n",
              "25%       5.000000\n",
              "50%       6.500000\n",
              "75%       7.750000\n",
              "max       9.000000\n",
              "dtype: float64"
            ]
          },
          "execution_count": 84,
          "metadata": {},
          "output_type": "execute_result"
        }
      ],
      "source": [
        "#Ver a estatística descritiva da série\n",
        "notas.describe()"
      ]
    },
    {
      "cell_type": "code",
      "execution_count": 85,
      "metadata": {
        "colab": {
          "base_uri": "https://localhost:8080/"
        },
        "id": "fE0XWP3opgTK",
        "outputId": "631ae2ee-3fd5-4698-f259-72cbd014f147"
      },
      "outputs": [
        {
          "data": {
            "text/plain": [
              "array([9, 6, 7, 5, 4, 8, 3])"
            ]
          },
          "execution_count": 85,
          "metadata": {},
          "output_type": "execute_result"
        }
      ],
      "source": [
        "#Ver os valores únicos da série\n",
        "notas.unique()"
      ]
    },
    {
      "cell_type": "code",
      "execution_count": 86,
      "metadata": {
        "colab": {
          "base_uri": "https://localhost:8080/"
        },
        "id": "2m7mEv2qpkCU",
        "outputId": "08b708d5-3954-469f-c819-cb19a6f09873"
      },
      "outputs": [
        {
          "data": {
            "text/plain": [
              "7    7\n",
              "6    5\n",
              "5    5\n",
              "9    4\n",
              "4    4\n",
              "8    4\n",
              "3    1\n",
              "Name: count, dtype: int64"
            ]
          },
          "execution_count": 86,
          "metadata": {},
          "output_type": "execute_result"
        }
      ],
      "source": [
        "#Contar a frequência de cada valor na série\n",
        "notas.value_counts()"
      ]
    },
    {
      "cell_type": "code",
      "execution_count": 87,
      "metadata": {
        "colab": {
          "base_uri": "https://localhost:8080/"
        },
        "id": "mcC1znqerkfK",
        "outputId": "8d06ee2c-01d2-490b-8331-799014398c23"
      },
      "outputs": [
        {
          "data": {
            "text/plain": [
              "7    0.233333\n",
              "6    0.166667\n",
              "5    0.166667\n",
              "9    0.133333\n",
              "4    0.133333\n",
              "8    0.133333\n",
              "3    0.033333\n",
              "Name: count, dtype: float64"
            ]
          },
          "execution_count": 87,
          "metadata": {},
          "output_type": "execute_result"
        }
      ],
      "source": [
        "#Frequência relativa de cada valor\n",
        "notas.value_counts()/notas.size"
      ]
    },
    {
      "cell_type": "code",
      "execution_count": 88,
      "metadata": {
        "colab": {
          "base_uri": "https://localhost:8080/"
        },
        "id": "QmHmZfEUrptB",
        "outputId": "ca5f85bb-7fc4-4bf8-b799-b6bc99314304"
      },
      "outputs": [
        {
          "data": {
            "text/plain": [
              "7    0.233333\n",
              "6    0.166667\n",
              "5    0.166667\n",
              "9    0.133333\n",
              "4    0.133333\n",
              "8    0.133333\n",
              "3    0.033333\n",
              "Name: proportion, dtype: float64"
            ]
          },
          "execution_count": 88,
          "metadata": {},
          "output_type": "execute_result"
        }
      ],
      "source": [
        "#Frequência relativa de cada valor\n",
        "notas.value_counts(normalize=True)"
      ]
    },
    {
      "cell_type": "markdown",
      "metadata": {
        "id": "02rOy-2_p8Ws"
      },
      "source": [
        "#### **Método map:**\n",
        "\n",
        "Aplica uma função ou um mapeamento (um dicionário) a todos os elementos da Series."
      ]
    },
    {
      "cell_type": "code",
      "execution_count": null,
      "metadata": {
        "colab": {
          "base_uri": "https://localhost:8080/"
        },
        "id": "5p2ZdEAeqAhy",
        "outputId": "a14884d6-f63d-44ec-e3d1-1a05c46f4e2d"
      },
      "outputs": [],
      "source": [
        "#Exemplo dizer se uma nota é par ou ímpar\n"
      ]
    },
    {
      "cell_type": "code",
      "execution_count": null,
      "metadata": {
        "colab": {
          "base_uri": "https://localhost:8080/"
        },
        "id": "MMDBQ1nEqLjq",
        "outputId": "a52a6d20-6cec-45e7-8076-8441607c82fe"
      },
      "outputs": [],
      "source": [
        "# Substitui valores de acordo com um dicionário\n"
      ]
    },
    {
      "cell_type": "markdown",
      "metadata": {
        "id": "seRbSbKEoLSD"
      },
      "source": [
        "#### **Método apply:**\n",
        "\n",
        "O método apply() em pandas é uma poderosa função que permite aplicar uma função ao longo de um eixo de um DataFrame ou de uma Series.\n",
        "\n",
        "Ele é extremamente versátil e pode ser usado para executar funções personalizadas, funções do Python embutidas (sum, max, min, len, etc.) e funções lambda."
      ]
    },
    {
      "cell_type": "code",
      "execution_count": null,
      "metadata": {
        "colab": {
          "base_uri": "https://localhost:8080/"
        },
        "id": "cLi_rl3BoGuh",
        "outputId": "999f5bcc-bed6-435e-cb76-15a603e06cb9"
      },
      "outputs": [],
      "source": [
        "#Exemplo dizer se uma nota é par ou ímpar\n"
      ]
    },
    {
      "cell_type": "code",
      "execution_count": null,
      "metadata": {
        "colab": {
          "base_uri": "https://localhost:8080/"
        },
        "id": "D2Y_wcb2oe3B",
        "outputId": "1957c3d0-caf3-4b40-f312-90d71df4d6c0"
      },
      "outputs": [],
      "source": []
    },
    {
      "cell_type": "markdown",
      "metadata": {
        "id": "CdqNUdC6qXmN"
      },
      "source": [
        "#### **sort_values:**\n",
        "\n",
        "Classifica os valores na Series."
      ]
    },
    {
      "cell_type": "code",
      "execution_count": null,
      "metadata": {
        "colab": {
          "base_uri": "https://localhost:8080/"
        },
        "id": "YW-GTXYpohLg",
        "outputId": "db61c80c-d747-4d14-ad40-f513c43c028a"
      },
      "outputs": [],
      "source": []
    },
    {
      "cell_type": "markdown",
      "metadata": {
        "id": "63wxyzcMqgVy"
      },
      "source": [
        "Podemos colocar o ```inplace = True``` para garantir que a mudança foi feita na própria série."
      ]
    },
    {
      "cell_type": "markdown",
      "metadata": {
        "id": "i3fCkB2Vqtep"
      },
      "source": [
        "#### **sort_index:**\n",
        "\n",
        "Classifica pelos índices da Series."
      ]
    },
    {
      "cell_type": "code",
      "execution_count": null,
      "metadata": {
        "colab": {
          "base_uri": "https://localhost:8080/"
        },
        "id": "RUstuvHFqcYI",
        "outputId": "196d06ed-0cec-4624-b71d-4931d8ac3a77"
      },
      "outputs": [],
      "source": []
    },
    {
      "cell_type": "markdown",
      "metadata": {
        "id": "NyZTXuyHq7rE"
      },
      "source": [
        "#### Métodos de Estatística:\n",
        "\n",
        "Existem diferentes métodos, tais como mean(), median(), std(), var(), sum(): Calculam a média, mediana, desvio padrão, variância e soma dos elementos da Series, respectivamente."
      ]
    },
    {
      "cell_type": "code",
      "execution_count": null,
      "metadata": {
        "colab": {
          "base_uri": "https://localhost:8080/"
        },
        "id": "Pm0rb39hq0MY",
        "outputId": "cc332e85-f76e-447f-9b4b-dfdba7c29e02"
      },
      "outputs": [],
      "source": [
        "#Calculando a média das notas\n"
      ]
    },
    {
      "cell_type": "code",
      "execution_count": null,
      "metadata": {
        "colab": {
          "base_uri": "https://localhost:8080/"
        },
        "id": "7igNNtd3rDug",
        "outputId": "cba99229-5740-42a3-b874-1f74f08f6a1f"
      },
      "outputs": [],
      "source": [
        "#Calculando a mediana das notas\n"
      ]
    },
    {
      "cell_type": "code",
      "execution_count": null,
      "metadata": {
        "colab": {
          "base_uri": "https://localhost:8080/"
        },
        "id": "rooZhCjSrF_J",
        "outputId": "b338da23-2000-440b-c49e-870ff7a421a4"
      },
      "outputs": [],
      "source": [
        "#Calculando a moda das notas\n"
      ]
    },
    {
      "cell_type": "code",
      "execution_count": null,
      "metadata": {
        "colab": {
          "base_uri": "https://localhost:8080/"
        },
        "id": "mNmvqWOGrHmZ",
        "outputId": "84b9191e-f48d-4c69-c3c7-b299b66a2956"
      },
      "outputs": [],
      "source": [
        "#Calculando o desvio-padrão das notas\n"
      ]
    },
    {
      "cell_type": "code",
      "execution_count": null,
      "metadata": {
        "colab": {
          "base_uri": "https://localhost:8080/"
        },
        "id": "28V6lOe_rKeI",
        "outputId": "43f7f9c9-051b-4721-ccff-e7983ae9d9c5"
      },
      "outputs": [],
      "source": [
        "#Calculando a variância\n"
      ]
    },
    {
      "cell_type": "code",
      "execution_count": null,
      "metadata": {
        "colab": {
          "base_uri": "https://localhost:8080/"
        },
        "id": "JN0ix83erNYR",
        "outputId": "b2aa2527-1f82-4ac7-b7bf-6a5384032234"
      },
      "outputs": [],
      "source": [
        "#Somando todos os valores\n"
      ]
    },
    {
      "cell_type": "markdown",
      "metadata": {
        "id": "bhtWcnjOr1Ps"
      },
      "source": [
        "Existem também os métodos **idxmax()** e **idxmin()** que retornam o índice onde o valor máximo ou mínimo ocorre na série."
      ]
    },
    {
      "cell_type": "code",
      "execution_count": null,
      "metadata": {
        "colab": {
          "base_uri": "https://localhost:8080/"
        },
        "id": "BVvrLaqorQuh",
        "outputId": "01f8b7df-bbfb-4f02-9026-50f0bfa1ea86"
      },
      "outputs": [],
      "source": []
    },
    {
      "cell_type": "code",
      "execution_count": null,
      "metadata": {
        "colab": {
          "base_uri": "https://localhost:8080/"
        },
        "id": "Rul3aq8TsAgA",
        "outputId": "1402bd90-7bb9-46ac-8ac6-7b63f99bc95f"
      },
      "outputs": [],
      "source": []
    },
    {
      "cell_type": "markdown",
      "metadata": {
        "id": "U7l0HrYpsDlD"
      },
      "source": [
        "Podemos ainda calcular a soma cumulativa **cumsum()** e o produto cumulativo **cumprod()**:"
      ]
    },
    {
      "cell_type": "code",
      "execution_count": null,
      "metadata": {
        "colab": {
          "base_uri": "https://localhost:8080/"
        },
        "id": "93Yg_6iqsCAv",
        "outputId": "858c86ba-b7e3-4639-ee00-3174cca4a2ff"
      },
      "outputs": [],
      "source": []
    },
    {
      "cell_type": "code",
      "execution_count": null,
      "metadata": {
        "colab": {
          "base_uri": "https://localhost:8080/"
        },
        "id": "cX32mqPtsMJI",
        "outputId": "26421fd5-891d-40de-a9c9-a1228e2caca2"
      },
      "outputs": [],
      "source": []
    },
    {
      "cell_type": "markdown",
      "metadata": {
        "id": "6RE-I785t41n"
      },
      "source": [
        "## **DataFrame**\n",
        "\n",
        "Agora que conhecemos as séries, vamos partir pro objeto do Pandas que mais utilizaremos: o **DataFrame**\n",
        "\n",
        "Como veremos a seguir, o DataFrame é uma estrutura que se assemalha a uma **tabela**.\n",
        "\n",
        "Estruturalmente, o DataFrame nada mais é que um **conjunto de Series**, uma para cada coluna (e, claro, com mesmo índice, que irão indexar as linhas)."
      ]
    },
    {
      "cell_type": "markdown",
      "metadata": {
        "id": "JqJuWXiht_rN"
      },
      "source": [
        "Veremos depois como **ler um dataframe a partir de um arquivo** (que é provavelmente a forma mais comum)."
      ]
    },
    {
      "cell_type": "markdown",
      "metadata": {
        "id": "21KL7W-XuBQv"
      },
      "source": [
        "Há muitas formas de construir um DataFrame do zero. Todas elas fazem uso da função **pd.DataFrame()**, como veremos a seguir.\n",
        "\n",
        "Se quisermos especificar os índices de linha, o nome das colunas, e os dados, podemos passá-los separadamente:"
      ]
    },
    {
      "cell_type": "markdown",
      "metadata": {
        "id": "A34biDMfuEiS"
      },
      "source": [
        "**Obs.:** As colunas do dataframes são séries. Assim, tudo que vimos para as séries, se estende individualmente para cada coluna!"
      ]
    },
    {
      "cell_type": "code",
      "execution_count": null,
      "metadata": {
        "colab": {
          "base_uri": "https://localhost:8080/"
        },
        "id": "Ng5aQZ-8sPYY",
        "outputId": "486d531a-efeb-4908-fbe1-f0ab8d6a558a"
      },
      "outputs": [],
      "source": [
        "# Gerando uma matriz (5,3) de números inteiros\n"
      ]
    },
    {
      "cell_type": "code",
      "execution_count": null,
      "metadata": {
        "colab": {
          "base_uri": "https://localhost:8080/",
          "height": 206
        },
        "id": "iNA7FOz9uYGH",
        "outputId": "c55c79cb-b8a6-4ee8-a461-f9e7ebd993bb"
      },
      "outputs": [],
      "source": [
        "#Transformando essa matriz em um DF\n"
      ]
    },
    {
      "cell_type": "code",
      "execution_count": null,
      "metadata": {
        "id": "Dk812cRXubYu"
      },
      "outputs": [],
      "source": [
        "# Conseguimos definir nomes pros índices e colunas\n"
      ]
    },
    {
      "cell_type": "code",
      "execution_count": null,
      "metadata": {
        "colab": {
          "base_uri": "https://localhost:8080/",
          "height": 206
        },
        "id": "lWusnJfrueo-",
        "outputId": "a154e233-6503-4728-95dd-a465f8af6241"
      },
      "outputs": [],
      "source": []
    },
    {
      "cell_type": "markdown",
      "metadata": {
        "id": "9OOrgk03uh_Y"
      },
      "source": [
        "### **Acessando posições do dataframe:**\n",
        "\n",
        "- .loc(): acessamos os rótulos com os **nomes** dos índices e colunas;\n",
        "- .iloc(): acessamos os índices numéricos das colunas e índice."
      ]
    },
    {
      "cell_type": "code",
      "execution_count": null,
      "metadata": {
        "colab": {
          "base_uri": "https://localhost:8080/"
        },
        "id": "lfrlW9_qugP_",
        "outputId": "9888f06a-a333-4867-b136-1f9390373003"
      },
      "outputs": [],
      "source": []
    },
    {
      "cell_type": "code",
      "execution_count": null,
      "metadata": {
        "colab": {
          "base_uri": "https://localhost:8080/"
        },
        "id": "V3I-qbGvwiS1",
        "outputId": "4fcb2bb6-2fd0-4040-d64a-4221ea7c0721"
      },
      "outputs": [],
      "source": []
    },
    {
      "cell_type": "markdown",
      "metadata": {
        "id": "BUeV0OtDwk7s"
      },
      "source": [
        "### **Selecionando colunas específicas:**\n",
        "\n",
        "Podemos selecionar uma coluna específica ou colunas específicas do DF."
      ]
    },
    {
      "cell_type": "code",
      "execution_count": null,
      "metadata": {
        "colab": {
          "base_uri": "https://localhost:8080/"
        },
        "id": "mBJoUzxywjo1",
        "outputId": "d73b9364-529a-4dd7-ee51-201c88c847ae"
      },
      "outputs": [],
      "source": []
    },
    {
      "cell_type": "code",
      "execution_count": null,
      "metadata": {
        "colab": {
          "base_uri": "https://localhost:8080/",
          "height": 206
        },
        "id": "knOgXK-Awr5e",
        "outputId": "8f01a2c9-b1b7-4b01-9f46-d26b22112061"
      },
      "outputs": [],
      "source": []
    },
    {
      "cell_type": "code",
      "execution_count": null,
      "metadata": {
        "colab": {
          "base_uri": "https://localhost:8080/"
        },
        "id": "e5bgnvnFwv6d",
        "outputId": "d7c94a5a-f73b-49b9-a735-52e80041bfc9"
      },
      "outputs": [],
      "source": []
    },
    {
      "cell_type": "code",
      "execution_count": null,
      "metadata": {
        "id": "tzNFYRlvx061"
      },
      "outputs": [],
      "source": [
        "# Atribuição de valores\n"
      ]
    },
    {
      "cell_type": "code",
      "execution_count": null,
      "metadata": {
        "colab": {
          "base_uri": "https://localhost:8080/",
          "height": 206
        },
        "id": "h9aA9iz-x4pN",
        "outputId": "6567ef49-75fd-4617-f99f-ace6d0a24435"
      },
      "outputs": [],
      "source": []
    },
    {
      "cell_type": "markdown",
      "metadata": {
        "id": "lIOp7GCox8I2"
      },
      "source": [
        "As colunas do dataframe são séries. Assim, tudo que vimos para as séries, se estende individualmente para cada coluna!"
      ]
    },
    {
      "cell_type": "code",
      "execution_count": null,
      "metadata": {
        "colab": {
          "base_uri": "https://localhost:8080/"
        },
        "id": "SOSs62ECx5s9",
        "outputId": "2f9fb093-1831-4d6c-d969-3b7396502ac0"
      },
      "outputs": [],
      "source": []
    },
    {
      "cell_type": "code",
      "execution_count": null,
      "metadata": {
        "colab": {
          "base_uri": "https://localhost:8080/"
        },
        "id": "a8pCgswJx9sV",
        "outputId": "ecb2100c-a628-4a6a-e070-b8ae443fa3ae"
      },
      "outputs": [],
      "source": []
    },
    {
      "cell_type": "markdown",
      "metadata": {},
      "source": [
        "### Outros métodos para DataFrames\n",
        "\n",
        "Como uma coluna de um DF é uma Série, a maioria dos métodos vistos anteriormente, são também aplicados aos DF.\n",
        "- head(), tail(), describe(), shape, iloc[], set_index()\n",
        "\n",
        "Outros nós veremos com mais detalhes na próxima aula. Contudo, há 2 que trazem informações sobre nosso DF: info() e dtypes.\n"
      ]
    },
    {
      "cell_type": "code",
      "execution_count": null,
      "metadata": {},
      "outputs": [],
      "source": []
    },
    {
      "cell_type": "code",
      "execution_count": null,
      "metadata": {},
      "outputs": [],
      "source": []
    },
    {
      "cell_type": "markdown",
      "metadata": {},
      "source": [
        "Podemos ainda, trocar o tipo de alguma variável. Exemplo, trocar as variáveis de Prova (notas) para numéricos."
      ]
    },
    {
      "cell_type": "code",
      "execution_count": null,
      "metadata": {},
      "outputs": [],
      "source": []
    },
    {
      "cell_type": "code",
      "execution_count": null,
      "metadata": {},
      "outputs": [],
      "source": []
    },
    {
      "cell_type": "code",
      "execution_count": null,
      "metadata": {},
      "outputs": [],
      "source": []
    },
    {
      "cell_type": "markdown",
      "metadata": {
        "id": "RPkcARqDyCHt"
      },
      "source": [
        "## Lendo e escrevendo conjuntos de dados com pandas\n",
        "\n",
        "A forma mais comum de se construir um dataframe é a partir da **leitura de um arquivo**\n",
        "\n",
        "Em geral, queremos ler arquivos já estruturados como base de dados, em formatos como .csv, .xls, .xlsx, .ods, .txt, .json, etc.\n",
        "\n",
        "O pandas é capaz de ler todos esses formatos, com funções específicas!"
      ]
    },
    {
      "cell_type": "markdown",
      "metadata": {
        "id": "jLUObcD4Op3I"
      },
      "source": [
        "### Arquivos CSV\n",
        "\n",
        "https://pandas.pydata.org/pandas-docs/stable/reference/api/pandas.read_csv.html"
      ]
    },
    {
      "cell_type": "markdown",
      "metadata": {
        "id": "rsOtTF-EOvkH"
      },
      "source": [
        "Vamos criar um dataframe usando pandas com os dados do arquivo `alunos.csv`."
      ]
    },
    {
      "cell_type": "code",
      "execution_count": null,
      "metadata": {
        "id": "Uqt48sx-x_Nd"
      },
      "outputs": [],
      "source": [
        "# Lendo um arquivo CSV e criando um DataFrame\n"
      ]
    },
    {
      "cell_type": "code",
      "execution_count": null,
      "metadata": {},
      "outputs": [],
      "source": []
    },
    {
      "cell_type": "code",
      "execution_count": null,
      "metadata": {},
      "outputs": [],
      "source": [
        "#Filtrando os alunos com frequência acima de 18\n"
      ]
    },
    {
      "cell_type": "markdown",
      "metadata": {},
      "source": [
        "Vamos criar um dataframe usando pandas com os dados do arquivo `alunos2.csv`"
      ]
    },
    {
      "cell_type": "code",
      "execution_count": null,
      "metadata": {},
      "outputs": [],
      "source": []
    },
    {
      "cell_type": "code",
      "execution_count": null,
      "metadata": {},
      "outputs": [],
      "source": []
    },
    {
      "cell_type": "markdown",
      "metadata": {},
      "source": [
        "Ou seja: é preciso estarmos sempre atentos ao separador dos dados!"
      ]
    },
    {
      "cell_type": "markdown",
      "metadata": {},
      "source": [
        "### XLS ou XLSX\n",
        "\n",
        "https://pandas.pydata.org/pandas-docs/stable/reference/api/pandas.read_excel.html"
      ]
    },
    {
      "cell_type": "markdown",
      "metadata": {},
      "source": [
        "Vamos criar um dataframe usando pandas com os dados do arquivo `sample.xlsx`"
      ]
    },
    {
      "cell_type": "code",
      "execution_count": null,
      "metadata": {},
      "outputs": [],
      "source": []
    },
    {
      "cell_type": "code",
      "execution_count": null,
      "metadata": {},
      "outputs": [],
      "source": []
    },
    {
      "cell_type": "markdown",
      "metadata": {},
      "source": [
        "#### Leitura com seleção de planilha\n",
        "\n",
        "Vamos criar um dataframe usando pandas com os dados da planilha `velocidade` da pasta de trabalho `sample.xlsx` "
      ]
    },
    {
      "cell_type": "code",
      "execution_count": null,
      "metadata": {},
      "outputs": [],
      "source": []
    },
    {
      "cell_type": "code",
      "execution_count": null,
      "metadata": {},
      "outputs": [],
      "source": []
    },
    {
      "cell_type": "markdown",
      "metadata": {},
      "source": [
        "#### Leitura com seleção de cabeçalho"
      ]
    },
    {
      "cell_type": "markdown",
      "metadata": {},
      "source": [
        "Vamos criar um dataframe usando pandas com os dados da planilha `Velocidade` da pasta de trabalho `sample.xlsx`. Porém vamos eliminar a primeira linha de cabeçalho"
      ]
    },
    {
      "cell_type": "code",
      "execution_count": null,
      "metadata": {},
      "outputs": [],
      "source": []
    },
    {
      "cell_type": "code",
      "execution_count": null,
      "metadata": {},
      "outputs": [],
      "source": []
    },
    {
      "cell_type": "markdown",
      "metadata": {},
      "source": [
        "#### Leitura com definção de nomes de colunas\n",
        "\n",
        "Vamos criar um dataframe usando pandas com os dados da planilha `Velocidade` da pasta de trabalho `sample.xlsx`. Porém vamos eliminar a primeira linha de cabeçalho e definir os nomes das colunas."
      ]
    },
    {
      "cell_type": "code",
      "execution_count": null,
      "metadata": {},
      "outputs": [],
      "source": []
    },
    {
      "cell_type": "code",
      "execution_count": null,
      "metadata": {},
      "outputs": [],
      "source": []
    },
    {
      "cell_type": "markdown",
      "metadata": {},
      "source": [
        "#### Leitura da internet"
      ]
    },
    {
      "cell_type": "markdown",
      "metadata": {},
      "source": [
        "Vamos criar um dataframe usando pandas com os dados de uma planilha disponivel na página de dados abertos do INPI.\n",
        "\n",
        "https://www.gov.br/inpi/pt-br/acesso-a-informacao/dados-abertos/conjuntos-corporativos-de-dados-abertos/pedidos-de-patentes-pendentes-de-decisao-final/pedidos-de-patentes-pendentes-de-decisao-final-cgrec.xlsx"
      ]
    },
    {
      "cell_type": "code",
      "execution_count": null,
      "metadata": {},
      "outputs": [],
      "source": []
    },
    {
      "cell_type": "code",
      "execution_count": null,
      "metadata": {},
      "outputs": [],
      "source": []
    },
    {
      "cell_type": "markdown",
      "metadata": {},
      "source": [
        "### JSON\n",
        "\n",
        "https://pandas.pydata.org/pandas-docs/stable/reference/api/pandas.read_json.html"
      ]
    },
    {
      "cell_type": "markdown",
      "metadata": {},
      "source": [
        "Vamos criar um dataframe usando pandas com os dados do arquivo json `selic.json`."
      ]
    },
    {
      "cell_type": "code",
      "execution_count": null,
      "metadata": {},
      "outputs": [],
      "source": []
    },
    {
      "cell_type": "code",
      "execution_count": null,
      "metadata": {},
      "outputs": [],
      "source": []
    },
    {
      "cell_type": "markdown",
      "metadata": {},
      "source": [
        "Vamos criar um dataframe usando pandas com os dados da selic em formato json vindo de uma API do Banco Central\n",
        "\n",
        "https://api.bcb.gov.br/dados/serie/bcdata.sgs.4390/dados?formato=json"
      ]
    },
    {
      "cell_type": "code",
      "execution_count": null,
      "metadata": {},
      "outputs": [],
      "source": []
    },
    {
      "cell_type": "code",
      "execution_count": null,
      "metadata": {},
      "outputs": [],
      "source": [
        "f"
      ]
    },
    {
      "cell_type": "markdown",
      "metadata": {},
      "source": [
        "### TXT de tamanho fixo\n",
        "\n",
        "https://pandas.pydata.org/pandas-docs/stable/reference/api/pandas.read_fwf.html"
      ]
    },
    {
      "cell_type": "markdown",
      "metadata": {},
      "source": [
        "Vamos criar um dataframe usando pandas com os dados em formato TXT (Com colunas de tamanho fixo) disponíveis por FTP pelo Banco Central.\n",
        "\n",
        "https://www.bcb.gov.br/pom/spb/Down/ftp/prod/ASPB0004.TXT"
      ]
    },
    {
      "cell_type": "code",
      "execution_count": null,
      "metadata": {},
      "outputs": [],
      "source": []
    },
    {
      "cell_type": "code",
      "execution_count": null,
      "metadata": {},
      "outputs": [],
      "source": []
    },
    {
      "cell_type": "markdown",
      "metadata": {},
      "source": [
        "## Escrevendo dados de um arquivo"
      ]
    },
    {
      "cell_type": "code",
      "execution_count": null,
      "metadata": {},
      "outputs": [],
      "source": []
    },
    {
      "cell_type": "code",
      "execution_count": null,
      "metadata": {},
      "outputs": [],
      "source": []
    },
    {
      "cell_type": "markdown",
      "metadata": {},
      "source": [
        "### CSV"
      ]
    },
    {
      "cell_type": "markdown",
      "metadata": {},
      "source": [
        "Separado por vírgula"
      ]
    },
    {
      "cell_type": "code",
      "execution_count": null,
      "metadata": {},
      "outputs": [],
      "source": []
    },
    {
      "cell_type": "code",
      "execution_count": null,
      "metadata": {},
      "outputs": [],
      "source": []
    },
    {
      "cell_type": "markdown",
      "metadata": {},
      "source": [
        "XLSX"
      ]
    },
    {
      "cell_type": "code",
      "execution_count": null,
      "metadata": {},
      "outputs": [],
      "source": []
    },
    {
      "cell_type": "markdown",
      "metadata": {},
      "source": [
        "___\n",
        "## Vamos praticar?"
      ]
    },
    {
      "cell_type": "markdown",
      "metadata": {},
      "source": [
        "Leia o arquivo `aluno2.csv`, apenas as colunas RA, Prova_1, Prova_2, Prova_3, Prova_4 realize a média das notas da prova e salve em um arquivo excel (xlsx) as colunas RA e Média."
      ]
    },
    {
      "cell_type": "code",
      "execution_count": null,
      "metadata": {},
      "outputs": [],
      "source": [
        "# leitura especificando separador decimal\n"
      ]
    },
    {
      "cell_type": "code",
      "execution_count": null,
      "metadata": {},
      "outputs": [],
      "source": []
    }
  ],
  "metadata": {
    "colab": {
      "provenance": []
    },
    "kernelspec": {
      "display_name": "Python 3",
      "name": "python3"
    },
    "language_info": {
      "codemirror_mode": {
        "name": "ipython",
        "version": 3
      },
      "file_extension": ".py",
      "mimetype": "text/x-python",
      "name": "python",
      "nbconvert_exporter": "python",
      "pygments_lexer": "ipython3",
      "version": "3.11.4"
    }
  },
  "nbformat": 4,
  "nbformat_minor": 0
}
