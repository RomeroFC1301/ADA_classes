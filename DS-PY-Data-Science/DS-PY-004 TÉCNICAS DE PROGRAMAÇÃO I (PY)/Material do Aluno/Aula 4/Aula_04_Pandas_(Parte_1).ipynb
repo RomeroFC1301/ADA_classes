{
  "cells": [
    {
      "cell_type": "markdown",
      "metadata": {
        "id": "BUSRlt4Shf-w"
      },
      "source": [
        "# Aula 04 - Pandas\n",
        "\n",
        "Na aula de hoje veremos com trabalhar com dados tabulares em alto nível, usando a biblioteca [pandas](https://pandas.pydata.org/).\n",
        "\n",
        "O [Pandas](https://pandas.pydata.org/) é uma das bibliotecas mais usadas em **ciência de dados**.\n",
        "\n",
        "Esta biblioteca, construída a partir do Numpy, possibilita a estruturação e manipulação de dados de maneira simples e eficiente.\n",
        "\n",
        "Como os dados são a matéria prima de todo projeto de Data Science, manipulá-los é fundamental! Por isso, utilizaremos o Pandas em quase todas as aulas daqui pra frente!"
      ]
    },
    {
      "cell_type": "markdown",
      "metadata": {
        "id": "ayqNQpd0iODA"
      },
      "source": [
        "____\n",
        "[Guia do pandas](https://pandas.pydata.org/docs/user_guide/index.html#user-guide)"
      ]
    },
    {
      "cell_type": "markdown",
      "metadata": {
        "id": "6j0mhZICiPfv"
      },
      "source": [
        "____\n",
        "Nesta primeira aula, avaliaremos:\n",
        "- O que são Séries e DataFrames;\n",
        "- Alguns dos principais métodos para operar com Séries;\n",
        "- Leitura e gravação de conjuntos de dados com pandas."
      ]
    },
    {
      "cell_type": "markdown",
      "metadata": {
        "id": "v8MpbH8IiSNA"
      },
      "source": [
        "____\n",
        "\n",
        "## Problemática\n",
        "\n",
        "Imagina que você queira ler um arquivo csv e transformá-lo em um arquivo xlsx.\n",
        "\n",
        "O que você faria?"
      ]
    },
    {
      "cell_type": "code",
      "execution_count": null,
      "metadata": {
        "id": "eadtLiio8fED"
      },
      "outputs": [],
      "source": [
        "#Importando a biblioteca pandas\n",
        "import pandas as pd"
      ]
    },
    {
      "cell_type": "code",
      "execution_count": null,
      "metadata": {
        "id": "VI_ZDHkNjjZt"
      },
      "outputs": [],
      "source": [
        "# Lendo um arquivo CSV e criando um DataFrame\n"
      ]
    },
    {
      "cell_type": "code",
      "execution_count": null,
      "metadata": {
        "id": "Xf48iE5ajp8v"
      },
      "outputs": [],
      "source": [
        "# Salvando um DataFrame em um arquivo xlsx\n",
        "# O parâmetro index=False evita a escrita do índice no arquivo"
      ]
    },
    {
      "cell_type": "markdown",
      "metadata": {
        "id": "jVvYWxYlkbTV"
      },
      "source": [
        "**Obs.:** Voltaremos para falar mais das potencialidades do pandas e como trabalhamos com os arquivos no decorrer da aula.\n",
        "___"
      ]
    },
    {
      "cell_type": "markdown",
      "metadata": {
        "id": "KZB7p8ISkuo0"
      },
      "source": [
        "## **Séries**\n",
        "\n",
        "O objeto fundamental do Pandas são as **Series**, uma classe do pandas.\n",
        "\n",
        "As Series são as **colunas das tabelas** (que veremos mais a frente), e por baixo dos panos, os dados ficam armazenados como **numpy arrays**!\n",
        "\n",
        "A diferença é que a série possui um **índice associado**, permitindo o acesso aos conteúdos dessa estrutura por ele, como um dicionário.\n",
        "\n",
        "Além disso, as séries têm métodos específicos além dos que vimos pra arrays, o que será super útil!\n",
        "\n",
        "Podemos criar uma série **a partir de uma lista**, usando a função do pandas `pd.Series()`:"
      ]
    },
    {
      "cell_type": "markdown",
      "metadata": {
        "id": "XjHW0qwuk6Ll"
      },
      "source": [
        "**Vamos avaliar algumas particularidades das pd.Series a seguir.**"
      ]
    },
    {
      "cell_type": "code",
      "execution_count": null,
      "metadata": {
        "colab": {
          "base_uri": "https://localhost:8080/"
        },
        "id": "_ybR1Avykkjv",
        "outputId": "6e469355-8020-47d4-bbaa-3ac922e82075"
      },
      "outputs": [],
      "source": [
        "#Criando uma lista\n"
      ]
    },
    {
      "cell_type": "code",
      "execution_count": null,
      "metadata": {
        "colab": {
          "base_uri": "https://localhost:8080/"
        },
        "id": "Sautm1aVk-UV",
        "outputId": "782b0eed-7e1d-49c7-cb17-9d7d05d539af"
      },
      "outputs": [],
      "source": [
        "#Criando um array numpy\n",
        "import numpy as np\n"
      ]
    },
    {
      "cell_type": "code",
      "execution_count": null,
      "metadata": {
        "id": "y4Lo7_POlA4i"
      },
      "outputs": [],
      "source": [
        "# Série a partir de uma lista\n",
        "# os índices são automaticamente definidos\n"
      ]
    },
    {
      "cell_type": "code",
      "execution_count": null,
      "metadata": {
        "colab": {
          "base_uri": "https://localhost:8080/"
        },
        "id": "5-mDQBvwlDm6",
        "outputId": "3ba9d2cf-2c68-403c-fb8e-0229351ddd91"
      },
      "outputs": [],
      "source": [
        "#ver a série\n"
      ]
    },
    {
      "cell_type": "markdown",
      "metadata": {
        "id": "QzRguO5hlG28"
      },
      "source": [
        "Os números à esquerda são os **índices** da série, e, aqueles à direita, são seus **valores**. Podemos também acessá-los separadamente."
      ]
    },
    {
      "cell_type": "code",
      "execution_count": null,
      "metadata": {
        "colab": {
          "base_uri": "https://localhost:8080/"
        },
        "id": "g5C166zDlEmz",
        "outputId": "b16769e2-f8c5-4f2c-cba0-1d0c2f74bb81"
      },
      "outputs": [],
      "source": [
        "# Acessando os valores\n"
      ]
    },
    {
      "cell_type": "code",
      "execution_count": null,
      "metadata": {
        "colab": {
          "base_uri": "https://localhost:8080/"
        },
        "id": "37IlFa-clI-7",
        "outputId": "daea4bc4-38f6-4ae1-9eb1-4a063728541c"
      },
      "outputs": [],
      "source": [
        "# Acessando índices\n"
      ]
    },
    {
      "cell_type": "code",
      "execution_count": null,
      "metadata": {
        "colab": {
          "base_uri": "https://localhost:8080/"
        },
        "id": "oDDJTwMqlKNM",
        "outputId": "c8cb578a-f4f9-4f45-c118-e8088710f8c4"
      },
      "outputs": [],
      "source": [
        "#Criando com list comprehension"
      ]
    },
    {
      "cell_type": "markdown",
      "metadata": {
        "id": "jiXQNebqlP5h"
      },
      "source": [
        "### **Indexação da série**\n",
        "\n",
        "A indexação de uma série com pandas é muito similar à maneira que fazemos com listas e numpy arrays."
      ]
    },
    {
      "cell_type": "code",
      "execution_count": null,
      "metadata": {
        "colab": {
          "base_uri": "https://localhost:8080/"
        },
        "id": "QqOarNQelNVr",
        "outputId": "62edcb6c-d6fb-4dbc-9e4e-bc047304809e"
      },
      "outputs": [],
      "source": [
        "#Acessando o elemento zero na série\n"
      ]
    },
    {
      "cell_type": "markdown",
      "metadata": {
        "id": "YkKt0MWblZde"
      },
      "source": [
        "Podemos fazer uma analogia da série em pandas com os dicionários do Python:"
      ]
    },
    {
      "cell_type": "code",
      "execution_count": null,
      "metadata": {
        "id": "47MWr_FilVwq"
      },
      "outputs": [],
      "source": [
        "# exemplo de um dicionário\n"
      ]
    },
    {
      "cell_type": "code",
      "execution_count": null,
      "metadata": {
        "colab": {
          "base_uri": "https://localhost:8080/"
        },
        "id": "szbCLb_xlbej",
        "outputId": "bcc59649-d98a-4304-b623-43b4a38972b6"
      },
      "outputs": [],
      "source": [
        "# Acessamos o dicionário pelas chaves\n"
      ]
    },
    {
      "cell_type": "code",
      "execution_count": null,
      "metadata": {
        "colab": {
          "base_uri": "https://localhost:8080/"
        },
        "id": "-UVh_CRBlcmj",
        "outputId": "cbe69caa-57d3-48b5-8b99-43268a5e00f9"
      },
      "outputs": [],
      "source": [
        "# Também podemos acessar os valores, apenas, assim como para as séries\n"
      ]
    },
    {
      "cell_type": "markdown",
      "metadata": {
        "id": "7DkBXO1Klfbd"
      },
      "source": [
        "### **Slicing de séries**\n",
        "\n",
        "Também é feito da maneira como estamos acostumados a trabalhar com listas e numpy arrays."
      ]
    },
    {
      "cell_type": "code",
      "execution_count": null,
      "metadata": {
        "colab": {
          "base_uri": "https://localhost:8080/"
        },
        "id": "YwhAECcvld3b",
        "outputId": "c06bdf19-7311-425c-d55e-1925ed22d63c"
      },
      "outputs": [],
      "source": [
        "# slicing\n"
      ]
    },
    {
      "cell_type": "markdown",
      "metadata": {
        "id": "68TgeROcllMY"
      },
      "source": [
        "### **Índices**\n",
        "\n",
        "Apesar de termos visto a opção padrão de criação de índices, acima, sequencial, podemos defini-los da maneira que quisermos."
      ]
    },
    {
      "cell_type": "code",
      "execution_count": null,
      "metadata": {
        "id": "bitru216ljjK"
      },
      "outputs": [],
      "source": [
        "#Criando uma lista\n"
      ]
    },
    {
      "cell_type": "code",
      "execution_count": null,
      "metadata": {
        "colab": {
          "base_uri": "https://localhost:8080/"
        },
        "id": "yqIrxY6UlrhC",
        "outputId": "82212350-a804-4af5-9f79-06bd8780f164"
      },
      "outputs": [],
      "source": [
        "#Criando a série\n"
      ]
    },
    {
      "cell_type": "code",
      "execution_count": null,
      "metadata": {
        "id": "mR1dlYMElsdy"
      },
      "outputs": [],
      "source": [
        "# vamos usar outros índices quaisquer\n"
      ]
    },
    {
      "cell_type": "code",
      "execution_count": null,
      "metadata": {
        "colab": {
          "base_uri": "https://localhost:8080/"
        },
        "id": "OypvRWyNluAD",
        "outputId": "e3dcaba0-0473-434a-ca3d-606d86fbaa43"
      },
      "outputs": [],
      "source": []
    },
    {
      "cell_type": "markdown",
      "metadata": {
        "id": "WLF8T4FWlyPu"
      },
      "source": [
        "**Obs.:** Podemos acessar os valores indexando tanto com o número da posição na série, ou com o próprio índice."
      ]
    },
    {
      "cell_type": "code",
      "execution_count": null,
      "metadata": {
        "colab": {
          "base_uri": "https://localhost:8080/"
        },
        "id": "yGNml58plvYC",
        "outputId": "761dafa2-ebc3-4293-8928-fc914eb4a05b"
      },
      "outputs": [],
      "source": []
    },
    {
      "cell_type": "code",
      "execution_count": null,
      "metadata": {
        "colab": {
          "base_uri": "https://localhost:8080/"
        },
        "id": "0xHXqybRl1cI",
        "outputId": "da67b143-cc02-4649-b8fc-3bfe230f6083"
      },
      "outputs": [],
      "source": []
    },
    {
      "cell_type": "code",
      "execution_count": null,
      "metadata": {
        "colab": {
          "base_uri": "https://localhost:8080/"
        },
        "id": "ew6wKy_Gl2T6",
        "outputId": "d8d6d201-790c-441c-e3cc-6d9988e65886"
      },
      "outputs": [],
      "source": [
        "# também conseguimos fazer slicing com os índices\n"
      ]
    },
    {
      "cell_type": "code",
      "execution_count": null,
      "metadata": {
        "colab": {
          "base_uri": "https://localhost:8080/"
        },
        "id": "kMUeVT1tl5Lb",
        "outputId": "db1827eb-4248-44b4-e507-28661dd295db"
      },
      "outputs": [],
      "source": [
        "#Conseguimos pegar (filtrar uma lista de índices)\n"
      ]
    },
    {
      "cell_type": "markdown",
      "metadata": {
        "id": "n09sdJJ-l_4W"
      },
      "source": [
        "Também conseguimos construir séries a partir de **dicionários**. Neste caso, as **chaves** se tornam os índices da série."
      ]
    },
    {
      "cell_type": "code",
      "execution_count": null,
      "metadata": {
        "colab": {
          "base_uri": "https://localhost:8080/"
        },
        "id": "A6J5VZqwl-Gq",
        "outputId": "f4c30c81-1eca-4813-8bd6-864ea0a92ec1"
      },
      "outputs": [],
      "source": [
        "#Criando um dicionário\n"
      ]
    },
    {
      "cell_type": "code",
      "execution_count": null,
      "metadata": {
        "colab": {
          "base_uri": "https://localhost:8080/"
        },
        "id": "DuRj-o2hmD8C",
        "outputId": "388b5c36-968e-4eb1-8087-464afbba1c4c"
      },
      "outputs": [],
      "source": [
        "# Série a partir de dicionário\n"
      ]
    },
    {
      "cell_type": "markdown",
      "metadata": {
        "id": "SpAXem_pmOqb"
      },
      "source": [
        "### **Operações com séries**\n",
        "\n",
        "Como são gerados como numpy arrays, de modo semelhante, operações com séries são realizadas elemento a elemento."
      ]
    },
    {
      "cell_type": "code",
      "execution_count": null,
      "metadata": {
        "colab": {
          "base_uri": "https://localhost:8080/"
        },
        "id": "mbcn1VOBmJIC",
        "outputId": "45f24d59-cf2f-4b4f-bf52-c71088fa6515"
      },
      "outputs": [],
      "source": [
        "#Criando uma série de uma lista\n"
      ]
    },
    {
      "cell_type": "code",
      "execution_count": null,
      "metadata": {
        "colab": {
          "base_uri": "https://localhost:8080/"
        },
        "id": "E3EFup3mmZuy",
        "outputId": "73871c15-6153-4fe0-b379-a5164c146d2e"
      },
      "outputs": [],
      "source": [
        "# No caso de arrays\n"
      ]
    },
    {
      "cell_type": "code",
      "execution_count": null,
      "metadata": {
        "colab": {
          "base_uri": "https://localhost:8080/"
        },
        "id": "qlExkAoymbDB",
        "outputId": "b1b8c478-40f1-4dc5-aed8-cf33d3f43978"
      },
      "outputs": [],
      "source": [
        "#Somando o array com 5\n"
      ]
    },
    {
      "cell_type": "code",
      "execution_count": null,
      "metadata": {
        "colab": {
          "base_uri": "https://localhost:8080/"
        },
        "id": "7JgUlUSXmdeB",
        "outputId": "e06b561e-ddb0-4ce3-9b47-6038e7e4597c"
      },
      "outputs": [],
      "source": [
        "# Operações aritméticas básicas funcionam elemento a elemento\n"
      ]
    },
    {
      "cell_type": "code",
      "execution_count": null,
      "metadata": {
        "colab": {
          "base_uri": "https://localhost:8080/"
        },
        "id": "zsw7fWvemecq",
        "outputId": "bdbaab02-9e7d-4a11-f39d-f9361a092c04"
      },
      "outputs": [],
      "source": []
    },
    {
      "cell_type": "code",
      "execution_count": null,
      "metadata": {
        "colab": {
          "base_uri": "https://localhost:8080/"
        },
        "id": "wQqVZJ_KmgMT",
        "outputId": "a160a3d5-09a1-4d68-89cc-88722caa5315"
      },
      "outputs": [],
      "source": []
    },
    {
      "cell_type": "code",
      "execution_count": null,
      "metadata": {
        "colab": {
          "base_uri": "https://localhost:8080/"
        },
        "id": "FPMzU4Xsmg_7",
        "outputId": "e7e4c404-ce91-42df-ed9e-b490fa3b186c"
      },
      "outputs": [],
      "source": []
    },
    {
      "cell_type": "code",
      "execution_count": null,
      "metadata": {
        "colab": {
          "base_uri": "https://localhost:8080/"
        },
        "id": "F759Rwb3midL",
        "outputId": "dc518aed-23d1-4641-d034-4dcf88d57fe3"
      },
      "outputs": [],
      "source": [
        "# apenas elementos divisíveis por 2\n"
      ]
    },
    {
      "cell_type": "code",
      "execution_count": null,
      "metadata": {
        "colab": {
          "base_uri": "https://localhost:8080/"
        },
        "id": "NFl8HtsOmmIN",
        "outputId": "44244415-deb1-4396-9808-6bb065f7bf06"
      },
      "outputs": [],
      "source": [
        "# apenas elementos divisíveis por 2\n"
      ]
    },
    {
      "cell_type": "code",
      "execution_count": null,
      "metadata": {
        "colab": {
          "base_uri": "https://localhost:8080/"
        },
        "id": "bXimzwJCmjvC",
        "outputId": "6d6a62d6-1d6a-4a0d-de4b-3ee2a673eaa8"
      },
      "outputs": [],
      "source": []
    },
    {
      "cell_type": "markdown",
      "metadata": {
        "id": "Ahu8n3eXmsig"
      },
      "source": [
        "Também conseguimos operar entre séries."
      ]
    },
    {
      "cell_type": "code",
      "execution_count": null,
      "metadata": {
        "id": "VIa4P4xKmlca"
      },
      "outputs": [],
      "source": []
    },
    {
      "cell_type": "code",
      "execution_count": null,
      "metadata": {
        "id": "rvDJcp1UmuBy"
      },
      "outputs": [],
      "source": []
    },
    {
      "cell_type": "code",
      "execution_count": null,
      "metadata": {
        "colab": {
          "base_uri": "https://localhost:8080/"
        },
        "id": "zB6j4Ncjmvep",
        "outputId": "49be954f-c4e2-4e6a-ff9e-7e34b5a41b1b"
      },
      "outputs": [],
      "source": []
    },
    {
      "cell_type": "code",
      "execution_count": null,
      "metadata": {
        "colab": {
          "base_uri": "https://localhost:8080/"
        },
        "id": "3y_8gHIfmv6p",
        "outputId": "d37eab88-7ccb-4511-9e3e-2f30a8a66610"
      },
      "outputs": [],
      "source": []
    },
    {
      "cell_type": "code",
      "execution_count": null,
      "metadata": {
        "colab": {
          "base_uri": "https://localhost:8080/"
        },
        "id": "scCnqqADmwb5",
        "outputId": "e24c9118-3085-470d-b820-aada66d5e0d8"
      },
      "outputs": [],
      "source": []
    },
    {
      "cell_type": "code",
      "execution_count": null,
      "metadata": {
        "colab": {
          "base_uri": "https://localhost:8080/"
        },
        "id": "qmTHfb5gmyHS",
        "outputId": "a9d443e8-a423-45ba-b446-d71bebf1ef8d"
      },
      "outputs": [],
      "source": [
        "# Usando a condição lógica como indexação\n"
      ]
    },
    {
      "cell_type": "code",
      "execution_count": null,
      "metadata": {
        "colab": {
          "base_uri": "https://localhost:8080/"
        },
        "id": "aroqwYFMmzsZ",
        "outputId": "0874f194-0f99-4cbe-b9c8-11833d7c9c7b"
      },
      "outputs": [],
      "source": [
        "# Conseguimos \"resetar o index\"\n"
      ]
    },
    {
      "cell_type": "markdown",
      "metadata": {
        "id": "JF7qc4-xm4O3"
      },
      "source": [
        "### Dados vazios (NaN)\n",
        "\n",
        "NaN = *not a number*; dado vazio."
      ]
    },
    {
      "cell_type": "code",
      "execution_count": null,
      "metadata": {
        "colab": {
          "base_uri": "https://localhost:8080/"
        },
        "id": "79QE66sWm1np",
        "outputId": "88a2505f-3327-4e34-de38-225c8d5a634d"
      },
      "outputs": [],
      "source": []
    },
    {
      "cell_type": "code",
      "execution_count": null,
      "metadata": {
        "id": "YaxpYaZVm-wy"
      },
      "outputs": [],
      "source": []
    },
    {
      "cell_type": "code",
      "execution_count": null,
      "metadata": {
        "colab": {
          "base_uri": "https://localhost:8080/"
        },
        "id": "3D-I-RCFnAai",
        "outputId": "916f2d50-6574-45bd-e9ff-35613f8c72d8"
      },
      "outputs": [],
      "source": []
    },
    {
      "cell_type": "code",
      "execution_count": null,
      "metadata": {
        "colab": {
          "base_uri": "https://localhost:8080/"
        },
        "id": "FSgXLDlsnBd6",
        "outputId": "cc12ac5a-b5e5-43be-bce4-f012d9be143b"
      },
      "outputs": [],
      "source": []
    },
    {
      "cell_type": "code",
      "execution_count": null,
      "metadata": {
        "colab": {
          "base_uri": "https://localhost:8080/",
          "height": 181
        },
        "id": "hT5e3jaHnB9D",
        "outputId": "d1d4828b-a159-4258-a155-402dbe95b12b"
      },
      "outputs": [],
      "source": [
        "#Somando os arrays\n"
      ]
    },
    {
      "cell_type": "code",
      "execution_count": null,
      "metadata": {
        "colab": {
          "base_uri": "https://localhost:8080/"
        },
        "id": "hMgkAZ35nDV_",
        "outputId": "debde501-de3d-49b9-afc8-95b2fcd9a261"
      },
      "outputs": [],
      "source": [
        "#Somando as séries\n"
      ]
    },
    {
      "cell_type": "code",
      "execution_count": null,
      "metadata": {
        "colab": {
          "base_uri": "https://localhost:8080/"
        },
        "id": "4v5huEIQnKni",
        "outputId": "30071c7f-f2f3-40be-b63d-1c955c4b2d4c"
      },
      "outputs": [],
      "source": [
        "# opção para preencher valores nulos: fill_value\n",
        "# preenche com 0, porque 0 é o elemento neutro da soma\n",
        "# outra maneira de somar"
      ]
    },
    {
      "cell_type": "code",
      "execution_count": null,
      "metadata": {
        "colab": {
          "base_uri": "https://localhost:8080/"
        },
        "id": "kNMSrW6FnSdi",
        "outputId": "30c4d51c-834f-4650-86ff-a40201340975"
      },
      "outputs": [],
      "source": []
    },
    {
      "cell_type": "code",
      "execution_count": null,
      "metadata": {
        "colab": {
          "base_uri": "https://localhost:8080/"
        },
        "id": "8QXbC9Y-nUIC",
        "outputId": "22c3354b-18b2-488b-f010-6448aa3e8f71"
      },
      "outputs": [],
      "source": [
        "# elemento neutro é 1\n"
      ]
    },
    {
      "cell_type": "markdown",
      "metadata": {
        "id": "aH7h9gQQnaSr"
      },
      "source": [
        "E com dados de formatos diferentes?"
      ]
    },
    {
      "cell_type": "code",
      "execution_count": null,
      "metadata": {
        "id": "2b58UfcgnVkh"
      },
      "outputs": [],
      "source": []
    },
    {
      "cell_type": "code",
      "execution_count": null,
      "metadata": {
        "colab": {
          "base_uri": "https://localhost:8080/"
        },
        "id": "Qs-cwYRlnb57",
        "outputId": "01e884cd-f7e9-4b26-9373-b9b43b514a76"
      },
      "outputs": [],
      "source": []
    },
    {
      "cell_type": "code",
      "execution_count": null,
      "metadata": {
        "colab": {
          "base_uri": "https://localhost:8080/"
        },
        "id": "BeQoPn-jndO6",
        "outputId": "16cb1749-e57f-440d-b32a-3c47ce1e21d6"
      },
      "outputs": [],
      "source": []
    },
    {
      "cell_type": "code",
      "execution_count": null,
      "metadata": {
        "colab": {
          "base_uri": "https://localhost:8080/"
        },
        "id": "VtxqxulWneNi",
        "outputId": "c1d84fea-b3e9-46ec-a1f6-413f72a9784f"
      },
      "outputs": [],
      "source": [
        "# Com strings\n"
      ]
    },
    {
      "cell_type": "code",
      "execution_count": null,
      "metadata": {
        "colab": {
          "base_uri": "https://localhost:8080/"
        },
        "id": "fnN8uqQvnfg6",
        "outputId": "afcfb581-6c14-43a4-828f-9c30f9006300"
      },
      "outputs": [],
      "source": [
        "# Mesmo efeito para as séries\n"
      ]
    },
    {
      "cell_type": "code",
      "execution_count": null,
      "metadata": {
        "colab": {
          "base_uri": "https://localhost:8080/",
          "height": 200
        },
        "id": "QZ2Juir3ng36",
        "outputId": "9016a04b-e088-40a7-95ff-6bf1ef650102"
      },
      "outputs": [],
      "source": [
        "# Strings\n"
      ]
    },
    {
      "cell_type": "code",
      "execution_count": null,
      "metadata": {
        "colab": {
          "base_uri": "https://localhost:8080/",
          "height": 461
        },
        "id": "y761shBOniqa",
        "outputId": "3f3db8f4-0850-4b21-8532-8cb231e36002"
      },
      "outputs": [],
      "source": [
        "# Séries\n"
      ]
    },
    {
      "cell_type": "markdown",
      "metadata": {
        "id": "3f1N7hATnl74"
      },
      "source": [
        "### Filtrando séries\n",
        "\n",
        "Filtros de séries seguem a mesma lógica de numpy arrays."
      ]
    },
    {
      "cell_type": "code",
      "execution_count": null,
      "metadata": {
        "colab": {
          "base_uri": "https://localhost:8080/"
        },
        "id": "vSwGtFE2nj-s",
        "outputId": "45a0ae06-6baf-42ec-aee5-c70babf8883f"
      },
      "outputs": [],
      "source": []
    },
    {
      "cell_type": "code",
      "execution_count": null,
      "metadata": {
        "colab": {
          "base_uri": "https://localhost:8080/"
        },
        "id": "LCEHrzhKnrgq",
        "outputId": "f16bd0b9-4311-44d0-8553-132246acd1bf"
      },
      "outputs": [],
      "source": [
        "# filtro da série: quais são os valores da série que satisfazem uma dada condição?\n"
      ]
    },
    {
      "cell_type": "code",
      "execution_count": null,
      "metadata": {
        "colab": {
          "base_uri": "https://localhost:8080/"
        },
        "id": "MiEwPwpSntsi",
        "outputId": "7f0238df-99bd-4d36-a652-482fdfa038c8"
      },
      "outputs": [],
      "source": [
        "#Usando comparações conjuntas\n"
      ]
    },
    {
      "cell_type": "code",
      "execution_count": null,
      "metadata": {
        "colab": {
          "base_uri": "https://localhost:8080/"
        },
        "id": "HP9ZCRNSnycq",
        "outputId": "b8c82592-a293-495b-e5d0-28c9ad2478f3"
      },
      "outputs": [],
      "source": [
        "#Usando comparações conjuntas\n"
      ]
    },
    {
      "cell_type": "code",
      "execution_count": null,
      "metadata": {
        "colab": {
          "base_uri": "https://localhost:8080/"
        },
        "id": "x7y1Jkz5n1Fq",
        "outputId": "e6275e0c-6e01-4cad-990e-a5b76bce81fe"
      },
      "outputs": [],
      "source": [
        "#Usando comparações conjuntas\n"
      ]
    },
    {
      "cell_type": "code",
      "execution_count": null,
      "metadata": {
        "colab": {
          "base_uri": "https://localhost:8080/"
        },
        "id": "U8Lrf4-jn5YJ",
        "outputId": "2177c0f1-2a4c-4f48-bf92-3c022afc9973"
      },
      "outputs": [],
      "source": []
    },
    {
      "cell_type": "markdown",
      "metadata": {
        "id": "uyrSvA1yn9cO"
      },
      "source": [
        "### **Outros métodos úteis**\n",
        "\n",
        "Temos outros métodos interessantes para trabalharmos com séries."
      ]
    },
    {
      "cell_type": "code",
      "execution_count": null,
      "metadata": {
        "colab": {
          "base_uri": "https://localhost:8080/"
        },
        "id": "cRvTtU1Vn8x5",
        "outputId": "42c0b2e6-85c8-4c4a-d346-555c36101ad4"
      },
      "outputs": [],
      "source": []
    },
    {
      "cell_type": "markdown",
      "metadata": {
        "id": "MLxLEqNrowJF"
      },
      "source": [
        "#### **Métodos Básicos:**\n",
        "\n",
        "- head(): Exibe os primeiros elementos;\n",
        "- tail(): Exibe os últimos elementos;\n",
        "- describe(): Fornece estatísticas descritivas (média, desvio-padrão, mínimo, máximo, etc.);\n",
        "- unique: Retorna os valores únicos na Série;\n",
        "- value_counts(): Conta a frequência de cada valor na Series."
      ]
    },
    {
      "cell_type": "code",
      "execution_count": null,
      "metadata": {
        "colab": {
          "base_uri": "https://localhost:8080/"
        },
        "id": "yCsOs2WppSVq",
        "outputId": "dab49908-930e-4923-d2cd-0d8712ba5dc4"
      },
      "outputs": [],
      "source": [
        "#Ver as primeiras 5 linhas\n"
      ]
    },
    {
      "cell_type": "code",
      "execution_count": null,
      "metadata": {
        "colab": {
          "base_uri": "https://localhost:8080/"
        },
        "id": "a6PG5jjQpUL1",
        "outputId": "8493f744-6e5a-4735-e3f9-993a73ec26ff"
      },
      "outputs": [],
      "source": [
        "#Ver as últimas 5 linhas\n"
      ]
    },
    {
      "cell_type": "code",
      "execution_count": null,
      "metadata": {
        "colab": {
          "base_uri": "https://localhost:8080/"
        },
        "id": "Yso28WRypbQe",
        "outputId": "86a87617-1f14-4050-d397-d270e54d33d2"
      },
      "outputs": [],
      "source": [
        "#Ver a estatística descritiva da série\n"
      ]
    },
    {
      "cell_type": "code",
      "execution_count": null,
      "metadata": {
        "colab": {
          "base_uri": "https://localhost:8080/"
        },
        "id": "fE0XWP3opgTK",
        "outputId": "631ae2ee-3fd5-4698-f259-72cbd014f147"
      },
      "outputs": [],
      "source": [
        "#Ver os valores únicos da série\n"
      ]
    },
    {
      "cell_type": "code",
      "execution_count": null,
      "metadata": {
        "colab": {
          "base_uri": "https://localhost:8080/"
        },
        "id": "2m7mEv2qpkCU",
        "outputId": "08b708d5-3954-469f-c819-cb19a6f09873"
      },
      "outputs": [],
      "source": [
        "#Contar a frequência de cada valor na série\n"
      ]
    },
    {
      "cell_type": "code",
      "execution_count": null,
      "metadata": {
        "colab": {
          "base_uri": "https://localhost:8080/"
        },
        "id": "mcC1znqerkfK",
        "outputId": "8d06ee2c-01d2-490b-8331-799014398c23"
      },
      "outputs": [],
      "source": [
        "#Frequência relativa de cada valor\n"
      ]
    },
    {
      "cell_type": "code",
      "execution_count": null,
      "metadata": {
        "colab": {
          "base_uri": "https://localhost:8080/"
        },
        "id": "QmHmZfEUrptB",
        "outputId": "ca5f85bb-7fc4-4bf8-b799-b6bc99314304"
      },
      "outputs": [],
      "source": [
        "#Frequência relativa de cada valor\n"
      ]
    },
    {
      "cell_type": "markdown",
      "metadata": {
        "id": "02rOy-2_p8Ws"
      },
      "source": [
        "#### **Método map:**\n",
        "\n",
        "Aplica uma função ou um mapeamento (um dicionário) a todos os elementos da Series."
      ]
    },
    {
      "cell_type": "code",
      "execution_count": null,
      "metadata": {
        "colab": {
          "base_uri": "https://localhost:8080/"
        },
        "id": "5p2ZdEAeqAhy",
        "outputId": "a14884d6-f63d-44ec-e3d1-1a05c46f4e2d"
      },
      "outputs": [],
      "source": [
        "#Exemplo dizer se uma nota é par ou ímpar\n"
      ]
    },
    {
      "cell_type": "code",
      "execution_count": null,
      "metadata": {
        "colab": {
          "base_uri": "https://localhost:8080/"
        },
        "id": "MMDBQ1nEqLjq",
        "outputId": "a52a6d20-6cec-45e7-8076-8441607c82fe"
      },
      "outputs": [],
      "source": [
        "# Substitui valores de acordo com um dicionário\n"
      ]
    },
    {
      "cell_type": "markdown",
      "metadata": {
        "id": "seRbSbKEoLSD"
      },
      "source": [
        "#### **Método apply:**\n",
        "\n",
        "O método apply() em pandas é uma poderosa função que permite aplicar uma função ao longo de um eixo de um DataFrame ou de uma Series.\n",
        "\n",
        "Ele é extremamente versátil e pode ser usado para executar funções personalizadas, funções do Python embutidas (sum, max, min, len, etc.) e funções lambda."
      ]
    },
    {
      "cell_type": "code",
      "execution_count": null,
      "metadata": {
        "colab": {
          "base_uri": "https://localhost:8080/"
        },
        "id": "cLi_rl3BoGuh",
        "outputId": "999f5bcc-bed6-435e-cb76-15a603e06cb9"
      },
      "outputs": [],
      "source": [
        "#Exemplo dizer se uma nota é par ou ímpar\n"
      ]
    },
    {
      "cell_type": "code",
      "execution_count": null,
      "metadata": {
        "colab": {
          "base_uri": "https://localhost:8080/"
        },
        "id": "D2Y_wcb2oe3B",
        "outputId": "1957c3d0-caf3-4b40-f312-90d71df4d6c0"
      },
      "outputs": [],
      "source": []
    },
    {
      "cell_type": "markdown",
      "metadata": {
        "id": "CdqNUdC6qXmN"
      },
      "source": [
        "#### **sort_values:**\n",
        "\n",
        "Classifica os valores na Series."
      ]
    },
    {
      "cell_type": "code",
      "execution_count": null,
      "metadata": {
        "colab": {
          "base_uri": "https://localhost:8080/"
        },
        "id": "YW-GTXYpohLg",
        "outputId": "db61c80c-d747-4d14-ad40-f513c43c028a"
      },
      "outputs": [],
      "source": []
    },
    {
      "cell_type": "markdown",
      "metadata": {
        "id": "63wxyzcMqgVy"
      },
      "source": [
        "Podemos colocar o ```inplace = True``` para garantir que a mudança foi feita na própria série."
      ]
    },
    {
      "cell_type": "markdown",
      "metadata": {
        "id": "i3fCkB2Vqtep"
      },
      "source": [
        "#### **sort_index:**\n",
        "\n",
        "Classifica pelos índices da Series."
      ]
    },
    {
      "cell_type": "code",
      "execution_count": null,
      "metadata": {
        "colab": {
          "base_uri": "https://localhost:8080/"
        },
        "id": "RUstuvHFqcYI",
        "outputId": "196d06ed-0cec-4624-b71d-4931d8ac3a77"
      },
      "outputs": [],
      "source": []
    },
    {
      "cell_type": "markdown",
      "metadata": {
        "id": "NyZTXuyHq7rE"
      },
      "source": [
        "#### Métodos de Estatística:\n",
        "\n",
        "Existem diferentes métodos, tais como mean(), median(), std(), var(), sum(): Calculam a média, mediana, desvio padrão, variância e soma dos elementos da Series, respectivamente."
      ]
    },
    {
      "cell_type": "code",
      "execution_count": null,
      "metadata": {
        "colab": {
          "base_uri": "https://localhost:8080/"
        },
        "id": "Pm0rb39hq0MY",
        "outputId": "cc332e85-f76e-447f-9b4b-dfdba7c29e02"
      },
      "outputs": [],
      "source": [
        "#Calculando a média das notas\n"
      ]
    },
    {
      "cell_type": "code",
      "execution_count": null,
      "metadata": {
        "colab": {
          "base_uri": "https://localhost:8080/"
        },
        "id": "7igNNtd3rDug",
        "outputId": "cba99229-5740-42a3-b874-1f74f08f6a1f"
      },
      "outputs": [],
      "source": [
        "#Calculando a mediana das notas\n"
      ]
    },
    {
      "cell_type": "code",
      "execution_count": null,
      "metadata": {
        "colab": {
          "base_uri": "https://localhost:8080/"
        },
        "id": "rooZhCjSrF_J",
        "outputId": "b338da23-2000-440b-c49e-870ff7a421a4"
      },
      "outputs": [],
      "source": [
        "#Calculando a moda das notas\n"
      ]
    },
    {
      "cell_type": "code",
      "execution_count": null,
      "metadata": {
        "colab": {
          "base_uri": "https://localhost:8080/"
        },
        "id": "mNmvqWOGrHmZ",
        "outputId": "84b9191e-f48d-4c69-c3c7-b299b66a2956"
      },
      "outputs": [],
      "source": [
        "#Calculando o desvio-padrão das notas\n"
      ]
    },
    {
      "cell_type": "code",
      "execution_count": null,
      "metadata": {
        "colab": {
          "base_uri": "https://localhost:8080/"
        },
        "id": "28V6lOe_rKeI",
        "outputId": "43f7f9c9-051b-4721-ccff-e7983ae9d9c5"
      },
      "outputs": [],
      "source": [
        "#Calculando a variância\n"
      ]
    },
    {
      "cell_type": "code",
      "execution_count": null,
      "metadata": {
        "colab": {
          "base_uri": "https://localhost:8080/"
        },
        "id": "JN0ix83erNYR",
        "outputId": "b2aa2527-1f82-4ac7-b7bf-6a5384032234"
      },
      "outputs": [],
      "source": [
        "#Somando todos os valores\n"
      ]
    },
    {
      "cell_type": "markdown",
      "metadata": {
        "id": "bhtWcnjOr1Ps"
      },
      "source": [
        "Existem também os métodos **idxmax()** e **idxmin()** que retornam o índice onde o valor máximo ou mínimo ocorre na série."
      ]
    },
    {
      "cell_type": "code",
      "execution_count": null,
      "metadata": {
        "colab": {
          "base_uri": "https://localhost:8080/"
        },
        "id": "BVvrLaqorQuh",
        "outputId": "01f8b7df-bbfb-4f02-9026-50f0bfa1ea86"
      },
      "outputs": [],
      "source": []
    },
    {
      "cell_type": "code",
      "execution_count": null,
      "metadata": {
        "colab": {
          "base_uri": "https://localhost:8080/"
        },
        "id": "Rul3aq8TsAgA",
        "outputId": "1402bd90-7bb9-46ac-8ac6-7b63f99bc95f"
      },
      "outputs": [],
      "source": []
    },
    {
      "cell_type": "markdown",
      "metadata": {
        "id": "U7l0HrYpsDlD"
      },
      "source": [
        "Podemos ainda calcular a soma cumulativa **cumsum()** e o produto cumulativo **cumprod()**:"
      ]
    },
    {
      "cell_type": "code",
      "execution_count": null,
      "metadata": {
        "colab": {
          "base_uri": "https://localhost:8080/"
        },
        "id": "93Yg_6iqsCAv",
        "outputId": "858c86ba-b7e3-4639-ee00-3174cca4a2ff"
      },
      "outputs": [],
      "source": []
    },
    {
      "cell_type": "code",
      "execution_count": null,
      "metadata": {
        "colab": {
          "base_uri": "https://localhost:8080/"
        },
        "id": "cX32mqPtsMJI",
        "outputId": "26421fd5-891d-40de-a9c9-a1228e2caca2"
      },
      "outputs": [],
      "source": []
    },
    {
      "cell_type": "markdown",
      "metadata": {
        "id": "6RE-I785t41n"
      },
      "source": [
        "## **DataFrame**\n",
        "\n",
        "Agora que conhecemos as séries, vamos partir pro objeto do Pandas que mais utilizaremos: o **DataFrame**\n",
        "\n",
        "Como veremos a seguir, o DataFrame é uma estrutura que se assemalha a uma **tabela**.\n",
        "\n",
        "Estruturalmente, o DataFrame nada mais é que um **conjunto de Series**, uma para cada coluna (e, claro, com mesmo índice, que irão indexar as linhas)."
      ]
    },
    {
      "cell_type": "markdown",
      "metadata": {
        "id": "JqJuWXiht_rN"
      },
      "source": [
        "Veremos depois como **ler um dataframe a partir de um arquivo** (que é provavelmente a forma mais comum)."
      ]
    },
    {
      "cell_type": "markdown",
      "metadata": {
        "id": "21KL7W-XuBQv"
      },
      "source": [
        "Há muitas formas de construir um DataFrame do zero. Todas elas fazem uso da função **pd.DataFrame()**, como veremos a seguir.\n",
        "\n",
        "Se quisermos especificar os índices de linha, o nome das colunas, e os dados, podemos passá-los separadamente:"
      ]
    },
    {
      "cell_type": "markdown",
      "metadata": {
        "id": "A34biDMfuEiS"
      },
      "source": [
        "**Obs.:** As colunas do dataframes são séries. Assim, tudo que vimos para as séries, se estende individualmente para cada coluna!"
      ]
    },
    {
      "cell_type": "code",
      "execution_count": null,
      "metadata": {
        "colab": {
          "base_uri": "https://localhost:8080/"
        },
        "id": "Ng5aQZ-8sPYY",
        "outputId": "486d531a-efeb-4908-fbe1-f0ab8d6a558a"
      },
      "outputs": [],
      "source": [
        "# Gerando uma matriz (5,3) de números inteiros\n"
      ]
    },
    {
      "cell_type": "code",
      "execution_count": null,
      "metadata": {
        "colab": {
          "base_uri": "https://localhost:8080/",
          "height": 206
        },
        "id": "iNA7FOz9uYGH",
        "outputId": "c55c79cb-b8a6-4ee8-a461-f9e7ebd993bb"
      },
      "outputs": [],
      "source": [
        "#Transformando essa matriz em um DF\n"
      ]
    },
    {
      "cell_type": "code",
      "execution_count": null,
      "metadata": {
        "id": "Dk812cRXubYu"
      },
      "outputs": [],
      "source": [
        "# Conseguimos definir nomes pros índices e colunas\n"
      ]
    },
    {
      "cell_type": "code",
      "execution_count": null,
      "metadata": {
        "colab": {
          "base_uri": "https://localhost:8080/",
          "height": 206
        },
        "id": "lWusnJfrueo-",
        "outputId": "a154e233-6503-4728-95dd-a465f8af6241"
      },
      "outputs": [],
      "source": []
    },
    {
      "cell_type": "markdown",
      "metadata": {
        "id": "9OOrgk03uh_Y"
      },
      "source": [
        "### **Acessando posições do dataframe:**\n",
        "\n",
        "- .loc(): acessamos os rótulos com os **nomes** dos índices e colunas;\n",
        "- .iloc(): acessamos os índices numéricos das colunas e índice."
      ]
    },
    {
      "cell_type": "code",
      "execution_count": null,
      "metadata": {
        "colab": {
          "base_uri": "https://localhost:8080/"
        },
        "id": "lfrlW9_qugP_",
        "outputId": "9888f06a-a333-4867-b136-1f9390373003"
      },
      "outputs": [],
      "source": []
    },
    {
      "cell_type": "code",
      "execution_count": null,
      "metadata": {
        "colab": {
          "base_uri": "https://localhost:8080/"
        },
        "id": "V3I-qbGvwiS1",
        "outputId": "4fcb2bb6-2fd0-4040-d64a-4221ea7c0721"
      },
      "outputs": [],
      "source": []
    },
    {
      "cell_type": "markdown",
      "metadata": {
        "id": "BUeV0OtDwk7s"
      },
      "source": [
        "### **Selecionando colunas específicas:**\n",
        "\n",
        "Podemos selecionar uma coluna específica ou colunas específicas do DF."
      ]
    },
    {
      "cell_type": "code",
      "execution_count": null,
      "metadata": {
        "colab": {
          "base_uri": "https://localhost:8080/"
        },
        "id": "mBJoUzxywjo1",
        "outputId": "d73b9364-529a-4dd7-ee51-201c88c847ae"
      },
      "outputs": [],
      "source": []
    },
    {
      "cell_type": "code",
      "execution_count": null,
      "metadata": {
        "colab": {
          "base_uri": "https://localhost:8080/",
          "height": 206
        },
        "id": "knOgXK-Awr5e",
        "outputId": "8f01a2c9-b1b7-4b01-9f46-d26b22112061"
      },
      "outputs": [],
      "source": []
    },
    {
      "cell_type": "code",
      "execution_count": null,
      "metadata": {
        "colab": {
          "base_uri": "https://localhost:8080/"
        },
        "id": "e5bgnvnFwv6d",
        "outputId": "d7c94a5a-f73b-49b9-a735-52e80041bfc9"
      },
      "outputs": [],
      "source": []
    },
    {
      "cell_type": "code",
      "execution_count": null,
      "metadata": {
        "id": "tzNFYRlvx061"
      },
      "outputs": [],
      "source": [
        "# Atribuição de valores\n"
      ]
    },
    {
      "cell_type": "code",
      "execution_count": null,
      "metadata": {
        "colab": {
          "base_uri": "https://localhost:8080/",
          "height": 206
        },
        "id": "h9aA9iz-x4pN",
        "outputId": "6567ef49-75fd-4617-f99f-ace6d0a24435"
      },
      "outputs": [],
      "source": []
    },
    {
      "cell_type": "markdown",
      "metadata": {
        "id": "lIOp7GCox8I2"
      },
      "source": [
        "As colunas do dataframe são séries. Assim, tudo que vimos para as séries, se estende individualmente para cada coluna!"
      ]
    },
    {
      "cell_type": "code",
      "execution_count": null,
      "metadata": {
        "colab": {
          "base_uri": "https://localhost:8080/"
        },
        "id": "SOSs62ECx5s9",
        "outputId": "2f9fb093-1831-4d6c-d969-3b7396502ac0"
      },
      "outputs": [],
      "source": []
    },
    {
      "cell_type": "code",
      "execution_count": null,
      "metadata": {
        "colab": {
          "base_uri": "https://localhost:8080/"
        },
        "id": "a8pCgswJx9sV",
        "outputId": "ecb2100c-a628-4a6a-e070-b8ae443fa3ae"
      },
      "outputs": [],
      "source": []
    },
    {
      "cell_type": "markdown",
      "metadata": {},
      "source": [
        "### Outros métodos para DataFrames\n",
        "\n",
        "Como uma coluna de um DF é uma Série, a maioria dos métodos vistos anteriormente, são também aplicados aos DF.\n",
        "- head(), tail(), describe(), shape, iloc[], set_index()\n",
        "\n",
        "Outros nós veremos com mais detalhes na próxima aula. Contudo, há 2 que trazem informações sobre nosso DF: info() e dtypes.\n"
      ]
    },
    {
      "cell_type": "code",
      "execution_count": null,
      "metadata": {},
      "outputs": [],
      "source": []
    },
    {
      "cell_type": "code",
      "execution_count": null,
      "metadata": {},
      "outputs": [],
      "source": []
    },
    {
      "cell_type": "markdown",
      "metadata": {},
      "source": [
        "Podemos ainda, trocar o tipo de alguma variável. Exemplo, trocar as variáveis de Prova (notas) para numéricos."
      ]
    },
    {
      "cell_type": "code",
      "execution_count": null,
      "metadata": {},
      "outputs": [],
      "source": []
    },
    {
      "cell_type": "code",
      "execution_count": null,
      "metadata": {},
      "outputs": [],
      "source": []
    },
    {
      "cell_type": "code",
      "execution_count": null,
      "metadata": {},
      "outputs": [],
      "source": []
    },
    {
      "cell_type": "markdown",
      "metadata": {
        "id": "RPkcARqDyCHt"
      },
      "source": [
        "## Lendo e escrevendo conjuntos de dados com pandas\n",
        "\n",
        "A forma mais comum de se construir um dataframe é a partir da **leitura de um arquivo**\n",
        "\n",
        "Em geral, queremos ler arquivos já estruturados como base de dados, em formatos como .csv, .xls, .xlsx, .ods, .txt, .json, etc.\n",
        "\n",
        "O pandas é capaz de ler todos esses formatos, com funções específicas!"
      ]
    },
    {
      "cell_type": "markdown",
      "metadata": {
        "id": "jLUObcD4Op3I"
      },
      "source": [
        "### Arquivos CSV\n",
        "\n",
        "https://pandas.pydata.org/pandas-docs/stable/reference/api/pandas.read_csv.html"
      ]
    },
    {
      "cell_type": "markdown",
      "metadata": {
        "id": "rsOtTF-EOvkH"
      },
      "source": [
        "Vamos criar um dataframe usando pandas com os dados do arquivo `alunos.csv`."
      ]
    },
    {
      "cell_type": "code",
      "execution_count": null,
      "metadata": {
        "id": "Uqt48sx-x_Nd"
      },
      "outputs": [],
      "source": [
        "# Lendo um arquivo CSV e criando um DataFrame\n"
      ]
    },
    {
      "cell_type": "code",
      "execution_count": null,
      "metadata": {},
      "outputs": [],
      "source": []
    },
    {
      "cell_type": "code",
      "execution_count": null,
      "metadata": {},
      "outputs": [],
      "source": [
        "#Filtrando os alunos com frequência acima de 18\n"
      ]
    },
    {
      "cell_type": "markdown",
      "metadata": {},
      "source": [
        "Vamos criar um dataframe usando pandas com os dados do arquivo `alunos2.csv`"
      ]
    },
    {
      "cell_type": "code",
      "execution_count": null,
      "metadata": {},
      "outputs": [],
      "source": []
    },
    {
      "cell_type": "code",
      "execution_count": null,
      "metadata": {},
      "outputs": [],
      "source": []
    },
    {
      "cell_type": "markdown",
      "metadata": {},
      "source": [
        "Ou seja: é preciso estarmos sempre atentos ao separador dos dados!"
      ]
    },
    {
      "cell_type": "markdown",
      "metadata": {},
      "source": [
        "### XLS ou XLSX\n",
        "\n",
        "https://pandas.pydata.org/pandas-docs/stable/reference/api/pandas.read_excel.html"
      ]
    },
    {
      "cell_type": "markdown",
      "metadata": {},
      "source": [
        "Vamos criar um dataframe usando pandas com os dados do arquivo `sample.xlsx`"
      ]
    },
    {
      "cell_type": "code",
      "execution_count": null,
      "metadata": {},
      "outputs": [],
      "source": []
    },
    {
      "cell_type": "code",
      "execution_count": null,
      "metadata": {},
      "outputs": [],
      "source": []
    },
    {
      "cell_type": "markdown",
      "metadata": {},
      "source": [
        "#### Leitura com seleção de planilha\n",
        "\n",
        "Vamos criar um dataframe usando pandas com os dados da planilha `velocidade` da pasta de trabalho `sample.xlsx` "
      ]
    },
    {
      "cell_type": "code",
      "execution_count": null,
      "metadata": {},
      "outputs": [],
      "source": []
    },
    {
      "cell_type": "code",
      "execution_count": null,
      "metadata": {},
      "outputs": [],
      "source": []
    },
    {
      "cell_type": "markdown",
      "metadata": {},
      "source": [
        "#### Leitura com seleção de cabeçalho"
      ]
    },
    {
      "cell_type": "markdown",
      "metadata": {},
      "source": [
        "Vamos criar um dataframe usando pandas com os dados da planilha `Velocidade` da pasta de trabalho `sample.xlsx`. Porém vamos eliminar a primeira linha de cabeçalho"
      ]
    },
    {
      "cell_type": "code",
      "execution_count": null,
      "metadata": {},
      "outputs": [],
      "source": []
    },
    {
      "cell_type": "code",
      "execution_count": null,
      "metadata": {},
      "outputs": [],
      "source": []
    },
    {
      "cell_type": "markdown",
      "metadata": {},
      "source": [
        "#### Leitura com definção de nomes de colunas\n",
        "\n",
        "Vamos criar um dataframe usando pandas com os dados da planilha `Velocidade` da pasta de trabalho `sample.xlsx`. Porém vamos eliminar a primeira linha de cabeçalho e definir os nomes das colunas."
      ]
    },
    {
      "cell_type": "code",
      "execution_count": null,
      "metadata": {},
      "outputs": [],
      "source": []
    },
    {
      "cell_type": "code",
      "execution_count": null,
      "metadata": {},
      "outputs": [],
      "source": []
    },
    {
      "cell_type": "markdown",
      "metadata": {},
      "source": [
        "#### Leitura da internet"
      ]
    },
    {
      "cell_type": "markdown",
      "metadata": {},
      "source": [
        "Vamos criar um dataframe usando pandas com os dados de uma planilha disponivel na página de dados abertos do INPI.\n",
        "\n",
        "https://www.gov.br/inpi/pt-br/acesso-a-informacao/dados-abertos/conjuntos-corporativos-de-dados-abertos/pedidos-de-patentes-pendentes-de-decisao-final/pedidos-de-patentes-pendentes-de-decisao-final-cgrec.xlsx"
      ]
    },
    {
      "cell_type": "code",
      "execution_count": null,
      "metadata": {},
      "outputs": [],
      "source": []
    },
    {
      "cell_type": "code",
      "execution_count": null,
      "metadata": {},
      "outputs": [],
      "source": []
    },
    {
      "cell_type": "markdown",
      "metadata": {},
      "source": [
        "### JSON\n",
        "\n",
        "https://pandas.pydata.org/pandas-docs/stable/reference/api/pandas.read_json.html"
      ]
    },
    {
      "cell_type": "markdown",
      "metadata": {},
      "source": [
        "Vamos criar um dataframe usando pandas com os dados do arquivo json `selic.json`."
      ]
    },
    {
      "cell_type": "code",
      "execution_count": null,
      "metadata": {},
      "outputs": [],
      "source": []
    },
    {
      "cell_type": "code",
      "execution_count": null,
      "metadata": {},
      "outputs": [],
      "source": []
    },
    {
      "cell_type": "markdown",
      "metadata": {},
      "source": [
        "Vamos criar um dataframe usando pandas com os dados da selic em formato json vindo de uma API do Banco Central\n",
        "\n",
        "https://api.bcb.gov.br/dados/serie/bcdata.sgs.4390/dados?formato=json"
      ]
    },
    {
      "cell_type": "code",
      "execution_count": null,
      "metadata": {},
      "outputs": [],
      "source": []
    },
    {
      "cell_type": "code",
      "execution_count": null,
      "metadata": {},
      "outputs": [],
      "source": [
        "f"
      ]
    },
    {
      "cell_type": "markdown",
      "metadata": {},
      "source": [
        "### TXT de tamanho fixo\n",
        "\n",
        "https://pandas.pydata.org/pandas-docs/stable/reference/api/pandas.read_fwf.html"
      ]
    },
    {
      "cell_type": "markdown",
      "metadata": {},
      "source": [
        "Vamos criar um dataframe usando pandas com os dados em formato TXT (Com colunas de tamanho fixo) disponíveis por FTP pelo Banco Central.\n",
        "\n",
        "https://www.bcb.gov.br/pom/spb/Down/ftp/prod/ASPB0004.TXT"
      ]
    },
    {
      "cell_type": "code",
      "execution_count": null,
      "metadata": {},
      "outputs": [],
      "source": []
    },
    {
      "cell_type": "code",
      "execution_count": null,
      "metadata": {},
      "outputs": [],
      "source": []
    },
    {
      "cell_type": "markdown",
      "metadata": {},
      "source": [
        "## Escrevendo dados de um arquivo"
      ]
    },
    {
      "cell_type": "code",
      "execution_count": null,
      "metadata": {},
      "outputs": [],
      "source": []
    },
    {
      "cell_type": "code",
      "execution_count": null,
      "metadata": {},
      "outputs": [],
      "source": []
    },
    {
      "cell_type": "markdown",
      "metadata": {},
      "source": [
        "### CSV"
      ]
    },
    {
      "cell_type": "markdown",
      "metadata": {},
      "source": [
        "Separado por vírgula"
      ]
    },
    {
      "cell_type": "code",
      "execution_count": null,
      "metadata": {},
      "outputs": [],
      "source": []
    },
    {
      "cell_type": "code",
      "execution_count": null,
      "metadata": {},
      "outputs": [],
      "source": []
    },
    {
      "cell_type": "markdown",
      "metadata": {},
      "source": [
        "XLSX"
      ]
    },
    {
      "cell_type": "code",
      "execution_count": null,
      "metadata": {},
      "outputs": [],
      "source": []
    },
    {
      "cell_type": "markdown",
      "metadata": {},
      "source": [
        "___\n",
        "## Vamos praticar?"
      ]
    },
    {
      "cell_type": "markdown",
      "metadata": {},
      "source": [
        "Leia o arquivo `aluno2.csv`, apenas as colunas RA, Prova_1, Prova_2, Prova_3, Prova_4 realize a média das notas da prova e salve em um arquivo excel (xlsx) as colunas RA e Média."
      ]
    },
    {
      "cell_type": "code",
      "execution_count": null,
      "metadata": {},
      "outputs": [],
      "source": [
        "# leitura especificando separador decimal\n"
      ]
    },
    {
      "cell_type": "code",
      "execution_count": null,
      "metadata": {},
      "outputs": [],
      "source": []
    }
  ],
  "metadata": {
    "colab": {
      "provenance": []
    },
    "kernelspec": {
      "display_name": "Python 3",
      "name": "python3"
    },
    "language_info": {
      "codemirror_mode": {
        "name": "ipython",
        "version": 3
      },
      "file_extension": ".py",
      "mimetype": "text/x-python",
      "name": "python",
      "nbconvert_exporter": "python",
      "pygments_lexer": "ipython3",
      "version": "3.11.4"
    }
  },
  "nbformat": 4,
  "nbformat_minor": 0
}
